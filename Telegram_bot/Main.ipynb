{
 "cells": [
  {
   "cell_type": "code",
   "execution_count": null,
   "id": "23931f62-eac8-43c4-b0da-83bb3761ebd1",
   "metadata": {},
   "outputs": [],
   "source": [
    "import sqlite3\n",
    "import nest_asyncio\n",
    "from aiogram import Bot, Dispatcher, executor, types\n",
    "from aiogram.types import ReplyKeyboardMarkup, KeyboardButton, ReplyKeyboardRemove\n",
    "from aiogram.dispatcher import FSMContext\n",
    "from aiogram.dispatcher.filters.state import State, StatesGroup\n",
    "from aiogram.contrib.fsm_storage.memory import MemoryStorage\n",
    "bot = Bot('')\n",
    "nest_asyncio.apply()"
   ]
  },
  {
   "cell_type": "code",
   "execution_count": null,
   "id": "2c48d327-b3a2-4cf0-977e-d7b5392f945a",
   "metadata": {},
   "outputs": [],
   "source": []
  }
 ],
 "metadata": {
  "kernelspec": {
   "display_name": "Python 3 (ipykernel)",
   "language": "python",
   "name": "python3"
  },
  "language_info": {
   "codemirror_mode": {
    "name": "ipython",
    "version": 3
   },
   "file_extension": ".py",
   "mimetype": "text/x-python",
   "name": "python",
   "nbconvert_exporter": "python",
   "pygments_lexer": "ipython3",
   "version": "3.9.12"
  }
 },
 "nbformat": 4,
 "nbformat_minor": 5
}
