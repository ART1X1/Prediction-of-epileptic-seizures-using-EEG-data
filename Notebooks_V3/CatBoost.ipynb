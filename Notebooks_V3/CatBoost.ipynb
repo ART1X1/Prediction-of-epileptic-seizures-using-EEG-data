{
 "cells": [
  {
   "cell_type": "code",
   "execution_count": 1,
   "id": "573f717c-a61e-43d8-8cfb-02c089bb835c",
   "metadata": {},
   "outputs": [],
   "source": [
    "from imblearn.over_sampling import SMOTE\n",
    "from sklearn.model_selection import GridSearchCV\n",
    "from xgboost import XGBClassifier\n",
    "from sklearn.metrics import classification_report, roc_auc_score\n",
    "from sklearn.pipeline import Pipeline\n",
    "from sklearn.compose import ColumnTransformer\n",
    "from sklearn.preprocessing import StandardScaler, OneHotEncoder\n",
    "from sklearn.impute import SimpleImputer\n",
    "import pandas as pd\n",
    "import pandas as pd\n",
    "from sklearn.model_selection import train_test_split\n",
    "from sklearn.linear_model import LogisticRegression, Ridge\n",
    "from sklearn.preprocessing import StandardScaler, PolynomialFeatures, PolynomialFeatures, StandardScaler, OneHotEncoder\n",
    "from sklearn.metrics import roc_auc_score, f1_score, accuracy_score, classification_report\n",
    "from sklearn.metrics import accuracy_score, precision_score, recall_score\n",
    "from sklearn.decomposition import PCA\n",
    "from sklearn.ensemble import GradientBoostingClassifier\n",
    "import matplotlib.pyplot as plt\n",
    "import seaborn as sns\n",
    "import catboost\n",
    "from catboost import CatBoostClassifier\n",
    "import optuna \n",
    "from sklearn.metrics import f1_score, roc_auc_score, precision_score, recall_score, classification_report\n",
    "from sklearn.inspection import permutation_importance\n",
    "import matplotlib.pyplot as plt\n",
    "import seaborn as sns"
   ]
  },
  {
   "cell_type": "code",
   "execution_count": 2,
   "id": "a294c1bb-dd84-4c14-b30b-3540474b8ef5",
   "metadata": {},
   "outputs": [],
   "source": [
    "train = pd.read_parquet('train.parquet')\n",
    "val = pd.read_parquet('val.parquet')\n",
    "test = pd.read_parquet('test.parquet')"
   ]
  },
  {
   "cell_type": "code",
   "execution_count": 3,
   "id": "f2d1bfe1-edd4-4c42-b61b-83ee46977449",
   "metadata": {},
   "outputs": [],
   "source": [
    "target = 'cardio'"
   ]
  },
  {
   "cell_type": "markdown",
   "id": "9902bf3c-1a29-4c64-91d8-76c7b598602d",
   "metadata": {},
   "source": [
    "# FIRST"
   ]
  },
  {
   "cell_type": "code",
   "execution_count": 4,
   "id": "ef846a75-efff-4860-9e96-104fe44ba1e1",
   "metadata": {},
   "outputs": [
    {
     "name": "stdout",
     "output_type": "stream",
     "text": [
      "0:\tlearn: 0.6683900\ttest: 0.6677290\tbest: 0.6677290 (0)\ttotal: 66.3ms\tremaining: 1m 6s\n",
      "100:\tlearn: 0.5414919\ttest: 0.5346875\tbest: 0.5346875 (100)\ttotal: 383ms\tremaining: 3.41s\n",
      "200:\tlearn: 0.5371909\ttest: 0.5333425\tbest: 0.5332876 (185)\ttotal: 693ms\tremaining: 2.75s\n",
      "300:\tlearn: 0.5346589\ttest: 0.5330158\tbest: 0.5328914 (267)\ttotal: 1.01s\tremaining: 2.34s\n",
      "400:\tlearn: 0.5326265\ttest: 0.5331368\tbest: 0.5328914 (267)\ttotal: 1.31s\tremaining: 1.96s\n",
      "500:\tlearn: 0.5309659\ttest: 0.5330753\tbest: 0.5328914 (267)\ttotal: 1.61s\tremaining: 1.6s\n",
      "600:\tlearn: 0.5295385\ttest: 0.5331863\tbest: 0.5328914 (267)\ttotal: 1.9s\tremaining: 1.26s\n",
      "700:\tlearn: 0.5283491\ttest: 0.5332999\tbest: 0.5328914 (267)\ttotal: 2.21s\tremaining: 942ms\n",
      "800:\tlearn: 0.5270651\ttest: 0.5336288\tbest: 0.5328914 (267)\ttotal: 2.52s\tremaining: 626ms\n",
      "900:\tlearn: 0.5259863\ttest: 0.5336353\tbest: 0.5328914 (267)\ttotal: 2.83s\tremaining: 311ms\n",
      "999:\tlearn: 0.5247860\ttest: 0.5338625\tbest: 0.5328914 (267)\ttotal: 3.13s\tremaining: 0us\n",
      "\n",
      "bestTest = 0.5328914339\n",
      "bestIteration = 267\n",
      "\n",
      "Shrink model to first 268 iterations.\n"
     ]
    },
    {
     "data": {
      "text/plain": [
       "<catboost.core.CatBoostClassifier at 0x151dc09a0>"
      ]
     },
     "execution_count": 4,
     "metadata": {},
     "output_type": "execute_result"
    }
   ],
   "source": [
    "model = CatBoostClassifier(iterations=1000, learning_rate=0.1, depth=3, random_seed=42)\n",
    "model.fit(train.drop(columns=target), train[target], eval_set = (val.drop(columns=target), val[target]), verbose=100)"
   ]
  },
  {
   "cell_type": "code",
   "execution_count": 5,
   "id": "f43bce8b-deb4-44d1-b73f-a775324aa4dd",
   "metadata": {},
   "outputs": [
    {
     "name": "stdout",
     "output_type": "stream",
     "text": [
      "TRAIN : 0.8067658650461678\n",
      "VAL : 0.8084874468800496\n",
      "TEST : 0.8035744329534356\n"
     ]
    }
   ],
   "source": [
    "print(f\"TRAIN : {roc_auc_score(train[target], model.predict_proba(train.drop(columns=target))[:, 1])}\")\n",
    "print(f\"VAL : {roc_auc_score(val[target], model.predict_proba(val.drop(columns=target))[:, 1])}\")\n",
    "print(f\"TEST : {roc_auc_score(test[target], model.predict_proba(test.drop(columns=target))[:, 1])}\")"
   ]
  },
  {
   "cell_type": "code",
   "execution_count": 6,
   "id": "094b12b8-a198-4042-a11a-7670b6e0b00d",
   "metadata": {},
   "outputs": [
    {
     "name": "stdout",
     "output_type": "stream",
     "text": [
      "TRAIN : 0.7267535692116698\n",
      "VAL : 0.728788549505681\n",
      "TEST : 0.7299054373522459\n"
     ]
    }
   ],
   "source": [
    "print(f\"TRAIN : {f1_score(train[target], model.predict(train.drop(columns=target)))}\")\n",
    "print(f\"VAL : {f1_score(val[target], model.predict(val.drop(columns=target)))}\")\n",
    "print(f\"TEST : {f1_score(test[target], model.predict(test.drop(columns=target)))}\")"
   ]
  },
  {
   "cell_type": "code",
   "execution_count": 7,
   "id": "a5c3c4fd-2240-47ec-866e-75513952a652",
   "metadata": {},
   "outputs": [
    {
     "name": "stdout",
     "output_type": "stream",
     "text": [
      "              precision    recall  f1-score   support\n",
      "\n",
      "           0       0.72      0.77      0.75      6988\n",
      "           1       0.76      0.70      0.73      7012\n",
      "\n",
      "    accuracy                           0.74     14000\n",
      "   macro avg       0.74      0.74      0.74     14000\n",
      "weighted avg       0.74      0.74      0.74     14000\n",
      "\n"
     ]
    }
   ],
   "source": [
    "print(classification_report(test[target], model.predict(test.drop(columns=target))))"
   ]
  },
  {
   "cell_type": "code",
   "execution_count": 8,
   "id": "d6a29ab1-aa0d-4658-9b49-8f9a758a57f4",
   "metadata": {},
   "outputs": [],
   "source": [
    "res = permutation_importance(model, train.drop(columns=target), train[target], n_repeats=10, random_state=42)"
   ]
  },
  {
   "cell_type": "code",
   "execution_count": 9,
   "id": "5ec09a4c-e264-4f1a-aa15-b07ac2d73532",
   "metadata": {},
   "outputs": [],
   "source": [
    "new_features = [list(train.drop(columns=target).columns)[i] for i in res['importances_mean'].argsort()[::1] if res['importances_mean'][i] - 2*res['importances_std'][i] > 0]\n",
    "\n"
   ]
  },
  {
   "cell_type": "code",
   "execution_count": 10,
   "id": "f262286e-d075-4171-9202-038412f477a5",
   "metadata": {},
   "outputs": [
    {
     "data": {
      "text/plain": [
       "10"
      ]
     },
     "execution_count": 10,
     "metadata": {},
     "output_type": "execute_result"
    }
   ],
   "source": [
    "len(new_features)"
   ]
  },
  {
   "cell_type": "code",
   "execution_count": 11,
   "id": "f9c38f74-9934-455c-a323-4bc70dad1a6f",
   "metadata": {},
   "outputs": [
    {
     "data": {
      "text/plain": [
       "['gender',\n",
       " 'smoke',\n",
       " 'gluc',\n",
       " 'active',\n",
       " 'height',\n",
       " 'weight',\n",
       " 'ap_lo',\n",
       " 'age_new',\n",
       " 'cholesterol',\n",
       " 'ap_hi']"
      ]
     },
     "execution_count": 11,
     "metadata": {},
     "output_type": "execute_result"
    }
   ],
   "source": [
    "new_features"
   ]
  },
  {
   "cell_type": "code",
   "execution_count": 12,
   "id": "0b440609-0f22-47c3-afeb-afd1a1effece",
   "metadata": {},
   "outputs": [
    {
     "data": {
      "text/html": [
       "<div>\n",
       "<style scoped>\n",
       "    .dataframe tbody tr th:only-of-type {\n",
       "        vertical-align: middle;\n",
       "    }\n",
       "\n",
       "    .dataframe tbody tr th {\n",
       "        vertical-align: top;\n",
       "    }\n",
       "\n",
       "    .dataframe thead th {\n",
       "        text-align: right;\n",
       "    }\n",
       "</style>\n",
       "<table border=\"1\" class=\"dataframe\">\n",
       "  <thead>\n",
       "    <tr style=\"text-align: right;\">\n",
       "      <th></th>\n",
       "      <th>gender</th>\n",
       "      <th>height</th>\n",
       "      <th>weight</th>\n",
       "      <th>ap_hi</th>\n",
       "      <th>ap_lo</th>\n",
       "      <th>cholesterol</th>\n",
       "      <th>gluc</th>\n",
       "      <th>smoke</th>\n",
       "      <th>alco</th>\n",
       "      <th>active</th>\n",
       "      <th>cardio</th>\n",
       "      <th>age_new</th>\n",
       "    </tr>\n",
       "  </thead>\n",
       "  <tbody>\n",
       "    <tr>\n",
       "      <th>12641</th>\n",
       "      <td>2</td>\n",
       "      <td>168</td>\n",
       "      <td>84.0</td>\n",
       "      <td>130</td>\n",
       "      <td>90</td>\n",
       "      <td>1</td>\n",
       "      <td>1</td>\n",
       "      <td>1</td>\n",
       "      <td>1</td>\n",
       "      <td>1</td>\n",
       "      <td>1</td>\n",
       "      <td>61.673973</td>\n",
       "    </tr>\n",
       "    <tr>\n",
       "      <th>64529</th>\n",
       "      <td>2</td>\n",
       "      <td>170</td>\n",
       "      <td>85.0</td>\n",
       "      <td>120</td>\n",
       "      <td>80</td>\n",
       "      <td>1</td>\n",
       "      <td>1</td>\n",
       "      <td>0</td>\n",
       "      <td>0</td>\n",
       "      <td>1</td>\n",
       "      <td>0</td>\n",
       "      <td>58.249315</td>\n",
       "    </tr>\n",
       "    <tr>\n",
       "      <th>53586</th>\n",
       "      <td>1</td>\n",
       "      <td>165</td>\n",
       "      <td>74.0</td>\n",
       "      <td>120</td>\n",
       "      <td>80</td>\n",
       "      <td>1</td>\n",
       "      <td>1</td>\n",
       "      <td>0</td>\n",
       "      <td>0</td>\n",
       "      <td>1</td>\n",
       "      <td>0</td>\n",
       "      <td>56.832877</td>\n",
       "    </tr>\n",
       "    <tr>\n",
       "      <th>65927</th>\n",
       "      <td>2</td>\n",
       "      <td>168</td>\n",
       "      <td>62.0</td>\n",
       "      <td>100</td>\n",
       "      <td>70</td>\n",
       "      <td>1</td>\n",
       "      <td>1</td>\n",
       "      <td>0</td>\n",
       "      <td>0</td>\n",
       "      <td>1</td>\n",
       "      <td>0</td>\n",
       "      <td>56.668493</td>\n",
       "    </tr>\n",
       "    <tr>\n",
       "      <th>29241</th>\n",
       "      <td>2</td>\n",
       "      <td>176</td>\n",
       "      <td>66.0</td>\n",
       "      <td>120</td>\n",
       "      <td>80</td>\n",
       "      <td>1</td>\n",
       "      <td>1</td>\n",
       "      <td>0</td>\n",
       "      <td>0</td>\n",
       "      <td>1</td>\n",
       "      <td>0</td>\n",
       "      <td>54.317808</td>\n",
       "    </tr>\n",
       "    <tr>\n",
       "      <th>...</th>\n",
       "      <td>...</td>\n",
       "      <td>...</td>\n",
       "      <td>...</td>\n",
       "      <td>...</td>\n",
       "      <td>...</td>\n",
       "      <td>...</td>\n",
       "      <td>...</td>\n",
       "      <td>...</td>\n",
       "      <td>...</td>\n",
       "      <td>...</td>\n",
       "      <td>...</td>\n",
       "      <td>...</td>\n",
       "    </tr>\n",
       "    <tr>\n",
       "      <th>46553</th>\n",
       "      <td>1</td>\n",
       "      <td>156</td>\n",
       "      <td>66.0</td>\n",
       "      <td>150</td>\n",
       "      <td>70</td>\n",
       "      <td>1</td>\n",
       "      <td>1</td>\n",
       "      <td>0</td>\n",
       "      <td>0</td>\n",
       "      <td>1</td>\n",
       "      <td>1</td>\n",
       "      <td>58.293151</td>\n",
       "    </tr>\n",
       "    <tr>\n",
       "      <th>32117</th>\n",
       "      <td>2</td>\n",
       "      <td>174</td>\n",
       "      <td>77.0</td>\n",
       "      <td>130</td>\n",
       "      <td>90</td>\n",
       "      <td>2</td>\n",
       "      <td>1</td>\n",
       "      <td>0</td>\n",
       "      <td>0</td>\n",
       "      <td>0</td>\n",
       "      <td>0</td>\n",
       "      <td>54.372603</td>\n",
       "    </tr>\n",
       "    <tr>\n",
       "      <th>26862</th>\n",
       "      <td>2</td>\n",
       "      <td>164</td>\n",
       "      <td>81.0</td>\n",
       "      <td>160</td>\n",
       "      <td>90</td>\n",
       "      <td>1</td>\n",
       "      <td>3</td>\n",
       "      <td>1</td>\n",
       "      <td>0</td>\n",
       "      <td>1</td>\n",
       "      <td>1</td>\n",
       "      <td>58.501370</td>\n",
       "    </tr>\n",
       "    <tr>\n",
       "      <th>22146</th>\n",
       "      <td>1</td>\n",
       "      <td>157</td>\n",
       "      <td>72.0</td>\n",
       "      <td>130</td>\n",
       "      <td>80</td>\n",
       "      <td>3</td>\n",
       "      <td>1</td>\n",
       "      <td>0</td>\n",
       "      <td>0</td>\n",
       "      <td>1</td>\n",
       "      <td>1</td>\n",
       "      <td>57.926027</td>\n",
       "    </tr>\n",
       "    <tr>\n",
       "      <th>31475</th>\n",
       "      <td>1</td>\n",
       "      <td>163</td>\n",
       "      <td>87.0</td>\n",
       "      <td>140</td>\n",
       "      <td>90</td>\n",
       "      <td>1</td>\n",
       "      <td>1</td>\n",
       "      <td>0</td>\n",
       "      <td>0</td>\n",
       "      <td>1</td>\n",
       "      <td>1</td>\n",
       "      <td>62.378082</td>\n",
       "    </tr>\n",
       "  </tbody>\n",
       "</table>\n",
       "<p>42000 rows × 12 columns</p>\n",
       "</div>"
      ],
      "text/plain": [
       "       gender  height  weight  ap_hi  ap_lo  cholesterol  gluc  smoke  alco  \\\n",
       "12641       2     168    84.0    130     90            1     1      1     1   \n",
       "64529       2     170    85.0    120     80            1     1      0     0   \n",
       "53586       1     165    74.0    120     80            1     1      0     0   \n",
       "65927       2     168    62.0    100     70            1     1      0     0   \n",
       "29241       2     176    66.0    120     80            1     1      0     0   \n",
       "...       ...     ...     ...    ...    ...          ...   ...    ...   ...   \n",
       "46553       1     156    66.0    150     70            1     1      0     0   \n",
       "32117       2     174    77.0    130     90            2     1      0     0   \n",
       "26862       2     164    81.0    160     90            1     3      1     0   \n",
       "22146       1     157    72.0    130     80            3     1      0     0   \n",
       "31475       1     163    87.0    140     90            1     1      0     0   \n",
       "\n",
       "       active  cardio    age_new  \n",
       "12641       1       1  61.673973  \n",
       "64529       1       0  58.249315  \n",
       "53586       1       0  56.832877  \n",
       "65927       1       0  56.668493  \n",
       "29241       1       0  54.317808  \n",
       "...       ...     ...        ...  \n",
       "46553       1       1  58.293151  \n",
       "32117       0       0  54.372603  \n",
       "26862       1       1  58.501370  \n",
       "22146       1       1  57.926027  \n",
       "31475       1       1  62.378082  \n",
       "\n",
       "[42000 rows x 12 columns]"
      ]
     },
     "execution_count": 12,
     "metadata": {},
     "output_type": "execute_result"
    }
   ],
   "source": [
    "train"
   ]
  },
  {
   "cell_type": "markdown",
   "id": "752c1630-7ec0-4351-bfcc-b602a20c5a3d",
   "metadata": {},
   "source": [
    "# SECOND"
   ]
  },
  {
   "cell_type": "code",
   "execution_count": 13,
   "id": "f24a8737-353b-4d34-94d2-8f48b4f29f65",
   "metadata": {},
   "outputs": [],
   "source": [
    "train = train.drop(columns='alco')\n",
    "val = val.drop(columns='alco')\n",
    "test = test.drop(columns='alco')"
   ]
  },
  {
   "cell_type": "code",
   "execution_count": 14,
   "id": "1b59a323-7c66-4fb5-b716-5c13e0a81991",
   "metadata": {},
   "outputs": [
    {
     "name": "stdout",
     "output_type": "stream",
     "text": [
      "0:\tlearn: 0.6685803\ttest: 0.6677762\tbest: 0.6677762 (0)\ttotal: 5.4ms\tremaining: 5.39s\n",
      "100:\tlearn: 0.5413788\ttest: 0.5348582\tbest: 0.5348582 (100)\ttotal: 315ms\tremaining: 2.8s\n",
      "200:\tlearn: 0.5375849\ttest: 0.5333030\tbest: 0.5333030 (200)\ttotal: 615ms\tremaining: 2.45s\n",
      "300:\tlearn: 0.5350747\ttest: 0.5328624\tbest: 0.5328569 (298)\ttotal: 936ms\tremaining: 2.17s\n",
      "400:\tlearn: 0.5330665\ttest: 0.5330509\tbest: 0.5328569 (298)\ttotal: 1.24s\tremaining: 1.86s\n",
      "500:\tlearn: 0.5315298\ttest: 0.5330312\tbest: 0.5328569 (298)\ttotal: 1.56s\tremaining: 1.56s\n",
      "600:\tlearn: 0.5300923\ttest: 0.5333415\tbest: 0.5328569 (298)\ttotal: 1.88s\tremaining: 1.25s\n",
      "700:\tlearn: 0.5287928\ttest: 0.5333377\tbest: 0.5328569 (298)\ttotal: 2.18s\tremaining: 931ms\n",
      "800:\tlearn: 0.5276112\ttest: 0.5333745\tbest: 0.5328569 (298)\ttotal: 2.48s\tremaining: 618ms\n",
      "900:\tlearn: 0.5263575\ttest: 0.5335029\tbest: 0.5328569 (298)\ttotal: 2.8s\tremaining: 308ms\n",
      "999:\tlearn: 0.5253727\ttest: 0.5335961\tbest: 0.5328569 (298)\ttotal: 3.1s\tremaining: 0us\n",
      "\n",
      "bestTest = 0.5328569293\n",
      "bestIteration = 298\n",
      "\n",
      "Shrink model to first 299 iterations.\n"
     ]
    },
    {
     "data": {
      "text/plain": [
       "<catboost.core.CatBoostClassifier at 0x151ddb370>"
      ]
     },
     "execution_count": 14,
     "metadata": {},
     "output_type": "execute_result"
    }
   ],
   "source": [
    "model = CatBoostClassifier(iterations=1000, learning_rate=0.1, depth=3, random_seed=42)\n",
    "model.fit(train.drop(columns=target), train[target], eval_set = (val.drop(columns=target), val[target]), verbose=100)"
   ]
  },
  {
   "cell_type": "code",
   "execution_count": 15,
   "id": "b3b3ff72-d746-4543-a946-5a0cef86640f",
   "metadata": {},
   "outputs": [
    {
     "name": "stdout",
     "output_type": "stream",
     "text": [
      "TRAIN : 0.8070102485609736\n",
      "VAL : 0.808581541069139\n",
      "TEST : 0.8035409838755444\n"
     ]
    }
   ],
   "source": [
    "print(f\"TRAIN : {roc_auc_score(train[target], model.predict_proba(train.drop(columns=target))[:, 1])}\")\n",
    "print(f\"VAL : {roc_auc_score(val[target], model.predict_proba(val.drop(columns=target))[:, 1])}\")\n",
    "print(f\"TEST : {roc_auc_score(test[target], model.predict_proba(test.drop(columns=target))[:, 1])}\")"
   ]
  },
  {
   "cell_type": "code",
   "execution_count": 16,
   "id": "9766b0a8-5c71-4cc3-8192-4c239959c220",
   "metadata": {},
   "outputs": [
    {
     "name": "stdout",
     "output_type": "stream",
     "text": [
      "TRAIN : 0.726200840775105\n",
      "VAL : 0.7293333333333333\n",
      "TEST : 0.7312018946121965\n"
     ]
    }
   ],
   "source": [
    "print(f\"TRAIN : {f1_score(train[target], model.predict(train.drop(columns=target)))}\")\n",
    "print(f\"VAL : {f1_score(val[target], model.predict(val.drop(columns=target)))}\")\n",
    "print(f\"TEST : {f1_score(test[target], model.predict(test.drop(columns=target)))}\")"
   ]
  },
  {
   "cell_type": "code",
   "execution_count": 17,
   "id": "df7c4972-fddf-47b0-86c0-f6ad91b6b460",
   "metadata": {},
   "outputs": [
    {
     "name": "stdout",
     "output_type": "stream",
     "text": [
      "              precision    recall  f1-score   support\n",
      "\n",
      "           0       0.72      0.78      0.75      6988\n",
      "           1       0.76      0.70      0.73      7012\n",
      "\n",
      "    accuracy                           0.74     14000\n",
      "   macro avg       0.74      0.74      0.74     14000\n",
      "weighted avg       0.74      0.74      0.74     14000\n",
      "\n"
     ]
    }
   ],
   "source": [
    "print(classification_report(test[target], model.predict(test.drop(columns=target))))"
   ]
  },
  {
   "cell_type": "code",
   "execution_count": 18,
   "id": "9b098e0a-5e2f-45b8-81ec-979645100732",
   "metadata": {},
   "outputs": [],
   "source": [
    "importances = model.get_feature_importance(prettified=True)\n",
    "a = importances.loc[importances['Importances'] >= 1, 'Feature Id'].tolist()"
   ]
  },
  {
   "cell_type": "code",
   "execution_count": 19,
   "id": "8a6319ee-76c1-4854-ae6c-5d2d675f4d3b",
   "metadata": {},
   "outputs": [
    {
     "data": {
      "text/plain": [
       "7"
      ]
     },
     "execution_count": 19,
     "metadata": {},
     "output_type": "execute_result"
    }
   ],
   "source": [
    "len(a)"
   ]
  },
  {
   "cell_type": "code",
   "execution_count": 20,
   "id": "c4504b5d-ec68-45dc-8e1e-00f54d9fa22e",
   "metadata": {},
   "outputs": [
    {
     "data": {
      "text/plain": [
       "['ap_hi', 'age_new', 'cholesterol', 'ap_lo', 'weight', 'height', 'gluc']"
      ]
     },
     "execution_count": 20,
     "metadata": {},
     "output_type": "execute_result"
    }
   ],
   "source": [
    "a"
   ]
  },
  {
   "cell_type": "markdown",
   "id": "607d763c-119d-4bd6-8bc2-7e9e0bccdb63",
   "metadata": {},
   "source": [
    "# THIRD"
   ]
  },
  {
   "cell_type": "code",
   "execution_count": 21,
   "id": "8ca9f26e-4ffb-4d2d-ad55-1b2abedf54fa",
   "metadata": {},
   "outputs": [],
   "source": [
    "train = train.drop(columns=['gender', 'smoke', 'active'])\n",
    "val = val.drop(columns=['gender', 'smoke', 'active'])\n",
    "test = test.drop(columns=['gender', 'smoke', 'active'])"
   ]
  },
  {
   "cell_type": "code",
   "execution_count": 22,
   "id": "91681194-e681-4611-8c08-ed1b2802280c",
   "metadata": {},
   "outputs": [
    {
     "name": "stdout",
     "output_type": "stream",
     "text": [
      "0:\tlearn: 0.6681747\ttest: 0.6674642\tbest: 0.6674642 (0)\ttotal: 3.67ms\tremaining: 3.67s\n",
      "100:\tlearn: 0.5426723\ttest: 0.5348600\tbest: 0.5348600 (100)\ttotal: 285ms\tremaining: 2.54s\n",
      "200:\tlearn: 0.5390467\ttest: 0.5338034\tbest: 0.5337639 (187)\ttotal: 594ms\tremaining: 2.36s\n",
      "300:\tlearn: 0.5368516\ttest: 0.5335684\tbest: 0.5335627 (288)\ttotal: 903ms\tremaining: 2.1s\n",
      "400:\tlearn: 0.5350533\ttest: 0.5336196\tbest: 0.5334999 (329)\ttotal: 1.23s\tremaining: 1.83s\n",
      "500:\tlearn: 0.5333391\ttest: 0.5336959\tbest: 0.5334999 (329)\ttotal: 1.54s\tremaining: 1.53s\n",
      "600:\tlearn: 0.5318991\ttest: 0.5338826\tbest: 0.5334999 (329)\ttotal: 1.84s\tremaining: 1.22s\n",
      "700:\tlearn: 0.5305596\ttest: 0.5341924\tbest: 0.5334999 (329)\ttotal: 2.16s\tremaining: 923ms\n",
      "800:\tlearn: 0.5293483\ttest: 0.5343656\tbest: 0.5334999 (329)\ttotal: 2.47s\tremaining: 614ms\n",
      "900:\tlearn: 0.5282956\ttest: 0.5344799\tbest: 0.5334999 (329)\ttotal: 2.78s\tremaining: 306ms\n",
      "999:\tlearn: 0.5273573\ttest: 0.5346326\tbest: 0.5334999 (329)\ttotal: 3.09s\tremaining: 0us\n",
      "\n",
      "bestTest = 0.533499948\n",
      "bestIteration = 329\n",
      "\n",
      "Shrink model to first 330 iterations.\n"
     ]
    },
    {
     "data": {
      "text/plain": [
       "<catboost.core.CatBoostClassifier at 0x151ddb430>"
      ]
     },
     "execution_count": 22,
     "metadata": {},
     "output_type": "execute_result"
    }
   ],
   "source": [
    "model = CatBoostClassifier(iterations=1000, learning_rate=0.1, depth=3, random_seed=42)\n",
    "model.fit(train.drop(columns=target), train[target], eval_set = (val.drop(columns=target), val[target]), verbose=100)"
   ]
  },
  {
   "cell_type": "code",
   "execution_count": 23,
   "id": "72831ff0-5702-441d-b19a-67c65dd1f792",
   "metadata": {},
   "outputs": [
    {
     "name": "stdout",
     "output_type": "stream",
     "text": [
      "TRAIN : 0.805550948679335\n",
      "VAL : 0.8082772069301734\n",
      "TEST : 0.8007250572328213\n"
     ]
    }
   ],
   "source": [
    "print(f\"TRAIN : {roc_auc_score(train[target], model.predict_proba(train.drop(columns=target))[:, 1])}\")\n",
    "print(f\"VAL : {roc_auc_score(val[target], model.predict_proba(val.drop(columns=target))[:, 1])}\")\n",
    "print(f\"TEST : {roc_auc_score(test[target], model.predict_proba(test.drop(columns=target))[:, 1])}\")"
   ]
  },
  {
   "cell_type": "code",
   "execution_count": 24,
   "id": "f1b51003-7b31-462b-9803-4f304cfbab60",
   "metadata": {},
   "outputs": [
    {
     "name": "stdout",
     "output_type": "stream",
     "text": [
      "TRAIN : 0.725669416165069\n",
      "VAL : 0.7305283324736571\n",
      "TEST : 0.728548220351499\n"
     ]
    }
   ],
   "source": [
    "print(f\"TRAIN : {f1_score(train[target], model.predict(train.drop(columns=target)))}\")\n",
    "print(f\"VAL : {f1_score(val[target], model.predict(val.drop(columns=target)))}\")\n",
    "print(f\"TEST : {f1_score(test[target], model.predict(test.drop(columns=target)))}\")"
   ]
  },
  {
   "cell_type": "code",
   "execution_count": 25,
   "id": "3a9a3956-650c-4b27-9306-200488efa9b2",
   "metadata": {},
   "outputs": [
    {
     "name": "stdout",
     "output_type": "stream",
     "text": [
      "              precision    recall  f1-score   support\n",
      "\n",
      "           0       0.72      0.77      0.75      6988\n",
      "           1       0.76      0.70      0.73      7012\n",
      "\n",
      "    accuracy                           0.74     14000\n",
      "   macro avg       0.74      0.74      0.74     14000\n",
      "weighted avg       0.74      0.74      0.74     14000\n",
      "\n"
     ]
    }
   ],
   "source": [
    "print(classification_report(test[target], model.predict(test.drop(columns=target))))"
   ]
  },
  {
   "cell_type": "markdown",
   "id": "a144cda8-3934-4992-9f52-d7dac96b2fe9",
   "metadata": {},
   "source": [
    "# LAST"
   ]
  },
  {
   "cell_type": "code",
   "execution_count": 92,
   "id": "efd5cb8b-634d-4b0e-8eb7-18fc93f3e99e",
   "metadata": {},
   "outputs": [],
   "source": [
    "def objective(trial):\n",
    "    param = {\n",
    "        \"n_estimators\": trial.suggest_int('n_estimators', 300, 2000),\n",
    "        \"learning_rate\": trial.suggest_float('learning_rate', 0.01, 0.3),\n",
    "        \"objective\": trial.suggest_categorical('objective', [\"Logloss\", \"CrossEntropy\"]),\n",
    "        \"depth\": trial.suggest_int('depth', 3, 10),\n",
    "        \"l2_leaf_reg\": trial.suggest_loguniform('l2_leaf_reg', 1e-2, 10),\n",
    "        \"colsample_bylevel\": trial.suggest_float('colsample_bylevel', 0.01, 1.0),\n",
    "        \"min_child_samples\": trial.suggest_float('min_child_samples', 100, 1000, step=100),\n",
    "        \"grow_policy\": trial.suggest_categorical('grow_policy', [\"SymmetricTree\", \"Depthwise\", \"Lossguide\"]),\n",
    "        \"border_count\": trial.suggest_categorical('border_count', [128, 256, 512, 1024]),\n",
    "        \"auto_class_weights\": trial.suggest_categorical('auto_class_weight', [None, 'Balanced', 'SqrtBalanced'])\n",
    "    }\n",
    "\n",
    "    if param['objective'] == 'CrossEntropy':\n",
    "        param['auto_class_weights'] = None\n",
    "\n",
    "    model = CatBoostClassifier(**param, verbose = False, random_seed=42)\n",
    "\n",
    "    model.fit(train.drop(columns=target), train[target], eval_set = (val.drop(columns=target), val[target]), early_stopping_rounds=50, plot=False)\n",
    "\n",
    "    test_roc_auc = roc_auc_score(test[target], model.predict_proba(test.drop(columns=target))[:, 1])\n",
    "\n",
    "    train_roc_auc = roc_auc_score(train[target], model.predict_proba(train.drop(columns=target))[:, 1])\n",
    "\n",
    "    if train_roc_auc - test_roc_auc > 0.03:\n",
    "        return 0\n",
    "    else:\n",
    "        return test_roc_auc"
   ]
  },
  {
   "cell_type": "code",
   "execution_count": 93,
   "id": "b65deed7-da0a-4aae-a7da-ad88b06d2ed8",
   "metadata": {
    "scrolled": true
   },
   "outputs": [
    {
     "name": "stderr",
     "output_type": "stream",
     "text": [
      "[I 2025-04-07 15:04:14,992] A new study created in memory with name: no-name-df9945c4-b938-4a4d-9eb0-ec457027629a\n",
      "/var/folders/_k/vxqnb8117qb_1tpg9p98mtyc0000gn/T/ipykernel_9428/1751210426.py:7: FutureWarning: suggest_loguniform has been deprecated in v3.0.0. This feature will be removed in v6.0.0. See https://github.com/optuna/optuna/releases/tag/v3.0.0. Use suggest_float(..., log=True) instead.\n",
      "  \"l2_leaf_reg\": trial.suggest_loguniform('l2_leaf_reg', 1e-2, 10),\n",
      "[I 2025-04-07 15:04:15,475] Trial 0 finished with value: 0.7984379790830407 and parameters: {'n_estimators': 1804, 'learning_rate': 0.19013097773031334, 'objective': 'Logloss', 'depth': 8, 'l2_leaf_reg': 0.03002973709872294, 'colsample_bylevel': 0.5497654134021661, 'min_child_samples': 400.0, 'grow_policy': 'SymmetricTree', 'border_count': 128, 'auto_class_weight': 'Balanced'}. Best is trial 0 with value: 0.7984379790830407.\n",
      "/var/folders/_k/vxqnb8117qb_1tpg9p98mtyc0000gn/T/ipykernel_9428/1751210426.py:7: FutureWarning: suggest_loguniform has been deprecated in v3.0.0. This feature will be removed in v6.0.0. See https://github.com/optuna/optuna/releases/tag/v3.0.0. Use suggest_float(..., log=True) instead.\n",
      "  \"l2_leaf_reg\": trial.suggest_loguniform('l2_leaf_reg', 1e-2, 10),\n",
      "[I 2025-04-07 15:04:18,315] Trial 1 finished with value: 0.8002899028927758 and parameters: {'n_estimators': 818, 'learning_rate': 0.015205271816758308, 'objective': 'Logloss', 'depth': 7, 'l2_leaf_reg': 0.06949011563860953, 'colsample_bylevel': 0.7424226251934929, 'min_child_samples': 800.0, 'grow_policy': 'SymmetricTree', 'border_count': 128, 'auto_class_weight': 'Balanced'}. Best is trial 1 with value: 0.8002899028927758.\n",
      "/var/folders/_k/vxqnb8117qb_1tpg9p98mtyc0000gn/T/ipykernel_9428/1751210426.py:7: FutureWarning: suggest_loguniform has been deprecated in v3.0.0. This feature will be removed in v6.0.0. See https://github.com/optuna/optuna/releases/tag/v3.0.0. Use suggest_float(..., log=True) instead.\n",
      "  \"l2_leaf_reg\": trial.suggest_loguniform('l2_leaf_reg', 1e-2, 10),\n",
      "[I 2025-04-07 15:04:24,468] Trial 2 finished with value: 0.7997313910473532 and parameters: {'n_estimators': 1866, 'learning_rate': 0.011444678870118664, 'objective': 'CrossEntropy', 'depth': 9, 'l2_leaf_reg': 0.4646411209263389, 'colsample_bylevel': 0.5819804943675277, 'min_child_samples': 100.0, 'grow_policy': 'SymmetricTree', 'border_count': 1024, 'auto_class_weight': 'Balanced'}. Best is trial 1 with value: 0.8002899028927758.\n",
      "/var/folders/_k/vxqnb8117qb_1tpg9p98mtyc0000gn/T/ipykernel_9428/1751210426.py:7: FutureWarning: suggest_loguniform has been deprecated in v3.0.0. This feature will be removed in v6.0.0. See https://github.com/optuna/optuna/releases/tag/v3.0.0. Use suggest_float(..., log=True) instead.\n",
      "  \"l2_leaf_reg\": trial.suggest_loguniform('l2_leaf_reg', 1e-2, 10),\n",
      "[I 2025-04-07 15:04:25,459] Trial 3 finished with value: 0.7999197793560863 and parameters: {'n_estimators': 1707, 'learning_rate': 0.12225322391213364, 'objective': 'CrossEntropy', 'depth': 4, 'l2_leaf_reg': 0.3246271306300638, 'colsample_bylevel': 0.5479971216598688, 'min_child_samples': 900.0, 'grow_policy': 'Depthwise', 'border_count': 1024, 'auto_class_weight': None}. Best is trial 1 with value: 0.8002899028927758.\n",
      "/var/folders/_k/vxqnb8117qb_1tpg9p98mtyc0000gn/T/ipykernel_9428/1751210426.py:7: FutureWarning: suggest_loguniform has been deprecated in v3.0.0. This feature will be removed in v6.0.0. See https://github.com/optuna/optuna/releases/tag/v3.0.0. Use suggest_float(..., log=True) instead.\n",
      "  \"l2_leaf_reg\": trial.suggest_loguniform('l2_leaf_reg', 1e-2, 10),\n",
      "[I 2025-04-07 15:04:26,003] Trial 4 finished with value: 0.7986304286281983 and parameters: {'n_estimators': 1391, 'learning_rate': 0.13577462642472998, 'objective': 'CrossEntropy', 'depth': 10, 'l2_leaf_reg': 0.040639018243924525, 'colsample_bylevel': 0.26099858871307924, 'min_child_samples': 400.0, 'grow_policy': 'SymmetricTree', 'border_count': 512, 'auto_class_weight': 'Balanced'}. Best is trial 1 with value: 0.8002899028927758.\n",
      "/var/folders/_k/vxqnb8117qb_1tpg9p98mtyc0000gn/T/ipykernel_9428/1751210426.py:7: FutureWarning: suggest_loguniform has been deprecated in v3.0.0. This feature will be removed in v6.0.0. See https://github.com/optuna/optuna/releases/tag/v3.0.0. Use suggest_float(..., log=True) instead.\n",
      "  \"l2_leaf_reg\": trial.suggest_loguniform('l2_leaf_reg', 1e-2, 10),\n",
      "[I 2025-04-07 15:04:26,597] Trial 5 finished with value: 0.8005655771723084 and parameters: {'n_estimators': 569, 'learning_rate': 0.14869596146183559, 'objective': 'CrossEntropy', 'depth': 5, 'l2_leaf_reg': 0.024002101777235735, 'colsample_bylevel': 0.5980412518080426, 'min_child_samples': 100.0, 'grow_policy': 'Depthwise', 'border_count': 256, 'auto_class_weight': 'SqrtBalanced'}. Best is trial 5 with value: 0.8005655771723084.\n",
      "/var/folders/_k/vxqnb8117qb_1tpg9p98mtyc0000gn/T/ipykernel_9428/1751210426.py:7: FutureWarning: suggest_loguniform has been deprecated in v3.0.0. This feature will be removed in v6.0.0. See https://github.com/optuna/optuna/releases/tag/v3.0.0. Use suggest_float(..., log=True) instead.\n",
      "  \"l2_leaf_reg\": trial.suggest_loguniform('l2_leaf_reg', 1e-2, 10),\n",
      "[I 2025-04-07 15:04:28,341] Trial 6 finished with value: 0.8002948620910233 and parameters: {'n_estimators': 627, 'learning_rate': 0.07488860322515131, 'objective': 'CrossEntropy', 'depth': 10, 'l2_leaf_reg': 0.023261572338713416, 'colsample_bylevel': 0.2350801008754984, 'min_child_samples': 800.0, 'grow_policy': 'Lossguide', 'border_count': 256, 'auto_class_weight': 'SqrtBalanced'}. Best is trial 5 with value: 0.8005655771723084.\n",
      "/var/folders/_k/vxqnb8117qb_1tpg9p98mtyc0000gn/T/ipykernel_9428/1751210426.py:7: FutureWarning: suggest_loguniform has been deprecated in v3.0.0. This feature will be removed in v6.0.0. See https://github.com/optuna/optuna/releases/tag/v3.0.0. Use suggest_float(..., log=True) instead.\n",
      "  \"l2_leaf_reg\": trial.suggest_loguniform('l2_leaf_reg', 1e-2, 10),\n",
      "[I 2025-04-07 15:04:29,708] Trial 7 finished with value: 0.7977745077454921 and parameters: {'n_estimators': 601, 'learning_rate': 0.2789937306436592, 'objective': 'CrossEntropy', 'depth': 3, 'l2_leaf_reg': 0.8882261884829742, 'colsample_bylevel': 0.03674812248499685, 'min_child_samples': 100.0, 'grow_policy': 'Lossguide', 'border_count': 256, 'auto_class_weight': None}. Best is trial 5 with value: 0.8005655771723084.\n",
      "/var/folders/_k/vxqnb8117qb_1tpg9p98mtyc0000gn/T/ipykernel_9428/1751210426.py:7: FutureWarning: suggest_loguniform has been deprecated in v3.0.0. This feature will be removed in v6.0.0. See https://github.com/optuna/optuna/releases/tag/v3.0.0. Use suggest_float(..., log=True) instead.\n",
      "  \"l2_leaf_reg\": trial.suggest_loguniform('l2_leaf_reg', 1e-2, 10),\n",
      "[I 2025-04-07 15:04:30,174] Trial 8 finished with value: 0.7988040005668589 and parameters: {'n_estimators': 1249, 'learning_rate': 0.2050722448870872, 'objective': 'Logloss', 'depth': 8, 'l2_leaf_reg': 0.28564067772665047, 'colsample_bylevel': 0.7194532022803396, 'min_child_samples': 100.0, 'grow_policy': 'SymmetricTree', 'border_count': 128, 'auto_class_weight': 'Balanced'}. Best is trial 5 with value: 0.8005655771723084.\n",
      "/var/folders/_k/vxqnb8117qb_1tpg9p98mtyc0000gn/T/ipykernel_9428/1751210426.py:7: FutureWarning: suggest_loguniform has been deprecated in v3.0.0. This feature will be removed in v6.0.0. See https://github.com/optuna/optuna/releases/tag/v3.0.0. Use suggest_float(..., log=True) instead.\n",
      "  \"l2_leaf_reg\": trial.suggest_loguniform('l2_leaf_reg', 1e-2, 10),\n",
      "[I 2025-04-07 15:04:31,199] Trial 9 finished with value: 0.7924913187499979 and parameters: {'n_estimators': 538, 'learning_rate': 0.14914051703914546, 'objective': 'CrossEntropy', 'depth': 7, 'l2_leaf_reg': 0.11680288710118181, 'colsample_bylevel': 0.028694307275896676, 'min_child_samples': 700.0, 'grow_policy': 'SymmetricTree', 'border_count': 128, 'auto_class_weight': None}. Best is trial 5 with value: 0.8005655771723084.\n",
      "/var/folders/_k/vxqnb8117qb_1tpg9p98mtyc0000gn/T/ipykernel_9428/1751210426.py:7: FutureWarning: suggest_loguniform has been deprecated in v3.0.0. This feature will be removed in v6.0.0. See https://github.com/optuna/optuna/releases/tag/v3.0.0. Use suggest_float(..., log=True) instead.\n",
      "  \"l2_leaf_reg\": trial.suggest_loguniform('l2_leaf_reg', 1e-2, 10),\n",
      "[I 2025-04-07 15:04:31,722] Trial 10 finished with value: 0.7996862990781033 and parameters: {'n_estimators': 305, 'learning_rate': 0.26486215408075875, 'objective': 'Logloss', 'depth': 5, 'l2_leaf_reg': 9.918116765266513, 'colsample_bylevel': 0.9234407823946221, 'min_child_samples': 400.0, 'grow_policy': 'Depthwise', 'border_count': 256, 'auto_class_weight': 'SqrtBalanced'}. Best is trial 5 with value: 0.8005655771723084.\n",
      "/var/folders/_k/vxqnb8117qb_1tpg9p98mtyc0000gn/T/ipykernel_9428/1751210426.py:7: FutureWarning: suggest_loguniform has been deprecated in v3.0.0. This feature will be removed in v6.0.0. See https://github.com/optuna/optuna/releases/tag/v3.0.0. Use suggest_float(..., log=True) instead.\n",
      "  \"l2_leaf_reg\": trial.suggest_loguniform('l2_leaf_reg', 1e-2, 10),\n",
      "[I 2025-04-07 15:04:33,384] Trial 11 finished with value: 0.800373545995727 and parameters: {'n_estimators': 948, 'learning_rate': 0.0750638221501818, 'objective': 'CrossEntropy', 'depth': 5, 'l2_leaf_reg': 0.01061646979660689, 'colsample_bylevel': 0.3059784871840891, 'min_child_samples': 1000.0, 'grow_policy': 'Lossguide', 'border_count': 256, 'auto_class_weight': 'SqrtBalanced'}. Best is trial 5 with value: 0.8005655771723084.\n",
      "/var/folders/_k/vxqnb8117qb_1tpg9p98mtyc0000gn/T/ipykernel_9428/1751210426.py:7: FutureWarning: suggest_loguniform has been deprecated in v3.0.0. This feature will be removed in v6.0.0. See https://github.com/optuna/optuna/releases/tag/v3.0.0. Use suggest_float(..., log=True) instead.\n",
      "  \"l2_leaf_reg\": trial.suggest_loguniform('l2_leaf_reg', 1e-2, 10),\n",
      "[I 2025-04-07 15:04:34,699] Trial 12 finished with value: 0.80013437182346 and parameters: {'n_estimators': 967, 'learning_rate': 0.07730229880480322, 'objective': 'CrossEntropy', 'depth': 5, 'l2_leaf_reg': 0.010238670593605724, 'colsample_bylevel': 0.3282178054745003, 'min_child_samples': 1000.0, 'grow_policy': 'Lossguide', 'border_count': 256, 'auto_class_weight': 'SqrtBalanced'}. Best is trial 5 with value: 0.8005655771723084.\n",
      "/var/folders/_k/vxqnb8117qb_1tpg9p98mtyc0000gn/T/ipykernel_9428/1751210426.py:7: FutureWarning: suggest_loguniform has been deprecated in v3.0.0. This feature will be removed in v6.0.0. See https://github.com/optuna/optuna/releases/tag/v3.0.0. Use suggest_float(..., log=True) instead.\n",
      "  \"l2_leaf_reg\": trial.suggest_loguniform('l2_leaf_reg', 1e-2, 10),\n",
      "[I 2025-04-07 15:04:36,063] Trial 13 finished with value: 0.8001450351201032 and parameters: {'n_estimators': 1018, 'learning_rate': 0.08094592290496792, 'objective': 'CrossEntropy', 'depth': 5, 'l2_leaf_reg': 0.012065175227485838, 'colsample_bylevel': 0.40700888235083843, 'min_child_samples': 600.0, 'grow_policy': 'Depthwise', 'border_count': 256, 'auto_class_weight': 'SqrtBalanced'}. Best is trial 5 with value: 0.8005655771723084.\n",
      "/var/folders/_k/vxqnb8117qb_1tpg9p98mtyc0000gn/T/ipykernel_9428/1751210426.py:7: FutureWarning: suggest_loguniform has been deprecated in v3.0.0. This feature will be removed in v6.0.0. See https://github.com/optuna/optuna/releases/tag/v3.0.0. Use suggest_float(..., log=True) instead.\n",
      "  \"l2_leaf_reg\": trial.suggest_loguniform('l2_leaf_reg', 1e-2, 10),\n",
      "[I 2025-04-07 15:04:36,699] Trial 14 finished with value: 0.8004397502719192 and parameters: {'n_estimators': 325, 'learning_rate': 0.20766050912482922, 'objective': 'CrossEntropy', 'depth': 6, 'l2_leaf_reg': 0.11203478185363601, 'colsample_bylevel': 0.725549916651757, 'min_child_samples': 300.0, 'grow_policy': 'Lossguide', 'border_count': 512, 'auto_class_weight': 'SqrtBalanced'}. Best is trial 5 with value: 0.8005655771723084.\n",
      "/var/folders/_k/vxqnb8117qb_1tpg9p98mtyc0000gn/T/ipykernel_9428/1751210426.py:7: FutureWarning: suggest_loguniform has been deprecated in v3.0.0. This feature will be removed in v6.0.0. See https://github.com/optuna/optuna/releases/tag/v3.0.0. Use suggest_float(..., log=True) instead.\n",
      "  \"l2_leaf_reg\": trial.suggest_loguniform('l2_leaf_reg', 1e-2, 10),\n",
      "[I 2025-04-07 15:04:37,404] Trial 15 finished with value: 0.7991414301299171 and parameters: {'n_estimators': 305, 'learning_rate': 0.22185550933422957, 'objective': 'CrossEntropy', 'depth': 6, 'l2_leaf_reg': 1.6049294162280814, 'colsample_bylevel': 0.9694321132880749, 'min_child_samples': 300.0, 'grow_policy': 'Depthwise', 'border_count': 512, 'auto_class_weight': 'SqrtBalanced'}. Best is trial 5 with value: 0.8005655771723084.\n",
      "/var/folders/_k/vxqnb8117qb_1tpg9p98mtyc0000gn/T/ipykernel_9428/1751210426.py:7: FutureWarning: suggest_loguniform has been deprecated in v3.0.0. This feature will be removed in v6.0.0. See https://github.com/optuna/optuna/releases/tag/v3.0.0. Use suggest_float(..., log=True) instead.\n",
      "  \"l2_leaf_reg\": trial.suggest_loguniform('l2_leaf_reg', 1e-2, 10),\n",
      "[I 2025-04-07 15:04:38,235] Trial 16 finished with value: 0.7996408091485003 and parameters: {'n_estimators': 476, 'learning_rate': 0.22871273458346184, 'objective': 'CrossEntropy', 'depth': 3, 'l2_leaf_reg': 0.11749327492950461, 'colsample_bylevel': 0.7675416912607054, 'min_child_samples': 200.0, 'grow_policy': 'Depthwise', 'border_count': 512, 'auto_class_weight': 'SqrtBalanced'}. Best is trial 5 with value: 0.8005655771723084.\n",
      "/var/folders/_k/vxqnb8117qb_1tpg9p98mtyc0000gn/T/ipykernel_9428/1751210426.py:7: FutureWarning: suggest_loguniform has been deprecated in v3.0.0. This feature will be removed in v6.0.0. See https://github.com/optuna/optuna/releases/tag/v3.0.0. Use suggest_float(..., log=True) instead.\n",
      "  \"l2_leaf_reg\": trial.suggest_loguniform('l2_leaf_reg', 1e-2, 10),\n",
      "[I 2025-04-07 15:04:38,892] Trial 17 finished with value: 0.8004426278313961 and parameters: {'n_estimators': 764, 'learning_rate': 0.17580213976031497, 'objective': 'CrossEntropy', 'depth': 6, 'l2_leaf_reg': 0.10239580901552464, 'colsample_bylevel': 0.8475980520925689, 'min_child_samples': 300.0, 'grow_policy': 'Lossguide', 'border_count': 512, 'auto_class_weight': 'SqrtBalanced'}. Best is trial 5 with value: 0.8005655771723084.\n",
      "/var/folders/_k/vxqnb8117qb_1tpg9p98mtyc0000gn/T/ipykernel_9428/1751210426.py:7: FutureWarning: suggest_loguniform has been deprecated in v3.0.0. This feature will be removed in v6.0.0. See https://github.com/optuna/optuna/releases/tag/v3.0.0. Use suggest_float(..., log=True) instead.\n",
      "  \"l2_leaf_reg\": trial.suggest_loguniform('l2_leaf_reg', 1e-2, 10),\n",
      "[I 2025-04-07 15:04:39,543] Trial 18 finished with value: 0.8000410348144696 and parameters: {'n_estimators': 732, 'learning_rate': 0.1710206445014506, 'objective': 'Logloss', 'depth': 4, 'l2_leaf_reg': 0.0538172327822068, 'colsample_bylevel': 0.8625177544624492, 'min_child_samples': 500.0, 'grow_policy': 'Depthwise', 'border_count': 512, 'auto_class_weight': 'SqrtBalanced'}. Best is trial 5 with value: 0.8005655771723084.\n",
      "/var/folders/_k/vxqnb8117qb_1tpg9p98mtyc0000gn/T/ipykernel_9428/1751210426.py:7: FutureWarning: suggest_loguniform has been deprecated in v3.0.0. This feature will be removed in v6.0.0. See https://github.com/optuna/optuna/releases/tag/v3.0.0. Use suggest_float(..., log=True) instead.\n",
      "  \"l2_leaf_reg\": trial.suggest_loguniform('l2_leaf_reg', 1e-2, 10),\n",
      "[I 2025-04-07 15:04:40,558] Trial 19 finished with value: 0.8004030052659745 and parameters: {'n_estimators': 1446, 'learning_rate': 0.10975139954642092, 'objective': 'CrossEntropy', 'depth': 6, 'l2_leaf_reg': 2.784355907609846, 'colsample_bylevel': 0.6395019736205189, 'min_child_samples': 200.0, 'grow_policy': 'Lossguide', 'border_count': 1024, 'auto_class_weight': 'SqrtBalanced'}. Best is trial 5 with value: 0.8005655771723084.\n",
      "/var/folders/_k/vxqnb8117qb_1tpg9p98mtyc0000gn/T/ipykernel_9428/1751210426.py:7: FutureWarning: suggest_loguniform has been deprecated in v3.0.0. This feature will be removed in v6.0.0. See https://github.com/optuna/optuna/releases/tag/v3.0.0. Use suggest_float(..., log=True) instead.\n",
      "  \"l2_leaf_reg\": trial.suggest_loguniform('l2_leaf_reg', 1e-2, 10),\n",
      "[I 2025-04-07 15:04:41,187] Trial 20 finished with value: 0.7990819911797292 and parameters: {'n_estimators': 789, 'learning_rate': 0.24792766859941026, 'objective': 'CrossEntropy', 'depth': 4, 'l2_leaf_reg': 0.21549039428228378, 'colsample_bylevel': 0.853076362965985, 'min_child_samples': 200.0, 'grow_policy': 'Lossguide', 'border_count': 512, 'auto_class_weight': None}. Best is trial 5 with value: 0.8005655771723084.\n",
      "/var/folders/_k/vxqnb8117qb_1tpg9p98mtyc0000gn/T/ipykernel_9428/1751210426.py:7: FutureWarning: suggest_loguniform has been deprecated in v3.0.0. This feature will be removed in v6.0.0. See https://github.com/optuna/optuna/releases/tag/v3.0.0. Use suggest_float(..., log=True) instead.\n",
      "  \"l2_leaf_reg\": trial.suggest_loguniform('l2_leaf_reg', 1e-2, 10),\n",
      "[I 2025-04-07 15:04:41,955] Trial 21 finished with value: 0.7990337767523236 and parameters: {'n_estimators': 493, 'learning_rate': 0.17225326702711335, 'objective': 'CrossEntropy', 'depth': 6, 'l2_leaf_reg': 0.09409472666414703, 'colsample_bylevel': 0.662474533859847, 'min_child_samples': 300.0, 'grow_policy': 'Lossguide', 'border_count': 512, 'auto_class_weight': 'SqrtBalanced'}. Best is trial 5 with value: 0.8005655771723084.\n",
      "/var/folders/_k/vxqnb8117qb_1tpg9p98mtyc0000gn/T/ipykernel_9428/1751210426.py:7: FutureWarning: suggest_loguniform has been deprecated in v3.0.0. This feature will be removed in v6.0.0. See https://github.com/optuna/optuna/releases/tag/v3.0.0. Use suggest_float(..., log=True) instead.\n",
      "  \"l2_leaf_reg\": trial.suggest_loguniform('l2_leaf_reg', 1e-2, 10),\n",
      "[I 2025-04-07 15:04:42,716] Trial 22 finished with value: 0.7995121250968574 and parameters: {'n_estimators': 428, 'learning_rate': 0.19001987996586045, 'objective': 'CrossEntropy', 'depth': 7, 'l2_leaf_reg': 0.020395030389638105, 'colsample_bylevel': 0.44622456157933255, 'min_child_samples': 300.0, 'grow_policy': 'Lossguide', 'border_count': 512, 'auto_class_weight': 'SqrtBalanced'}. Best is trial 5 with value: 0.8005655771723084.\n",
      "/var/folders/_k/vxqnb8117qb_1tpg9p98mtyc0000gn/T/ipykernel_9428/1751210426.py:7: FutureWarning: suggest_loguniform has been deprecated in v3.0.0. This feature will be removed in v6.0.0. See https://github.com/optuna/optuna/releases/tag/v3.0.0. Use suggest_float(..., log=True) instead.\n",
      "  \"l2_leaf_reg\": trial.suggest_loguniform('l2_leaf_reg', 1e-2, 10),\n",
      "[I 2025-04-07 15:04:43,347] Trial 23 finished with value: 0.7992416140978047 and parameters: {'n_estimators': 667, 'learning_rate': 0.2965178447277562, 'objective': 'CrossEntropy', 'depth': 6, 'l2_leaf_reg': 0.16699289779881793, 'colsample_bylevel': 0.8176475186254067, 'min_child_samples': 500.0, 'grow_policy': 'Lossguide', 'border_count': 512, 'auto_class_weight': 'SqrtBalanced'}. Best is trial 5 with value: 0.8005655771723084.\n",
      "/var/folders/_k/vxqnb8117qb_1tpg9p98mtyc0000gn/T/ipykernel_9428/1751210426.py:7: FutureWarning: suggest_loguniform has been deprecated in v3.0.0. This feature will be removed in v6.0.0. See https://github.com/optuna/optuna/releases/tag/v3.0.0. Use suggest_float(..., log=True) instead.\n",
      "  \"l2_leaf_reg\": trial.suggest_loguniform('l2_leaf_reg', 1e-2, 10),\n",
      "[I 2025-04-07 15:04:44,202] Trial 24 finished with value: 0.799605992719652 and parameters: {'n_estimators': 840, 'learning_rate': 0.16215405260681107, 'objective': 'CrossEntropy', 'depth': 8, 'l2_leaf_reg': 0.05163550791123467, 'colsample_bylevel': 0.6561038588495741, 'min_child_samples': 200.0, 'grow_policy': 'Lossguide', 'border_count': 512, 'auto_class_weight': 'SqrtBalanced'}. Best is trial 5 with value: 0.8005655771723084.\n",
      "/var/folders/_k/vxqnb8117qb_1tpg9p98mtyc0000gn/T/ipykernel_9428/1751210426.py:7: FutureWarning: suggest_loguniform has been deprecated in v3.0.0. This feature will be removed in v6.0.0. See https://github.com/optuna/optuna/releases/tag/v3.0.0. Use suggest_float(..., log=True) instead.\n",
      "  \"l2_leaf_reg\": trial.suggest_loguniform('l2_leaf_reg', 1e-2, 10),\n",
      "[I 2025-04-07 15:04:44,727] Trial 25 finished with value: 0.8002853110425467 and parameters: {'n_estimators': 386, 'learning_rate': 0.21685847135794845, 'objective': 'CrossEntropy', 'depth': 5, 'l2_leaf_reg': 0.5287712502960358, 'colsample_bylevel': 0.9106531590344888, 'min_child_samples': 300.0, 'grow_policy': 'Depthwise', 'border_count': 512, 'auto_class_weight': 'SqrtBalanced'}. Best is trial 5 with value: 0.8005655771723084.\n",
      "/var/folders/_k/vxqnb8117qb_1tpg9p98mtyc0000gn/T/ipykernel_9428/1751210426.py:7: FutureWarning: suggest_loguniform has been deprecated in v3.0.0. This feature will be removed in v6.0.0. See https://github.com/optuna/optuna/releases/tag/v3.0.0. Use suggest_float(..., log=True) instead.\n",
      "  \"l2_leaf_reg\": trial.suggest_loguniform('l2_leaf_reg', 1e-2, 10),\n",
      "[I 2025-04-07 15:04:45,863] Trial 26 finished with value: 0.7997289624687877 and parameters: {'n_estimators': 1179, 'learning_rate': 0.10664157214940506, 'objective': 'Logloss', 'depth': 7, 'l2_leaf_reg': 0.14878499832068007, 'colsample_bylevel': 0.4686305906615892, 'min_child_samples': 100.0, 'grow_policy': 'Lossguide', 'border_count': 256, 'auto_class_weight': 'SqrtBalanced'}. Best is trial 5 with value: 0.8005655771723084.\n",
      "/var/folders/_k/vxqnb8117qb_1tpg9p98mtyc0000gn/T/ipykernel_9428/1751210426.py:7: FutureWarning: suggest_loguniform has been deprecated in v3.0.0. This feature will be removed in v6.0.0. See https://github.com/optuna/optuna/releases/tag/v3.0.0. Use suggest_float(..., log=True) instead.\n",
      "  \"l2_leaf_reg\": trial.suggest_loguniform('l2_leaf_reg', 1e-2, 10),\n",
      "[I 2025-04-07 15:04:46,366] Trial 27 finished with value: 0.8003072498825303 and parameters: {'n_estimators': 596, 'learning_rate': 0.19243455108743712, 'objective': 'CrossEntropy', 'depth': 4, 'l2_leaf_reg': 0.0706453715947824, 'colsample_bylevel': 0.9930794334589303, 'min_child_samples': 600.0, 'grow_policy': 'Depthwise', 'border_count': 1024, 'auto_class_weight': 'SqrtBalanced'}. Best is trial 5 with value: 0.8005655771723084.\n",
      "/var/folders/_k/vxqnb8117qb_1tpg9p98mtyc0000gn/T/ipykernel_9428/1751210426.py:7: FutureWarning: suggest_loguniform has been deprecated in v3.0.0. This feature will be removed in v6.0.0. See https://github.com/optuna/optuna/releases/tag/v3.0.0. Use suggest_float(..., log=True) instead.\n",
      "  \"l2_leaf_reg\": trial.suggest_loguniform('l2_leaf_reg', 1e-2, 10),\n",
      "[I 2025-04-07 15:04:46,961] Trial 28 finished with value: 0.7996989317682893 and parameters: {'n_estimators': 708, 'learning_rate': 0.23866851713523812, 'objective': 'CrossEntropy', 'depth': 6, 'l2_leaf_reg': 0.01804972944613775, 'colsample_bylevel': 0.7947527828058589, 'min_child_samples': 400.0, 'grow_policy': 'Lossguide', 'border_count': 512, 'auto_class_weight': 'SqrtBalanced'}. Best is trial 5 with value: 0.8005655771723084.\n",
      "/var/folders/_k/vxqnb8117qb_1tpg9p98mtyc0000gn/T/ipykernel_9428/1751210426.py:7: FutureWarning: suggest_loguniform has been deprecated in v3.0.0. This feature will be removed in v6.0.0. See https://github.com/optuna/optuna/releases/tag/v3.0.0. Use suggest_float(..., log=True) instead.\n",
      "  \"l2_leaf_reg\": trial.suggest_loguniform('l2_leaf_reg', 1e-2, 10),\n",
      "[I 2025-04-07 15:04:47,574] Trial 29 finished with value: 0.7990961748948813 and parameters: {'n_estimators': 1076, 'learning_rate': 0.18929091213569083, 'objective': 'Logloss', 'depth': 9, 'l2_leaf_reg': 0.03371855972771835, 'colsample_bylevel': 0.5798257211865501, 'min_child_samples': 400.0, 'grow_policy': 'Depthwise', 'border_count': 128, 'auto_class_weight': None}. Best is trial 5 with value: 0.8005655771723084.\n",
      "/var/folders/_k/vxqnb8117qb_1tpg9p98mtyc0000gn/T/ipykernel_9428/1751210426.py:7: FutureWarning: suggest_loguniform has been deprecated in v3.0.0. This feature will be removed in v6.0.0. See https://github.com/optuna/optuna/releases/tag/v3.0.0. Use suggest_float(..., log=True) instead.\n",
      "  \"l2_leaf_reg\": trial.suggest_loguniform('l2_leaf_reg', 1e-2, 10),\n",
      "[I 2025-04-07 15:04:48,523] Trial 30 finished with value: 0.799386441054031 and parameters: {'n_estimators': 915, 'learning_rate': 0.14281883019284902, 'objective': 'CrossEntropy', 'depth': 5, 'l2_leaf_reg': 0.026210218808794775, 'colsample_bylevel': 0.6880846725162516, 'min_child_samples': 200.0, 'grow_policy': 'Lossguide', 'border_count': 256, 'auto_class_weight': 'Balanced'}. Best is trial 5 with value: 0.8005655771723084.\n",
      "/var/folders/_k/vxqnb8117qb_1tpg9p98mtyc0000gn/T/ipykernel_9428/1751210426.py:7: FutureWarning: suggest_loguniform has been deprecated in v3.0.0. This feature will be removed in v6.0.0. See https://github.com/optuna/optuna/releases/tag/v3.0.0. Use suggest_float(..., log=True) instead.\n",
      "  \"l2_leaf_reg\": trial.suggest_loguniform('l2_leaf_reg', 1e-2, 10),\n",
      "[I 2025-04-07 15:04:49,780] Trial 31 finished with value: 0.8001407187808878 and parameters: {'n_estimators': 1529, 'learning_rate': 0.10321599687352868, 'objective': 'CrossEntropy', 'depth': 6, 'l2_leaf_reg': 3.4376412223825743, 'colsample_bylevel': 0.6179517611715056, 'min_child_samples': 200.0, 'grow_policy': 'Lossguide', 'border_count': 1024, 'auto_class_weight': 'SqrtBalanced'}. Best is trial 5 with value: 0.8005655771723084.\n",
      "/var/folders/_k/vxqnb8117qb_1tpg9p98mtyc0000gn/T/ipykernel_9428/1751210426.py:7: FutureWarning: suggest_loguniform has been deprecated in v3.0.0. This feature will be removed in v6.0.0. See https://github.com/optuna/optuna/releases/tag/v3.0.0. Use suggest_float(..., log=True) instead.\n",
      "  \"l2_leaf_reg\": trial.suggest_loguniform('l2_leaf_reg', 1e-2, 10),\n",
      "[I 2025-04-07 15:04:50,996] Trial 32 finished with value: 0.8000556471023099 and parameters: {'n_estimators': 1653, 'learning_rate': 0.11719344737854528, 'objective': 'CrossEntropy', 'depth': 7, 'l2_leaf_reg': 2.06724455543613, 'colsample_bylevel': 0.7333686093797135, 'min_child_samples': 300.0, 'grow_policy': 'Lossguide', 'border_count': 1024, 'auto_class_weight': 'SqrtBalanced'}. Best is trial 5 with value: 0.8005655771723084.\n",
      "/var/folders/_k/vxqnb8117qb_1tpg9p98mtyc0000gn/T/ipykernel_9428/1751210426.py:7: FutureWarning: suggest_loguniform has been deprecated in v3.0.0. This feature will be removed in v6.0.0. See https://github.com/optuna/optuna/releases/tag/v3.0.0. Use suggest_float(..., log=True) instead.\n",
      "  \"l2_leaf_reg\": trial.suggest_loguniform('l2_leaf_reg', 1e-2, 10),\n",
      "[I 2025-04-07 15:04:51,932] Trial 33 finished with value: 0.7998866670138786 and parameters: {'n_estimators': 1349, 'learning_rate': 0.1323118649404451, 'objective': 'CrossEntropy', 'depth': 6, 'l2_leaf_reg': 9.619702291224806, 'colsample_bylevel': 0.5248519275640495, 'min_child_samples': 100.0, 'grow_policy': 'Lossguide', 'border_count': 1024, 'auto_class_weight': 'SqrtBalanced'}. Best is trial 5 with value: 0.8005655771723084.\n",
      "/var/folders/_k/vxqnb8117qb_1tpg9p98mtyc0000gn/T/ipykernel_9428/1751210426.py:7: FutureWarning: suggest_loguniform has been deprecated in v3.0.0. This feature will be removed in v6.0.0. See https://github.com/optuna/optuna/releases/tag/v3.0.0. Use suggest_float(..., log=True) instead.\n",
      "  \"l2_leaf_reg\": trial.suggest_loguniform('l2_leaf_reg', 1e-2, 10),\n",
      "[I 2025-04-07 15:04:54,134] Trial 34 finished with value: 0.8001656780379109 and parameters: {'n_estimators': 1580, 'learning_rate': 0.05216038189515036, 'objective': 'CrossEntropy', 'depth': 7, 'l2_leaf_reg': 5.2254154770503005, 'colsample_bylevel': 0.6309969807960603, 'min_child_samples': 200.0, 'grow_policy': 'Lossguide', 'border_count': 1024, 'auto_class_weight': 'SqrtBalanced'}. Best is trial 5 with value: 0.8005655771723084.\n",
      "/var/folders/_k/vxqnb8117qb_1tpg9p98mtyc0000gn/T/ipykernel_9428/1751210426.py:7: FutureWarning: suggest_loguniform has been deprecated in v3.0.0. This feature will be removed in v6.0.0. See https://github.com/optuna/optuna/releases/tag/v3.0.0. Use suggest_float(..., log=True) instead.\n",
      "  \"l2_leaf_reg\": trial.suggest_loguniform('l2_leaf_reg', 1e-2, 10),\n",
      "[I 2025-04-07 15:04:54,753] Trial 35 finished with value: 0.7998572587641891 and parameters: {'n_estimators': 1818, 'learning_rate': 0.15553623246123405, 'objective': 'CrossEntropy', 'depth': 6, 'l2_leaf_reg': 0.6129355604868744, 'colsample_bylevel': 0.7236837938423937, 'min_child_samples': 500.0, 'grow_policy': 'SymmetricTree', 'border_count': 1024, 'auto_class_weight': 'Balanced'}. Best is trial 5 with value: 0.8005655771723084.\n",
      "/var/folders/_k/vxqnb8117qb_1tpg9p98mtyc0000gn/T/ipykernel_9428/1751210426.py:7: FutureWarning: suggest_loguniform has been deprecated in v3.0.0. This feature will be removed in v6.0.0. See https://github.com/optuna/optuna/releases/tag/v3.0.0. Use suggest_float(..., log=True) instead.\n",
      "  \"l2_leaf_reg\": trial.suggest_loguniform('l2_leaf_reg', 1e-2, 10),\n",
      "[I 2025-04-07 15:04:55,462] Trial 36 finished with value: 0.8000676369334636 and parameters: {'n_estimators': 1963, 'learning_rate': 0.18132221580518199, 'objective': 'Logloss', 'depth': 4, 'l2_leaf_reg': 0.31452308431880627, 'colsample_bylevel': 0.5948669962888891, 'min_child_samples': 100.0, 'grow_policy': 'Lossguide', 'border_count': 128, 'auto_class_weight': 'SqrtBalanced'}. Best is trial 5 with value: 0.8005655771723084.\n",
      "/var/folders/_k/vxqnb8117qb_1tpg9p98mtyc0000gn/T/ipykernel_9428/1751210426.py:7: FutureWarning: suggest_loguniform has been deprecated in v3.0.0. This feature will be removed in v6.0.0. See https://github.com/optuna/optuna/releases/tag/v3.0.0. Use suggest_float(..., log=True) instead.\n",
      "  \"l2_leaf_reg\": trial.suggest_loguniform('l2_leaf_reg', 1e-2, 10),\n",
      "[I 2025-04-07 15:04:58,000] Trial 37 finished with value: 0.7997732687214427 and parameters: {'n_estimators': 1456, 'learning_rate': 0.04692130955178482, 'objective': 'CrossEntropy', 'depth': 8, 'l2_leaf_reg': 1.1076137664469952, 'colsample_bylevel': 0.5194832156521246, 'min_child_samples': 300.0, 'grow_policy': 'SymmetricTree', 'border_count': 1024, 'auto_class_weight': 'Balanced'}. Best is trial 5 with value: 0.8005655771723084.\n",
      "/var/folders/_k/vxqnb8117qb_1tpg9p98mtyc0000gn/T/ipykernel_9428/1751210426.py:7: FutureWarning: suggest_loguniform has been deprecated in v3.0.0. This feature will be removed in v6.0.0. See https://github.com/optuna/optuna/releases/tag/v3.0.0. Use suggest_float(..., log=True) instead.\n",
      "  \"l2_leaf_reg\": trial.suggest_loguniform('l2_leaf_reg', 1e-2, 10),\n",
      "[I 2025-04-07 15:04:59,060] Trial 38 finished with value: 0.8008079044150661 and parameters: {'n_estimators': 1279, 'learning_rate': 0.09814687180662282, 'objective': 'CrossEntropy', 'depth': 5, 'l2_leaf_reg': 0.07845393644418569, 'colsample_bylevel': 0.8180556482348051, 'min_child_samples': 100.0, 'grow_policy': 'Lossguide', 'border_count': 512, 'auto_class_weight': None}. Best is trial 38 with value: 0.8008079044150661.\n",
      "/var/folders/_k/vxqnb8117qb_1tpg9p98mtyc0000gn/T/ipykernel_9428/1751210426.py:7: FutureWarning: suggest_loguniform has been deprecated in v3.0.0. This feature will be removed in v6.0.0. See https://github.com/optuna/optuna/releases/tag/v3.0.0. Use suggest_float(..., log=True) instead.\n",
      "  \"l2_leaf_reg\": trial.suggest_loguniform('l2_leaf_reg', 1e-2, 10),\n",
      "[I 2025-04-07 15:04:59,744] Trial 39 finished with value: 0.7999862285309574 and parameters: {'n_estimators': 1192, 'learning_rate': 0.20313032150844812, 'objective': 'CrossEntropy', 'depth': 5, 'l2_leaf_reg': 0.07929523410576661, 'colsample_bylevel': 0.8654044464717372, 'min_child_samples': 100.0, 'grow_policy': 'Depthwise', 'border_count': 512, 'auto_class_weight': None}. Best is trial 38 with value: 0.8008079044150661.\n",
      "/var/folders/_k/vxqnb8117qb_1tpg9p98mtyc0000gn/T/ipykernel_9428/1751210426.py:7: FutureWarning: suggest_loguniform has been deprecated in v3.0.0. This feature will be removed in v6.0.0. See https://github.com/optuna/optuna/releases/tag/v3.0.0. Use suggest_float(..., log=True) instead.\n",
      "  \"l2_leaf_reg\": trial.suggest_loguniform('l2_leaf_reg', 1e-2, 10),\n",
      "[I 2025-04-07 15:05:00,530] Trial 40 finished with value: 0.8011473339840018 and parameters: {'n_estimators': 1276, 'learning_rate': 0.09270061781843102, 'objective': 'Logloss', 'depth': 3, 'l2_leaf_reg': 0.04887725241277137, 'colsample_bylevel': 0.7977055776111011, 'min_child_samples': 100.0, 'grow_policy': 'SymmetricTree', 'border_count': 512, 'auto_class_weight': None}. Best is trial 40 with value: 0.8011473339840018.\n",
      "/var/folders/_k/vxqnb8117qb_1tpg9p98mtyc0000gn/T/ipykernel_9428/1751210426.py:7: FutureWarning: suggest_loguniform has been deprecated in v3.0.0. This feature will be removed in v6.0.0. See https://github.com/optuna/optuna/releases/tag/v3.0.0. Use suggest_float(..., log=True) instead.\n",
      "  \"l2_leaf_reg\": trial.suggest_loguniform('l2_leaf_reg', 1e-2, 10),\n",
      "[I 2025-04-07 15:05:02,412] Trial 41 finished with value: 0.800854067816036 and parameters: {'n_estimators': 1305, 'learning_rate': 0.0563512641903234, 'objective': 'Logloss', 'depth': 3, 'l2_leaf_reg': 0.04126411025147428, 'colsample_bylevel': 0.8151088269752751, 'min_child_samples': 100.0, 'grow_policy': 'SymmetricTree', 'border_count': 512, 'auto_class_weight': None}. Best is trial 40 with value: 0.8011473339840018.\n",
      "/var/folders/_k/vxqnb8117qb_1tpg9p98mtyc0000gn/T/ipykernel_9428/1751210426.py:7: FutureWarning: suggest_loguniform has been deprecated in v3.0.0. This feature will be removed in v6.0.0. See https://github.com/optuna/optuna/releases/tag/v3.0.0. Use suggest_float(..., log=True) instead.\n",
      "  \"l2_leaf_reg\": trial.suggest_loguniform('l2_leaf_reg', 1e-2, 10),\n",
      "[I 2025-04-07 15:05:04,032] Trial 42 finished with value: 0.8011654462821278 and parameters: {'n_estimators': 1255, 'learning_rate': 0.05438537624815496, 'objective': 'Logloss', 'depth': 3, 'l2_leaf_reg': 0.04175438429767785, 'colsample_bylevel': 0.9215682315423246, 'min_child_samples': 100.0, 'grow_policy': 'SymmetricTree', 'border_count': 512, 'auto_class_weight': None}. Best is trial 42 with value: 0.8011654462821278.\n",
      "/var/folders/_k/vxqnb8117qb_1tpg9p98mtyc0000gn/T/ipykernel_9428/1751210426.py:7: FutureWarning: suggest_loguniform has been deprecated in v3.0.0. This feature will be removed in v6.0.0. See https://github.com/optuna/optuna/releases/tag/v3.0.0. Use suggest_float(..., log=True) instead.\n",
      "  \"l2_leaf_reg\": trial.suggest_loguniform('l2_leaf_reg', 1e-2, 10),\n",
      "[I 2025-04-07 15:05:07,316] Trial 43 finished with value: 0.8010804154199963 and parameters: {'n_estimators': 1288, 'learning_rate': 0.029577104718851083, 'objective': 'Logloss', 'depth': 3, 'l2_leaf_reg': 0.04136764665902187, 'colsample_bylevel': 0.9192342321731759, 'min_child_samples': 100.0, 'grow_policy': 'SymmetricTree', 'border_count': 512, 'auto_class_weight': None}. Best is trial 42 with value: 0.8011654462821278.\n",
      "/var/folders/_k/vxqnb8117qb_1tpg9p98mtyc0000gn/T/ipykernel_9428/1751210426.py:7: FutureWarning: suggest_loguniform has been deprecated in v3.0.0. This feature will be removed in v6.0.0. See https://github.com/optuna/optuna/releases/tag/v3.0.0. Use suggest_float(..., log=True) instead.\n",
      "  \"l2_leaf_reg\": trial.suggest_loguniform('l2_leaf_reg', 1e-2, 10),\n",
      "[I 2025-04-07 15:05:10,881] Trial 44 finished with value: 0.8010800990925362 and parameters: {'n_estimators': 1303, 'learning_rate': 0.02574885145389123, 'objective': 'Logloss', 'depth': 3, 'l2_leaf_reg': 0.04464092650814946, 'colsample_bylevel': 0.9280555424227334, 'min_child_samples': 100.0, 'grow_policy': 'SymmetricTree', 'border_count': 512, 'auto_class_weight': None}. Best is trial 42 with value: 0.8011654462821278.\n",
      "/var/folders/_k/vxqnb8117qb_1tpg9p98mtyc0000gn/T/ipykernel_9428/1751210426.py:7: FutureWarning: suggest_loguniform has been deprecated in v3.0.0. This feature will be removed in v6.0.0. See https://github.com/optuna/optuna/releases/tag/v3.0.0. Use suggest_float(..., log=True) instead.\n",
      "  \"l2_leaf_reg\": trial.suggest_loguniform('l2_leaf_reg', 1e-2, 10),\n",
      "[I 2025-04-07 15:05:14,877] Trial 45 finished with value: 0.8010679561997079 and parameters: {'n_estimators': 1303, 'learning_rate': 0.017541169103253602, 'objective': 'Logloss', 'depth': 3, 'l2_leaf_reg': 0.04309383150911802, 'colsample_bylevel': 0.9342865296144738, 'min_child_samples': 100.0, 'grow_policy': 'SymmetricTree', 'border_count': 512, 'auto_class_weight': None}. Best is trial 42 with value: 0.8011654462821278.\n",
      "/var/folders/_k/vxqnb8117qb_1tpg9p98mtyc0000gn/T/ipykernel_9428/1751210426.py:7: FutureWarning: suggest_loguniform has been deprecated in v3.0.0. This feature will be removed in v6.0.0. See https://github.com/optuna/optuna/releases/tag/v3.0.0. Use suggest_float(..., log=True) instead.\n",
      "  \"l2_leaf_reg\": trial.suggest_loguniform('l2_leaf_reg', 1e-2, 10),\n",
      "[I 2025-04-07 15:05:17,479] Trial 46 finished with value: 0.8011713442586443 and parameters: {'n_estimators': 1088, 'learning_rate': 0.021400864295179046, 'objective': 'Logloss', 'depth': 3, 'l2_leaf_reg': 0.014749700529250148, 'colsample_bylevel': 0.9421015683738302, 'min_child_samples': 100.0, 'grow_policy': 'SymmetricTree', 'border_count': 512, 'auto_class_weight': None}. Best is trial 46 with value: 0.8011713442586443.\n",
      "/var/folders/_k/vxqnb8117qb_1tpg9p98mtyc0000gn/T/ipykernel_9428/1751210426.py:7: FutureWarning: suggest_loguniform has been deprecated in v3.0.0. This feature will be removed in v6.0.0. See https://github.com/optuna/optuna/releases/tag/v3.0.0. Use suggest_float(..., log=True) instead.\n",
      "  \"l2_leaf_reg\": trial.suggest_loguniform('l2_leaf_reg', 1e-2, 10),\n",
      "[I 2025-04-07 15:05:19,732] Trial 47 finished with value: 0.800898863866049 and parameters: {'n_estimators': 1099, 'learning_rate': 0.02810932166051746, 'objective': 'Logloss', 'depth': 3, 'l2_leaf_reg': 0.014672559865414788, 'colsample_bylevel': 0.9473871969126658, 'min_child_samples': 800.0, 'grow_policy': 'SymmetricTree', 'border_count': 512, 'auto_class_weight': None}. Best is trial 46 with value: 0.8011713442586443.\n",
      "/var/folders/_k/vxqnb8117qb_1tpg9p98mtyc0000gn/T/ipykernel_9428/1751210426.py:7: FutureWarning: suggest_loguniform has been deprecated in v3.0.0. This feature will be removed in v6.0.0. See https://github.com/optuna/optuna/releases/tag/v3.0.0. Use suggest_float(..., log=True) instead.\n",
      "  \"l2_leaf_reg\": trial.suggest_loguniform('l2_leaf_reg', 1e-2, 10),\n",
      "[I 2025-04-07 15:05:21,836] Trial 48 finished with value: 0.8009185680055877 and parameters: {'n_estimators': 1422, 'learning_rate': 0.037090240031974954, 'objective': 'Logloss', 'depth': 3, 'l2_leaf_reg': 0.027256626803088917, 'colsample_bylevel': 0.8951189718318602, 'min_child_samples': 200.0, 'grow_policy': 'SymmetricTree', 'border_count': 512, 'auto_class_weight': None}. Best is trial 46 with value: 0.8011713442586443.\n",
      "/var/folders/_k/vxqnb8117qb_1tpg9p98mtyc0000gn/T/ipykernel_9428/1751210426.py:7: FutureWarning: suggest_loguniform has been deprecated in v3.0.0. This feature will be removed in v6.0.0. See https://github.com/optuna/optuna/releases/tag/v3.0.0. Use suggest_float(..., log=True) instead.\n",
      "  \"l2_leaf_reg\": trial.suggest_loguniform('l2_leaf_reg', 1e-2, 10),\n",
      "[I 2025-04-07 15:05:25,909] Trial 49 finished with value: 0.8010758643862136 and parameters: {'n_estimators': 1237, 'learning_rate': 0.013119804799219106, 'objective': 'Logloss', 'depth': 4, 'l2_leaf_reg': 0.01643141179645219, 'colsample_bylevel': 0.9620419178798949, 'min_child_samples': 100.0, 'grow_policy': 'SymmetricTree', 'border_count': 512, 'auto_class_weight': None}. Best is trial 46 with value: 0.8011713442586443.\n",
      "/var/folders/_k/vxqnb8117qb_1tpg9p98mtyc0000gn/T/ipykernel_9428/1751210426.py:7: FutureWarning: suggest_loguniform has been deprecated in v3.0.0. This feature will be removed in v6.0.0. See https://github.com/optuna/optuna/releases/tag/v3.0.0. Use suggest_float(..., log=True) instead.\n",
      "  \"l2_leaf_reg\": trial.suggest_loguniform('l2_leaf_reg', 1e-2, 10),\n",
      "[I 2025-04-07 15:05:27,165] Trial 50 finished with value: 0.8010777419427517 and parameters: {'n_estimators': 1111, 'learning_rate': 0.06745285486891825, 'objective': 'Logloss', 'depth': 3, 'l2_leaf_reg': 0.034628033381543126, 'colsample_bylevel': 0.9928484437945999, 'min_child_samples': 200.0, 'grow_policy': 'SymmetricTree', 'border_count': 512, 'auto_class_weight': None}. Best is trial 46 with value: 0.8011713442586443.\n",
      "/var/folders/_k/vxqnb8117qb_1tpg9p98mtyc0000gn/T/ipykernel_9428/1751210426.py:7: FutureWarning: suggest_loguniform has been deprecated in v3.0.0. This feature will be removed in v6.0.0. See https://github.com/optuna/optuna/releases/tag/v3.0.0. Use suggest_float(..., log=True) instead.\n",
      "  \"l2_leaf_reg\": trial.suggest_loguniform('l2_leaf_reg', 1e-2, 10),\n",
      "[I 2025-04-07 15:05:29,523] Trial 51 finished with value: 0.8011308849560701 and parameters: {'n_estimators': 1116, 'learning_rate': 0.030567124139364334, 'objective': 'Logloss', 'depth': 3, 'l2_leaf_reg': 0.032500668067210234, 'colsample_bylevel': 0.9882848938476521, 'min_child_samples': 100.0, 'grow_policy': 'SymmetricTree', 'border_count': 512, 'auto_class_weight': None}. Best is trial 46 with value: 0.8011713442586443.\n",
      "/var/folders/_k/vxqnb8117qb_1tpg9p98mtyc0000gn/T/ipykernel_9428/1751210426.py:7: FutureWarning: suggest_loguniform has been deprecated in v3.0.0. This feature will be removed in v6.0.0. See https://github.com/optuna/optuna/releases/tag/v3.0.0. Use suggest_float(..., log=True) instead.\n",
      "  \"l2_leaf_reg\": trial.suggest_loguniform('l2_leaf_reg', 1e-2, 10),\n",
      "[I 2025-04-07 15:05:31,617] Trial 52 finished with value: 0.8008412922682875 and parameters: {'n_estimators': 1022, 'learning_rate': 0.030425397586618243, 'objective': 'Logloss', 'depth': 3, 'l2_leaf_reg': 0.05528581370336368, 'colsample_bylevel': 0.9040487438601313, 'min_child_samples': 100.0, 'grow_policy': 'SymmetricTree', 'border_count': 512, 'auto_class_weight': None}. Best is trial 46 with value: 0.8011713442586443.\n",
      "/var/folders/_k/vxqnb8117qb_1tpg9p98mtyc0000gn/T/ipykernel_9428/1751210426.py:7: FutureWarning: suggest_loguniform has been deprecated in v3.0.0. This feature will be removed in v6.0.0. See https://github.com/optuna/optuna/releases/tag/v3.0.0. Use suggest_float(..., log=True) instead.\n",
      "  \"l2_leaf_reg\": trial.suggest_loguniform('l2_leaf_reg', 1e-2, 10),\n",
      "[I 2025-04-07 15:05:34,882] Trial 53 finished with value: 0.800755751200575 and parameters: {'n_estimators': 1355, 'learning_rate': 0.04215346205688775, 'objective': 'Logloss', 'depth': 4, 'l2_leaf_reg': 0.013667772623527433, 'colsample_bylevel': 0.14018051887515093, 'min_child_samples': 100.0, 'grow_policy': 'SymmetricTree', 'border_count': 512, 'auto_class_weight': None}. Best is trial 46 with value: 0.8011713442586443.\n",
      "/var/folders/_k/vxqnb8117qb_1tpg9p98mtyc0000gn/T/ipykernel_9428/1751210426.py:7: FutureWarning: suggest_loguniform has been deprecated in v3.0.0. This feature will be removed in v6.0.0. See https://github.com/optuna/optuna/releases/tag/v3.0.0. Use suggest_float(..., log=True) instead.\n",
      "  \"l2_leaf_reg\": trial.suggest_loguniform('l2_leaf_reg', 1e-2, 10),\n",
      "[I 2025-04-07 15:05:36,174] Trial 54 finished with value: 0.8009827314594556 and parameters: {'n_estimators': 1214, 'learning_rate': 0.06089126223405232, 'objective': 'Logloss', 'depth': 3, 'l2_leaf_reg': 0.020678488705753627, 'colsample_bylevel': 0.881217114730985, 'min_child_samples': 200.0, 'grow_policy': 'SymmetricTree', 'border_count': 512, 'auto_class_weight': None}. Best is trial 46 with value: 0.8011713442586443.\n",
      "/var/folders/_k/vxqnb8117qb_1tpg9p98mtyc0000gn/T/ipykernel_9428/1751210426.py:7: FutureWarning: suggest_loguniform has been deprecated in v3.0.0. This feature will be removed in v6.0.0. See https://github.com/optuna/optuna/releases/tag/v3.0.0. Use suggest_float(..., log=True) instead.\n",
      "  \"l2_leaf_reg\": trial.suggest_loguniform('l2_leaf_reg', 1e-2, 10),\n",
      "[I 2025-04-07 15:05:38,562] Trial 55 finished with value: 0.8008513841346798 and parameters: {'n_estimators': 1145, 'learning_rate': 0.025491162766466454, 'objective': 'Logloss', 'depth': 4, 'l2_leaf_reg': 0.056494710025782165, 'colsample_bylevel': 0.9974200873275817, 'min_child_samples': 100.0, 'grow_policy': 'SymmetricTree', 'border_count': 128, 'auto_class_weight': None}. Best is trial 46 with value: 0.8011713442586443.\n",
      "/var/folders/_k/vxqnb8117qb_1tpg9p98mtyc0000gn/T/ipykernel_9428/1751210426.py:7: FutureWarning: suggest_loguniform has been deprecated in v3.0.0. This feature will be removed in v6.0.0. See https://github.com/optuna/optuna/releases/tag/v3.0.0. Use suggest_float(..., log=True) instead.\n",
      "  \"l2_leaf_reg\": trial.suggest_loguniform('l2_leaf_reg', 1e-2, 10),\n",
      "[I 2025-04-07 15:05:39,564] Trial 56 finished with value: 0.800783751282861 and parameters: {'n_estimators': 1031, 'learning_rate': 0.08600245321895066, 'objective': 'Logloss', 'depth': 3, 'l2_leaf_reg': 0.030316441630935016, 'colsample_bylevel': 0.7713999174661221, 'min_child_samples': 200.0, 'grow_policy': 'SymmetricTree', 'border_count': 512, 'auto_class_weight': None}. Best is trial 46 with value: 0.8011713442586443.\n",
      "/var/folders/_k/vxqnb8117qb_1tpg9p98mtyc0000gn/T/ipykernel_9428/1751210426.py:7: FutureWarning: suggest_loguniform has been deprecated in v3.0.0. This feature will be removed in v6.0.0. See https://github.com/optuna/optuna/releases/tag/v3.0.0. Use suggest_float(..., log=True) instead.\n",
      "  \"l2_leaf_reg\": trial.suggest_loguniform('l2_leaf_reg', 1e-2, 10),\n",
      "[I 2025-04-07 15:05:42,259] Trial 57 finished with value: 0.8005029035187369 and parameters: {'n_estimators': 941, 'learning_rate': 0.01121348260201252, 'objective': 'Logloss', 'depth': 3, 'l2_leaf_reg': 0.02163864655963466, 'colsample_bylevel': 0.9404161820142627, 'min_child_samples': 100.0, 'grow_policy': 'SymmetricTree', 'border_count': 512, 'auto_class_weight': None}. Best is trial 46 with value: 0.8011713442586443.\n",
      "/var/folders/_k/vxqnb8117qb_1tpg9p98mtyc0000gn/T/ipykernel_9428/1751210426.py:7: FutureWarning: suggest_loguniform has been deprecated in v3.0.0. This feature will be removed in v6.0.0. See https://github.com/optuna/optuna/releases/tag/v3.0.0. Use suggest_float(..., log=True) instead.\n",
      "  \"l2_leaf_reg\": trial.suggest_loguniform('l2_leaf_reg', 1e-2, 10),\n",
      "[I 2025-04-07 15:05:43,783] Trial 58 finished with value: 0.8007130265852209 and parameters: {'n_estimators': 1548, 'learning_rate': 0.03790304318724366, 'objective': 'Logloss', 'depth': 4, 'l2_leaf_reg': 0.03995263970318713, 'colsample_bylevel': 0.9296972751282861, 'min_child_samples': 200.0, 'grow_policy': 'SymmetricTree', 'border_count': 512, 'auto_class_weight': None}. Best is trial 46 with value: 0.8011713442586443.\n",
      "/var/folders/_k/vxqnb8117qb_1tpg9p98mtyc0000gn/T/ipykernel_9428/1751210426.py:7: FutureWarning: suggest_loguniform has been deprecated in v3.0.0. This feature will be removed in v6.0.0. See https://github.com/optuna/optuna/releases/tag/v3.0.0. Use suggest_float(..., log=True) instead.\n",
      "  \"l2_leaf_reg\": trial.suggest_loguniform('l2_leaf_reg', 1e-2, 10),\n",
      "[I 2025-04-07 15:05:44,862] Trial 59 finished with value: 0.8012710282250626 and parameters: {'n_estimators': 1356, 'learning_rate': 0.06592013794239678, 'objective': 'Logloss', 'depth': 3, 'l2_leaf_reg': 0.010615433644161187, 'colsample_bylevel': 0.8430228322256424, 'min_child_samples': 100.0, 'grow_policy': 'SymmetricTree', 'border_count': 512, 'auto_class_weight': None}. Best is trial 59 with value: 0.8012710282250626.\n",
      "/var/folders/_k/vxqnb8117qb_1tpg9p98mtyc0000gn/T/ipykernel_9428/1751210426.py:7: FutureWarning: suggest_loguniform has been deprecated in v3.0.0. This feature will be removed in v6.0.0. See https://github.com/optuna/optuna/releases/tag/v3.0.0. Use suggest_float(..., log=True) instead.\n",
      "  \"l2_leaf_reg\": trial.suggest_loguniform('l2_leaf_reg', 1e-2, 10),\n",
      "[I 2025-04-07 15:05:45,608] Trial 60 finished with value: 0.8005820874249101 and parameters: {'n_estimators': 1377, 'learning_rate': 0.09092243502303454, 'objective': 'Logloss', 'depth': 4, 'l2_leaf_reg': 0.011441316769131517, 'colsample_bylevel': 0.8453708514862076, 'min_child_samples': 200.0, 'grow_policy': 'SymmetricTree', 'border_count': 512, 'auto_class_weight': None}. Best is trial 59 with value: 0.8012710282250626.\n",
      "/var/folders/_k/vxqnb8117qb_1tpg9p98mtyc0000gn/T/ipykernel_9428/1751210426.py:7: FutureWarning: suggest_loguniform has been deprecated in v3.0.0. This feature will be removed in v6.0.0. See https://github.com/optuna/optuna/releases/tag/v3.0.0. Use suggest_float(..., log=True) instead.\n",
      "  \"l2_leaf_reg\": trial.suggest_loguniform('l2_leaf_reg', 1e-2, 10),\n",
      "[I 2025-04-07 15:05:46,568] Trial 61 finished with value: 0.8008534861816736 and parameters: {'n_estimators': 1258, 'learning_rate': 0.07114852350032544, 'objective': 'Logloss', 'depth': 3, 'l2_leaf_reg': 0.010348685242083946, 'colsample_bylevel': 0.9671546916590654, 'min_child_samples': 100.0, 'grow_policy': 'SymmetricTree', 'border_count': 512, 'auto_class_weight': None}. Best is trial 59 with value: 0.8012710282250626.\n",
      "/var/folders/_k/vxqnb8117qb_1tpg9p98mtyc0000gn/T/ipykernel_9428/1751210426.py:7: FutureWarning: suggest_loguniform has been deprecated in v3.0.0. This feature will be removed in v6.0.0. See https://github.com/optuna/optuna/releases/tag/v3.0.0. Use suggest_float(..., log=True) instead.\n",
      "  \"l2_leaf_reg\": trial.suggest_loguniform('l2_leaf_reg', 1e-2, 10),\n",
      "[I 2025-04-07 15:05:49,644] Trial 62 finished with value: 0.8009881396386145 and parameters: {'n_estimators': 1169, 'learning_rate': 0.02170185716518272, 'objective': 'Logloss', 'depth': 3, 'l2_leaf_reg': 0.016110326094040273, 'colsample_bylevel': 0.8881120789537928, 'min_child_samples': 100.0, 'grow_policy': 'SymmetricTree', 'border_count': 512, 'auto_class_weight': None}. Best is trial 59 with value: 0.8012710282250626.\n",
      "/var/folders/_k/vxqnb8117qb_1tpg9p98mtyc0000gn/T/ipykernel_9428/1751210426.py:7: FutureWarning: suggest_loguniform has been deprecated in v3.0.0. This feature will be removed in v6.0.0. See https://github.com/optuna/optuna/releases/tag/v3.0.0. Use suggest_float(..., log=True) instead.\n",
      "  \"l2_leaf_reg\": trial.suggest_loguniform('l2_leaf_reg', 1e-2, 10),\n",
      "[I 2025-04-07 15:05:50,837] Trial 63 finished with value: 0.8009289251788823 and parameters: {'n_estimators': 1483, 'learning_rate': 0.06258302800319188, 'objective': 'Logloss', 'depth': 3, 'l2_leaf_reg': 0.023784462688586736, 'colsample_bylevel': 0.7779299732491896, 'min_child_samples': 100.0, 'grow_policy': 'SymmetricTree', 'border_count': 512, 'auto_class_weight': None}. Best is trial 59 with value: 0.8012710282250626.\n",
      "/var/folders/_k/vxqnb8117qb_1tpg9p98mtyc0000gn/T/ipykernel_9428/1751210426.py:7: FutureWarning: suggest_loguniform has been deprecated in v3.0.0. This feature will be removed in v6.0.0. See https://github.com/optuna/optuna/releases/tag/v3.0.0. Use suggest_float(..., log=True) instead.\n",
      "  \"l2_leaf_reg\": trial.suggest_loguniform('l2_leaf_reg', 1e-2, 10),\n",
      "[I 2025-04-07 15:05:52,257] Trial 64 finished with value: 0.8009183129027971 and parameters: {'n_estimators': 1315, 'learning_rate': 0.05014032990799365, 'objective': 'Logloss', 'depth': 3, 'l2_leaf_reg': 0.047345981290286214, 'colsample_bylevel': 0.9134693496269717, 'min_child_samples': 200.0, 'grow_policy': 'SymmetricTree', 'border_count': 512, 'auto_class_weight': None}. Best is trial 59 with value: 0.8012710282250626.\n",
      "/var/folders/_k/vxqnb8117qb_1tpg9p98mtyc0000gn/T/ipykernel_9428/1751210426.py:7: FutureWarning: suggest_loguniform has been deprecated in v3.0.0. This feature will be removed in v6.0.0. See https://github.com/optuna/optuna/releases/tag/v3.0.0. Use suggest_float(..., log=True) instead.\n",
      "  \"l2_leaf_reg\": trial.suggest_loguniform('l2_leaf_reg', 1e-2, 10),\n",
      "[I 2025-04-07 15:05:53,693] Trial 65 finished with value: 0.8005744955658646 and parameters: {'n_estimators': 871, 'learning_rate': 0.0387602771996889, 'objective': 'Logloss', 'depth': 4, 'l2_leaf_reg': 0.029199782067998514, 'colsample_bylevel': 0.83842156201303, 'min_child_samples': 100.0, 'grow_policy': 'SymmetricTree', 'border_count': 512, 'auto_class_weight': None}. Best is trial 59 with value: 0.8012710282250626.\n",
      "/var/folders/_k/vxqnb8117qb_1tpg9p98mtyc0000gn/T/ipykernel_9428/1751210426.py:7: FutureWarning: suggest_loguniform has been deprecated in v3.0.0. This feature will be removed in v6.0.0. See https://github.com/optuna/optuna/releases/tag/v3.0.0. Use suggest_float(..., log=True) instead.\n",
      "  \"l2_leaf_reg\": trial.suggest_loguniform('l2_leaf_reg', 1e-2, 10),\n",
      "[I 2025-04-07 15:05:55,645] Trial 66 finished with value: 0.8011584258533331 and parameters: {'n_estimators': 1409, 'learning_rate': 0.03384362591480554, 'objective': 'Logloss', 'depth': 3, 'l2_leaf_reg': 0.06583601613770974, 'colsample_bylevel': 0.957030702986236, 'min_child_samples': 100.0, 'grow_policy': 'SymmetricTree', 'border_count': 512, 'auto_class_weight': None}. Best is trial 59 with value: 0.8012710282250626.\n",
      "/var/folders/_k/vxqnb8117qb_1tpg9p98mtyc0000gn/T/ipykernel_9428/1751210426.py:7: FutureWarning: suggest_loguniform has been deprecated in v3.0.0. This feature will be removed in v6.0.0. See https://github.com/optuna/optuna/releases/tag/v3.0.0. Use suggest_float(..., log=True) instead.\n",
      "  \"l2_leaf_reg\": trial.suggest_loguniform('l2_leaf_reg', 1e-2, 10),\n",
      "[I 2025-04-07 15:05:56,504] Trial 67 finished with value: 0.8013319059549888 and parameters: {'n_estimators': 1634, 'learning_rate': 0.07987105058018222, 'objective': 'Logloss', 'depth': 4, 'l2_leaf_reg': 0.060148694819453674, 'colsample_bylevel': 0.972826041736761, 'min_child_samples': 200.0, 'grow_policy': 'SymmetricTree', 'border_count': 128, 'auto_class_weight': None}. Best is trial 67 with value: 0.8013319059549888.\n",
      "/var/folders/_k/vxqnb8117qb_1tpg9p98mtyc0000gn/T/ipykernel_9428/1751210426.py:7: FutureWarning: suggest_loguniform has been deprecated in v3.0.0. This feature will be removed in v6.0.0. See https://github.com/optuna/optuna/releases/tag/v3.0.0. Use suggest_float(..., log=True) instead.\n",
      "  \"l2_leaf_reg\": trial.suggest_loguniform('l2_leaf_reg', 1e-2, 10),\n",
      "[I 2025-04-07 15:05:57,348] Trial 68 finished with value: 0.8006359855424882 and parameters: {'n_estimators': 1621, 'learning_rate': 0.07527906814730788, 'objective': 'Logloss', 'depth': 4, 'l2_leaf_reg': 0.15089686585923962, 'colsample_bylevel': 0.9672344456939593, 'min_child_samples': 900.0, 'grow_policy': 'SymmetricTree', 'border_count': 128, 'auto_class_weight': None}. Best is trial 67 with value: 0.8013319059549888.\n",
      "/var/folders/_k/vxqnb8117qb_1tpg9p98mtyc0000gn/T/ipykernel_9428/1751210426.py:7: FutureWarning: suggest_loguniform has been deprecated in v3.0.0. This feature will be removed in v6.0.0. See https://github.com/optuna/optuna/releases/tag/v3.0.0. Use suggest_float(..., log=True) instead.\n",
      "  \"l2_leaf_reg\": trial.suggest_loguniform('l2_leaf_reg', 1e-2, 10),\n",
      "[I 2025-04-07 15:05:58,235] Trial 69 finished with value: 0.8007358633870272 and parameters: {'n_estimators': 1724, 'learning_rate': 0.08535847845261105, 'objective': 'Logloss', 'depth': 4, 'l2_leaf_reg': 0.06568822309902185, 'colsample_bylevel': 0.8799637904886319, 'min_child_samples': 200.0, 'grow_policy': 'SymmetricTree', 'border_count': 128, 'auto_class_weight': None}. Best is trial 67 with value: 0.8013319059549888.\n",
      "/var/folders/_k/vxqnb8117qb_1tpg9p98mtyc0000gn/T/ipykernel_9428/1751210426.py:7: FutureWarning: suggest_loguniform has been deprecated in v3.0.0. This feature will be removed in v6.0.0. See https://github.com/optuna/optuna/releases/tag/v3.0.0. Use suggest_float(..., log=True) instead.\n",
      "  \"l2_leaf_reg\": trial.suggest_loguniform('l2_leaf_reg', 1e-2, 10),\n",
      "[I 2025-04-07 15:05:59,178] Trial 70 finished with value: 0.801327661044555 and parameters: {'n_estimators': 1706, 'learning_rate': 0.0931120168582153, 'objective': 'Logloss', 'depth': 3, 'l2_leaf_reg': 0.09875716028351703, 'colsample_bylevel': 0.9734001679718888, 'min_child_samples': 200.0, 'grow_policy': 'SymmetricTree', 'border_count': 128, 'auto_class_weight': 'Balanced'}. Best is trial 67 with value: 0.8013319059549888.\n",
      "/var/folders/_k/vxqnb8117qb_1tpg9p98mtyc0000gn/T/ipykernel_9428/1751210426.py:7: FutureWarning: suggest_loguniform has been deprecated in v3.0.0. This feature will be removed in v6.0.0. See https://github.com/optuna/optuna/releases/tag/v3.0.0. Use suggest_float(..., log=True) instead.\n",
      "  \"l2_leaf_reg\": trial.suggest_loguniform('l2_leaf_reg', 1e-2, 10),\n",
      "[I 2025-04-07 15:05:59,946] Trial 71 finished with value: 0.8013498447832174 and parameters: {'n_estimators': 1676, 'learning_rate': 0.12327429547278076, 'objective': 'Logloss', 'depth': 3, 'l2_leaf_reg': 0.09090891382572822, 'colsample_bylevel': 0.9933333234871062, 'min_child_samples': 200.0, 'grow_policy': 'SymmetricTree', 'border_count': 128, 'auto_class_weight': 'Balanced'}. Best is trial 71 with value: 0.8013498447832174.\n",
      "/var/folders/_k/vxqnb8117qb_1tpg9p98mtyc0000gn/T/ipykernel_9428/1751210426.py:7: FutureWarning: suggest_loguniform has been deprecated in v3.0.0. This feature will be removed in v6.0.0. See https://github.com/optuna/optuna/releases/tag/v3.0.0. Use suggest_float(..., log=True) instead.\n",
      "  \"l2_leaf_reg\": trial.suggest_loguniform('l2_leaf_reg', 1e-2, 10),\n",
      "[I 2025-04-07 15:06:00,814] Trial 72 finished with value: 0.8013236916451346 and parameters: {'n_estimators': 1748, 'learning_rate': 0.1216076206515726, 'objective': 'Logloss', 'depth': 3, 'l2_leaf_reg': 0.25354706186557713, 'colsample_bylevel': 0.9435610320959557, 'min_child_samples': 300.0, 'grow_policy': 'SymmetricTree', 'border_count': 128, 'auto_class_weight': 'Balanced'}. Best is trial 71 with value: 0.8013498447832174.\n",
      "/var/folders/_k/vxqnb8117qb_1tpg9p98mtyc0000gn/T/ipykernel_9428/1751210426.py:7: FutureWarning: suggest_loguniform has been deprecated in v3.0.0. This feature will be removed in v6.0.0. See https://github.com/optuna/optuna/releases/tag/v3.0.0. Use suggest_float(..., log=True) instead.\n",
      "  \"l2_leaf_reg\": trial.suggest_loguniform('l2_leaf_reg', 1e-2, 10),\n",
      "[I 2025-04-07 15:06:01,667] Trial 73 finished with value: 0.8010102315402723 and parameters: {'n_estimators': 1728, 'learning_rate': 0.11549049628662425, 'objective': 'Logloss', 'depth': 3, 'l2_leaf_reg': 0.09443321808385988, 'colsample_bylevel': 0.9566633361862074, 'min_child_samples': 300.0, 'grow_policy': 'SymmetricTree', 'border_count': 128, 'auto_class_weight': 'Balanced'}. Best is trial 71 with value: 0.8013498447832174.\n",
      "/var/folders/_k/vxqnb8117qb_1tpg9p98mtyc0000gn/T/ipykernel_9428/1751210426.py:7: FutureWarning: suggest_loguniform has been deprecated in v3.0.0. This feature will be removed in v6.0.0. See https://github.com/optuna/optuna/releases/tag/v3.0.0. Use suggest_float(..., log=True) instead.\n",
      "  \"l2_leaf_reg\": trial.suggest_loguniform('l2_leaf_reg', 1e-2, 10),\n",
      "[I 2025-04-07 15:06:02,530] Trial 74 finished with value: 0.8006258732678725 and parameters: {'n_estimators': 1773, 'learning_rate': 0.12767679919938688, 'objective': 'Logloss', 'depth': 4, 'l2_leaf_reg': 0.2065828790757983, 'colsample_bylevel': 0.9713276604558263, 'min_child_samples': 300.0, 'grow_policy': 'SymmetricTree', 'border_count': 128, 'auto_class_weight': 'Balanced'}. Best is trial 71 with value: 0.8013498447832174.\n",
      "/var/folders/_k/vxqnb8117qb_1tpg9p98mtyc0000gn/T/ipykernel_9428/1751210426.py:7: FutureWarning: suggest_loguniform has been deprecated in v3.0.0. This feature will be removed in v6.0.0. See https://github.com/optuna/optuna/releases/tag/v3.0.0. Use suggest_float(..., log=True) instead.\n",
      "  \"l2_leaf_reg\": trial.suggest_loguniform('l2_leaf_reg', 1e-2, 10),\n",
      "[I 2025-04-07 15:06:03,310] Trial 75 finished with value: 0.8014578553047176 and parameters: {'n_estimators': 1907, 'learning_rate': 0.14037737973641232, 'objective': 'Logloss', 'depth': 3, 'l2_leaf_reg': 0.3792278070515911, 'colsample_bylevel': 0.9954179036622822, 'min_child_samples': 200.0, 'grow_policy': 'SymmetricTree', 'border_count': 128, 'auto_class_weight': 'Balanced'}. Best is trial 75 with value: 0.8014578553047176.\n",
      "/var/folders/_k/vxqnb8117qb_1tpg9p98mtyc0000gn/T/ipykernel_9428/1751210426.py:7: FutureWarning: suggest_loguniform has been deprecated in v3.0.0. This feature will be removed in v6.0.0. See https://github.com/optuna/optuna/releases/tag/v3.0.0. Use suggest_float(..., log=True) instead.\n",
      "  \"l2_leaf_reg\": trial.suggest_loguniform('l2_leaf_reg', 1e-2, 10),\n",
      "[I 2025-04-07 15:06:04,059] Trial 76 finished with value: 0.7980284166549387 and parameters: {'n_estimators': 1939, 'learning_rate': 0.12117105173264286, 'objective': 'Logloss', 'depth': 10, 'l2_leaf_reg': 0.3903390249296575, 'colsample_bylevel': 0.998557134098008, 'min_child_samples': 200.0, 'grow_policy': 'SymmetricTree', 'border_count': 128, 'auto_class_weight': 'Balanced'}. Best is trial 75 with value: 0.8014578553047176.\n",
      "/var/folders/_k/vxqnb8117qb_1tpg9p98mtyc0000gn/T/ipykernel_9428/1751210426.py:7: FutureWarning: suggest_loguniform has been deprecated in v3.0.0. This feature will be removed in v6.0.0. See https://github.com/optuna/optuna/releases/tag/v3.0.0. Use suggest_float(..., log=True) instead.\n",
      "  \"l2_leaf_reg\": trial.suggest_loguniform('l2_leaf_reg', 1e-2, 10),\n",
      "[I 2025-04-07 15:06:04,757] Trial 77 finished with value: 0.8008071186984712 and parameters: {'n_estimators': 1897, 'learning_rate': 0.14984261446874944, 'objective': 'Logloss', 'depth': 3, 'l2_leaf_reg': 0.22253751605609084, 'colsample_bylevel': 0.8644380340161361, 'min_child_samples': 300.0, 'grow_policy': 'SymmetricTree', 'border_count': 128, 'auto_class_weight': 'Balanced'}. Best is trial 75 with value: 0.8014578553047176.\n",
      "/var/folders/_k/vxqnb8117qb_1tpg9p98mtyc0000gn/T/ipykernel_9428/1751210426.py:7: FutureWarning: suggest_loguniform has been deprecated in v3.0.0. This feature will be removed in v6.0.0. See https://github.com/optuna/optuna/releases/tag/v3.0.0. Use suggest_float(..., log=True) instead.\n",
      "  \"l2_leaf_reg\": trial.suggest_loguniform('l2_leaf_reg', 1e-2, 10),\n",
      "[I 2025-04-07 15:06:05,565] Trial 78 finished with value: 0.8011062828429536 and parameters: {'n_estimators': 1843, 'learning_rate': 0.10167456172563548, 'objective': 'Logloss', 'depth': 4, 'l2_leaf_reg': 0.2628582420361876, 'colsample_bylevel': 0.9078026805488814, 'min_child_samples': 400.0, 'grow_policy': 'SymmetricTree', 'border_count': 128, 'auto_class_weight': 'Balanced'}. Best is trial 75 with value: 0.8014578553047176.\n",
      "/var/folders/_k/vxqnb8117qb_1tpg9p98mtyc0000gn/T/ipykernel_9428/1751210426.py:7: FutureWarning: suggest_loguniform has been deprecated in v3.0.0. This feature will be removed in v6.0.0. See https://github.com/optuna/optuna/releases/tag/v3.0.0. Use suggest_float(..., log=True) instead.\n",
      "  \"l2_leaf_reg\": trial.suggest_loguniform('l2_leaf_reg', 1e-2, 10),\n",
      "[I 2025-04-07 15:06:06,595] Trial 79 finished with value: 0.8009758640923352 and parameters: {'n_estimators': 1659, 'learning_rate': 0.14023657933231143, 'objective': 'Logloss', 'depth': 3, 'l2_leaf_reg': 0.7768319187756667, 'colsample_bylevel': 0.38585870761235896, 'min_child_samples': 200.0, 'grow_policy': 'SymmetricTree', 'border_count': 128, 'auto_class_weight': 'Balanced'}. Best is trial 75 with value: 0.8014578553047176.\n",
      "/var/folders/_k/vxqnb8117qb_1tpg9p98mtyc0000gn/T/ipykernel_9428/1751210426.py:7: FutureWarning: suggest_loguniform has been deprecated in v3.0.0. This feature will be removed in v6.0.0. See https://github.com/optuna/optuna/releases/tag/v3.0.0. Use suggest_float(..., log=True) instead.\n",
      "  \"l2_leaf_reg\": trial.suggest_loguniform('l2_leaf_reg', 1e-2, 10),\n",
      "[I 2025-04-07 15:06:07,325] Trial 80 finished with value: 0.8009483333991839 and parameters: {'n_estimators': 1791, 'learning_rate': 0.1121402694611639, 'objective': 'Logloss', 'depth': 4, 'l2_leaf_reg': 0.1274217290316245, 'colsample_bylevel': 0.9327063893979675, 'min_child_samples': 300.0, 'grow_policy': 'SymmetricTree', 'border_count': 128, 'auto_class_weight': 'Balanced'}. Best is trial 75 with value: 0.8014578553047176.\n",
      "/var/folders/_k/vxqnb8117qb_1tpg9p98mtyc0000gn/T/ipykernel_9428/1751210426.py:7: FutureWarning: suggest_loguniform has been deprecated in v3.0.0. This feature will be removed in v6.0.0. See https://github.com/optuna/optuna/releases/tag/v3.0.0. Use suggest_float(..., log=True) instead.\n",
      "  \"l2_leaf_reg\": trial.suggest_loguniform('l2_leaf_reg', 1e-2, 10),\n",
      "[I 2025-04-07 15:06:08,188] Trial 81 finished with value: 0.801235201589164 and parameters: {'n_estimators': 1877, 'learning_rate': 0.13303715680720252, 'objective': 'Logloss', 'depth': 3, 'l2_leaf_reg': 0.40527312335525795, 'colsample_bylevel': 0.9521951652637045, 'min_child_samples': 200.0, 'grow_policy': 'SymmetricTree', 'border_count': 128, 'auto_class_weight': 'Balanced'}. Best is trial 75 with value: 0.8014578553047176.\n",
      "/var/folders/_k/vxqnb8117qb_1tpg9p98mtyc0000gn/T/ipykernel_9428/1751210426.py:7: FutureWarning: suggest_loguniform has been deprecated in v3.0.0. This feature will be removed in v6.0.0. See https://github.com/optuna/optuna/releases/tag/v3.0.0. Use suggest_float(..., log=True) instead.\n",
      "  \"l2_leaf_reg\": trial.suggest_loguniform('l2_leaf_reg', 1e-2, 10),\n",
      "[I 2025-04-07 15:06:08,907] Trial 82 finished with value: 0.8014663247173623 and parameters: {'n_estimators': 1887, 'learning_rate': 0.1313776693380074, 'objective': 'Logloss', 'depth': 3, 'l2_leaf_reg': 0.43617823939828715, 'colsample_bylevel': 0.9735819057107229, 'min_child_samples': 200.0, 'grow_policy': 'SymmetricTree', 'border_count': 128, 'auto_class_weight': 'Balanced'}. Best is trial 82 with value: 0.8014663247173623.\n",
      "/var/folders/_k/vxqnb8117qb_1tpg9p98mtyc0000gn/T/ipykernel_9428/1751210426.py:7: FutureWarning: suggest_loguniform has been deprecated in v3.0.0. This feature will be removed in v6.0.0. See https://github.com/optuna/optuna/releases/tag/v3.0.0. Use suggest_float(..., log=True) instead.\n",
      "  \"l2_leaf_reg\": trial.suggest_loguniform('l2_leaf_reg', 1e-2, 10),\n",
      "[I 2025-04-07 15:06:09,660] Trial 83 finished with value: 0.8008620270230999 and parameters: {'n_estimators': 1992, 'learning_rate': 0.15989241461109352, 'objective': 'Logloss', 'depth': 3, 'l2_leaf_reg': 0.39622599423823057, 'colsample_bylevel': 0.9756099406287192, 'min_child_samples': 200.0, 'grow_policy': 'SymmetricTree', 'border_count': 128, 'auto_class_weight': 'Balanced'}. Best is trial 82 with value: 0.8014663247173623.\n",
      "/var/folders/_k/vxqnb8117qb_1tpg9p98mtyc0000gn/T/ipykernel_9428/1751210426.py:7: FutureWarning: suggest_loguniform has been deprecated in v3.0.0. This feature will be removed in v6.0.0. See https://github.com/optuna/optuna/releases/tag/v3.0.0. Use suggest_float(..., log=True) instead.\n",
      "  \"l2_leaf_reg\": trial.suggest_loguniform('l2_leaf_reg', 1e-2, 10),\n",
      "[I 2025-04-07 15:06:10,398] Trial 84 finished with value: 0.8008439045208623 and parameters: {'n_estimators': 1890, 'learning_rate': 0.1280025443213043, 'objective': 'Logloss', 'depth': 3, 'l2_leaf_reg': 0.5773047848529629, 'colsample_bylevel': 0.9540256936358026, 'min_child_samples': 300.0, 'grow_policy': 'SymmetricTree', 'border_count': 128, 'auto_class_weight': 'Balanced'}. Best is trial 82 with value: 0.8014663247173623.\n",
      "/var/folders/_k/vxqnb8117qb_1tpg9p98mtyc0000gn/T/ipykernel_9428/1751210426.py:7: FutureWarning: suggest_loguniform has been deprecated in v3.0.0. This feature will be removed in v6.0.0. See https://github.com/optuna/optuna/releases/tag/v3.0.0. Use suggest_float(..., log=True) instead.\n",
      "  \"l2_leaf_reg\": trial.suggest_loguniform('l2_leaf_reg', 1e-2, 10),\n",
      "[I 2025-04-07 15:06:11,418] Trial 85 finished with value: 0.801090823613849 and parameters: {'n_estimators': 1752, 'learning_rate': 0.1376223144768408, 'objective': 'Logloss', 'depth': 3, 'l2_leaf_reg': 0.4410589815440591, 'colsample_bylevel': 0.8808838754375443, 'min_child_samples': 200.0, 'grow_policy': 'SymmetricTree', 'border_count': 128, 'auto_class_weight': 'Balanced'}. Best is trial 82 with value: 0.8014663247173623.\n",
      "/var/folders/_k/vxqnb8117qb_1tpg9p98mtyc0000gn/T/ipykernel_9428/1751210426.py:7: FutureWarning: suggest_loguniform has been deprecated in v3.0.0. This feature will be removed in v6.0.0. See https://github.com/optuna/optuna/releases/tag/v3.0.0. Use suggest_float(..., log=True) instead.\n",
      "  \"l2_leaf_reg\": trial.suggest_loguniform('l2_leaf_reg', 1e-2, 10),\n",
      "[I 2025-04-07 15:06:12,062] Trial 86 finished with value: 0.8011872116522138 and parameters: {'n_estimators': 1673, 'learning_rate': 0.14502549801139078, 'objective': 'Logloss', 'depth': 3, 'l2_leaf_reg': 0.7244605011375846, 'colsample_bylevel': 0.9991507465826825, 'min_child_samples': 300.0, 'grow_policy': 'SymmetricTree', 'border_count': 128, 'auto_class_weight': 'Balanced'}. Best is trial 82 with value: 0.8014663247173623.\n",
      "/var/folders/_k/vxqnb8117qb_1tpg9p98mtyc0000gn/T/ipykernel_9428/1751210426.py:7: FutureWarning: suggest_loguniform has been deprecated in v3.0.0. This feature will be removed in v6.0.0. See https://github.com/optuna/optuna/releases/tag/v3.0.0. Use suggest_float(..., log=True) instead.\n",
      "  \"l2_leaf_reg\": trial.suggest_loguniform('l2_leaf_reg', 1e-2, 10),\n",
      "[I 2025-04-07 15:06:13,139] Trial 87 finished with value: 0.8001060452096023 and parameters: {'n_estimators': 1681, 'learning_rate': 0.14608385529417034, 'objective': 'Logloss', 'depth': 3, 'l2_leaf_reg': 1.0501226703475328, 'colsample_bylevel': 0.9780692780182719, 'min_child_samples': 400.0, 'grow_policy': 'Depthwise', 'border_count': 128, 'auto_class_weight': 'Balanced'}. Best is trial 82 with value: 0.8014663247173623.\n",
      "/var/folders/_k/vxqnb8117qb_1tpg9p98mtyc0000gn/T/ipykernel_9428/1751210426.py:7: FutureWarning: suggest_loguniform has been deprecated in v3.0.0. This feature will be removed in v6.0.0. See https://github.com/optuna/optuna/releases/tag/v3.0.0. Use suggest_float(..., log=True) instead.\n",
      "  \"l2_leaf_reg\": trial.suggest_loguniform('l2_leaf_reg', 1e-2, 10),\n",
      "[I 2025-04-07 15:06:14,109] Trial 88 finished with value: 0.8009497721789223 and parameters: {'n_estimators': 1602, 'learning_rate': 0.1245980756711509, 'objective': 'Logloss', 'depth': 3, 'l2_leaf_reg': 0.7449782205464579, 'colsample_bylevel': 0.9967282869996004, 'min_child_samples': 300.0, 'grow_policy': 'SymmetricTree', 'border_count': 128, 'auto_class_weight': 'Balanced'}. Best is trial 82 with value: 0.8014663247173623.\n",
      "/var/folders/_k/vxqnb8117qb_1tpg9p98mtyc0000gn/T/ipykernel_9428/1751210426.py:7: FutureWarning: suggest_loguniform has been deprecated in v3.0.0. This feature will be removed in v6.0.0. See https://github.com/optuna/optuna/releases/tag/v3.0.0. Use suggest_float(..., log=True) instead.\n",
      "  \"l2_leaf_reg\": trial.suggest_loguniform('l2_leaf_reg', 1e-2, 10),\n",
      "[I 2025-04-07 15:06:14,723] Trial 89 finished with value: 0.8010616806710616 and parameters: {'n_estimators': 1831, 'learning_rate': 0.1352168690944905, 'objective': 'Logloss', 'depth': 4, 'l2_leaf_reg': 0.2571360763250599, 'colsample_bylevel': 0.8289619983854863, 'min_child_samples': 300.0, 'grow_policy': 'SymmetricTree', 'border_count': 128, 'auto_class_weight': 'Balanced'}. Best is trial 82 with value: 0.8014663247173623.\n",
      "/var/folders/_k/vxqnb8117qb_1tpg9p98mtyc0000gn/T/ipykernel_9428/1751210426.py:7: FutureWarning: suggest_loguniform has been deprecated in v3.0.0. This feature will be removed in v6.0.0. See https://github.com/optuna/optuna/releases/tag/v3.0.0. Use suggest_float(..., log=True) instead.\n",
      "  \"l2_leaf_reg\": trial.suggest_loguniform('l2_leaf_reg', 1e-2, 10),\n",
      "[I 2025-04-07 15:06:15,733] Trial 90 finished with value: 0.8011904259473743 and parameters: {'n_estimators': 1909, 'learning_rate': 0.10755938994377122, 'objective': 'Logloss', 'depth': 3, 'l2_leaf_reg': 0.34482646344921064, 'colsample_bylevel': 0.9014994014542803, 'min_child_samples': 400.0, 'grow_policy': 'SymmetricTree', 'border_count': 128, 'auto_class_weight': 'Balanced'}. Best is trial 82 with value: 0.8014663247173623.\n",
      "/var/folders/_k/vxqnb8117qb_1tpg9p98mtyc0000gn/T/ipykernel_9428/1751210426.py:7: FutureWarning: suggest_loguniform has been deprecated in v3.0.0. This feature will be removed in v6.0.0. See https://github.com/optuna/optuna/releases/tag/v3.0.0. Use suggest_float(..., log=True) instead.\n",
      "  \"l2_leaf_reg\": trial.suggest_loguniform('l2_leaf_reg', 1e-2, 10),\n",
      "[I 2025-04-07 15:06:16,704] Trial 91 finished with value: 0.8012262729914961 and parameters: {'n_estimators': 1930, 'learning_rate': 0.10796395390786331, 'objective': 'Logloss', 'depth': 3, 'l2_leaf_reg': 0.3408952645743598, 'colsample_bylevel': 0.8928382573763618, 'min_child_samples': 400.0, 'grow_policy': 'SymmetricTree', 'border_count': 128, 'auto_class_weight': 'Balanced'}. Best is trial 82 with value: 0.8014663247173623.\n",
      "/var/folders/_k/vxqnb8117qb_1tpg9p98mtyc0000gn/T/ipykernel_9428/1751210426.py:7: FutureWarning: suggest_loguniform has been deprecated in v3.0.0. This feature will be removed in v6.0.0. See https://github.com/optuna/optuna/releases/tag/v3.0.0. Use suggest_float(..., log=True) instead.\n",
      "  \"l2_leaf_reg\": trial.suggest_loguniform('l2_leaf_reg', 1e-2, 10),\n",
      "[I 2025-04-07 15:06:17,640] Trial 92 finished with value: 0.8010826399163296 and parameters: {'n_estimators': 1930, 'learning_rate': 0.10847271684722117, 'objective': 'Logloss', 'depth': 3, 'l2_leaf_reg': 0.34012953022889975, 'colsample_bylevel': 0.9034123022708427, 'min_child_samples': 400.0, 'grow_policy': 'SymmetricTree', 'border_count': 128, 'auto_class_weight': 'Balanced'}. Best is trial 82 with value: 0.8014663247173623.\n",
      "/var/folders/_k/vxqnb8117qb_1tpg9p98mtyc0000gn/T/ipykernel_9428/1751210426.py:7: FutureWarning: suggest_loguniform has been deprecated in v3.0.0. This feature will be removed in v6.0.0. See https://github.com/optuna/optuna/releases/tag/v3.0.0. Use suggest_float(..., log=True) instead.\n",
      "  \"l2_leaf_reg\": trial.suggest_loguniform('l2_leaf_reg', 1e-2, 10),\n",
      "[I 2025-04-07 15:06:18,679] Trial 93 finished with value: 0.8011503748092648 and parameters: {'n_estimators': 1862, 'learning_rate': 0.09662440683504277, 'objective': 'Logloss', 'depth': 3, 'l2_leaf_reg': 0.17770881094606036, 'colsample_bylevel': 0.9420884518447842, 'min_child_samples': 500.0, 'grow_policy': 'SymmetricTree', 'border_count': 128, 'auto_class_weight': 'Balanced'}. Best is trial 82 with value: 0.8014663247173623.\n",
      "/var/folders/_k/vxqnb8117qb_1tpg9p98mtyc0000gn/T/ipykernel_9428/1751210426.py:7: FutureWarning: suggest_loguniform has been deprecated in v3.0.0. This feature will be removed in v6.0.0. See https://github.com/optuna/optuna/releases/tag/v3.0.0. Use suggest_float(..., log=True) instead.\n",
      "  \"l2_leaf_reg\": trial.suggest_loguniform('l2_leaf_reg', 1e-2, 10),\n",
      "[I 2025-04-07 15:06:19,720] Trial 94 finished with value: 0.8009984866077974 and parameters: {'n_estimators': 1911, 'learning_rate': 0.11970272911122234, 'objective': 'Logloss', 'depth': 3, 'l2_leaf_reg': 0.5004102407768657, 'colsample_bylevel': 0.8548428411297258, 'min_child_samples': 500.0, 'grow_policy': 'SymmetricTree', 'border_count': 128, 'auto_class_weight': 'Balanced'}. Best is trial 82 with value: 0.8014663247173623.\n",
      "/var/folders/_k/vxqnb8117qb_1tpg9p98mtyc0000gn/T/ipykernel_9428/1751210426.py:7: FutureWarning: suggest_loguniform has been deprecated in v3.0.0. This feature will be removed in v6.0.0. See https://github.com/optuna/optuna/releases/tag/v3.0.0. Use suggest_float(..., log=True) instead.\n",
      "  \"l2_leaf_reg\": trial.suggest_loguniform('l2_leaf_reg', 1e-2, 10),\n",
      "[I 2025-04-07 15:06:20,699] Trial 95 finished with value: 0.8010142519602506 and parameters: {'n_estimators': 1983, 'learning_rate': 0.10715047679771696, 'objective': 'Logloss', 'depth': 3, 'l2_leaf_reg': 0.30175561892114533, 'colsample_bylevel': 0.8916321823629866, 'min_child_samples': 400.0, 'grow_policy': 'SymmetricTree', 'border_count': 128, 'auto_class_weight': 'Balanced'}. Best is trial 82 with value: 0.8014663247173623.\n",
      "/var/folders/_k/vxqnb8117qb_1tpg9p98mtyc0000gn/T/ipykernel_9428/1751210426.py:7: FutureWarning: suggest_loguniform has been deprecated in v3.0.0. This feature will be removed in v6.0.0. See https://github.com/optuna/optuna/releases/tag/v3.0.0. Use suggest_float(..., log=True) instead.\n",
      "  \"l2_leaf_reg\": trial.suggest_loguniform('l2_leaf_reg', 1e-2, 10),\n",
      "[I 2025-04-07 15:06:21,654] Trial 96 finished with value: 0.8010356703905416 and parameters: {'n_estimators': 1808, 'learning_rate': 0.08411044660647203, 'objective': 'Logloss', 'depth': 4, 'l2_leaf_reg': 0.3698866712558394, 'colsample_bylevel': 0.9183112419624961, 'min_child_samples': 200.0, 'grow_policy': 'SymmetricTree', 'border_count': 128, 'auto_class_weight': 'Balanced'}. Best is trial 82 with value: 0.8014663247173623.\n",
      "/var/folders/_k/vxqnb8117qb_1tpg9p98mtyc0000gn/T/ipykernel_9428/1751210426.py:7: FutureWarning: suggest_loguniform has been deprecated in v3.0.0. This feature will be removed in v6.0.0. See https://github.com/optuna/optuna/releases/tag/v3.0.0. Use suggest_float(..., log=True) instead.\n",
      "  \"l2_leaf_reg\": trial.suggest_loguniform('l2_leaf_reg', 1e-2, 10),\n",
      "[I 2025-04-07 15:06:22,268] Trial 97 finished with value: 0.7990631543896782 and parameters: {'n_estimators': 1871, 'learning_rate': 0.16680734557584298, 'objective': 'Logloss', 'depth': 9, 'l2_leaf_reg': 0.6084158821963084, 'colsample_bylevel': 0.8689284842819217, 'min_child_samples': 400.0, 'grow_policy': 'SymmetricTree', 'border_count': 256, 'auto_class_weight': 'Balanced'}. Best is trial 82 with value: 0.8014663247173623.\n",
      "/var/folders/_k/vxqnb8117qb_1tpg9p98mtyc0000gn/T/ipykernel_9428/1751210426.py:7: FutureWarning: suggest_loguniform has been deprecated in v3.0.0. This feature will be removed in v6.0.0. See https://github.com/optuna/optuna/releases/tag/v3.0.0. Use suggest_float(..., log=True) instead.\n",
      "  \"l2_leaf_reg\": trial.suggest_loguniform('l2_leaf_reg', 1e-2, 10),\n",
      "[I 2025-04-07 15:06:23,660] Trial 98 finished with value: 0.800171157645851 and parameters: {'n_estimators': 1771, 'learning_rate': 0.13104654111010833, 'objective': 'Logloss', 'depth': 3, 'l2_leaf_reg': 0.4517293398225959, 'colsample_bylevel': 0.2298798791474182, 'min_child_samples': 600.0, 'grow_policy': 'Depthwise', 'border_count': 128, 'auto_class_weight': 'Balanced'}. Best is trial 82 with value: 0.8014663247173623.\n",
      "/var/folders/_k/vxqnb8117qb_1tpg9p98mtyc0000gn/T/ipykernel_9428/1751210426.py:7: FutureWarning: suggest_loguniform has been deprecated in v3.0.0. This feature will be removed in v6.0.0. See https://github.com/optuna/optuna/releases/tag/v3.0.0. Use suggest_float(..., log=True) instead.\n",
      "  \"l2_leaf_reg\": trial.suggest_loguniform('l2_leaf_reg', 1e-2, 10),\n",
      "[I 2025-04-07 15:06:24,591] Trial 99 finished with value: 0.8011809973482371 and parameters: {'n_estimators': 1938, 'learning_rate': 0.09505491261767615, 'objective': 'Logloss', 'depth': 4, 'l2_leaf_reg': 0.13256967140002923, 'colsample_bylevel': 0.9771773488391724, 'min_child_samples': 700.0, 'grow_policy': 'SymmetricTree', 'border_count': 128, 'auto_class_weight': 'Balanced'}. Best is trial 82 with value: 0.8014663247173623.\n",
      "/var/folders/_k/vxqnb8117qb_1tpg9p98mtyc0000gn/T/ipykernel_9428/1751210426.py:7: FutureWarning: suggest_loguniform has been deprecated in v3.0.0. This feature will be removed in v6.0.0. See https://github.com/optuna/optuna/releases/tag/v3.0.0. Use suggest_float(..., log=True) instead.\n",
      "  \"l2_leaf_reg\": trial.suggest_loguniform('l2_leaf_reg', 1e-2, 10),\n",
      "[I 2025-04-07 15:06:25,284] Trial 100 finished with value: 0.8013874061180916 and parameters: {'n_estimators': 1697, 'learning_rate': 0.15217861138073416, 'objective': 'Logloss', 'depth': 3, 'l2_leaf_reg': 0.19600151195500606, 'colsample_bylevel': 0.95190107038644, 'min_child_samples': 200.0, 'grow_policy': 'SymmetricTree', 'border_count': 128, 'auto_class_weight': 'Balanced'}. Best is trial 82 with value: 0.8014663247173623.\n",
      "/var/folders/_k/vxqnb8117qb_1tpg9p98mtyc0000gn/T/ipykernel_9428/1751210426.py:7: FutureWarning: suggest_loguniform has been deprecated in v3.0.0. This feature will be removed in v6.0.0. See https://github.com/optuna/optuna/releases/tag/v3.0.0. Use suggest_float(..., log=True) instead.\n",
      "  \"l2_leaf_reg\": trial.suggest_loguniform('l2_leaf_reg', 1e-2, 10),\n",
      "[I 2025-04-07 15:06:25,954] Trial 101 finished with value: 0.8011246298356469 and parameters: {'n_estimators': 1700, 'learning_rate': 0.15048438371119066, 'objective': 'Logloss', 'depth': 3, 'l2_leaf_reg': 0.1927543555765657, 'colsample_bylevel': 0.9480134902014569, 'min_child_samples': 200.0, 'grow_policy': 'SymmetricTree', 'border_count': 128, 'auto_class_weight': 'Balanced'}. Best is trial 82 with value: 0.8014663247173623.\n",
      "/var/folders/_k/vxqnb8117qb_1tpg9p98mtyc0000gn/T/ipykernel_9428/1751210426.py:7: FutureWarning: suggest_loguniform has been deprecated in v3.0.0. This feature will be removed in v6.0.0. See https://github.com/optuna/optuna/releases/tag/v3.0.0. Use suggest_float(..., log=True) instead.\n",
      "  \"l2_leaf_reg\": trial.suggest_loguniform('l2_leaf_reg', 1e-2, 10),\n",
      "[I 2025-04-07 15:06:26,821] Trial 102 finished with value: 0.8013121712031155 and parameters: {'n_estimators': 1630, 'learning_rate': 0.11423690517522472, 'objective': 'Logloss', 'depth': 3, 'l2_leaf_reg': 0.25341817792385296, 'colsample_bylevel': 0.9112218762558278, 'min_child_samples': 200.0, 'grow_policy': 'SymmetricTree', 'border_count': 128, 'auto_class_weight': 'Balanced'}. Best is trial 82 with value: 0.8014663247173623.\n",
      "/var/folders/_k/vxqnb8117qb_1tpg9p98mtyc0000gn/T/ipykernel_9428/1751210426.py:7: FutureWarning: suggest_loguniform has been deprecated in v3.0.0. This feature will be removed in v6.0.0. See https://github.com/optuna/optuna/releases/tag/v3.0.0. Use suggest_float(..., log=True) instead.\n",
      "  \"l2_leaf_reg\": trial.suggest_loguniform('l2_leaf_reg', 1e-2, 10),\n",
      "[I 2025-04-07 15:06:27,670] Trial 103 finished with value: 0.8014332225792663 and parameters: {'n_estimators': 1634, 'learning_rate': 0.11433150281497362, 'objective': 'Logloss', 'depth': 3, 'l2_leaf_reg': 0.24937864006424934, 'colsample_bylevel': 0.9394105814376336, 'min_child_samples': 200.0, 'grow_policy': 'SymmetricTree', 'border_count': 128, 'auto_class_weight': 'Balanced'}. Best is trial 82 with value: 0.8014663247173623.\n",
      "/var/folders/_k/vxqnb8117qb_1tpg9p98mtyc0000gn/T/ipykernel_9428/1751210426.py:7: FutureWarning: suggest_loguniform has been deprecated in v3.0.0. This feature will be removed in v6.0.0. See https://github.com/optuna/optuna/releases/tag/v3.0.0. Use suggest_float(..., log=True) instead.\n",
      "  \"l2_leaf_reg\": trial.suggest_loguniform('l2_leaf_reg', 1e-2, 10),\n",
      "[I 2025-04-07 15:06:28,374] Trial 104 finished with value: 0.8011297012791222 and parameters: {'n_estimators': 1510, 'learning_rate': 0.15806016509077322, 'objective': 'Logloss', 'depth': 3, 'l2_leaf_reg': 0.2463702821540948, 'colsample_bylevel': 0.9258493021837659, 'min_child_samples': 200.0, 'grow_policy': 'SymmetricTree', 'border_count': 128, 'auto_class_weight': 'Balanced'}. Best is trial 82 with value: 0.8014663247173623.\n",
      "/var/folders/_k/vxqnb8117qb_1tpg9p98mtyc0000gn/T/ipykernel_9428/1751210426.py:7: FutureWarning: suggest_loguniform has been deprecated in v3.0.0. This feature will be removed in v6.0.0. See https://github.com/optuna/optuna/releases/tag/v3.0.0. Use suggest_float(..., log=True) instead.\n",
      "  \"l2_leaf_reg\": trial.suggest_loguniform('l2_leaf_reg', 1e-2, 10),\n",
      "[I 2025-04-07 15:06:29,339] Trial 105 finished with value: 0.8008926087456258 and parameters: {'n_estimators': 1575, 'learning_rate': 0.11403633860145584, 'objective': 'Logloss', 'depth': 3, 'l2_leaf_reg': 0.1522514743812604, 'colsample_bylevel': 0.9797229910488622, 'min_child_samples': 200.0, 'grow_policy': 'SymmetricTree', 'border_count': 128, 'auto_class_weight': 'Balanced'}. Best is trial 82 with value: 0.8014663247173623.\n",
      "/var/folders/_k/vxqnb8117qb_1tpg9p98mtyc0000gn/T/ipykernel_9428/1751210426.py:7: FutureWarning: suggest_loguniform has been deprecated in v3.0.0. This feature will be removed in v6.0.0. See https://github.com/optuna/optuna/releases/tag/v3.0.0. Use suggest_float(..., log=True) instead.\n",
      "  \"l2_leaf_reg\": trial.suggest_loguniform('l2_leaf_reg', 1e-2, 10),\n",
      "[I 2025-04-07 15:06:30,263] Trial 106 finished with value: 0.8016404476780503 and parameters: {'n_estimators': 1641, 'learning_rate': 0.12196496800325063, 'objective': 'Logloss', 'depth': 3, 'l2_leaf_reg': 0.2264721468771063, 'colsample_bylevel': 0.9481464010487486, 'min_child_samples': 200.0, 'grow_policy': 'SymmetricTree', 'border_count': 128, 'auto_class_weight': 'Balanced'}. Best is trial 106 with value: 0.8016404476780503.\n",
      "/var/folders/_k/vxqnb8117qb_1tpg9p98mtyc0000gn/T/ipykernel_9428/1751210426.py:7: FutureWarning: suggest_loguniform has been deprecated in v3.0.0. This feature will be removed in v6.0.0. See https://github.com/optuna/optuna/releases/tag/v3.0.0. Use suggest_float(..., log=True) instead.\n",
      "  \"l2_leaf_reg\": trial.suggest_loguniform('l2_leaf_reg', 1e-2, 10),\n",
      "[I 2025-04-07 15:06:31,126] Trial 107 finished with value: 0.8009416088896262 and parameters: {'n_estimators': 1618, 'learning_rate': 0.07832505186468913, 'objective': 'Logloss', 'depth': 4, 'l2_leaf_reg': 0.11342783858928077, 'colsample_bylevel': 0.9326643798334731, 'min_child_samples': 200.0, 'grow_policy': 'SymmetricTree', 'border_count': 128, 'auto_class_weight': 'Balanced'}. Best is trial 106 with value: 0.8016404476780503.\n",
      "/var/folders/_k/vxqnb8117qb_1tpg9p98mtyc0000gn/T/ipykernel_9428/1751210426.py:7: FutureWarning: suggest_loguniform has been deprecated in v3.0.0. This feature will be removed in v6.0.0. See https://github.com/optuna/optuna/releases/tag/v3.0.0. Use suggest_float(..., log=True) instead.\n",
      "  \"l2_leaf_reg\": trial.suggest_loguniform('l2_leaf_reg', 1e-2, 10),\n",
      "[I 2025-04-07 15:06:31,881] Trial 108 finished with value: 0.801341763126814 and parameters: {'n_estimators': 1564, 'learning_rate': 0.11960035587006121, 'objective': 'Logloss', 'depth': 3, 'l2_leaf_reg': 0.28752036047052965, 'colsample_bylevel': 0.966321053221017, 'min_child_samples': 200.0, 'grow_policy': 'SymmetricTree', 'border_count': 128, 'auto_class_weight': 'Balanced'}. Best is trial 106 with value: 0.8016404476780503.\n",
      "/var/folders/_k/vxqnb8117qb_1tpg9p98mtyc0000gn/T/ipykernel_9428/1751210426.py:7: FutureWarning: suggest_loguniform has been deprecated in v3.0.0. This feature will be removed in v6.0.0. See https://github.com/optuna/optuna/releases/tag/v3.0.0. Use suggest_float(..., log=True) instead.\n",
      "  \"l2_leaf_reg\": trial.suggest_loguniform('l2_leaf_reg', 1e-2, 10),\n",
      "[I 2025-04-07 15:06:32,737] Trial 109 finished with value: 0.800916006773571 and parameters: {'n_estimators': 1747, 'learning_rate': 0.1253395759218886, 'objective': 'Logloss', 'depth': 3, 'l2_leaf_reg': 0.23553414332678513, 'colsample_bylevel': 0.9619468658828154, 'min_child_samples': 200.0, 'grow_policy': 'SymmetricTree', 'border_count': 128, 'auto_class_weight': 'Balanced'}. Best is trial 106 with value: 0.8016404476780503.\n",
      "/var/folders/_k/vxqnb8117qb_1tpg9p98mtyc0000gn/T/ipykernel_9428/1751210426.py:7: FutureWarning: suggest_loguniform has been deprecated in v3.0.0. This feature will be removed in v6.0.0. See https://github.com/optuna/optuna/releases/tag/v3.0.0. Use suggest_float(..., log=True) instead.\n",
      "  \"l2_leaf_reg\": trial.suggest_loguniform('l2_leaf_reg', 1e-2, 10),\n",
      "[I 2025-04-07 15:06:33,389] Trial 110 finished with value: 0.8005011075950917 and parameters: {'n_estimators': 1635, 'learning_rate': 0.11888677519337848, 'objective': 'Logloss', 'depth': 4, 'l2_leaf_reg': 0.2795983593868691, 'colsample_bylevel': 0.9758667695240378, 'min_child_samples': 200.0, 'grow_policy': 'SymmetricTree', 'border_count': 128, 'auto_class_weight': 'Balanced'}. Best is trial 106 with value: 0.8016404476780503.\n",
      "/var/folders/_k/vxqnb8117qb_1tpg9p98mtyc0000gn/T/ipykernel_9428/1751210426.py:7: FutureWarning: suggest_loguniform has been deprecated in v3.0.0. This feature will be removed in v6.0.0. See https://github.com/optuna/optuna/releases/tag/v3.0.0. Use suggest_float(..., log=True) instead.\n",
      "  \"l2_leaf_reg\": trial.suggest_loguniform('l2_leaf_reg', 1e-2, 10),\n",
      "[I 2025-04-07 15:06:34,532] Trial 111 finished with value: 0.80106456843465 and parameters: {'n_estimators': 1577, 'learning_rate': 0.10082154908642194, 'objective': 'Logloss', 'depth': 3, 'l2_leaf_reg': 0.16812448261184879, 'colsample_bylevel': 0.9135943348914572, 'min_child_samples': 200.0, 'grow_policy': 'SymmetricTree', 'border_count': 128, 'auto_class_weight': 'Balanced'}. Best is trial 106 with value: 0.8016404476780503.\n",
      "/var/folders/_k/vxqnb8117qb_1tpg9p98mtyc0000gn/T/ipykernel_9428/1751210426.py:7: FutureWarning: suggest_loguniform has been deprecated in v3.0.0. This feature will be removed in v6.0.0. See https://github.com/optuna/optuna/releases/tag/v3.0.0. Use suggest_float(..., log=True) instead.\n",
      "  \"l2_leaf_reg\": trial.suggest_loguniform('l2_leaf_reg', 1e-2, 10),\n",
      "[I 2025-04-07 15:06:35,205] Trial 112 finished with value: 0.8007684757277654 and parameters: {'n_estimators': 1707, 'learning_rate': 0.13977210823373043, 'objective': 'Logloss', 'depth': 3, 'l2_leaf_reg': 0.09275747569466183, 'colsample_bylevel': 0.943258003426316, 'min_child_samples': 200.0, 'grow_policy': 'SymmetricTree', 'border_count': 256, 'auto_class_weight': 'Balanced'}. Best is trial 106 with value: 0.8016404476780503.\n",
      "/var/folders/_k/vxqnb8117qb_1tpg9p98mtyc0000gn/T/ipykernel_9428/1751210426.py:7: FutureWarning: suggest_loguniform has been deprecated in v3.0.0. This feature will be removed in v6.0.0. See https://github.com/optuna/optuna/releases/tag/v3.0.0. Use suggest_float(..., log=True) instead.\n",
      "  \"l2_leaf_reg\": trial.suggest_loguniform('l2_leaf_reg', 1e-2, 10),\n",
      "[I 2025-04-07 15:06:35,891] Trial 113 finished with value: 0.800796271727819 and parameters: {'n_estimators': 1533, 'learning_rate': 0.12345745867829258, 'objective': 'Logloss', 'depth': 3, 'l2_leaf_reg': 0.19365471934705802, 'colsample_bylevel': 0.9791132561440082, 'min_child_samples': 300.0, 'grow_policy': 'SymmetricTree', 'border_count': 128, 'auto_class_weight': 'Balanced'}. Best is trial 106 with value: 0.8016404476780503.\n",
      "/var/folders/_k/vxqnb8117qb_1tpg9p98mtyc0000gn/T/ipykernel_9428/1751210426.py:7: FutureWarning: suggest_loguniform has been deprecated in v3.0.0. This feature will be removed in v6.0.0. See https://github.com/optuna/optuna/releases/tag/v3.0.0. Use suggest_float(..., log=True) instead.\n",
      "  \"l2_leaf_reg\": trial.suggest_loguniform('l2_leaf_reg', 1e-2, 10),\n",
      "[I 2025-04-07 15:06:36,752] Trial 114 finished with value: 0.8009924967942763 and parameters: {'n_estimators': 1464, 'learning_rate': 0.11437316309604292, 'objective': 'Logloss', 'depth': 3, 'l2_leaf_reg': 0.30784678538081406, 'colsample_bylevel': 0.999910418017229, 'min_child_samples': 200.0, 'grow_policy': 'SymmetricTree', 'border_count': 128, 'auto_class_weight': 'Balanced'}. Best is trial 106 with value: 0.8016404476780503.\n",
      "/var/folders/_k/vxqnb8117qb_1tpg9p98mtyc0000gn/T/ipykernel_9428/1751210426.py:7: FutureWarning: suggest_loguniform has been deprecated in v3.0.0. This feature will be removed in v6.0.0. See https://github.com/optuna/optuna/releases/tag/v3.0.0. Use suggest_float(..., log=True) instead.\n",
      "  \"l2_leaf_reg\": trial.suggest_loguniform('l2_leaf_reg', 1e-2, 10),\n",
      "[I 2025-04-07 15:06:38,104] Trial 115 finished with value: 0.8008452310553729 and parameters: {'n_estimators': 1642, 'learning_rate': 0.06883645012286396, 'objective': 'Logloss', 'depth': 3, 'l2_leaf_reg': 0.1389776046724395, 'colsample_bylevel': 0.9639416487062656, 'min_child_samples': 300.0, 'grow_policy': 'SymmetricTree', 'border_count': 128, 'auto_class_weight': 'Balanced'}. Best is trial 106 with value: 0.8016404476780503.\n",
      "/var/folders/_k/vxqnb8117qb_1tpg9p98mtyc0000gn/T/ipykernel_9428/1751210426.py:7: FutureWarning: suggest_loguniform has been deprecated in v3.0.0. This feature will be removed in v6.0.0. See https://github.com/optuna/optuna/releases/tag/v3.0.0. Use suggest_float(..., log=True) instead.\n",
      "  \"l2_leaf_reg\": trial.suggest_loguniform('l2_leaf_reg', 1e-2, 10),\n",
      "[I 2025-04-07 15:06:39,231] Trial 116 finished with value: 0.8007587410052797 and parameters: {'n_estimators': 1681, 'learning_rate': 0.09152867433644417, 'objective': 'Logloss', 'depth': 3, 'l2_leaf_reg': 0.2238557521687357, 'colsample_bylevel': 0.6964863735193789, 'min_child_samples': 200.0, 'grow_policy': 'SymmetricTree', 'border_count': 128, 'auto_class_weight': 'Balanced'}. Best is trial 106 with value: 0.8016404476780503.\n",
      "/var/folders/_k/vxqnb8117qb_1tpg9p98mtyc0000gn/T/ipykernel_9428/1751210426.py:7: FutureWarning: suggest_loguniform has been deprecated in v3.0.0. This feature will be removed in v6.0.0. See https://github.com/optuna/optuna/releases/tag/v3.0.0. Use suggest_float(..., log=True) instead.\n",
      "  \"l2_leaf_reg\": trial.suggest_loguniform('l2_leaf_reg', 1e-2, 10),\n",
      "[I 2025-04-07 15:06:40,051] Trial 117 finished with value: 0.8012739159886512 and parameters: {'n_estimators': 1556, 'learning_rate': 0.13076580468892968, 'objective': 'Logloss', 'depth': 3, 'l2_leaf_reg': 0.08343489472875855, 'colsample_bylevel': 0.9187575270973882, 'min_child_samples': 200.0, 'grow_policy': 'SymmetricTree', 'border_count': 128, 'auto_class_weight': 'Balanced'}. Best is trial 106 with value: 0.8016404476780503.\n",
      "/var/folders/_k/vxqnb8117qb_1tpg9p98mtyc0000gn/T/ipykernel_9428/1751210426.py:7: FutureWarning: suggest_loguniform has been deprecated in v3.0.0. This feature will be removed in v6.0.0. See https://github.com/optuna/optuna/releases/tag/v3.0.0. Use suggest_float(..., log=True) instead.\n",
      "  \"l2_leaf_reg\": trial.suggest_loguniform('l2_leaf_reg', 1e-2, 10),\n",
      "[I 2025-04-07 15:06:40,756] Trial 118 finished with value: 0.8008913536398964 and parameters: {'n_estimators': 1560, 'learning_rate': 0.15414294005613866, 'objective': 'Logloss', 'depth': 3, 'l2_leaf_reg': 0.08115794330852635, 'colsample_bylevel': 0.9254852920512183, 'min_child_samples': 200.0, 'grow_policy': 'Depthwise', 'border_count': 128, 'auto_class_weight': 'Balanced'}. Best is trial 106 with value: 0.8016404476780503.\n",
      "/var/folders/_k/vxqnb8117qb_1tpg9p98mtyc0000gn/T/ipykernel_9428/1751210426.py:7: FutureWarning: suggest_loguniform has been deprecated in v3.0.0. This feature will be removed in v6.0.0. See https://github.com/optuna/optuna/releases/tag/v3.0.0. Use suggest_float(..., log=True) instead.\n",
      "  \"l2_leaf_reg\": trial.suggest_loguniform('l2_leaf_reg', 1e-2, 10),\n",
      "[I 2025-04-07 15:06:43,497] Trial 119 finished with value: 0.7995852273525048 and parameters: {'n_estimators': 1520, 'learning_rate': 0.13235746300063164, 'objective': 'Logloss', 'depth': 4, 'l2_leaf_reg': 0.10861572529469997, 'colsample_bylevel': 0.0474487933808288, 'min_child_samples': 300.0, 'grow_policy': 'SymmetricTree', 'border_count': 128, 'auto_class_weight': 'Balanced'}. Best is trial 106 with value: 0.8016404476780503.\n",
      "/var/folders/_k/vxqnb8117qb_1tpg9p98mtyc0000gn/T/ipykernel_9428/1751210426.py:7: FutureWarning: suggest_loguniform has been deprecated in v3.0.0. This feature will be removed in v6.0.0. See https://github.com/optuna/optuna/releases/tag/v3.0.0. Use suggest_float(..., log=True) instead.\n",
      "  \"l2_leaf_reg\": trial.suggest_loguniform('l2_leaf_reg', 1e-2, 10),\n",
      "[I 2025-04-07 15:06:44,352] Trial 120 finished with value: 0.8008476596339384 and parameters: {'n_estimators': 1727, 'learning_rate': 0.14106721444931927, 'objective': 'Logloss', 'depth': 3, 'l2_leaf_reg': 0.07292957143315257, 'colsample_bylevel': 0.8705656645862794, 'min_child_samples': 200.0, 'grow_policy': 'SymmetricTree', 'border_count': 128, 'auto_class_weight': 'Balanced'}. Best is trial 106 with value: 0.8016404476780503.\n",
      "/var/folders/_k/vxqnb8117qb_1tpg9p98mtyc0000gn/T/ipykernel_9428/1751210426.py:7: FutureWarning: suggest_loguniform has been deprecated in v3.0.0. This feature will be removed in v6.0.0. See https://github.com/optuna/optuna/releases/tag/v3.0.0. Use suggest_float(..., log=True) instead.\n",
      "  \"l2_leaf_reg\": trial.suggest_loguniform('l2_leaf_reg', 1e-2, 10),\n",
      "[I 2025-04-07 15:06:45,104] Trial 121 finished with value: 0.8013078242515651 and parameters: {'n_estimators': 1485, 'learning_rate': 0.1194893281484963, 'objective': 'Logloss', 'depth': 3, 'l2_leaf_reg': 0.278698638484604, 'colsample_bylevel': 0.9479296749847768, 'min_child_samples': 200.0, 'grow_policy': 'SymmetricTree', 'border_count': 128, 'auto_class_weight': 'Balanced'}. Best is trial 106 with value: 0.8016404476780503.\n",
      "/var/folders/_k/vxqnb8117qb_1tpg9p98mtyc0000gn/T/ipykernel_9428/1751210426.py:7: FutureWarning: suggest_loguniform has been deprecated in v3.0.0. This feature will be removed in v6.0.0. See https://github.com/optuna/optuna/releases/tag/v3.0.0. Use suggest_float(..., log=True) instead.\n",
      "  \"l2_leaf_reg\": trial.suggest_loguniform('l2_leaf_reg', 1e-2, 10),\n",
      "[I 2025-04-07 15:06:45,967] Trial 122 finished with value: 0.8013941306276493 and parameters: {'n_estimators': 1587, 'learning_rate': 0.12762005959190587, 'objective': 'Logloss', 'depth': 3, 'l2_leaf_reg': 0.28367195964149383, 'colsample_bylevel': 0.9485469299364847, 'min_child_samples': 200.0, 'grow_policy': 'SymmetricTree', 'border_count': 128, 'auto_class_weight': 'Balanced'}. Best is trial 106 with value: 0.8016404476780503.\n",
      "/var/folders/_k/vxqnb8117qb_1tpg9p98mtyc0000gn/T/ipykernel_9428/1751210426.py:7: FutureWarning: suggest_loguniform has been deprecated in v3.0.0. This feature will be removed in v6.0.0. See https://github.com/optuna/optuna/releases/tag/v3.0.0. Use suggest_float(..., log=True) instead.\n",
      "  \"l2_leaf_reg\": trial.suggest_loguniform('l2_leaf_reg', 1e-2, 10),\n",
      "[I 2025-04-07 15:06:47,018] Trial 123 finished with value: 0.8010317111952329 and parameters: {'n_estimators': 1622, 'learning_rate': 0.121740893657549, 'objective': 'Logloss', 'depth': 3, 'l2_leaf_reg': 0.26600045158933505, 'colsample_bylevel': 0.9419378600052635, 'min_child_samples': 200.0, 'grow_policy': 'SymmetricTree', 'border_count': 128, 'auto_class_weight': 'Balanced'}. Best is trial 106 with value: 0.8016404476780503.\n",
      "/var/folders/_k/vxqnb8117qb_1tpg9p98mtyc0000gn/T/ipykernel_9428/1751210426.py:7: FutureWarning: suggest_loguniform has been deprecated in v3.0.0. This feature will be removed in v6.0.0. See https://github.com/optuna/optuna/releases/tag/v3.0.0. Use suggest_float(..., log=True) instead.\n",
      "  \"l2_leaf_reg\": trial.suggest_loguniform('l2_leaf_reg', 1e-2, 10),\n",
      "[I 2025-04-07 15:06:47,891] Trial 124 finished with value: 0.8013793346657998 and parameters: {'n_estimators': 1588, 'learning_rate': 0.10268100282546459, 'objective': 'Logloss', 'depth': 3, 'l2_leaf_reg': 0.29757933018069477, 'colsample_bylevel': 0.9577606799593559, 'min_child_samples': 200.0, 'grow_policy': 'SymmetricTree', 'border_count': 128, 'auto_class_weight': 'Balanced'}. Best is trial 106 with value: 0.8016404476780503.\n",
      "/var/folders/_k/vxqnb8117qb_1tpg9p98mtyc0000gn/T/ipykernel_9428/1751210426.py:7: FutureWarning: suggest_loguniform has been deprecated in v3.0.0. This feature will be removed in v6.0.0. See https://github.com/optuna/optuna/releases/tag/v3.0.0. Use suggest_float(..., log=True) instead.\n",
      "  \"l2_leaf_reg\": trial.suggest_loguniform('l2_leaf_reg', 1e-2, 10),\n",
      "[I 2025-04-07 15:06:48,907] Trial 125 finished with value: 0.8010109560321974 and parameters: {'n_estimators': 1600, 'learning_rate': 0.11262568660861824, 'objective': 'Logloss', 'depth': 3, 'l2_leaf_reg': 0.18816300706087852, 'colsample_bylevel': 0.9828515872483985, 'min_child_samples': 300.0, 'grow_policy': 'SymmetricTree', 'border_count': 128, 'auto_class_weight': 'Balanced'}. Best is trial 106 with value: 0.8016404476780503.\n",
      "/var/folders/_k/vxqnb8117qb_1tpg9p98mtyc0000gn/T/ipykernel_9428/1751210426.py:7: FutureWarning: suggest_loguniform has been deprecated in v3.0.0. This feature will be removed in v6.0.0. See https://github.com/optuna/optuna/releases/tag/v3.0.0. Use suggest_float(..., log=True) instead.\n",
      "  \"l2_leaf_reg\": trial.suggest_loguniform('l2_leaf_reg', 1e-2, 10),\n",
      "[I 2025-04-07 15:06:49,730] Trial 126 finished with value: 0.8011732218151825 and parameters: {'n_estimators': 1661, 'learning_rate': 0.10398919894904224, 'objective': 'Logloss', 'depth': 3, 'l2_leaf_reg': 0.21400360759559287, 'colsample_bylevel': 0.9628733868319863, 'min_child_samples': 200.0, 'grow_policy': 'SymmetricTree', 'border_count': 128, 'auto_class_weight': 'Balanced'}. Best is trial 106 with value: 0.8016404476780503.\n",
      "/var/folders/_k/vxqnb8117qb_1tpg9p98mtyc0000gn/T/ipykernel_9428/1751210426.py:7: FutureWarning: suggest_loguniform has been deprecated in v3.0.0. This feature will be removed in v6.0.0. See https://github.com/optuna/optuna/releases/tag/v3.0.0. Use suggest_float(..., log=True) instead.\n",
      "  \"l2_leaf_reg\": trial.suggest_loguniform('l2_leaf_reg', 1e-2, 10),\n",
      "[I 2025-04-07 15:06:50,971] Trial 127 finished with value: 0.8005144851854258 and parameters: {'n_estimators': 1802, 'learning_rate': 0.10104293596214728, 'objective': 'Logloss', 'depth': 3, 'l2_leaf_reg': 0.5140958959398187, 'colsample_bylevel': 0.90186008815808, 'min_child_samples': 200.0, 'grow_policy': 'SymmetricTree', 'border_count': 1024, 'auto_class_weight': 'Balanced'}. Best is trial 106 with value: 0.8016404476780503.\n",
      "/var/folders/_k/vxqnb8117qb_1tpg9p98mtyc0000gn/T/ipykernel_9428/1751210426.py:7: FutureWarning: suggest_loguniform has been deprecated in v3.0.0. This feature will be removed in v6.0.0. See https://github.com/optuna/optuna/releases/tag/v3.0.0. Use suggest_float(..., log=True) instead.\n",
      "  \"l2_leaf_reg\": trial.suggest_loguniform('l2_leaf_reg', 1e-2, 10),\n",
      "[I 2025-04-07 15:06:51,500] Trial 128 finished with value: 0.800610169140089 and parameters: {'n_estimators': 1766, 'learning_rate': 0.16721302621687584, 'objective': 'Logloss', 'depth': 4, 'l2_leaf_reg': 0.16193612928716478, 'colsample_bylevel': 0.9830597684512272, 'min_child_samples': 300.0, 'grow_policy': 'SymmetricTree', 'border_count': 128, 'auto_class_weight': 'Balanced'}. Best is trial 106 with value: 0.8016404476780503.\n",
      "/var/folders/_k/vxqnb8117qb_1tpg9p98mtyc0000gn/T/ipykernel_9428/1751210426.py:7: FutureWarning: suggest_loguniform has been deprecated in v3.0.0. This feature will be removed in v6.0.0. See https://github.com/optuna/optuna/releases/tag/v3.0.0. Use suggest_float(..., log=True) instead.\n",
      "  \"l2_leaf_reg\": trial.suggest_loguniform('l2_leaf_reg', 1e-2, 10),\n",
      "[I 2025-04-07 15:06:52,321] Trial 129 finished with value: 0.801467090025734 and parameters: {'n_estimators': 1690, 'learning_rate': 0.13633577235053357, 'objective': 'Logloss', 'depth': 3, 'l2_leaf_reg': 0.3041185849374927, 'colsample_bylevel': 0.9569673150577941, 'min_child_samples': 200.0, 'grow_policy': 'SymmetricTree', 'border_count': 128, 'auto_class_weight': 'Balanced'}. Best is trial 106 with value: 0.8016404476780503.\n",
      "/var/folders/_k/vxqnb8117qb_1tpg9p98mtyc0000gn/T/ipykernel_9428/1751210426.py:7: FutureWarning: suggest_loguniform has been deprecated in v3.0.0. This feature will be removed in v6.0.0. See https://github.com/optuna/optuna/releases/tag/v3.0.0. Use suggest_float(..., log=True) instead.\n",
      "  \"l2_leaf_reg\": trial.suggest_loguniform('l2_leaf_reg', 1e-2, 10),\n",
      "[I 2025-04-07 15:06:53,131] Trial 130 finished with value: 0.8009834457472691 and parameters: {'n_estimators': 1718, 'learning_rate': 0.14503859549363013, 'objective': 'Logloss', 'depth': 3, 'l2_leaf_reg': 0.3006681579798078, 'colsample_bylevel': 0.9502371645449766, 'min_child_samples': 200.0, 'grow_policy': 'SymmetricTree', 'border_count': 128, 'auto_class_weight': 'Balanced'}. Best is trial 106 with value: 0.8016404476780503.\n",
      "/var/folders/_k/vxqnb8117qb_1tpg9p98mtyc0000gn/T/ipykernel_9428/1751210426.py:7: FutureWarning: suggest_loguniform has been deprecated in v3.0.0. This feature will be removed in v6.0.0. See https://github.com/optuna/optuna/releases/tag/v3.0.0. Use suggest_float(..., log=True) instead.\n",
      "  \"l2_leaf_reg\": trial.suggest_loguniform('l2_leaf_reg', 1e-2, 10),\n",
      "[I 2025-04-07 15:06:53,949] Trial 131 finished with value: 0.8015848556779432 and parameters: {'n_estimators': 1687, 'learning_rate': 0.1366954106306288, 'objective': 'Logloss', 'depth': 3, 'l2_leaf_reg': 0.44064659583744653, 'colsample_bylevel': 0.9644234591278126, 'min_child_samples': 200.0, 'grow_policy': 'SymmetricTree', 'border_count': 128, 'auto_class_weight': 'Balanced'}. Best is trial 106 with value: 0.8016404476780503.\n",
      "/var/folders/_k/vxqnb8117qb_1tpg9p98mtyc0000gn/T/ipykernel_9428/1751210426.py:7: FutureWarning: suggest_loguniform has been deprecated in v3.0.0. This feature will be removed in v6.0.0. See https://github.com/optuna/optuna/releases/tag/v3.0.0. Use suggest_float(..., log=True) instead.\n",
      "  \"l2_leaf_reg\": trial.suggest_loguniform('l2_leaf_reg', 1e-2, 10),\n",
      "[I 2025-04-07 15:06:54,757] Trial 132 finished with value: 0.8011958443306446 and parameters: {'n_estimators': 1690, 'learning_rate': 0.13672610790998627, 'objective': 'Logloss', 'depth': 3, 'l2_leaf_reg': 0.40813953821296495, 'colsample_bylevel': 0.9982546719565719, 'min_child_samples': 200.0, 'grow_policy': 'SymmetricTree', 'border_count': 128, 'auto_class_weight': 'Balanced'}. Best is trial 106 with value: 0.8016404476780503.\n",
      "/var/folders/_k/vxqnb8117qb_1tpg9p98mtyc0000gn/T/ipykernel_9428/1751210426.py:7: FutureWarning: suggest_loguniform has been deprecated in v3.0.0. This feature will be removed in v6.0.0. See https://github.com/optuna/optuna/releases/tag/v3.0.0. Use suggest_float(..., log=True) instead.\n",
      "  \"l2_leaf_reg\": trial.suggest_loguniform('l2_leaf_reg', 1e-2, 10),\n",
      "[I 2025-04-07 15:06:55,740] Trial 133 finished with value: 0.8007187919082864 and parameters: {'n_estimators': 1667, 'learning_rate': 0.12714821657820224, 'objective': 'Logloss', 'depth': 3, 'l2_leaf_reg': 0.47632897867545865, 'colsample_bylevel': 0.5595878832280908, 'min_child_samples': 200.0, 'grow_policy': 'SymmetricTree', 'border_count': 128, 'auto_class_weight': 'Balanced'}. Best is trial 106 with value: 0.8016404476780503.\n",
      "/var/folders/_k/vxqnb8117qb_1tpg9p98mtyc0000gn/T/ipykernel_9428/1751210426.py:7: FutureWarning: suggest_loguniform has been deprecated in v3.0.0. This feature will be removed in v6.0.0. See https://github.com/optuna/optuna/releases/tag/v3.0.0. Use suggest_float(..., log=True) instead.\n",
      "  \"l2_leaf_reg\": trial.suggest_loguniform('l2_leaf_reg', 1e-2, 10),\n",
      "[I 2025-04-07 15:06:56,867] Trial 134 finished with value: 0.8013877428537748 and parameters: {'n_estimators': 1589, 'learning_rate': 0.08850046283403794, 'objective': 'Logloss', 'depth': 3, 'l2_leaf_reg': 0.34706917876428245, 'colsample_bylevel': 0.9643062304883186, 'min_child_samples': 200.0, 'grow_policy': 'SymmetricTree', 'border_count': 128, 'auto_class_weight': 'Balanced'}. Best is trial 106 with value: 0.8016404476780503.\n",
      "/var/folders/_k/vxqnb8117qb_1tpg9p98mtyc0000gn/T/ipykernel_9428/1751210426.py:7: FutureWarning: suggest_loguniform has been deprecated in v3.0.0. This feature will be removed in v6.0.0. See https://github.com/optuna/optuna/releases/tag/v3.0.0. Use suggest_float(..., log=True) instead.\n",
      "  \"l2_leaf_reg\": trial.suggest_loguniform('l2_leaf_reg', 1e-2, 10),\n",
      "[I 2025-04-07 15:06:57,828] Trial 135 finished with value: 0.8013462427318154 and parameters: {'n_estimators': 1590, 'learning_rate': 0.09017985005446744, 'objective': 'Logloss', 'depth': 3, 'l2_leaf_reg': 0.550393359585743, 'colsample_bylevel': 0.9658833745608167, 'min_child_samples': 200.0, 'grow_policy': 'SymmetricTree', 'border_count': 128, 'auto_class_weight': 'Balanced'}. Best is trial 106 with value: 0.8016404476780503.\n",
      "/var/folders/_k/vxqnb8117qb_1tpg9p98mtyc0000gn/T/ipykernel_9428/1751210426.py:7: FutureWarning: suggest_loguniform has been deprecated in v3.0.0. This feature will be removed in v6.0.0. See https://github.com/optuna/optuna/releases/tag/v3.0.0. Use suggest_float(..., log=True) instead.\n",
      "  \"l2_leaf_reg\": trial.suggest_loguniform('l2_leaf_reg', 1e-2, 10),\n",
      "[I 2025-04-07 15:06:59,261] Trial 136 finished with value: 0.8013359671914139 and parameters: {'n_estimators': 1592, 'learning_rate': 0.08753065366587345, 'objective': 'Logloss', 'depth': 3, 'l2_leaf_reg': 0.6688058565886578, 'colsample_bylevel': 0.9623293075048701, 'min_child_samples': 200.0, 'grow_policy': 'SymmetricTree', 'border_count': 128, 'auto_class_weight': 'Balanced'}. Best is trial 106 with value: 0.8016404476780503.\n",
      "/var/folders/_k/vxqnb8117qb_1tpg9p98mtyc0000gn/T/ipykernel_9428/1751210426.py:7: FutureWarning: suggest_loguniform has been deprecated in v3.0.0. This feature will be removed in v6.0.0. See https://github.com/optuna/optuna/releases/tag/v3.0.0. Use suggest_float(..., log=True) instead.\n",
      "  \"l2_leaf_reg\": trial.suggest_loguniform('l2_leaf_reg', 1e-2, 10),\n",
      "[I 2025-04-07 15:06:59,915] Trial 137 finished with value: 0.801582171996587 and parameters: {'n_estimators': 1499, 'learning_rate': 0.1351933870128609, 'objective': 'Logloss', 'depth': 3, 'l2_leaf_reg': 0.6988873219634567, 'colsample_bylevel': 0.9574527534437053, 'min_child_samples': 200.0, 'grow_policy': 'SymmetricTree', 'border_count': 128, 'auto_class_weight': 'Balanced'}. Best is trial 106 with value: 0.8016404476780503.\n",
      "/var/folders/_k/vxqnb8117qb_1tpg9p98mtyc0000gn/T/ipykernel_9428/1751210426.py:7: FutureWarning: suggest_loguniform has been deprecated in v3.0.0. This feature will be removed in v6.0.0. See https://github.com/optuna/optuna/releases/tag/v3.0.0. Use suggest_float(..., log=True) instead.\n",
      "  \"l2_leaf_reg\": trial.suggest_loguniform('l2_leaf_reg', 1e-2, 10),\n",
      "[I 2025-04-07 15:07:00,635] Trial 138 finished with value: 0.8006719652400611 and parameters: {'n_estimators': 1506, 'learning_rate': 0.14888675141609856, 'objective': 'Logloss', 'depth': 3, 'l2_leaf_reg': 0.5599290018802132, 'colsample_bylevel': 0.9280739657252148, 'min_child_samples': 100.0, 'grow_policy': 'SymmetricTree', 'border_count': 256, 'auto_class_weight': 'Balanced'}. Best is trial 106 with value: 0.8016404476780503.\n",
      "/var/folders/_k/vxqnb8117qb_1tpg9p98mtyc0000gn/T/ipykernel_9428/1751210426.py:7: FutureWarning: suggest_loguniform has been deprecated in v3.0.0. This feature will be removed in v6.0.0. See https://github.com/optuna/optuna/releases/tag/v3.0.0. Use suggest_float(..., log=True) instead.\n",
      "  \"l2_leaf_reg\": trial.suggest_loguniform('l2_leaf_reg', 1e-2, 10),\n",
      "[I 2025-04-07 15:07:01,327] Trial 139 finished with value: 0.8011472727593322 and parameters: {'n_estimators': 1538, 'learning_rate': 0.13623860845562866, 'objective': 'Logloss', 'depth': 3, 'l2_leaf_reg': 1.0675247711221987, 'colsample_bylevel': 0.8848812957490643, 'min_child_samples': 200.0, 'grow_policy': 'SymmetricTree', 'border_count': 128, 'auto_class_weight': 'Balanced'}. Best is trial 106 with value: 0.8016404476780503.\n",
      "/var/folders/_k/vxqnb8117qb_1tpg9p98mtyc0000gn/T/ipykernel_9428/1751210426.py:7: FutureWarning: suggest_loguniform has been deprecated in v3.0.0. This feature will be removed in v6.0.0. See https://github.com/optuna/optuna/releases/tag/v3.0.0. Use suggest_float(..., log=True) instead.\n",
      "  \"l2_leaf_reg\": trial.suggest_loguniform('l2_leaf_reg', 1e-2, 10),\n",
      "[I 2025-04-07 15:07:02,340] Trial 140 finished with value: 0.8006858020154182 and parameters: {'n_estimators': 1587, 'learning_rate': 0.1519473915494548, 'objective': 'Logloss', 'depth': 3, 'l2_leaf_reg': 0.35978583579753387, 'colsample_bylevel': 0.48568860123871166, 'min_child_samples': 200.0, 'grow_policy': 'Depthwise', 'border_count': 128, 'auto_class_weight': 'Balanced'}. Best is trial 106 with value: 0.8016404476780503.\n",
      "/var/folders/_k/vxqnb8117qb_1tpg9p98mtyc0000gn/T/ipykernel_9428/1751210426.py:7: FutureWarning: suggest_loguniform has been deprecated in v3.0.0. This feature will be removed in v6.0.0. See https://github.com/optuna/optuna/releases/tag/v3.0.0. Use suggest_float(..., log=True) instead.\n",
      "  \"l2_leaf_reg\": trial.suggest_loguniform('l2_leaf_reg', 1e-2, 10),\n",
      "[I 2025-04-07 15:07:03,932] Trial 141 finished with value: 0.8009672620262395 and parameters: {'n_estimators': 1575, 'learning_rate': 0.0864746672673078, 'objective': 'Logloss', 'depth': 3, 'l2_leaf_reg': 0.6778438417753226, 'colsample_bylevel': 0.9611919858062062, 'min_child_samples': 200.0, 'grow_policy': 'SymmetricTree', 'border_count': 128, 'auto_class_weight': 'Balanced'}. Best is trial 106 with value: 0.8016404476780503.\n",
      "/var/folders/_k/vxqnb8117qb_1tpg9p98mtyc0000gn/T/ipykernel_9428/1751210426.py:7: FutureWarning: suggest_loguniform has been deprecated in v3.0.0. This feature will be removed in v6.0.0. See https://github.com/optuna/optuna/releases/tag/v3.0.0. Use suggest_float(..., log=True) instead.\n",
      "  \"l2_leaf_reg\": trial.suggest_loguniform('l2_leaf_reg', 1e-2, 10),\n",
      "[I 2025-04-07 15:07:04,663] Trial 142 finished with value: 0.8010193029955027 and parameters: {'n_estimators': 1601, 'learning_rate': 0.1282456746750906, 'objective': 'Logloss', 'depth': 3, 'l2_leaf_reg': 1.3423666369038612, 'colsample_bylevel': 0.956442334773659, 'min_child_samples': 200.0, 'grow_policy': 'SymmetricTree', 'border_count': 128, 'auto_class_weight': 'Balanced'}. Best is trial 106 with value: 0.8016404476780503.\n",
      "/var/folders/_k/vxqnb8117qb_1tpg9p98mtyc0000gn/T/ipykernel_9428/1751210426.py:7: FutureWarning: suggest_loguniform has been deprecated in v3.0.0. This feature will be removed in v6.0.0. See https://github.com/optuna/optuna/releases/tag/v3.0.0. Use suggest_float(..., log=True) instead.\n",
      "  \"l2_leaf_reg\": trial.suggest_loguniform('l2_leaf_reg', 1e-2, 10),\n",
      "[I 2025-04-07 15:07:05,366] Trial 143 finished with value: 0.8011858749135916 and parameters: {'n_estimators': 1482, 'learning_rate': 0.14475794440901313, 'objective': 'Logloss', 'depth': 3, 'l2_leaf_reg': 0.8828145950027593, 'colsample_bylevel': 0.9365278993852677, 'min_child_samples': 200.0, 'grow_policy': 'SymmetricTree', 'border_count': 128, 'auto_class_weight': 'Balanced'}. Best is trial 106 with value: 0.8016404476780503.\n",
      "/var/folders/_k/vxqnb8117qb_1tpg9p98mtyc0000gn/T/ipykernel_9428/1751210426.py:7: FutureWarning: suggest_loguniform has been deprecated in v3.0.0. This feature will be removed in v6.0.0. See https://github.com/optuna/optuna/releases/tag/v3.0.0. Use suggest_float(..., log=True) instead.\n",
      "  \"l2_leaf_reg\": trial.suggest_loguniform('l2_leaf_reg', 1e-2, 10),\n",
      "[I 2025-04-07 15:07:06,319] Trial 144 finished with value: 0.8014559063193981 and parameters: {'n_estimators': 1430, 'learning_rate': 0.09740749101886712, 'objective': 'Logloss', 'depth': 3, 'l2_leaf_reg': 0.8670544587926325, 'colsample_bylevel': 0.9971628379412725, 'min_child_samples': 100.0, 'grow_policy': 'SymmetricTree', 'border_count': 128, 'auto_class_weight': 'Balanced'}. Best is trial 106 with value: 0.8016404476780503.\n",
      "/var/folders/_k/vxqnb8117qb_1tpg9p98mtyc0000gn/T/ipykernel_9428/1751210426.py:7: FutureWarning: suggest_loguniform has been deprecated in v3.0.0. This feature will be removed in v6.0.0. See https://github.com/optuna/optuna/releases/tag/v3.0.0. Use suggest_float(..., log=True) instead.\n",
      "  \"l2_leaf_reg\": trial.suggest_loguniform('l2_leaf_reg', 1e-2, 10),\n",
      "[I 2025-04-07 15:07:07,092] Trial 145 finished with value: 0.8009881090262796 and parameters: {'n_estimators': 1539, 'learning_rate': 0.18084532260695382, 'objective': 'Logloss', 'depth': 3, 'l2_leaf_reg': 0.918412940946595, 'colsample_bylevel': 0.9995827658785912, 'min_child_samples': 100.0, 'grow_policy': 'SymmetricTree', 'border_count': 128, 'auto_class_weight': 'Balanced'}. Best is trial 106 with value: 0.8016404476780503.\n",
      "/var/folders/_k/vxqnb8117qb_1tpg9p98mtyc0000gn/T/ipykernel_9428/1751210426.py:7: FutureWarning: suggest_loguniform has been deprecated in v3.0.0. This feature will be removed in v6.0.0. See https://github.com/optuna/optuna/releases/tag/v3.0.0. Use suggest_float(..., log=True) instead.\n",
      "  \"l2_leaf_reg\": trial.suggest_loguniform('l2_leaf_reg', 1e-2, 10),\n",
      "[I 2025-04-07 15:07:07,980] Trial 146 finished with value: 0.8011030277313468 and parameters: {'n_estimators': 1412, 'learning_rate': 0.13881032931245216, 'objective': 'Logloss', 'depth': 3, 'l2_leaf_reg': 0.42582264735234776, 'colsample_bylevel': 0.9776038287438267, 'min_child_samples': 100.0, 'grow_policy': 'SymmetricTree', 'border_count': 128, 'auto_class_weight': 'Balanced'}. Best is trial 106 with value: 0.8016404476780503.\n",
      "/var/folders/_k/vxqnb8117qb_1tpg9p98mtyc0000gn/T/ipykernel_9428/1751210426.py:7: FutureWarning: suggest_loguniform has been deprecated in v3.0.0. This feature will be removed in v6.0.0. See https://github.com/optuna/optuna/releases/tag/v3.0.0. Use suggest_float(..., log=True) instead.\n",
      "  \"l2_leaf_reg\": trial.suggest_loguniform('l2_leaf_reg', 1e-2, 10),\n",
      "[I 2025-04-07 15:07:09,173] Trial 147 finished with value: 0.8009569864858379 and parameters: {'n_estimators': 1438, 'learning_rate': 0.10020212099702418, 'objective': 'Logloss', 'depth': 3, 'l2_leaf_reg': 0.5289461274635362, 'colsample_bylevel': 0.9312073546780386, 'min_child_samples': 100.0, 'grow_policy': 'SymmetricTree', 'border_count': 1024, 'auto_class_weight': 'Balanced'}. Best is trial 106 with value: 0.8016404476780503.\n",
      "/var/folders/_k/vxqnb8117qb_1tpg9p98mtyc0000gn/T/ipykernel_9428/1751210426.py:7: FutureWarning: suggest_loguniform has been deprecated in v3.0.0. This feature will be removed in v6.0.0. See https://github.com/optuna/optuna/releases/tag/v3.0.0. Use suggest_float(..., log=True) instead.\n",
      "  \"l2_leaf_reg\": trial.suggest_loguniform('l2_leaf_reg', 1e-2, 10),\n",
      "[I 2025-04-07 15:07:10,165] Trial 148 finished with value: 0.8009484150320767 and parameters: {'n_estimators': 1654, 'learning_rate': 0.11033183390865334, 'objective': 'Logloss', 'depth': 3, 'l2_leaf_reg': 0.3277128558252734, 'colsample_bylevel': 0.9820961148916004, 'min_child_samples': 200.0, 'grow_policy': 'Lossguide', 'border_count': 128, 'auto_class_weight': 'Balanced'}. Best is trial 106 with value: 0.8016404476780503.\n",
      "/var/folders/_k/vxqnb8117qb_1tpg9p98mtyc0000gn/T/ipykernel_9428/1751210426.py:7: FutureWarning: suggest_loguniform has been deprecated in v3.0.0. This feature will be removed in v6.0.0. See https://github.com/optuna/optuna/releases/tag/v3.0.0. Use suggest_float(..., log=True) instead.\n",
      "  \"l2_leaf_reg\": trial.suggest_loguniform('l2_leaf_reg', 1e-2, 10),\n",
      "[I 2025-04-07 15:07:10,946] Trial 149 finished with value: 0.801033211199641 and parameters: {'n_estimators': 1505, 'learning_rate': 0.11757694613532249, 'objective': 'Logloss', 'depth': 3, 'l2_leaf_reg': 0.461024731991391, 'colsample_bylevel': 0.9173504822735179, 'min_child_samples': 300.0, 'grow_policy': 'SymmetricTree', 'border_count': 128, 'auto_class_weight': 'Balanced'}. Best is trial 106 with value: 0.8016404476780503.\n",
      "/var/folders/_k/vxqnb8117qb_1tpg9p98mtyc0000gn/T/ipykernel_9428/1751210426.py:7: FutureWarning: suggest_loguniform has been deprecated in v3.0.0. This feature will be removed in v6.0.0. See https://github.com/optuna/optuna/releases/tag/v3.0.0. Use suggest_float(..., log=True) instead.\n",
      "  \"l2_leaf_reg\": trial.suggest_loguniform('l2_leaf_reg', 1e-2, 10),\n",
      "[I 2025-04-07 15:07:11,799] Trial 150 finished with value: 0.8007738022740312 and parameters: {'n_estimators': 1555, 'learning_rate': 0.13221688576785237, 'objective': 'Logloss', 'depth': 3, 'l2_leaf_reg': 0.38996243918589346, 'colsample_bylevel': 0.9530781464293248, 'min_child_samples': 200.0, 'grow_policy': 'SymmetricTree', 'border_count': 128, 'auto_class_weight': 'Balanced'}. Best is trial 106 with value: 0.8016404476780503.\n",
      "/var/folders/_k/vxqnb8117qb_1tpg9p98mtyc0000gn/T/ipykernel_9428/1751210426.py:7: FutureWarning: suggest_loguniform has been deprecated in v3.0.0. This feature will be removed in v6.0.0. See https://github.com/optuna/optuna/releases/tag/v3.0.0. Use suggest_float(..., log=True) instead.\n",
      "  \"l2_leaf_reg\": trial.suggest_loguniform('l2_leaf_reg', 1e-2, 10),\n",
      "[I 2025-04-07 15:07:13,034] Trial 151 finished with value: 0.8012962527889878 and parameters: {'n_estimators': 1595, 'learning_rate': 0.08958117567517399, 'objective': 'Logloss', 'depth': 3, 'l2_leaf_reg': 0.6289014671740598, 'colsample_bylevel': 0.9759399552638536, 'min_child_samples': 200.0, 'grow_policy': 'SymmetricTree', 'border_count': 128, 'auto_class_weight': 'Balanced'}. Best is trial 106 with value: 0.8016404476780503.\n",
      "/var/folders/_k/vxqnb8117qb_1tpg9p98mtyc0000gn/T/ipykernel_9428/1751210426.py:7: FutureWarning: suggest_loguniform has been deprecated in v3.0.0. This feature will be removed in v6.0.0. See https://github.com/optuna/optuna/releases/tag/v3.0.0. Use suggest_float(..., log=True) instead.\n",
      "  \"l2_leaf_reg\": trial.suggest_loguniform('l2_leaf_reg', 1e-2, 10),\n",
      "[I 2025-04-07 15:07:14,353] Trial 152 finished with value: 0.8014069061753978 and parameters: {'n_estimators': 1622, 'learning_rate': 0.08275509012810148, 'objective': 'Logloss', 'depth': 3, 'l2_leaf_reg': 0.7041578527971999, 'colsample_bylevel': 0.999725977570596, 'min_child_samples': 200.0, 'grow_policy': 'SymmetricTree', 'border_count': 128, 'auto_class_weight': 'Balanced'}. Best is trial 106 with value: 0.8016404476780503.\n",
      "/var/folders/_k/vxqnb8117qb_1tpg9p98mtyc0000gn/T/ipykernel_9428/1751210426.py:7: FutureWarning: suggest_loguniform has been deprecated in v3.0.0. This feature will be removed in v6.0.0. See https://github.com/optuna/optuna/releases/tag/v3.0.0. Use suggest_float(..., log=True) instead.\n",
      "  \"l2_leaf_reg\": trial.suggest_loguniform('l2_leaf_reg', 1e-2, 10),\n",
      "[I 2025-04-07 15:07:15,558] Trial 153 finished with value: 0.8011129359237301 and parameters: {'n_estimators': 1643, 'learning_rate': 0.0803869171971103, 'objective': 'Logloss', 'depth': 3, 'l2_leaf_reg': 0.3153496886921399, 'colsample_bylevel': 0.9929421541629091, 'min_child_samples': 200.0, 'grow_policy': 'SymmetricTree', 'border_count': 128, 'auto_class_weight': 'Balanced'}. Best is trial 106 with value: 0.8016404476780503.\n",
      "/var/folders/_k/vxqnb8117qb_1tpg9p98mtyc0000gn/T/ipykernel_9428/1751210426.py:7: FutureWarning: suggest_loguniform has been deprecated in v3.0.0. This feature will be removed in v6.0.0. See https://github.com/optuna/optuna/releases/tag/v3.0.0. Use suggest_float(..., log=True) instead.\n",
      "  \"l2_leaf_reg\": trial.suggest_loguniform('l2_leaf_reg', 1e-2, 10),\n",
      "[I 2025-04-07 15:07:16,256] Trial 154 finished with value: 0.801157731973743 and parameters: {'n_estimators': 1689, 'learning_rate': 0.12549537495397844, 'objective': 'Logloss', 'depth': 3, 'l2_leaf_reg': 0.8080558995250468, 'colsample_bylevel': 0.9650159992820915, 'min_child_samples': 200.0, 'grow_policy': 'SymmetricTree', 'border_count': 128, 'auto_class_weight': 'Balanced'}. Best is trial 106 with value: 0.8016404476780503.\n",
      "/var/folders/_k/vxqnb8117qb_1tpg9p98mtyc0000gn/T/ipykernel_9428/1751210426.py:7: FutureWarning: suggest_loguniform has been deprecated in v3.0.0. This feature will be removed in v6.0.0. See https://github.com/optuna/optuna/releases/tag/v3.0.0. Use suggest_float(..., log=True) instead.\n",
      "  \"l2_leaf_reg\": trial.suggest_loguniform('l2_leaf_reg', 1e-2, 10),\n",
      "[I 2025-04-07 15:07:17,268] Trial 155 finished with value: 0.8011424870309822 and parameters: {'n_estimators': 1845, 'learning_rate': 0.09746653579136325, 'objective': 'Logloss', 'depth': 3, 'l2_leaf_reg': 1.2381173656316964, 'colsample_bylevel': 0.9414820084057979, 'min_child_samples': 100.0, 'grow_policy': 'SymmetricTree', 'border_count': 128, 'auto_class_weight': 'Balanced'}. Best is trial 106 with value: 0.8016404476780503.\n",
      "/var/folders/_k/vxqnb8117qb_1tpg9p98mtyc0000gn/T/ipykernel_9428/1751210426.py:7: FutureWarning: suggest_loguniform has been deprecated in v3.0.0. This feature will be removed in v6.0.0. See https://github.com/optuna/optuna/releases/tag/v3.0.0. Use suggest_float(..., log=True) instead.\n",
      "  \"l2_leaf_reg\": trial.suggest_loguniform('l2_leaf_reg', 1e-2, 10),\n",
      "[I 2025-04-07 15:07:17,960] Trial 156 finished with value: 0.7999577284472019 and parameters: {'n_estimators': 1455, 'learning_rate': 0.10628871432153984, 'objective': 'Logloss', 'depth': 8, 'l2_leaf_reg': 0.5818448481438654, 'colsample_bylevel': 0.9019830673510345, 'min_child_samples': 300.0, 'grow_policy': 'SymmetricTree', 'border_count': 128, 'auto_class_weight': 'Balanced'}. Best is trial 106 with value: 0.8016404476780503.\n",
      "/var/folders/_k/vxqnb8117qb_1tpg9p98mtyc0000gn/T/ipykernel_9428/1751210426.py:7: FutureWarning: suggest_loguniform has been deprecated in v3.0.0. This feature will be removed in v6.0.0. See https://github.com/optuna/optuna/releases/tag/v3.0.0. Use suggest_float(..., log=True) instead.\n",
      "  \"l2_leaf_reg\": trial.suggest_loguniform('l2_leaf_reg', 1e-2, 10),\n",
      "[I 2025-04-07 15:07:18,734] Trial 157 finished with value: 0.8016188659819734 and parameters: {'n_estimators': 1619, 'learning_rate': 0.1583601567934212, 'objective': 'Logloss', 'depth': 3, 'l2_leaf_reg': 0.4584578644610738, 'colsample_bylevel': 0.9999048876138906, 'min_child_samples': 100.0, 'grow_policy': 'SymmetricTree', 'border_count': 128, 'auto_class_weight': 'Balanced'}. Best is trial 106 with value: 0.8016404476780503.\n",
      "/var/folders/_k/vxqnb8117qb_1tpg9p98mtyc0000gn/T/ipykernel_9428/1751210426.py:7: FutureWarning: suggest_loguniform has been deprecated in v3.0.0. This feature will be removed in v6.0.0. See https://github.com/optuna/optuna/releases/tag/v3.0.0. Use suggest_float(..., log=True) instead.\n",
      "  \"l2_leaf_reg\": trial.suggest_loguniform('l2_leaf_reg', 1e-2, 10),\n",
      "[I 2025-04-07 15:07:19,431] Trial 158 finished with value: 0.801282007849166 and parameters: {'n_estimators': 1729, 'learning_rate': 0.16360775243190984, 'objective': 'Logloss', 'depth': 3, 'l2_leaf_reg': 0.865464109346848, 'colsample_bylevel': 0.9992659419320816, 'min_child_samples': 100.0, 'grow_policy': 'SymmetricTree', 'border_count': 128, 'auto_class_weight': 'Balanced'}. Best is trial 106 with value: 0.8016404476780503.\n",
      "/var/folders/_k/vxqnb8117qb_1tpg9p98mtyc0000gn/T/ipykernel_9428/1751210426.py:7: FutureWarning: suggest_loguniform has been deprecated in v3.0.0. This feature will be removed in v6.0.0. See https://github.com/optuna/optuna/releases/tag/v3.0.0. Use suggest_float(..., log=True) instead.\n",
      "  \"l2_leaf_reg\": trial.suggest_loguniform('l2_leaf_reg', 1e-2, 10),\n",
      "[I 2025-04-07 15:07:20,831] Trial 159 finished with value: 0.8008545270010589 and parameters: {'n_estimators': 1620, 'learning_rate': 0.07305522315219022, 'objective': 'Logloss', 'depth': 3, 'l2_leaf_reg': 0.5220744043723623, 'colsample_bylevel': 0.9878998918664077, 'min_child_samples': 100.0, 'grow_policy': 'SymmetricTree', 'border_count': 128, 'auto_class_weight': 'Balanced'}. Best is trial 106 with value: 0.8016404476780503.\n",
      "/var/folders/_k/vxqnb8117qb_1tpg9p98mtyc0000gn/T/ipykernel_9428/1751210426.py:7: FutureWarning: suggest_loguniform has been deprecated in v3.0.0. This feature will be removed in v6.0.0. See https://github.com/optuna/optuna/releases/tag/v3.0.0. Use suggest_float(..., log=True) instead.\n",
      "  \"l2_leaf_reg\": trial.suggest_loguniform('l2_leaf_reg', 1e-2, 10),\n",
      "[I 2025-04-07 15:07:21,461] Trial 160 finished with value: 0.8015974679599058 and parameters: {'n_estimators': 1653, 'learning_rate': 0.15781750050013718, 'objective': 'CrossEntropy', 'depth': 3, 'l2_leaf_reg': 0.4512663016250738, 'colsample_bylevel': 0.9461991036774955, 'min_child_samples': 1000.0, 'grow_policy': 'SymmetricTree', 'border_count': 128, 'auto_class_weight': 'Balanced'}. Best is trial 106 with value: 0.8016404476780503.\n",
      "/var/folders/_k/vxqnb8117qb_1tpg9p98mtyc0000gn/T/ipykernel_9428/1751210426.py:7: FutureWarning: suggest_loguniform has been deprecated in v3.0.0. This feature will be removed in v6.0.0. See https://github.com/optuna/optuna/releases/tag/v3.0.0. Use suggest_float(..., log=True) instead.\n",
      "  \"l2_leaf_reg\": trial.suggest_loguniform('l2_leaf_reg', 1e-2, 10),\n",
      "[I 2025-04-07 15:07:22,165] Trial 161 finished with value: 0.8015166003753154 and parameters: {'n_estimators': 1665, 'learning_rate': 0.15532662049658555, 'objective': 'CrossEntropy', 'depth': 3, 'l2_leaf_reg': 0.4603232173590972, 'colsample_bylevel': 0.9388058265746512, 'min_child_samples': 600.0, 'grow_policy': 'SymmetricTree', 'border_count': 128, 'auto_class_weight': 'Balanced'}. Best is trial 106 with value: 0.8016404476780503.\n",
      "/var/folders/_k/vxqnb8117qb_1tpg9p98mtyc0000gn/T/ipykernel_9428/1751210426.py:7: FutureWarning: suggest_loguniform has been deprecated in v3.0.0. This feature will be removed in v6.0.0. See https://github.com/optuna/optuna/releases/tag/v3.0.0. Use suggest_float(..., log=True) instead.\n",
      "  \"l2_leaf_reg\": trial.suggest_loguniform('l2_leaf_reg', 1e-2, 10),\n",
      "[I 2025-04-07 15:07:22,773] Trial 162 finished with value: 0.801001160085042 and parameters: {'n_estimators': 1660, 'learning_rate': 0.15483314815121318, 'objective': 'CrossEntropy', 'depth': 3, 'l2_leaf_reg': 0.36876545006966144, 'colsample_bylevel': 0.938113009566165, 'min_child_samples': 1000.0, 'grow_policy': 'SymmetricTree', 'border_count': 128, 'auto_class_weight': 'Balanced'}. Best is trial 106 with value: 0.8016404476780503.\n",
      "/var/folders/_k/vxqnb8117qb_1tpg9p98mtyc0000gn/T/ipykernel_9428/1751210426.py:7: FutureWarning: suggest_loguniform has been deprecated in v3.0.0. This feature will be removed in v6.0.0. See https://github.com/optuna/optuna/releases/tag/v3.0.0. Use suggest_float(..., log=True) instead.\n",
      "  \"l2_leaf_reg\": trial.suggest_loguniform('l2_leaf_reg', 1e-2, 10),\n",
      "[I 2025-04-07 15:07:23,624] Trial 163 finished with value: 0.8007239653928778 and parameters: {'n_estimators': 1691, 'learning_rate': 0.15898157734944826, 'objective': 'CrossEntropy', 'depth': 3, 'l2_leaf_reg': 0.4553183702794935, 'colsample_bylevel': 0.925871149658697, 'min_child_samples': 700.0, 'grow_policy': 'SymmetricTree', 'border_count': 128, 'auto_class_weight': 'Balanced'}. Best is trial 106 with value: 0.8016404476780503.\n",
      "/var/folders/_k/vxqnb8117qb_1tpg9p98mtyc0000gn/T/ipykernel_9428/1751210426.py:7: FutureWarning: suggest_loguniform has been deprecated in v3.0.0. This feature will be removed in v6.0.0. See https://github.com/optuna/optuna/releases/tag/v3.0.0. Use suggest_float(..., log=True) instead.\n",
      "  \"l2_leaf_reg\": trial.suggest_loguniform('l2_leaf_reg', 1e-2, 10),\n",
      "[I 2025-04-07 15:07:24,320] Trial 164 finished with value: 0.8009902620938314 and parameters: {'n_estimators': 1755, 'learning_rate': 0.16409958783039877, 'objective': 'CrossEntropy', 'depth': 3, 'l2_leaf_reg': 0.3557151369695257, 'colsample_bylevel': 0.951647443394522, 'min_child_samples': 800.0, 'grow_policy': 'SymmetricTree', 'border_count': 128, 'auto_class_weight': 'Balanced'}. Best is trial 106 with value: 0.8016404476780503.\n",
      "/var/folders/_k/vxqnb8117qb_1tpg9p98mtyc0000gn/T/ipykernel_9428/1751210426.py:7: FutureWarning: suggest_loguniform has been deprecated in v3.0.0. This feature will be removed in v6.0.0. See https://github.com/optuna/optuna/releases/tag/v3.0.0. Use suggest_float(..., log=True) instead.\n",
      "  \"l2_leaf_reg\": trial.suggest_loguniform('l2_leaf_reg', 1e-2, 10),\n",
      "[I 2025-04-07 15:07:25,044] Trial 165 finished with value: 0.8012294056537634 and parameters: {'n_estimators': 1633, 'learning_rate': 0.14296786890554342, 'objective': 'CrossEntropy', 'depth': 3, 'l2_leaf_reg': 0.43103207364334156, 'colsample_bylevel': 0.9846405783867307, 'min_child_samples': 700.0, 'grow_policy': 'SymmetricTree', 'border_count': 128, 'auto_class_weight': 'Balanced'}. Best is trial 106 with value: 0.8016404476780503.\n",
      "/var/folders/_k/vxqnb8117qb_1tpg9p98mtyc0000gn/T/ipykernel_9428/1751210426.py:7: FutureWarning: suggest_loguniform has been deprecated in v3.0.0. This feature will be removed in v6.0.0. See https://github.com/optuna/optuna/releases/tag/v3.0.0. Use suggest_float(..., log=True) instead.\n",
      "  \"l2_leaf_reg\": trial.suggest_loguniform('l2_leaf_reg', 1e-2, 10),\n",
      "[I 2025-04-07 15:07:25,593] Trial 166 finished with value: 0.8007179857834684 and parameters: {'n_estimators': 1670, 'learning_rate': 0.1741797227629533, 'objective': 'CrossEntropy', 'depth': 3, 'l2_leaf_reg': 0.643154786070605, 'colsample_bylevel': 0.915295148548871, 'min_child_samples': 600.0, 'grow_policy': 'SymmetricTree', 'border_count': 256, 'auto_class_weight': 'Balanced'}. Best is trial 106 with value: 0.8016404476780503.\n",
      "/var/folders/_k/vxqnb8117qb_1tpg9p98mtyc0000gn/T/ipykernel_9428/1751210426.py:7: FutureWarning: suggest_loguniform has been deprecated in v3.0.0. This feature will be removed in v6.0.0. See https://github.com/optuna/optuna/releases/tag/v3.0.0. Use suggest_float(..., log=True) instead.\n",
      "  \"l2_leaf_reg\": trial.suggest_loguniform('l2_leaf_reg', 1e-2, 10),\n",
      "[I 2025-04-07 15:07:26,188] Trial 167 finished with value: 0.8012029974128904 and parameters: {'n_estimators': 1806, 'learning_rate': 0.1554532544562544, 'objective': 'CrossEntropy', 'depth': 3, 'l2_leaf_reg': 0.2400215047981048, 'colsample_bylevel': 0.9499517937943751, 'min_child_samples': 900.0, 'grow_policy': 'SymmetricTree', 'border_count': 128, 'auto_class_weight': 'Balanced'}. Best is trial 106 with value: 0.8016404476780503.\n",
      "/var/folders/_k/vxqnb8117qb_1tpg9p98mtyc0000gn/T/ipykernel_9428/1751210426.py:7: FutureWarning: suggest_loguniform has been deprecated in v3.0.0. This feature will be removed in v6.0.0. See https://github.com/optuna/optuna/releases/tag/v3.0.0. Use suggest_float(..., log=True) instead.\n",
      "  \"l2_leaf_reg\": trial.suggest_loguniform('l2_leaf_reg', 1e-2, 10),\n",
      "[I 2025-04-07 15:07:26,955] Trial 168 finished with value: 0.8011416196814947 and parameters: {'n_estimators': 1718, 'learning_rate': 0.15035908629363584, 'objective': 'CrossEntropy', 'depth': 3, 'l2_leaf_reg': 0.7388787315973537, 'colsample_bylevel': 0.9980998304653582, 'min_child_samples': 100.0, 'grow_policy': 'SymmetricTree', 'border_count': 128, 'auto_class_weight': 'Balanced'}. Best is trial 106 with value: 0.8016404476780503.\n",
      "/var/folders/_k/vxqnb8117qb_1tpg9p98mtyc0000gn/T/ipykernel_9428/1751210426.py:7: FutureWarning: suggest_loguniform has been deprecated in v3.0.0. This feature will be removed in v6.0.0. See https://github.com/optuna/optuna/releases/tag/v3.0.0. Use suggest_float(..., log=True) instead.\n",
      "  \"l2_leaf_reg\": trial.suggest_loguniform('l2_leaf_reg', 1e-2, 10),\n",
      "[I 2025-04-07 15:07:28,002] Trial 169 finished with value: 0.8009206190320233 and parameters: {'n_estimators': 1778, 'learning_rate': 0.1351730851511177, 'objective': 'CrossEntropy', 'depth': 3, 'l2_leaf_reg': 0.3893680182039337, 'colsample_bylevel': 0.4159242432416608, 'min_child_samples': 1000.0, 'grow_policy': 'SymmetricTree', 'border_count': 128, 'auto_class_weight': 'SqrtBalanced'}. Best is trial 106 with value: 0.8016404476780503.\n",
      "/var/folders/_k/vxqnb8117qb_1tpg9p98mtyc0000gn/T/ipykernel_9428/1751210426.py:7: FutureWarning: suggest_loguniform has been deprecated in v3.0.0. This feature will be removed in v6.0.0. See https://github.com/optuna/optuna/releases/tag/v3.0.0. Use suggest_float(..., log=True) instead.\n",
      "  \"l2_leaf_reg\": trial.suggest_loguniform('l2_leaf_reg', 1e-2, 10),\n",
      "[I 2025-04-07 15:07:28,656] Trial 170 finished with value: 0.7994555432979231 and parameters: {'n_estimators': 1620, 'learning_rate': 0.17156135585851018, 'objective': 'CrossEntropy', 'depth': 7, 'l2_leaf_reg': 0.32529356741551213, 'colsample_bylevel': 0.9716772951868681, 'min_child_samples': 100.0, 'grow_policy': 'Depthwise', 'border_count': 128, 'auto_class_weight': 'Balanced'}. Best is trial 106 with value: 0.8016404476780503.\n",
      "/var/folders/_k/vxqnb8117qb_1tpg9p98mtyc0000gn/T/ipykernel_9428/1751210426.py:7: FutureWarning: suggest_loguniform has been deprecated in v3.0.0. This feature will be removed in v6.0.0. See https://github.com/optuna/optuna/releases/tag/v3.0.0. Use suggest_float(..., log=True) instead.\n",
      "  \"l2_leaf_reg\": trial.suggest_loguniform('l2_leaf_reg', 1e-2, 10),\n",
      "[I 2025-04-07 15:07:29,124] Trial 171 finished with value: 0.8007536287453579 and parameters: {'n_estimators': 1605, 'learning_rate': 0.27315612505972675, 'objective': 'Logloss', 'depth': 3, 'l2_leaf_reg': 0.5123203089612492, 'colsample_bylevel': 0.9772388884071233, 'min_child_samples': 900.0, 'grow_policy': 'SymmetricTree', 'border_count': 128, 'auto_class_weight': 'Balanced'}. Best is trial 106 with value: 0.8016404476780503.\n",
      "/var/folders/_k/vxqnb8117qb_1tpg9p98mtyc0000gn/T/ipykernel_9428/1751210426.py:7: FutureWarning: suggest_loguniform has been deprecated in v3.0.0. This feature will be removed in v6.0.0. See https://github.com/optuna/optuna/releases/tag/v3.0.0. Use suggest_float(..., log=True) instead.\n",
      "  \"l2_leaf_reg\": trial.suggest_loguniform('l2_leaf_reg', 1e-2, 10),\n",
      "[I 2025-04-07 15:07:29,932] Trial 172 finished with value: 0.8006821693516813 and parameters: {'n_estimators': 1571, 'learning_rate': 0.14628551236612775, 'objective': 'Logloss', 'depth': 3, 'l2_leaf_reg': 0.5464267559062499, 'colsample_bylevel': 0.9554718874179308, 'min_child_samples': 200.0, 'grow_policy': 'SymmetricTree', 'border_count': 128, 'auto_class_weight': 'Balanced'}. Best is trial 106 with value: 0.8016404476780503.\n",
      "/var/folders/_k/vxqnb8117qb_1tpg9p98mtyc0000gn/T/ipykernel_9428/1751210426.py:7: FutureWarning: suggest_loguniform has been deprecated in v3.0.0. This feature will be removed in v6.0.0. See https://github.com/optuna/optuna/releases/tag/v3.0.0. Use suggest_float(..., log=True) instead.\n",
      "  \"l2_leaf_reg\": trial.suggest_loguniform('l2_leaf_reg', 1e-2, 10),\n",
      "[I 2025-04-07 15:07:30,853] Trial 173 finished with value: 0.8014150286482474 and parameters: {'n_estimators': 1653, 'learning_rate': 0.09447726716497379, 'objective': 'CrossEntropy', 'depth': 3, 'l2_leaf_reg': 0.4658010326407917, 'colsample_bylevel': 0.9365186602980474, 'min_child_samples': 200.0, 'grow_policy': 'SymmetricTree', 'border_count': 128, 'auto_class_weight': 'Balanced'}. Best is trial 106 with value: 0.8016404476780503.\n",
      "/var/folders/_k/vxqnb8117qb_1tpg9p98mtyc0000gn/T/ipykernel_9428/1751210426.py:7: FutureWarning: suggest_loguniform has been deprecated in v3.0.0. This feature will be removed in v6.0.0. See https://github.com/optuna/optuna/releases/tag/v3.0.0. Use suggest_float(..., log=True) instead.\n",
      "  \"l2_leaf_reg\": trial.suggest_loguniform('l2_leaf_reg', 1e-2, 10),\n",
      "[I 2025-04-07 15:07:31,536] Trial 174 finished with value: 0.7992297161036555 and parameters: {'n_estimators': 1677, 'learning_rate': 0.14118972585120193, 'objective': 'CrossEntropy', 'depth': 9, 'l2_leaf_reg': 0.4664171148389522, 'colsample_bylevel': 0.8947650243171413, 'min_child_samples': 200.0, 'grow_policy': 'SymmetricTree', 'border_count': 128, 'auto_class_weight': 'Balanced'}. Best is trial 106 with value: 0.8016404476780503.\n",
      "/var/folders/_k/vxqnb8117qb_1tpg9p98mtyc0000gn/T/ipykernel_9428/1751210426.py:7: FutureWarning: suggest_loguniform has been deprecated in v3.0.0. This feature will be removed in v6.0.0. See https://github.com/optuna/optuna/releases/tag/v3.0.0. Use suggest_float(..., log=True) instead.\n",
      "  \"l2_leaf_reg\": trial.suggest_loguniform('l2_leaf_reg', 1e-2, 10),\n",
      "[I 2025-04-07 15:07:32,254] Trial 175 finished with value: 0.8007037408436466 and parameters: {'n_estimators': 1646, 'learning_rate': 0.15986149258345955, 'objective': 'CrossEntropy', 'depth': 3, 'l2_leaf_reg': 0.29526953925058314, 'colsample_bylevel': 0.9356274335506121, 'min_child_samples': 200.0, 'grow_policy': 'SymmetricTree', 'border_count': 128, 'auto_class_weight': 'Balanced'}. Best is trial 106 with value: 0.8016404476780503.\n",
      "/var/folders/_k/vxqnb8117qb_1tpg9p98mtyc0000gn/T/ipykernel_9428/1751210426.py:7: FutureWarning: suggest_loguniform has been deprecated in v3.0.0. This feature will be removed in v6.0.0. See https://github.com/optuna/optuna/releases/tag/v3.0.0. Use suggest_float(..., log=True) instead.\n",
      "  \"l2_leaf_reg\": trial.suggest_loguniform('l2_leaf_reg', 1e-2, 10),\n",
      "[I 2025-04-07 15:07:33,187] Trial 176 finished with value: 0.8008012921507361 and parameters: {'n_estimators': 1704, 'learning_rate': 0.1312792621446639, 'objective': 'CrossEntropy', 'depth': 3, 'l2_leaf_reg': 0.9483993531194586, 'colsample_bylevel': 0.9159879700460549, 'min_child_samples': 800.0, 'grow_policy': 'SymmetricTree', 'border_count': 128, 'auto_class_weight': 'Balanced'}. Best is trial 106 with value: 0.8016404476780503.\n",
      "/var/folders/_k/vxqnb8117qb_1tpg9p98mtyc0000gn/T/ipykernel_9428/1751210426.py:7: FutureWarning: suggest_loguniform has been deprecated in v3.0.0. This feature will be removed in v6.0.0. See https://github.com/optuna/optuna/releases/tag/v3.0.0. Use suggest_float(..., log=True) instead.\n",
      "  \"l2_leaf_reg\": trial.suggest_loguniform('l2_leaf_reg', 1e-2, 10),\n",
      "[I 2025-04-07 15:07:34,196] Trial 177 finished with value: 0.8006125977186545 and parameters: {'n_estimators': 1541, 'learning_rate': 0.1260369393150581, 'objective': 'CrossEntropy', 'depth': 3, 'l2_leaf_reg': 0.36502567165517547, 'colsample_bylevel': 0.9623711146972187, 'min_child_samples': 200.0, 'grow_policy': 'Lossguide', 'border_count': 128, 'auto_class_weight': 'Balanced'}. Best is trial 106 with value: 0.8016404476780503.\n",
      "/var/folders/_k/vxqnb8117qb_1tpg9p98mtyc0000gn/T/ipykernel_9428/1751210426.py:7: FutureWarning: suggest_loguniform has been deprecated in v3.0.0. This feature will be removed in v6.0.0. See https://github.com/optuna/optuna/releases/tag/v3.0.0. Use suggest_float(..., log=True) instead.\n",
      "  \"l2_leaf_reg\": trial.suggest_loguniform('l2_leaf_reg', 1e-2, 10),\n",
      "[I 2025-04-07 15:07:35,067] Trial 178 finished with value: 0.8009048128631235 and parameters: {'n_estimators': 1750, 'learning_rate': 0.096093445441259, 'objective': 'CrossEntropy', 'depth': 3, 'l2_leaf_reg': 0.4189717375437215, 'colsample_bylevel': 0.9349882865073551, 'min_child_samples': 200.0, 'grow_policy': 'SymmetricTree', 'border_count': 1024, 'auto_class_weight': 'Balanced'}. Best is trial 106 with value: 0.8016404476780503.\n",
      "/var/folders/_k/vxqnb8117qb_1tpg9p98mtyc0000gn/T/ipykernel_9428/1751210426.py:7: FutureWarning: suggest_loguniform has been deprecated in v3.0.0. This feature will be removed in v6.0.0. See https://github.com/optuna/optuna/releases/tag/v3.0.0. Use suggest_float(..., log=True) instead.\n",
      "  \"l2_leaf_reg\": trial.suggest_loguniform('l2_leaf_reg', 1e-2, 10),\n",
      "[I 2025-04-07 15:07:36,012] Trial 179 finished with value: 0.8006186385527336 and parameters: {'n_estimators': 1632, 'learning_rate': 0.13723979887876053, 'objective': 'CrossEntropy', 'depth': 3, 'l2_leaf_reg': 0.2160130960866897, 'colsample_bylevel': 0.318920012491676, 'min_child_samples': 200.0, 'grow_policy': 'SymmetricTree', 'border_count': 128, 'auto_class_weight': 'Balanced'}. Best is trial 106 with value: 0.8016404476780503.\n",
      "/var/folders/_k/vxqnb8117qb_1tpg9p98mtyc0000gn/T/ipykernel_9428/1751210426.py:7: FutureWarning: suggest_loguniform has been deprecated in v3.0.0. This feature will be removed in v6.0.0. See https://github.com/optuna/optuna/releases/tag/v3.0.0. Use suggest_float(..., log=True) instead.\n",
      "  \"l2_leaf_reg\": trial.suggest_loguniform('l2_leaf_reg', 1e-2, 10),\n",
      "[I 2025-04-07 15:07:36,624] Trial 180 finished with value: 0.8009927518970668 and parameters: {'n_estimators': 1498, 'learning_rate': 0.14933184809164424, 'objective': 'Logloss', 'depth': 3, 'l2_leaf_reg': 0.26920155338453483, 'colsample_bylevel': 0.999406436498415, 'min_child_samples': 200.0, 'grow_policy': 'SymmetricTree', 'border_count': 128, 'auto_class_weight': 'Balanced'}. Best is trial 106 with value: 0.8016404476780503.\n",
      "/var/folders/_k/vxqnb8117qb_1tpg9p98mtyc0000gn/T/ipykernel_9428/1751210426.py:7: FutureWarning: suggest_loguniform has been deprecated in v3.0.0. This feature will be removed in v6.0.0. See https://github.com/optuna/optuna/releases/tag/v3.0.0. Use suggest_float(..., log=True) instead.\n",
      "  \"l2_leaf_reg\": trial.suggest_loguniform('l2_leaf_reg', 1e-2, 10),\n",
      "[I 2025-04-07 15:07:37,617] Trial 181 finished with value: 0.8013260181825841 and parameters: {'n_estimators': 1584, 'learning_rate': 0.0799345050303006, 'objective': 'Logloss', 'depth': 3, 'l2_leaf_reg': 0.5849253115812858, 'colsample_bylevel': 0.9666333366624585, 'min_child_samples': 200.0, 'grow_policy': 'SymmetricTree', 'border_count': 128, 'auto_class_weight': 'Balanced'}. Best is trial 106 with value: 0.8016404476780503.\n",
      "/var/folders/_k/vxqnb8117qb_1tpg9p98mtyc0000gn/T/ipykernel_9428/1751210426.py:7: FutureWarning: suggest_loguniform has been deprecated in v3.0.0. This feature will be removed in v6.0.0. See https://github.com/optuna/optuna/releases/tag/v3.0.0. Use suggest_float(..., log=True) instead.\n",
      "  \"l2_leaf_reg\": trial.suggest_loguniform('l2_leaf_reg', 1e-2, 10),\n",
      "[I 2025-04-07 15:07:38,937] Trial 182 finished with value: 0.8011063440676234 and parameters: {'n_estimators': 1665, 'learning_rate': 0.09116906564852136, 'objective': 'Logloss', 'depth': 3, 'l2_leaf_reg': 0.699860850854767, 'colsample_bylevel': 0.9785105956796033, 'min_child_samples': 200.0, 'grow_policy': 'SymmetricTree', 'border_count': 128, 'auto_class_weight': 'Balanced'}. Best is trial 106 with value: 0.8016404476780503.\n",
      "/var/folders/_k/vxqnb8117qb_1tpg9p98mtyc0000gn/T/ipykernel_9428/1751210426.py:7: FutureWarning: suggest_loguniform has been deprecated in v3.0.0. This feature will be removed in v6.0.0. See https://github.com/optuna/optuna/releases/tag/v3.0.0. Use suggest_float(..., log=True) instead.\n",
      "  \"l2_leaf_reg\": trial.suggest_loguniform('l2_leaf_reg', 1e-2, 10),\n",
      "[I 2025-04-07 15:07:39,908] Trial 183 finished with value: 0.8009691701951124 and parameters: {'n_estimators': 1605, 'learning_rate': 0.10665179177308524, 'objective': 'Logloss', 'depth': 3, 'l2_leaf_reg': 0.4549640900411382, 'colsample_bylevel': 0.9499300613434545, 'min_child_samples': 200.0, 'grow_policy': 'SymmetricTree', 'border_count': 128, 'auto_class_weight': 'Balanced'}. Best is trial 106 with value: 0.8016404476780503.\n",
      "/var/folders/_k/vxqnb8117qb_1tpg9p98mtyc0000gn/T/ipykernel_9428/1751210426.py:7: FutureWarning: suggest_loguniform has been deprecated in v3.0.0. This feature will be removed in v6.0.0. See https://github.com/optuna/optuna/releases/tag/v3.0.0. Use suggest_float(..., log=True) instead.\n",
      "  \"l2_leaf_reg\": trial.suggest_loguniform('l2_leaf_reg', 1e-2, 10),\n",
      "[I 2025-04-07 15:07:40,769] Trial 184 finished with value: 0.8016718253212824 and parameters: {'n_estimators': 1527, 'learning_rate': 0.11335114963766697, 'objective': 'Logloss', 'depth': 3, 'l2_leaf_reg': 0.625798747780737, 'colsample_bylevel': 0.9775420575021707, 'min_child_samples': 200.0, 'grow_policy': 'SymmetricTree', 'border_count': 128, 'auto_class_weight': 'Balanced'}. Best is trial 184 with value: 0.8016718253212824.\n",
      "/var/folders/_k/vxqnb8117qb_1tpg9p98mtyc0000gn/T/ipykernel_9428/1751210426.py:7: FutureWarning: suggest_loguniform has been deprecated in v3.0.0. This feature will be removed in v6.0.0. See https://github.com/optuna/optuna/releases/tag/v3.0.0. Use suggest_float(..., log=True) instead.\n",
      "  \"l2_leaf_reg\": trial.suggest_loguniform('l2_leaf_reg', 1e-2, 10),\n",
      "[I 2025-04-07 15:07:41,708] Trial 185 finished with value: 0.800944537469661 and parameters: {'n_estimators': 1527, 'learning_rate': 0.1147409317738952, 'objective': 'Logloss', 'depth': 3, 'l2_leaf_reg': 0.3215938391286767, 'colsample_bylevel': 0.981865497890378, 'min_child_samples': 500.0, 'grow_policy': 'SymmetricTree', 'border_count': 128, 'auto_class_weight': 'Balanced'}. Best is trial 184 with value: 0.8016718253212824.\n",
      "/var/folders/_k/vxqnb8117qb_1tpg9p98mtyc0000gn/T/ipykernel_9428/1751210426.py:7: FutureWarning: suggest_loguniform has been deprecated in v3.0.0. This feature will be removed in v6.0.0. See https://github.com/optuna/optuna/releases/tag/v3.0.0. Use suggest_float(..., log=True) instead.\n",
      "  \"l2_leaf_reg\": trial.suggest_loguniform('l2_leaf_reg', 1e-2, 10),\n",
      "[I 2025-04-07 15:07:42,571] Trial 186 finished with value: 0.8012434158990182 and parameters: {'n_estimators': 1720, 'learning_rate': 0.12291427452272927, 'objective': 'Logloss', 'depth': 3, 'l2_leaf_reg': 0.6769850404044133, 'colsample_bylevel': 0.9345988437278623, 'min_child_samples': 200.0, 'grow_policy': 'SymmetricTree', 'border_count': 128, 'auto_class_weight': 'Balanced'}. Best is trial 184 with value: 0.8016718253212824.\n",
      "/var/folders/_k/vxqnb8117qb_1tpg9p98mtyc0000gn/T/ipykernel_9428/1751210426.py:7: FutureWarning: suggest_loguniform has been deprecated in v3.0.0. This feature will be removed in v6.0.0. See https://github.com/optuna/optuna/releases/tag/v3.0.0. Use suggest_float(..., log=True) instead.\n",
      "  \"l2_leaf_reg\": trial.suggest_loguniform('l2_leaf_reg', 1e-2, 10),\n",
      "[I 2025-04-07 15:07:43,373] Trial 187 finished with value: 0.8014306001225799 and parameters: {'n_estimators': 1559, 'learning_rate': 0.10278924241096063, 'objective': 'Logloss', 'depth': 3, 'l2_leaf_reg': 0.7652418841059632, 'colsample_bylevel': 0.998397048583746, 'min_child_samples': 100.0, 'grow_policy': 'SymmetricTree', 'border_count': 128, 'auto_class_weight': 'Balanced'}. Best is trial 184 with value: 0.8016718253212824.\n",
      "/var/folders/_k/vxqnb8117qb_1tpg9p98mtyc0000gn/T/ipykernel_9428/1751210426.py:7: FutureWarning: suggest_loguniform has been deprecated in v3.0.0. This feature will be removed in v6.0.0. See https://github.com/optuna/optuna/releases/tag/v3.0.0. Use suggest_float(..., log=True) instead.\n",
      "  \"l2_leaf_reg\": trial.suggest_loguniform('l2_leaf_reg', 1e-2, 10),\n",
      "[I 2025-04-07 15:07:44,297] Trial 188 finished with value: 0.8011784871367784 and parameters: {'n_estimators': 1459, 'learning_rate': 0.09518811868619194, 'objective': 'Logloss', 'depth': 3, 'l2_leaf_reg': 0.8103753827479885, 'colsample_bylevel': 0.9584033531879432, 'min_child_samples': 600.0, 'grow_policy': 'SymmetricTree', 'border_count': 128, 'auto_class_weight': 'Balanced'}. Best is trial 184 with value: 0.8016718253212824.\n",
      "/var/folders/_k/vxqnb8117qb_1tpg9p98mtyc0000gn/T/ipykernel_9428/1751210426.py:7: FutureWarning: suggest_loguniform has been deprecated in v3.0.0. This feature will be removed in v6.0.0. See https://github.com/optuna/optuna/releases/tag/v3.0.0. Use suggest_float(..., log=True) instead.\n",
      "  \"l2_leaf_reg\": trial.suggest_loguniform('l2_leaf_reg', 1e-2, 10),\n",
      "[I 2025-04-07 15:07:45,339] Trial 189 finished with value: 0.8012378546581851 and parameters: {'n_estimators': 1531, 'learning_rate': 0.10320167710989539, 'objective': 'Logloss', 'depth': 3, 'l2_leaf_reg': 0.4770738936977408, 'colsample_bylevel': 0.9123625670924873, 'min_child_samples': 100.0, 'grow_policy': 'SymmetricTree', 'border_count': 128, 'auto_class_weight': 'Balanced'}. Best is trial 184 with value: 0.8016718253212824.\n",
      "/var/folders/_k/vxqnb8117qb_1tpg9p98mtyc0000gn/T/ipykernel_9428/1751210426.py:7: FutureWarning: suggest_loguniform has been deprecated in v3.0.0. This feature will be removed in v6.0.0. See https://github.com/optuna/optuna/releases/tag/v3.0.0. Use suggest_float(..., log=True) instead.\n",
      "  \"l2_leaf_reg\": trial.suggest_loguniform('l2_leaf_reg', 1e-2, 10),\n",
      "[I 2025-04-07 15:07:46,216] Trial 190 finished with value: 0.8011599870824111 and parameters: {'n_estimators': 1548, 'learning_rate': 0.11147334564080562, 'objective': 'Logloss', 'depth': 3, 'l2_leaf_reg': 0.6272238967695529, 'colsample_bylevel': 0.9984684433229757, 'min_child_samples': 100.0, 'grow_policy': 'SymmetricTree', 'border_count': 128, 'auto_class_weight': 'Balanced'}. Best is trial 184 with value: 0.8016718253212824.\n",
      "/var/folders/_k/vxqnb8117qb_1tpg9p98mtyc0000gn/T/ipykernel_9428/1751210426.py:7: FutureWarning: suggest_loguniform has been deprecated in v3.0.0. This feature will be removed in v6.0.0. See https://github.com/optuna/optuna/releases/tag/v3.0.0. Use suggest_float(..., log=True) instead.\n",
      "  \"l2_leaf_reg\": trial.suggest_loguniform('l2_leaf_reg', 1e-2, 10),\n",
      "[I 2025-04-07 15:07:47,130] Trial 191 finished with value: 0.8010619969985218 and parameters: {'n_estimators': 1640, 'learning_rate': 0.11732130391272078, 'objective': 'Logloss', 'depth': 3, 'l2_leaf_reg': 0.955696255140417, 'colsample_bylevel': 0.9783258253567846, 'min_child_samples': 100.0, 'grow_policy': 'SymmetricTree', 'border_count': 128, 'auto_class_weight': 'Balanced'}. Best is trial 184 with value: 0.8016718253212824.\n",
      "/var/folders/_k/vxqnb8117qb_1tpg9p98mtyc0000gn/T/ipykernel_9428/1751210426.py:7: FutureWarning: suggest_loguniform has been deprecated in v3.0.0. This feature will be removed in v6.0.0. See https://github.com/optuna/optuna/releases/tag/v3.0.0. Use suggest_float(..., log=True) instead.\n",
      "  \"l2_leaf_reg\": trial.suggest_loguniform('l2_leaf_reg', 1e-2, 10),\n",
      "[I 2025-04-07 15:07:48,160] Trial 192 finished with value: 0.8009343129498178 and parameters: {'n_estimators': 1606, 'learning_rate': 0.12795441563629265, 'objective': 'Logloss', 'depth': 3, 'l2_leaf_reg': 0.7721256111664909, 'colsample_bylevel': 0.9530485463831146, 'min_child_samples': 200.0, 'grow_policy': 'SymmetricTree', 'border_count': 128, 'auto_class_weight': 'Balanced'}. Best is trial 184 with value: 0.8016718253212824.\n",
      "/var/folders/_k/vxqnb8117qb_1tpg9p98mtyc0000gn/T/ipykernel_9428/1751210426.py:7: FutureWarning: suggest_loguniform has been deprecated in v3.0.0. This feature will be removed in v6.0.0. See https://github.com/optuna/optuna/releases/tag/v3.0.0. Use suggest_float(..., log=True) instead.\n",
      "  \"l2_leaf_reg\": trial.suggest_loguniform('l2_leaf_reg', 1e-2, 10),\n",
      "[I 2025-04-07 15:07:49,036] Trial 193 finished with value: 0.8008014248041873 and parameters: {'n_estimators': 1556, 'learning_rate': 0.1418328575369555, 'objective': 'Logloss', 'depth': 3, 'l2_leaf_reg': 0.37167679602153303, 'colsample_bylevel': 0.979829455226424, 'min_child_samples': 200.0, 'grow_policy': 'SymmetricTree', 'border_count': 128, 'auto_class_weight': 'Balanced'}. Best is trial 184 with value: 0.8016718253212824.\n",
      "/var/folders/_k/vxqnb8117qb_1tpg9p98mtyc0000gn/T/ipykernel_9428/1751210426.py:7: FutureWarning: suggest_loguniform has been deprecated in v3.0.0. This feature will be removed in v6.0.0. See https://github.com/optuna/optuna/releases/tag/v3.0.0. Use suggest_float(..., log=True) instead.\n",
      "  \"l2_leaf_reg\": trial.suggest_loguniform('l2_leaf_reg', 1e-2, 10),\n",
      "[I 2025-04-07 15:07:49,784] Trial 194 finished with value: 0.8010873746241213 and parameters: {'n_estimators': 1691, 'learning_rate': 0.13424451849516386, 'objective': 'Logloss', 'depth': 3, 'l2_leaf_reg': 0.2887259894538376, 'colsample_bylevel': 0.9999766881286799, 'min_child_samples': 200.0, 'grow_policy': 'SymmetricTree', 'border_count': 128, 'auto_class_weight': 'Balanced'}. Best is trial 184 with value: 0.8016718253212824.\n",
      "/var/folders/_k/vxqnb8117qb_1tpg9p98mtyc0000gn/T/ipykernel_9428/1751210426.py:7: FutureWarning: suggest_loguniform has been deprecated in v3.0.0. This feature will be removed in v6.0.0. See https://github.com/optuna/optuna/releases/tag/v3.0.0. Use suggest_float(..., log=True) instead.\n",
      "  \"l2_leaf_reg\": trial.suggest_loguniform('l2_leaf_reg', 1e-2, 10),\n",
      "[I 2025-04-07 15:07:50,953] Trial 195 finished with value: 0.8010001090615452 and parameters: {'n_estimators': 1958, 'learning_rate': 0.10117219124030313, 'objective': 'Logloss', 'depth': 3, 'l2_leaf_reg': 0.49834127452348104, 'colsample_bylevel': 0.9410981725691839, 'min_child_samples': 100.0, 'grow_policy': 'SymmetricTree', 'border_count': 128, 'auto_class_weight': 'Balanced'}. Best is trial 184 with value: 0.8016718253212824.\n",
      "/var/folders/_k/vxqnb8117qb_1tpg9p98mtyc0000gn/T/ipykernel_9428/1751210426.py:7: FutureWarning: suggest_loguniform has been deprecated in v3.0.0. This feature will be removed in v6.0.0. See https://github.com/optuna/optuna/releases/tag/v3.0.0. Use suggest_float(..., log=True) instead.\n",
      "  \"l2_leaf_reg\": trial.suggest_loguniform('l2_leaf_reg', 1e-2, 10),\n",
      "[I 2025-04-07 15:07:51,632] Trial 196 finished with value: 0.8009498640159269 and parameters: {'n_estimators': 1664, 'learning_rate': 0.15457115415595257, 'objective': 'Logloss', 'depth': 3, 'l2_leaf_reg': 0.41634467383735835, 'colsample_bylevel': 0.9655202033113833, 'min_child_samples': 100.0, 'grow_policy': 'SymmetricTree', 'border_count': 128, 'auto_class_weight': 'Balanced'}. Best is trial 184 with value: 0.8016718253212824.\n",
      "/var/folders/_k/vxqnb8117qb_1tpg9p98mtyc0000gn/T/ipykernel_9428/1751210426.py:7: FutureWarning: suggest_loguniform has been deprecated in v3.0.0. This feature will be removed in v6.0.0. See https://github.com/optuna/optuna/releases/tag/v3.0.0. Use suggest_float(..., log=True) instead.\n",
      "  \"l2_leaf_reg\": trial.suggest_loguniform('l2_leaf_reg', 1e-2, 10),\n",
      "[I 2025-04-07 15:07:52,465] Trial 197 finished with value: 0.8009923743449369 and parameters: {'n_estimators': 1495, 'learning_rate': 0.11059990225636272, 'objective': 'Logloss', 'depth': 3, 'l2_leaf_reg': 1.1486805880695277, 'colsample_bylevel': 0.9255104188011768, 'min_child_samples': 200.0, 'grow_policy': 'SymmetricTree', 'border_count': 256, 'auto_class_weight': 'Balanced'}. Best is trial 184 with value: 0.8016718253212824.\n",
      "/var/folders/_k/vxqnb8117qb_1tpg9p98mtyc0000gn/T/ipykernel_9428/1751210426.py:7: FutureWarning: suggest_loguniform has been deprecated in v3.0.0. This feature will be removed in v6.0.0. See https://github.com/optuna/optuna/releases/tag/v3.0.0. Use suggest_float(..., log=True) instead.\n",
      "  \"l2_leaf_reg\": trial.suggest_loguniform('l2_leaf_reg', 1e-2, 10),\n",
      "[I 2025-04-07 15:07:53,640] Trial 198 finished with value: 0.8014071204617418 and parameters: {'n_estimators': 1574, 'learning_rate': 0.08406550931521174, 'objective': 'CrossEntropy', 'depth': 3, 'l2_leaf_reg': 1.3973521797349697, 'colsample_bylevel': 0.9833962686002486, 'min_child_samples': 800.0, 'grow_policy': 'SymmetricTree', 'border_count': 128, 'auto_class_weight': 'Balanced'}. Best is trial 184 with value: 0.8016718253212824.\n",
      "/var/folders/_k/vxqnb8117qb_1tpg9p98mtyc0000gn/T/ipykernel_9428/1751210426.py:7: FutureWarning: suggest_loguniform has been deprecated in v3.0.0. This feature will be removed in v6.0.0. See https://github.com/optuna/optuna/releases/tag/v3.0.0. Use suggest_float(..., log=True) instead.\n",
      "  \"l2_leaf_reg\": trial.suggest_loguniform('l2_leaf_reg', 1e-2, 10),\n",
      "[I 2025-04-07 15:07:54,776] Trial 199 finished with value: 0.8010404050983334 and parameters: {'n_estimators': 1577, 'learning_rate': 0.08423971744680336, 'objective': 'CrossEntropy', 'depth': 3, 'l2_leaf_reg': 2.136182415742817, 'colsample_bylevel': 0.9694929804159725, 'min_child_samples': 100.0, 'grow_policy': 'SymmetricTree', 'border_count': 128, 'auto_class_weight': 'SqrtBalanced'}. Best is trial 184 with value: 0.8016718253212824.\n"
     ]
    }
   ],
   "source": [
    "study = optuna.create_study(direction='maximize')\n",
    "study.optimize(objective, n_trials=200)"
   ]
  },
  {
   "cell_type": "code",
   "execution_count": 94,
   "id": "2fb26384-bc1f-4455-8f21-767eed5e3f21",
   "metadata": {},
   "outputs": [
    {
     "name": "stdout",
     "output_type": "stream",
     "text": [
      "{'n_estimators': 1527, 'learning_rate': 0.11335114963766697, 'objective': 'Logloss', 'depth': 3, 'l2_leaf_reg': 0.625798747780737, 'colsample_bylevel': 0.9775420575021707, 'min_child_samples': 200.0, 'grow_policy': 'SymmetricTree', 'border_count': 128, 'auto_class_weight': 'Balanced'}\n"
     ]
    }
   ],
   "source": [
    "print(study.best_params)"
   ]
  },
  {
   "cell_type": "code",
   "execution_count": 26,
   "id": "7381f294-560e-46a1-aae9-f31a07b706df",
   "metadata": {},
   "outputs": [
    {
     "name": "stdout",
     "output_type": "stream",
     "text": [
      "0:\tlearn: 0.6646374\ttest: 0.6637285\tbest: 0.6637285 (0)\ttotal: 5.33ms\tremaining: 8.14s\n",
      "100:\tlearn: 0.5419672\ttest: 0.5346817\tbest: 0.5346800 (99)\ttotal: 284ms\tremaining: 4s\n",
      "200:\tlearn: 0.5383030\ttest: 0.5336783\tbest: 0.5336727 (199)\ttotal: 589ms\tremaining: 3.88s\n",
      "300:\tlearn: 0.5357518\ttest: 0.5336592\tbest: 0.5335710 (217)\ttotal: 897ms\tremaining: 3.65s\n",
      "400:\tlearn: 0.5338113\ttest: 0.5340218\tbest: 0.5335710 (217)\ttotal: 1.2s\tremaining: 3.38s\n",
      "500:\tlearn: 0.5321158\ttest: 0.5340386\tbest: 0.5335710 (217)\ttotal: 1.5s\tremaining: 3.06s\n",
      "600:\tlearn: 0.5305344\ttest: 0.5344570\tbest: 0.5335710 (217)\ttotal: 1.8s\tremaining: 2.77s\n",
      "700:\tlearn: 0.5291429\ttest: 0.5345272\tbest: 0.5335710 (217)\ttotal: 2.08s\tremaining: 2.45s\n",
      "800:\tlearn: 0.5277713\ttest: 0.5348455\tbest: 0.5335710 (217)\ttotal: 2.37s\tremaining: 2.15s\n",
      "900:\tlearn: 0.5266433\ttest: 0.5350424\tbest: 0.5335710 (217)\ttotal: 2.66s\tremaining: 1.85s\n",
      "1000:\tlearn: 0.5255630\ttest: 0.5354385\tbest: 0.5335710 (217)\ttotal: 2.95s\tremaining: 1.55s\n",
      "1100:\tlearn: 0.5243810\ttest: 0.5355514\tbest: 0.5335710 (217)\ttotal: 3.24s\tremaining: 1.25s\n",
      "1200:\tlearn: 0.5234419\ttest: 0.5357480\tbest: 0.5335710 (217)\ttotal: 3.51s\tremaining: 953ms\n",
      "1300:\tlearn: 0.5225469\ttest: 0.5360502\tbest: 0.5335710 (217)\ttotal: 3.81s\tremaining: 661ms\n",
      "1400:\tlearn: 0.5215229\ttest: 0.5364901\tbest: 0.5335710 (217)\ttotal: 4.11s\tremaining: 370ms\n",
      "1500:\tlearn: 0.5207132\ttest: 0.5366442\tbest: 0.5335710 (217)\ttotal: 4.42s\tremaining: 76.5ms\n",
      "1526:\tlearn: 0.5204754\ttest: 0.5367418\tbest: 0.5335710 (217)\ttotal: 4.5s\tremaining: 0us\n",
      "\n",
      "bestTest = 0.5335710008\n",
      "bestIteration = 217\n",
      "\n",
      "Shrink model to first 218 iterations.\n"
     ]
    },
    {
     "data": {
      "text/plain": [
       "<catboost.core.CatBoostClassifier at 0x16a460df0>"
      ]
     },
     "execution_count": 26,
     "metadata": {},
     "output_type": "execute_result"
    }
   ],
   "source": [
    "model = CatBoostClassifier(n_estimators = 1527, learning_rate = 0.11335114963766697, objective = 'Logloss', depth = 3, l2_leaf_reg = 0.625798747780737, colsample_bylevel = 0.9775420575021707, min_child_samples = 200.0, grow_policy = 'SymmetricTree', border_count = 128, auto_class_weights = 'Balanced', random_seed=42)\n",
    "model.fit(train.drop(columns=target), train[target], eval_set = (val.drop(columns=target), val[target]), verbose=100)\n",
    "\n",
    "\n",
    "\n"
   ]
  },
  {
   "cell_type": "code",
   "execution_count": 27,
   "id": "8ed08fd7-b033-413c-82da-d6b9fda16ee0",
   "metadata": {},
   "outputs": [
    {
     "name": "stdout",
     "output_type": "stream",
     "text": [
      "TRAIN : 0.8043501242969948\n",
      "VAL : 0.8082147767979913\n",
      "TEST : 0.8016718253212824\n"
     ]
    }
   ],
   "source": [
    "print(f\"TRAIN : {roc_auc_score(train[target], model.predict_proba(train.drop(columns=target))[:, 1])}\")\n",
    "print(f\"VAL : {roc_auc_score(val[target], model.predict_proba(val.drop(columns=target))[:, 1])}\")\n",
    "print(f\"TEST : {roc_auc_score(test[target], model.predict_proba(test.drop(columns=target))[:, 1])}\")"
   ]
  },
  {
   "cell_type": "code",
   "execution_count": 28,
   "id": "98df94d7-d127-40e6-9082-6b465eb8f1c8",
   "metadata": {},
   "outputs": [
    {
     "name": "stdout",
     "output_type": "stream",
     "text": [
      "TRAIN : 0.7249690057029506\n",
      "VAL : 0.7298774184020086\n",
      "TEST : 0.7296257950007395\n"
     ]
    }
   ],
   "source": [
    "print(f\"TRAIN : {f1_score(train[target], model.predict(train.drop(columns=target)))}\")\n",
    "print(f\"VAL : {f1_score(val[target], model.predict(val.drop(columns=target)))}\")\n",
    "print(f\"TEST : {f1_score(test[target], model.predict(test.drop(columns=target)))}\")"
   ]
  },
  {
   "cell_type": "code",
   "execution_count": 29,
   "id": "6fcda61b-9166-47c0-91f6-4545d39d09bb",
   "metadata": {},
   "outputs": [
    {
     "name": "stdout",
     "output_type": "stream",
     "text": [
      "              precision    recall  f1-score   support\n",
      "\n",
      "           0       0.72      0.77      0.75      6988\n",
      "           1       0.76      0.70      0.73      7012\n",
      "\n",
      "    accuracy                           0.74     14000\n",
      "   macro avg       0.74      0.74      0.74     14000\n",
      "weighted avg       0.74      0.74      0.74     14000\n",
      "\n"
     ]
    }
   ],
   "source": [
    "print(classification_report(test[target], model.predict(test.drop(columns=target))))"
   ]
  },
  {
   "cell_type": "markdown",
   "id": "9d51f581-36c3-4a48-9f86-18eac4038621",
   "metadata": {},
   "source": [
    "# with StandardScaler"
   ]
  },
  {
   "cell_type": "code",
   "execution_count": 25,
   "id": "bfdebf2f-a506-4e09-a7c8-10ff22944a44",
   "metadata": {},
   "outputs": [],
   "source": [
    "x_train = train.drop(columns=target)\n",
    "y_train = train[target]\n",
    "\n",
    "x_val = val.drop(columns=target)\n",
    "y_val = val[target]\n",
    "\n",
    "x_test = test.drop(columns=target)\n",
    "y_test = test[target]"
   ]
  },
  {
   "cell_type": "code",
   "execution_count": 26,
   "id": "742d99f8-7673-4049-9495-a12f5034f0a9",
   "metadata": {},
   "outputs": [],
   "source": [
    "scaler = StandardScaler()"
   ]
  },
  {
   "cell_type": "code",
   "execution_count": 27,
   "id": "beb00332-b1d0-450d-9e6a-5efebcaed661",
   "metadata": {},
   "outputs": [],
   "source": [
    "x_train_scaled = scaler.fit_transform(x_train)\n",
    "x_val_scaled = scaler.transform(x_val)\n",
    "x_test_scaled = scaler.transform(x_test)"
   ]
  },
  {
   "cell_type": "code",
   "execution_count": 28,
   "id": "533c5a60-29a5-4d61-b6cb-3a999e0c892a",
   "metadata": {},
   "outputs": [
    {
     "name": "stdout",
     "output_type": "stream",
     "text": [
      "0:\tlearn: 0.6683900\ttest: 0.6677290\tbest: 0.6677290 (0)\ttotal: 4.87ms\tremaining: 4.86s\n",
      "100:\tlearn: 0.5414919\ttest: 0.5346873\tbest: 0.5346873 (100)\ttotal: 290ms\tremaining: 2.58s\n",
      "200:\tlearn: 0.5371909\ttest: 0.5333422\tbest: 0.5332873 (185)\ttotal: 590ms\tremaining: 2.34s\n",
      "300:\tlearn: 0.5346589\ttest: 0.5330156\tbest: 0.5328912 (267)\ttotal: 899ms\tremaining: 2.09s\n",
      "400:\tlearn: 0.5326265\ttest: 0.5331366\tbest: 0.5328912 (267)\ttotal: 1.2s\tremaining: 1.79s\n",
      "500:\tlearn: 0.5309659\ttest: 0.5330751\tbest: 0.5328912 (267)\ttotal: 1.5s\tremaining: 1.49s\n",
      "600:\tlearn: 0.5295385\ttest: 0.5331861\tbest: 0.5328912 (267)\ttotal: 1.8s\tremaining: 1.2s\n",
      "700:\tlearn: 0.5283491\ttest: 0.5332997\tbest: 0.5328912 (267)\ttotal: 2.1s\tremaining: 898ms\n",
      "800:\tlearn: 0.5270651\ttest: 0.5336286\tbest: 0.5328912 (267)\ttotal: 2.41s\tremaining: 599ms\n",
      "900:\tlearn: 0.5259863\ttest: 0.5336351\tbest: 0.5328912 (267)\ttotal: 2.71s\tremaining: 298ms\n",
      "999:\tlearn: 0.5247860\ttest: 0.5338623\tbest: 0.5328912 (267)\ttotal: 3.01s\tremaining: 0us\n",
      "\n",
      "bestTest = 0.5328912382\n",
      "bestIteration = 267\n",
      "\n",
      "Shrink model to first 268 iterations.\n"
     ]
    },
    {
     "data": {
      "text/plain": [
       "<catboost.core.CatBoostClassifier at 0x103bf47f0>"
      ]
     },
     "execution_count": 28,
     "metadata": {},
     "output_type": "execute_result"
    }
   ],
   "source": [
    "model = CatBoostClassifier(iterations=1000, learning_rate=0.1, depth=3, random_seed=42)\n",
    "model.fit(x_train_scaled, y_train, eval_set = (x_val_scaled, y_val), verbose=100)"
   ]
  },
  {
   "cell_type": "code",
   "execution_count": 30,
   "id": "c8e5fa01-e2eb-4c82-a3ed-9b411123cc5f",
   "metadata": {},
   "outputs": [
    {
     "name": "stdout",
     "output_type": "stream",
     "text": [
      "TRAIN : 0.8067658650461678\n",
      "VAL : 0.8084877530101519\n",
      "TEST : 0.8035744329534356\n"
     ]
    }
   ],
   "source": [
    "print(f\"TRAIN : {roc_auc_score(y_train, model.predict_proba(x_train_scaled)[:, 1])}\")\n",
    "print(f\"VAL : {roc_auc_score(y_val, model.predict_proba(x_val_scaled)[:, 1])}\")\n",
    "print(f\"TEST : {roc_auc_score(y_test, model.predict_proba(x_test_scaled)[:, 1])}\")"
   ]
  },
  {
   "cell_type": "code",
   "execution_count": 31,
   "id": "4668d8c9-9726-4ada-8a63-c275cc189def",
   "metadata": {},
   "outputs": [
    {
     "name": "stdout",
     "output_type": "stream",
     "text": [
      "TRAIN : 0.7267535692116698\n",
      "VAL : 0.728788549505681\n",
      "TEST : 0.7299054373522459\n"
     ]
    }
   ],
   "source": [
    "print(f\"TRAIN : {f1_score(y_train, model.predict(x_train_scaled))}\")\n",
    "print(f\"VAL : {f1_score(y_val, model.predict(x_val_scaled))}\")\n",
    "print(f\"TEST : {f1_score(y_test, model.predict(x_test_scaled))}\")"
   ]
  },
  {
   "cell_type": "code",
   "execution_count": 32,
   "id": "73c1fa4d-f9b6-4bea-94e7-d0815e13c509",
   "metadata": {},
   "outputs": [
    {
     "name": "stdout",
     "output_type": "stream",
     "text": [
      "              precision    recall  f1-score   support\n",
      "\n",
      "           0       0.72      0.77      0.75      6988\n",
      "           1       0.76      0.70      0.73      7012\n",
      "\n",
      "    accuracy                           0.74     14000\n",
      "   macro avg       0.74      0.74      0.74     14000\n",
      "weighted avg       0.74      0.74      0.74     14000\n",
      "\n"
     ]
    }
   ],
   "source": [
    "print(classification_report(y_test, model.predict(x_test_scaled)))"
   ]
  },
  {
   "cell_type": "markdown",
   "id": "04bd91fc-3557-49e8-b6e9-1d741c91a35d",
   "metadata": {},
   "source": [
    "# with StandardScaler + Polynomial"
   ]
  },
  {
   "cell_type": "code",
   "execution_count": 48,
   "id": "442b209d-6c29-40b8-bb96-d359e80e113f",
   "metadata": {},
   "outputs": [],
   "source": [
    "x_train = train.drop(columns=target)\n",
    "y_train = train[target]\n",
    "\n",
    "x_val = val.drop(columns=target)\n",
    "y_val = val[target]\n",
    "\n",
    "x_test = test.drop(columns=target)\n",
    "y_test = test[target]\n",
    "\n",
    "scaler = StandardScaler()\n",
    "\n",
    "x_train_scaled = scaler.fit_transform(x_train)\n",
    "x_val_scaled = scaler.transform(x_val)\n",
    "x_test_scaled = scaler.transform(x_test)\n",
    "\n",
    "\n",
    "pol = PolynomialFeatures(degree=2)\n",
    "\n",
    "x_train_pol = pol.fit_transform(x_train_scaled)\n",
    "x_val_pol = pol.transform(x_val_scaled)\n",
    "x_test_pol = pol.transform(x_test_scaled)"
   ]
  },
  {
   "cell_type": "code",
   "execution_count": 49,
   "id": "8a7336d6-be49-4030-9d90-d4d1566fd8ee",
   "metadata": {},
   "outputs": [
    {
     "name": "stdout",
     "output_type": "stream",
     "text": [
      "0:\tlearn: 0.6670974\ttest: 0.6663494\tbest: 0.6663494 (0)\ttotal: 5.08ms\tremaining: 5.08s\n",
      "100:\tlearn: 0.5398079\ttest: 0.5335438\tbest: 0.5335438 (100)\ttotal: 399ms\tremaining: 3.55s\n",
      "200:\tlearn: 0.5340650\ttest: 0.5324351\tbest: 0.5324119 (198)\ttotal: 803ms\tremaining: 3.19s\n",
      "300:\tlearn: 0.5299881\ttest: 0.5321434\tbest: 0.5320568 (287)\ttotal: 1.19s\tremaining: 2.75s\n",
      "400:\tlearn: 0.5261082\ttest: 0.5321754\tbest: 0.5320568 (287)\ttotal: 1.57s\tremaining: 2.34s\n",
      "500:\tlearn: 0.5227421\ttest: 0.5322759\tbest: 0.5320568 (287)\ttotal: 1.95s\tremaining: 1.94s\n",
      "600:\tlearn: 0.5197879\ttest: 0.5326213\tbest: 0.5320568 (287)\ttotal: 2.33s\tremaining: 1.55s\n",
      "700:\tlearn: 0.5167097\ttest: 0.5325738\tbest: 0.5320568 (287)\ttotal: 2.71s\tremaining: 1.16s\n",
      "800:\tlearn: 0.5140816\ttest: 0.5330387\tbest: 0.5320568 (287)\ttotal: 3.1s\tremaining: 769ms\n",
      "900:\tlearn: 0.5113662\ttest: 0.5332695\tbest: 0.5320568 (287)\ttotal: 3.47s\tremaining: 382ms\n",
      "999:\tlearn: 0.5090155\ttest: 0.5335521\tbest: 0.5320568 (287)\ttotal: 3.85s\tremaining: 0us\n",
      "\n",
      "bestTest = 0.5320568456\n",
      "bestIteration = 287\n",
      "\n",
      "Shrink model to first 288 iterations.\n"
     ]
    },
    {
     "data": {
      "text/plain": [
       "<catboost.core.CatBoostClassifier at 0x16e17e190>"
      ]
     },
     "execution_count": 49,
     "metadata": {},
     "output_type": "execute_result"
    }
   ],
   "source": [
    "model = CatBoostClassifier(iterations=1000, learning_rate=0.1, depth=3, random_seed=42)\n",
    "model.fit(x_train_pol, y_train, eval_set = (x_val_pol, y_val), verbose=100)"
   ]
  },
  {
   "cell_type": "code",
   "execution_count": 50,
   "id": "f0be3fcd-f66d-466d-8683-15df961ff942",
   "metadata": {},
   "outputs": [
    {
     "name": "stdout",
     "output_type": "stream",
     "text": [
      "TRAIN : 0.8109983153202042\n",
      "VAL : 0.8091732905567538\n",
      "TEST : 0.8033347791879226\n"
     ]
    }
   ],
   "source": [
    "print(f\"TRAIN : {roc_auc_score(y_train, model.predict_proba(x_train_pol)[:, 1])}\")\n",
    "print(f\"VAL : {roc_auc_score(y_val, model.predict_proba(x_val_pol)[:, 1])}\")\n",
    "print(f\"TEST : {roc_auc_score(y_test, model.predict_proba(x_test_pol)[:, 1])}\")"
   ]
  },
  {
   "cell_type": "code",
   "execution_count": 51,
   "id": "1a1db16e-6d8c-44f9-a893-b5b40ac04a03",
   "metadata": {},
   "outputs": [
    {
     "name": "stdout",
     "output_type": "stream",
     "text": [
      "TRAIN : 0.7291713173103157\n",
      "VAL : 0.7294361096740818\n",
      "TEST : 0.731181207062126\n"
     ]
    }
   ],
   "source": [
    "print(f\"TRAIN : {f1_score(y_train, model.predict(x_train_pol))}\")\n",
    "print(f\"VAL : {f1_score(y_val, model.predict(x_val_pol))}\")\n",
    "print(f\"TEST : {f1_score(y_test, model.predict(x_test_pol))}\")"
   ]
  },
  {
   "cell_type": "markdown",
   "id": "a533d1c8-6b9b-4302-9fc0-deb2c62b6c28",
   "metadata": {},
   "source": [
    "# with Polynomial"
   ]
  },
  {
   "cell_type": "code",
   "execution_count": 44,
   "id": "fd39cec4-18a7-4821-94f7-cbac3aed7690",
   "metadata": {},
   "outputs": [],
   "source": [
    "x_train = train.drop(columns=target)\n",
    "y_train = train[target]\n",
    "\n",
    "x_val = val.drop(columns=target)\n",
    "y_val = val[target]\n",
    "\n",
    "x_test = test.drop(columns=target)\n",
    "y_test = test[target]\n",
    "\n",
    "pol = PolynomialFeatures(degree=2)\n",
    "\n",
    "x_train_pol = pol.fit_transform(x_train)\n",
    "x_val_pol = pol.transform(x_val)\n",
    "x_test_pol = pol.transform(x_test)"
   ]
  },
  {
   "cell_type": "code",
   "execution_count": 45,
   "id": "19893932-3109-46d5-8ef7-248f8a650c5c",
   "metadata": {},
   "outputs": [
    {
     "name": "stdout",
     "output_type": "stream",
     "text": [
      "0:\tlearn: 0.6667389\ttest: 0.6657561\tbest: 0.6657561 (0)\ttotal: 4.76ms\tremaining: 4.75s\n",
      "100:\tlearn: 0.5394883\ttest: 0.5335729\tbest: 0.5335729 (100)\ttotal: 409ms\tremaining: 3.64s\n",
      "200:\tlearn: 0.5340909\ttest: 0.5323868\tbest: 0.5323725 (194)\ttotal: 802ms\tremaining: 3.19s\n",
      "300:\tlearn: 0.5304007\ttest: 0.5327199\tbest: 0.5323725 (194)\ttotal: 1.2s\tremaining: 2.78s\n",
      "400:\tlearn: 0.5272017\ttest: 0.5327620\tbest: 0.5323725 (194)\ttotal: 1.59s\tremaining: 2.38s\n",
      "500:\tlearn: 0.5242704\ttest: 0.5329566\tbest: 0.5323725 (194)\ttotal: 1.98s\tremaining: 1.97s\n",
      "600:\tlearn: 0.5218571\ttest: 0.5333533\tbest: 0.5323725 (194)\ttotal: 2.37s\tremaining: 1.57s\n",
      "700:\tlearn: 0.5194713\ttest: 0.5335909\tbest: 0.5323725 (194)\ttotal: 2.79s\tremaining: 1.19s\n",
      "800:\tlearn: 0.5171573\ttest: 0.5338224\tbest: 0.5323725 (194)\ttotal: 3.2s\tremaining: 795ms\n",
      "900:\tlearn: 0.5147748\ttest: 0.5344203\tbest: 0.5323725 (194)\ttotal: 3.6s\tremaining: 396ms\n",
      "999:\tlearn: 0.5124652\ttest: 0.5347863\tbest: 0.5323725 (194)\ttotal: 3.99s\tremaining: 0us\n",
      "\n",
      "bestTest = 0.532372532\n",
      "bestIteration = 194\n",
      "\n",
      "Shrink model to first 195 iterations.\n"
     ]
    },
    {
     "data": {
      "text/plain": [
       "<catboost.core.CatBoostClassifier at 0x17736ea00>"
      ]
     },
     "execution_count": 45,
     "metadata": {},
     "output_type": "execute_result"
    }
   ],
   "source": [
    "model = CatBoostClassifier(iterations=1000, learning_rate=0.1, depth=3, random_seed=42)\n",
    "model.fit(x_train_pol, y_train, eval_set = (x_val_pol, y_val), verbose=100)"
   ]
  },
  {
   "cell_type": "code",
   "execution_count": 46,
   "id": "d0ac0207-d54a-4df1-964e-0251be917f1a",
   "metadata": {},
   "outputs": [
    {
     "name": "stdout",
     "output_type": "stream",
     "text": [
      "TRAIN : 0.8076737147012625\n",
      "VAL : 0.8089044266923\n",
      "TEST : 0.8031155642579847\n"
     ]
    }
   ],
   "source": [
    "print(f\"TRAIN : {roc_auc_score(y_train, model.predict_proba(x_train_pol)[:, 1])}\")\n",
    "print(f\"VAL : {roc_auc_score(y_val, model.predict_proba(x_val_pol)[:, 1])}\")\n",
    "print(f\"TEST : {roc_auc_score(y_test, model.predict_proba(x_test_pol)[:, 1])}\")"
   ]
  },
  {
   "cell_type": "code",
   "execution_count": null,
   "id": "3d60c68e-2115-4559-abf4-ce36e2be773f",
   "metadata": {},
   "outputs": [],
   "source": []
  }
 ],
 "metadata": {
  "kernelspec": {
   "display_name": "Python 3 (ipykernel)",
   "language": "python",
   "name": "python3"
  },
  "language_info": {
   "codemirror_mode": {
    "name": "ipython",
    "version": 3
   },
   "file_extension": ".py",
   "mimetype": "text/x-python",
   "name": "python",
   "nbconvert_exporter": "python",
   "pygments_lexer": "ipython3",
   "version": "3.9.12"
  }
 },
 "nbformat": 4,
 "nbformat_minor": 5
}
