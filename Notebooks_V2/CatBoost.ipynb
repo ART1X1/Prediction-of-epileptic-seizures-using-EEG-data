{
 "cells": [
  {
   "cell_type": "code",
   "execution_count": 1,
   "id": "360bf7a6-3785-4cdf-ab69-89d27f2ad1c1",
   "metadata": {},
   "outputs": [],
   "source": [
    "from imblearn.over_sampling import SMOTE\n",
    "from sklearn.model_selection import GridSearchCV\n",
    "from xgboost import XGBClassifier\n",
    "from sklearn.metrics import classification_report, roc_auc_score\n",
    "from sklearn.pipeline import Pipeline\n",
    "from sklearn.compose import ColumnTransformer\n",
    "from sklearn.preprocessing import StandardScaler, OneHotEncoder\n",
    "from sklearn.impute import SimpleImputer\n",
    "import pandas as pd\n",
    "import pandas as pd\n",
    "from sklearn.model_selection import train_test_split\n",
    "from sklearn.linear_model import LogisticRegression, Ridge\n",
    "from sklearn.preprocessing import StandardScaler, PolynomialFeatures, PolynomialFeatures, StandardScaler, OneHotEncoder\n",
    "from sklearn.metrics import roc_auc_score, f1_score, accuracy_score, classification_report\n",
    "from sklearn.metrics import accuracy_score, precision_score, recall_score\n",
    "from sklearn.decomposition import PCA\n",
    "from sklearn.ensemble import GradientBoostingClassifier\n",
    "import matplotlib.pyplot as plt\n",
    "import seaborn as sns\n",
    "import catboost\n",
    "from catboost import CatBoostClassifier\n",
    "import optuna \n",
    "from sklearn.metrics import f1_score, roc_auc_score, precision_score, recall_score, classification_report\n",
    "from sklearn.inspection import permutation_importance\n",
    "import matplotlib.pyplot as plt\n",
    "import seaborn as sns"
   ]
  },
  {
   "cell_type": "code",
   "execution_count": 2,
   "id": "e91508ad-802f-4217-b156-2070cbefce72",
   "metadata": {},
   "outputs": [],
   "source": [
    "train = pd.read_parquet('train.parquet')\n",
    "val = pd.read_parquet('val.parquet')\n",
    "test = pd.read_parquet('test.parquet')"
   ]
  },
  {
   "cell_type": "code",
   "execution_count": 3,
   "id": "a28125b7-61cc-4fef-988f-280400c7bf1b",
   "metadata": {},
   "outputs": [],
   "source": [
    "target = 'target'"
   ]
  },
  {
   "cell_type": "markdown",
   "id": "f52c9b4b-6402-4f82-8c48-a8d344571ce1",
   "metadata": {},
   "source": [
    "# FIRST"
   ]
  },
  {
   "cell_type": "code",
   "execution_count": 4,
   "id": "45c0f9e2-b337-4801-acbb-2e6ce7c29f80",
   "metadata": {},
   "outputs": [
    {
     "name": "stdout",
     "output_type": "stream",
     "text": [
      "0:\tlearn: 0.6298857\ttest: 0.6441043\tbest: 0.6441043 (0)\ttotal: 63.2ms\tremaining: 1m 3s\n",
      "100:\tlearn: 0.2230439\ttest: 0.3029602\tbest: 0.3029602 (100)\ttotal: 127ms\tremaining: 1.13s\n",
      "200:\tlearn: 0.1339343\ttest: 0.2259582\tbest: 0.2259582 (200)\ttotal: 164ms\tremaining: 650ms\n",
      "300:\tlearn: 0.0887578\ttest: 0.1869178\tbest: 0.1868728 (298)\ttotal: 201ms\tremaining: 466ms\n",
      "400:\tlearn: 0.0623094\ttest: 0.1639398\tbest: 0.1638656 (396)\ttotal: 233ms\tremaining: 348ms\n",
      "500:\tlearn: 0.0447381\ttest: 0.1474815\tbest: 0.1474815 (500)\ttotal: 267ms\tremaining: 266ms\n",
      "600:\tlearn: 0.0343807\ttest: 0.1414494\tbest: 0.1403657 (590)\ttotal: 299ms\tremaining: 199ms\n",
      "700:\tlearn: 0.0260732\ttest: 0.1371190\tbest: 0.1353437 (675)\ttotal: 331ms\tremaining: 141ms\n",
      "800:\tlearn: 0.0208779\ttest: 0.1379913\tbest: 0.1353437 (675)\ttotal: 362ms\tremaining: 90ms\n",
      "900:\tlearn: 0.0170486\ttest: 0.1405963\tbest: 0.1353437 (675)\ttotal: 393ms\tremaining: 43.2ms\n",
      "999:\tlearn: 0.0149493\ttest: 0.1420813\tbest: 0.1353437 (675)\ttotal: 424ms\tremaining: 0us\n",
      "\n",
      "bestTest = 0.1353437083\n",
      "bestIteration = 675\n",
      "\n",
      "Shrink model to first 676 iterations.\n"
     ]
    },
    {
     "data": {
      "text/plain": [
       "<catboost.core.CatBoostClassifier at 0x176d61be0>"
      ]
     },
     "execution_count": 4,
     "metadata": {},
     "output_type": "execute_result"
    }
   ],
   "source": [
    "model = CatBoostClassifier(iterations=1000, learning_rate=0.1, depth=3, random_seed=42)\n",
    "model.fit(train.drop(columns=target), train[target], eval_set = (val.drop(columns=target), val[target]), verbose=100)"
   ]
  },
  {
   "cell_type": "code",
   "execution_count": 5,
   "id": "ced8b116-a53b-4323-9cc4-80eaead697da",
   "metadata": {},
   "outputs": [
    {
     "name": "stdout",
     "output_type": "stream",
     "text": [
      "TRAIN : 1.0\n",
      "VAL : 0.9873610133708655\n",
      "TEST : 0.9746920492721164\n"
     ]
    }
   ],
   "source": [
    "print(f\"TRAIN : {roc_auc_score(train[target], model.predict_proba(train.drop(columns=target))[:, 1])}\")\n",
    "print(f\"VAL : {roc_auc_score(val[target], model.predict_proba(val.drop(columns=target))[:, 1])}\")\n",
    "print(f\"TEST : {roc_auc_score(test[target], model.predict_proba(test.drop(columns=target))[:, 1])}\")"
   ]
  },
  {
   "cell_type": "code",
   "execution_count": 6,
   "id": "eaf2cb5d-a96c-4c39-b5a3-fb2a67b381d0",
   "metadata": {},
   "outputs": [
    {
     "name": "stdout",
     "output_type": "stream",
     "text": [
      "TRAIN : 1.0\n",
      "VAL : 0.9682151589242054\n",
      "TEST : 0.9424083769633508\n"
     ]
    }
   ],
   "source": [
    "print(f\"TRAIN : {f1_score(train[target], model.predict(train.drop(columns=target)))}\")\n",
    "print(f\"VAL : {f1_score(val[target], model.predict(val.drop(columns=target)))}\")\n",
    "print(f\"TEST : {f1_score(test[target], model.predict(test.drop(columns=target)))}\")"
   ]
  },
  {
   "cell_type": "code",
   "execution_count": 7,
   "id": "9fba6eb7-7e25-41c3-911b-533a36270b36",
   "metadata": {},
   "outputs": [
    {
     "name": "stdout",
     "output_type": "stream",
     "text": [
      "              precision    recall  f1-score   support\n",
      "\n",
      "           0       0.95      0.94      0.94       188\n",
      "           1       0.94      0.95      0.94       190\n",
      "\n",
      "    accuracy                           0.94       378\n",
      "   macro avg       0.94      0.94      0.94       378\n",
      "weighted avg       0.94      0.94      0.94       378\n",
      "\n"
     ]
    }
   ],
   "source": [
    "print(classification_report(test[target], model.predict(test.drop(columns=target))))"
   ]
  },
  {
   "cell_type": "code",
   "execution_count": 8,
   "id": "bc74345b-5c87-4e84-a1a2-42b6bf0e6331",
   "metadata": {},
   "outputs": [],
   "source": [
    "res = permutation_importance(model, train.drop(columns=target), train[target], n_repeats=10, random_state=42)"
   ]
  },
  {
   "cell_type": "code",
   "execution_count": 15,
   "id": "d132ee82-f5fd-43cd-97ee-dd7e8b0025e4",
   "metadata": {},
   "outputs": [],
   "source": [
    "new_features = [list(train.drop(columns=target).columns)[i] for i in res['importances_mean'].argsort()[::1] if res['importances_mean'][i] - 2*res['importances_std'][i] > 0]\n",
    "\n"
   ]
  },
  {
   "cell_type": "code",
   "execution_count": 16,
   "id": "6dfcbbb0-65b9-4a4b-a52e-f4ddf0ad59a3",
   "metadata": {},
   "outputs": [
    {
     "data": {
      "text/plain": [
       "11"
      ]
     },
     "execution_count": 16,
     "metadata": {},
     "output_type": "execute_result"
    }
   ],
   "source": [
    "len(new_features)"
   ]
  },
  {
   "cell_type": "code",
   "execution_count": 17,
   "id": "331f63e4-1ed2-42e8-b4ce-e9cbdc034be8",
   "metadata": {},
   "outputs": [
    {
     "data": {
      "text/plain": [
       "['sex',\n",
       " 'age',\n",
       " 'chol',\n",
       " 'thalachh',\n",
       " 'slope',\n",
       " 'trestbps',\n",
       " 'restecg',\n",
       " 'oldpeak',\n",
       " 'ca',\n",
       " 'cp',\n",
       " 'thal']"
      ]
     },
     "execution_count": 17,
     "metadata": {},
     "output_type": "execute_result"
    }
   ],
   "source": [
    "new_features"
   ]
  },
  {
   "cell_type": "code",
   "execution_count": 18,
   "id": "95e3f73c-7e90-4ca7-b139-80d8a67cf91e",
   "metadata": {},
   "outputs": [
    {
     "data": {
      "text/html": [
       "<div>\n",
       "<style scoped>\n",
       "    .dataframe tbody tr th:only-of-type {\n",
       "        vertical-align: middle;\n",
       "    }\n",
       "\n",
       "    .dataframe tbody tr th {\n",
       "        vertical-align: top;\n",
       "    }\n",
       "\n",
       "    .dataframe thead th {\n",
       "        text-align: right;\n",
       "    }\n",
       "</style>\n",
       "<table border=\"1\" class=\"dataframe\">\n",
       "  <thead>\n",
       "    <tr style=\"text-align: right;\">\n",
       "      <th></th>\n",
       "      <th>age</th>\n",
       "      <th>sex</th>\n",
       "      <th>cp</th>\n",
       "      <th>trestbps</th>\n",
       "      <th>chol</th>\n",
       "      <th>fbs</th>\n",
       "      <th>restecg</th>\n",
       "      <th>thalachh</th>\n",
       "      <th>exang</th>\n",
       "      <th>oldpeak</th>\n",
       "      <th>slope</th>\n",
       "      <th>ca</th>\n",
       "      <th>thal</th>\n",
       "      <th>target</th>\n",
       "    </tr>\n",
       "  </thead>\n",
       "  <tbody>\n",
       "    <tr>\n",
       "      <th>1398</th>\n",
       "      <td>47</td>\n",
       "      <td>1</td>\n",
       "      <td>3</td>\n",
       "      <td>108</td>\n",
       "      <td>243</td>\n",
       "      <td>0</td>\n",
       "      <td>0</td>\n",
       "      <td>152</td>\n",
       "      <td>0</td>\n",
       "      <td>0.0</td>\n",
       "      <td>1</td>\n",
       "      <td>0</td>\n",
       "      <td>3</td>\n",
       "      <td>1</td>\n",
       "    </tr>\n",
       "    <tr>\n",
       "      <th>1</th>\n",
       "      <td>37</td>\n",
       "      <td>1</td>\n",
       "      <td>2</td>\n",
       "      <td>130</td>\n",
       "      <td>250</td>\n",
       "      <td>0</td>\n",
       "      <td>1</td>\n",
       "      <td>187</td>\n",
       "      <td>0</td>\n",
       "      <td>3.5</td>\n",
       "      <td>0</td>\n",
       "      <td>0</td>\n",
       "      <td>2</td>\n",
       "      <td>1</td>\n",
       "    </tr>\n",
       "    <tr>\n",
       "      <th>152</th>\n",
       "      <td>64</td>\n",
       "      <td>1</td>\n",
       "      <td>3</td>\n",
       "      <td>170</td>\n",
       "      <td>227</td>\n",
       "      <td>0</td>\n",
       "      <td>0</td>\n",
       "      <td>155</td>\n",
       "      <td>0</td>\n",
       "      <td>0.6</td>\n",
       "      <td>1</td>\n",
       "      <td>0</td>\n",
       "      <td>3</td>\n",
       "      <td>1</td>\n",
       "    </tr>\n",
       "    <tr>\n",
       "      <th>472</th>\n",
       "      <td>45</td>\n",
       "      <td>0</td>\n",
       "      <td>1</td>\n",
       "      <td>112</td>\n",
       "      <td>160</td>\n",
       "      <td>0</td>\n",
       "      <td>1</td>\n",
       "      <td>138</td>\n",
       "      <td>0</td>\n",
       "      <td>0.0</td>\n",
       "      <td>1</td>\n",
       "      <td>0</td>\n",
       "      <td>2</td>\n",
       "      <td>1</td>\n",
       "    </tr>\n",
       "    <tr>\n",
       "      <th>121</th>\n",
       "      <td>59</td>\n",
       "      <td>1</td>\n",
       "      <td>0</td>\n",
       "      <td>138</td>\n",
       "      <td>271</td>\n",
       "      <td>0</td>\n",
       "      <td>0</td>\n",
       "      <td>182</td>\n",
       "      <td>0</td>\n",
       "      <td>0.0</td>\n",
       "      <td>2</td>\n",
       "      <td>0</td>\n",
       "      <td>2</td>\n",
       "      <td>1</td>\n",
       "    </tr>\n",
       "    <tr>\n",
       "      <th>...</th>\n",
       "      <td>...</td>\n",
       "      <td>...</td>\n",
       "      <td>...</td>\n",
       "      <td>...</td>\n",
       "      <td>...</td>\n",
       "      <td>...</td>\n",
       "      <td>...</td>\n",
       "      <td>...</td>\n",
       "      <td>...</td>\n",
       "      <td>...</td>\n",
       "      <td>...</td>\n",
       "      <td>...</td>\n",
       "      <td>...</td>\n",
       "      <td>...</td>\n",
       "    </tr>\n",
       "    <tr>\n",
       "      <th>1539</th>\n",
       "      <td>59</td>\n",
       "      <td>1</td>\n",
       "      <td>1</td>\n",
       "      <td>170</td>\n",
       "      <td>288</td>\n",
       "      <td>0</td>\n",
       "      <td>2</td>\n",
       "      <td>159</td>\n",
       "      <td>0</td>\n",
       "      <td>0.2</td>\n",
       "      <td>2</td>\n",
       "      <td>0</td>\n",
       "      <td>7</td>\n",
       "      <td>1</td>\n",
       "    </tr>\n",
       "    <tr>\n",
       "      <th>1306</th>\n",
       "      <td>52</td>\n",
       "      <td>1</td>\n",
       "      <td>0</td>\n",
       "      <td>108</td>\n",
       "      <td>233</td>\n",
       "      <td>1</td>\n",
       "      <td>1</td>\n",
       "      <td>147</td>\n",
       "      <td>0</td>\n",
       "      <td>0.1</td>\n",
       "      <td>2</td>\n",
       "      <td>3</td>\n",
       "      <td>3</td>\n",
       "      <td>1</td>\n",
       "    </tr>\n",
       "    <tr>\n",
       "      <th>1032</th>\n",
       "      <td>55</td>\n",
       "      <td>0</td>\n",
       "      <td>1</td>\n",
       "      <td>135</td>\n",
       "      <td>250</td>\n",
       "      <td>0</td>\n",
       "      <td>0</td>\n",
       "      <td>161</td>\n",
       "      <td>0</td>\n",
       "      <td>1.4</td>\n",
       "      <td>1</td>\n",
       "      <td>0</td>\n",
       "      <td>2</td>\n",
       "      <td>1</td>\n",
       "    </tr>\n",
       "    <tr>\n",
       "      <th>1839</th>\n",
       "      <td>70</td>\n",
       "      <td>0</td>\n",
       "      <td>2</td>\n",
       "      <td>160</td>\n",
       "      <td>269</td>\n",
       "      <td>0</td>\n",
       "      <td>1</td>\n",
       "      <td>112</td>\n",
       "      <td>1</td>\n",
       "      <td>2.9</td>\n",
       "      <td>1</td>\n",
       "      <td>1</td>\n",
       "      <td>3</td>\n",
       "      <td>0</td>\n",
       "    </tr>\n",
       "    <tr>\n",
       "      <th>1072</th>\n",
       "      <td>71</td>\n",
       "      <td>0</td>\n",
       "      <td>2</td>\n",
       "      <td>110</td>\n",
       "      <td>265</td>\n",
       "      <td>1</td>\n",
       "      <td>0</td>\n",
       "      <td>130</td>\n",
       "      <td>0</td>\n",
       "      <td>0.0</td>\n",
       "      <td>2</td>\n",
       "      <td>1</td>\n",
       "      <td>2</td>\n",
       "      <td>1</td>\n",
       "    </tr>\n",
       "  </tbody>\n",
       "</table>\n",
       "<p>1132 rows × 14 columns</p>\n",
       "</div>"
      ],
      "text/plain": [
       "      age  sex  cp  trestbps  chol  fbs  restecg  thalachh  exang  oldpeak  \\\n",
       "1398   47    1   3       108   243    0        0       152      0      0.0   \n",
       "1      37    1   2       130   250    0        1       187      0      3.5   \n",
       "152    64    1   3       170   227    0        0       155      0      0.6   \n",
       "472    45    0   1       112   160    0        1       138      0      0.0   \n",
       "121    59    1   0       138   271    0        0       182      0      0.0   \n",
       "...   ...  ...  ..       ...   ...  ...      ...       ...    ...      ...   \n",
       "1539   59    1   1       170   288    0        2       159      0      0.2   \n",
       "1306   52    1   0       108   233    1        1       147      0      0.1   \n",
       "1032   55    0   1       135   250    0        0       161      0      1.4   \n",
       "1839   70    0   2       160   269    0        1       112      1      2.9   \n",
       "1072   71    0   2       110   265    1        0       130      0      0.0   \n",
       "\n",
       "      slope  ca  thal  target  \n",
       "1398      1   0     3       1  \n",
       "1         0   0     2       1  \n",
       "152       1   0     3       1  \n",
       "472       1   0     2       1  \n",
       "121       2   0     2       1  \n",
       "...     ...  ..   ...     ...  \n",
       "1539      2   0     7       1  \n",
       "1306      2   3     3       1  \n",
       "1032      1   0     2       1  \n",
       "1839      1   1     3       0  \n",
       "1072      2   1     2       1  \n",
       "\n",
       "[1132 rows x 14 columns]"
      ]
     },
     "execution_count": 18,
     "metadata": {},
     "output_type": "execute_result"
    }
   ],
   "source": [
    "train"
   ]
  },
  {
   "cell_type": "markdown",
   "id": "221d42dd-2f6e-4183-96cf-82de0b395cec",
   "metadata": {},
   "source": [
    "# SECOND"
   ]
  },
  {
   "cell_type": "code",
   "execution_count": 19,
   "id": "632a0e04-134a-4c02-807d-856e9545a403",
   "metadata": {},
   "outputs": [],
   "source": [
    "train = train.drop(columns=['fbs', 'exang'])\n",
    "val = val.drop(columns=['fbs', 'exang'])\n",
    "test = test.drop(columns=['fbs', 'exang'])"
   ]
  },
  {
   "cell_type": "code",
   "execution_count": 20,
   "id": "8d1dd448-fa0b-4060-bd94-a14e455903a3",
   "metadata": {},
   "outputs": [
    {
     "name": "stdout",
     "output_type": "stream",
     "text": [
      "0:\tlearn: 0.6298857\ttest: 0.6441043\tbest: 0.6441043 (0)\ttotal: 2.44ms\tremaining: 2.44s\n",
      "100:\tlearn: 0.2321796\ttest: 0.3044189\tbest: 0.3044189 (100)\ttotal: 47ms\tremaining: 418ms\n",
      "200:\tlearn: 0.1481034\ttest: 0.2444828\tbest: 0.2438800 (197)\ttotal: 79.9ms\tremaining: 318ms\n",
      "300:\tlearn: 0.0990293\ttest: 0.2001457\tbest: 0.2001457 (300)\ttotal: 111ms\tremaining: 258ms\n",
      "400:\tlearn: 0.0672124\ttest: 0.1688962\tbest: 0.1687360 (399)\ttotal: 142ms\tremaining: 212ms\n",
      "500:\tlearn: 0.0485114\ttest: 0.1561028\tbest: 0.1553731 (486)\ttotal: 174ms\tremaining: 173ms\n",
      "600:\tlearn: 0.0356936\ttest: 0.1452511\tbest: 0.1452511 (600)\ttotal: 206ms\tremaining: 137ms\n",
      "700:\tlearn: 0.0269617\ttest: 0.1422110\tbest: 0.1412684 (672)\ttotal: 237ms\tremaining: 101ms\n",
      "800:\tlearn: 0.0213215\ttest: 0.1410357\tbest: 0.1404494 (790)\ttotal: 269ms\tremaining: 66.9ms\n",
      "900:\tlearn: 0.0178062\ttest: 0.1429438\tbest: 0.1404494 (790)\ttotal: 300ms\tremaining: 33ms\n",
      "999:\tlearn: 0.0153198\ttest: 0.1426403\tbest: 0.1404494 (790)\ttotal: 331ms\tremaining: 0us\n",
      "\n",
      "bestTest = 0.1404493581\n",
      "bestIteration = 790\n",
      "\n",
      "Shrink model to first 791 iterations.\n"
     ]
    },
    {
     "data": {
      "text/plain": [
       "<catboost.core.CatBoostClassifier at 0x176d61ca0>"
      ]
     },
     "execution_count": 20,
     "metadata": {},
     "output_type": "execute_result"
    }
   ],
   "source": [
    "model = CatBoostClassifier(iterations=1000, learning_rate=0.1, depth=3, random_seed=42)\n",
    "model.fit(train.drop(columns=target), train[target], eval_set = (val.drop(columns=target), val[target]), verbose=100)"
   ]
  },
  {
   "cell_type": "code",
   "execution_count": 21,
   "id": "79c3be89-c265-43bc-9233-385e3ba2948e",
   "metadata": {},
   "outputs": [
    {
     "name": "stdout",
     "output_type": "stream",
     "text": [
      "TRAIN : 1.0\n",
      "VAL : 0.9863476425052778\n",
      "TEST : 0.9711926091825307\n"
     ]
    }
   ],
   "source": [
    "print(f\"TRAIN : {roc_auc_score(train[target], model.predict_proba(train.drop(columns=target))[:, 1])}\")\n",
    "print(f\"VAL : {roc_auc_score(val[target], model.predict_proba(val.drop(columns=target))[:, 1])}\")\n",
    "print(f\"TEST : {roc_auc_score(test[target], model.predict_proba(test.drop(columns=target))[:, 1])}\")"
   ]
  },
  {
   "cell_type": "code",
   "execution_count": 22,
   "id": "7d28089b-857e-4502-ab56-1fd1cd14ea36",
   "metadata": {},
   "outputs": [
    {
     "name": "stdout",
     "output_type": "stream",
     "text": [
      "TRAIN : 1.0\n",
      "VAL : 0.9605911330049262\n",
      "TEST : 0.9343832020997376\n"
     ]
    }
   ],
   "source": [
    "print(f\"TRAIN : {f1_score(train[target], model.predict(train.drop(columns=target)))}\")\n",
    "print(f\"VAL : {f1_score(val[target], model.predict(val.drop(columns=target)))}\")\n",
    "print(f\"TEST : {f1_score(test[target], model.predict(test.drop(columns=target)))}\")"
   ]
  },
  {
   "cell_type": "code",
   "execution_count": 23,
   "id": "850c3a76-8465-426b-a98d-7625d1f29762",
   "metadata": {},
   "outputs": [
    {
     "name": "stdout",
     "output_type": "stream",
     "text": [
      "              precision    recall  f1-score   support\n",
      "\n",
      "           0       0.94      0.93      0.93       188\n",
      "           1       0.93      0.94      0.93       190\n",
      "\n",
      "    accuracy                           0.93       378\n",
      "   macro avg       0.93      0.93      0.93       378\n",
      "weighted avg       0.93      0.93      0.93       378\n",
      "\n"
     ]
    }
   ],
   "source": [
    "print(classification_report(test[target], model.predict(test.drop(columns=target))))"
   ]
  },
  {
   "cell_type": "code",
   "execution_count": 28,
   "id": "0274895c-d014-4d71-8123-88de788e862b",
   "metadata": {},
   "outputs": [],
   "source": [
    "importances = model.get_feature_importance(prettified=True)\n",
    "a = importances.loc[importances['Importances'] >= 8, 'Feature Id'].tolist()"
   ]
  },
  {
   "cell_type": "code",
   "execution_count": 29,
   "id": "b4483745-4567-4ee7-8280-8ba47f0a6340",
   "metadata": {},
   "outputs": [
    {
     "data": {
      "text/plain": [
       "8"
      ]
     },
     "execution_count": 29,
     "metadata": {},
     "output_type": "execute_result"
    }
   ],
   "source": [
    "len(a)"
   ]
  },
  {
   "cell_type": "code",
   "execution_count": 30,
   "id": "bc056e92-4073-4ce1-80c2-7ac58c0704ad",
   "metadata": {},
   "outputs": [
    {
     "data": {
      "text/html": [
       "<div>\n",
       "<style scoped>\n",
       "    .dataframe tbody tr th:only-of-type {\n",
       "        vertical-align: middle;\n",
       "    }\n",
       "\n",
       "    .dataframe tbody tr th {\n",
       "        vertical-align: top;\n",
       "    }\n",
       "\n",
       "    .dataframe thead th {\n",
       "        text-align: right;\n",
       "    }\n",
       "</style>\n",
       "<table border=\"1\" class=\"dataframe\">\n",
       "  <thead>\n",
       "    <tr style=\"text-align: right;\">\n",
       "      <th></th>\n",
       "      <th>Feature Id</th>\n",
       "      <th>Importances</th>\n",
       "    </tr>\n",
       "  </thead>\n",
       "  <tbody>\n",
       "    <tr>\n",
       "      <th>0</th>\n",
       "      <td>thal</td>\n",
       "      <td>15.729118</td>\n",
       "    </tr>\n",
       "    <tr>\n",
       "      <th>1</th>\n",
       "      <td>cp</td>\n",
       "      <td>14.491009</td>\n",
       "    </tr>\n",
       "    <tr>\n",
       "      <th>2</th>\n",
       "      <td>oldpeak</td>\n",
       "      <td>8.957662</td>\n",
       "    </tr>\n",
       "    <tr>\n",
       "      <th>3</th>\n",
       "      <td>slope</td>\n",
       "      <td>8.860045</td>\n",
       "    </tr>\n",
       "    <tr>\n",
       "      <th>4</th>\n",
       "      <td>ca</td>\n",
       "      <td>8.810067</td>\n",
       "    </tr>\n",
       "    <tr>\n",
       "      <th>5</th>\n",
       "      <td>trestbps</td>\n",
       "      <td>8.766990</td>\n",
       "    </tr>\n",
       "    <tr>\n",
       "      <th>6</th>\n",
       "      <td>thalachh</td>\n",
       "      <td>8.492241</td>\n",
       "    </tr>\n",
       "    <tr>\n",
       "      <th>7</th>\n",
       "      <td>age</td>\n",
       "      <td>8.138874</td>\n",
       "    </tr>\n",
       "    <tr>\n",
       "      <th>8</th>\n",
       "      <td>chol</td>\n",
       "      <td>7.532217</td>\n",
       "    </tr>\n",
       "    <tr>\n",
       "      <th>9</th>\n",
       "      <td>restecg</td>\n",
       "      <td>6.339636</td>\n",
       "    </tr>\n",
       "    <tr>\n",
       "      <th>10</th>\n",
       "      <td>sex</td>\n",
       "      <td>3.882142</td>\n",
       "    </tr>\n",
       "  </tbody>\n",
       "</table>\n",
       "</div>"
      ],
      "text/plain": [
       "   Feature Id  Importances\n",
       "0        thal    15.729118\n",
       "1          cp    14.491009\n",
       "2     oldpeak     8.957662\n",
       "3       slope     8.860045\n",
       "4          ca     8.810067\n",
       "5    trestbps     8.766990\n",
       "6    thalachh     8.492241\n",
       "7         age     8.138874\n",
       "8        chol     7.532217\n",
       "9     restecg     6.339636\n",
       "10        sex     3.882142"
      ]
     },
     "execution_count": 30,
     "metadata": {},
     "output_type": "execute_result"
    }
   ],
   "source": [
    "importances"
   ]
  },
  {
   "cell_type": "markdown",
   "id": "12324f40-c545-40a0-ae3c-4ea9aa510bdf",
   "metadata": {},
   "source": [
    "# THIRD"
   ]
  },
  {
   "cell_type": "code",
   "execution_count": 31,
   "id": "225e64e9-93ba-471b-9335-7650997602e9",
   "metadata": {},
   "outputs": [],
   "source": [
    "train = train.drop(columns=['sex', 'restecg', 'chol'])\n",
    "val = val.drop(columns=['sex', 'restecg', 'chol'])\n",
    "test = test.drop(columns=['sex', 'restecg', 'chol'])"
   ]
  },
  {
   "cell_type": "code",
   "execution_count": 32,
   "id": "45be6ec9-6777-48ab-b853-29924d576c92",
   "metadata": {},
   "outputs": [
    {
     "name": "stdout",
     "output_type": "stream",
     "text": [
      "0:\tlearn: 0.6298857\ttest: 0.6441043\tbest: 0.6441043 (0)\ttotal: 1.04ms\tremaining: 1.04s\n",
      "100:\tlearn: 0.2503086\ttest: 0.3214842\tbest: 0.3214842 (100)\ttotal: 44.3ms\tremaining: 394ms\n",
      "200:\tlearn: 0.1759773\ttest: 0.2610128\tbest: 0.2610128 (200)\ttotal: 77.7ms\tremaining: 309ms\n",
      "300:\tlearn: 0.1276305\ttest: 0.2179101\tbest: 0.2179101 (300)\ttotal: 114ms\tremaining: 264ms\n",
      "400:\tlearn: 0.0920107\ttest: 0.1854333\tbest: 0.1854333 (400)\ttotal: 148ms\tremaining: 221ms\n",
      "500:\tlearn: 0.0697787\ttest: 0.1689126\tbest: 0.1689126 (500)\ttotal: 179ms\tremaining: 178ms\n",
      "600:\tlearn: 0.0550077\ttest: 0.1587213\tbest: 0.1587213 (600)\ttotal: 210ms\tremaining: 139ms\n",
      "700:\tlearn: 0.0438893\ttest: 0.1537013\tbest: 0.1531763 (694)\ttotal: 241ms\tremaining: 103ms\n",
      "800:\tlearn: 0.0356292\ttest: 0.1504991\tbest: 0.1504991 (800)\ttotal: 280ms\tremaining: 69.4ms\n",
      "900:\tlearn: 0.0301278\ttest: 0.1491421\tbest: 0.1479260 (876)\ttotal: 315ms\tremaining: 34.6ms\n",
      "999:\tlearn: 0.0264041\ttest: 0.1482264\tbest: 0.1467742 (966)\ttotal: 349ms\tremaining: 0us\n",
      "\n",
      "bestTest = 0.1467741726\n",
      "bestIteration = 966\n",
      "\n",
      "Shrink model to first 967 iterations.\n"
     ]
    },
    {
     "data": {
      "text/plain": [
       "<catboost.core.CatBoostClassifier at 0x177e017f0>"
      ]
     },
     "execution_count": 32,
     "metadata": {},
     "output_type": "execute_result"
    }
   ],
   "source": [
    "model = CatBoostClassifier(iterations=1000, learning_rate=0.1, depth=3, random_seed=42)\n",
    "model.fit(train.drop(columns=target), train[target], eval_set = (val.drop(columns=target), val[target]), verbose=100)"
   ]
  },
  {
   "cell_type": "code",
   "execution_count": 33,
   "id": "02af9d7e-ef2d-4920-ada8-953964324e57",
   "metadata": {},
   "outputs": [
    {
     "name": "stdout",
     "output_type": "stream",
     "text": [
      "TRAIN : 1.0\n",
      "VAL : 0.985981703026038\n",
      "TEST : 0.9726763717805151\n"
     ]
    }
   ],
   "source": [
    "print(f\"TRAIN : {roc_auc_score(train[target], model.predict_proba(train.drop(columns=target))[:, 1])}\")\n",
    "print(f\"VAL : {roc_auc_score(val[target], model.predict_proba(val.drop(columns=target))[:, 1])}\")\n",
    "print(f\"TEST : {roc_auc_score(test[target], model.predict_proba(test.drop(columns=target))[:, 1])}\")"
   ]
  },
  {
   "cell_type": "code",
   "execution_count": 34,
   "id": "161218d2-5376-4f62-b7b1-2adf3ba233b5",
   "metadata": {},
   "outputs": [
    {
     "name": "stdout",
     "output_type": "stream",
     "text": [
      "TRAIN : 1.0\n",
      "VAL : 0.9519230769230769\n",
      "TEST : 0.9347258485639687\n"
     ]
    }
   ],
   "source": [
    "print(f\"TRAIN : {f1_score(train[target], model.predict(train.drop(columns=target)))}\")\n",
    "print(f\"VAL : {f1_score(val[target], model.predict(val.drop(columns=target)))}\")\n",
    "print(f\"TEST : {f1_score(test[target], model.predict(test.drop(columns=target)))}\")"
   ]
  },
  {
   "cell_type": "code",
   "execution_count": 35,
   "id": "0806ac0b-0aaa-4b6d-9f82-b11c5ee943b7",
   "metadata": {},
   "outputs": [
    {
     "name": "stdout",
     "output_type": "stream",
     "text": [
      "              precision    recall  f1-score   support\n",
      "\n",
      "           0       0.94      0.93      0.93       188\n",
      "           1       0.93      0.94      0.93       190\n",
      "\n",
      "    accuracy                           0.93       378\n",
      "   macro avg       0.93      0.93      0.93       378\n",
      "weighted avg       0.93      0.93      0.93       378\n",
      "\n"
     ]
    }
   ],
   "source": [
    "print(classification_report(test[target], model.predict(test.drop(columns=target))))"
   ]
  },
  {
   "cell_type": "code",
   "execution_count": 36,
   "id": "88f4676d-b0e8-41cf-b533-2e064324fc68",
   "metadata": {},
   "outputs": [],
   "source": [
    "def objective(trial):\n",
    "    param = {\n",
    "        \"n_estimators\": trial.suggest_int('n_estimators', 300, 2000),\n",
    "        \"learning_rate\": trial.suggest_float('learning_rate', 0.01, 0.3),\n",
    "        \"objective\": trial.suggest_categorical('objective', [\"Logloss\", \"CrossEntropy\"]),\n",
    "        \"depth\": trial.suggest_int('depth', 3, 10),\n",
    "        \"l2_leaf_reg\": trial.suggest_loguniform('l2_leaf_reg', 1e-2, 10),\n",
    "        \"colsample_bylevel\": trial.suggest_float('colsample_bylevel', 0.01, 1.0),\n",
    "        \"min_child_samples\": trial.suggest_float('min_child_samples', 100, 1000, step=100),\n",
    "        \"grow_policy\": trial.suggest_categorical('grow_policy', [\"SymmetricTree\", \"Depthwise\", \"Lossguide\"]),\n",
    "        \"border_count\": trial.suggest_categorical('border_count', [128, 256, 512, 1024]),\n",
    "        \"auto_class_weights\": trial.suggest_categorical('auto_class_weight', [None, 'Balanced', 'SqrtBalanced'])\n",
    "    }\n",
    "\n",
    "    if param['objective'] == 'CrossEntropy':\n",
    "        param['auto_class_weights'] = None\n",
    "\n",
    "    model = CatBoostClassifier(**param, verbose = False, random_seed=42)\n",
    "\n",
    "    model.fit(train.drop(columns=target), train[target], eval_set = (val.drop(columns=target), val[target]), early_stopping_rounds=50, plot=False)\n",
    "\n",
    "    test_roc_auc = roc_auc_score(test[target], model.predict_proba(test.drop(columns=target))[:, 1])\n",
    "\n",
    "    train_roc_auc = roc_auc_score(train[target], model.predict_proba(train.drop(columns=target))[:, 1])\n",
    "\n",
    "    if train_roc_auc - test_roc_auc > 0.03:\n",
    "        return 0\n",
    "    else:\n",
    "        return test_roc_auc"
   ]
  },
  {
   "cell_type": "code",
   "execution_count": 37,
   "id": "a8024626-97be-430b-9f85-fc423b3dc2c8",
   "metadata": {
    "scrolled": true
   },
   "outputs": [
    {
     "name": "stderr",
     "output_type": "stream",
     "text": [
      "[I 2025-04-10 11:07:59,838] A new study created in memory with name: no-name-ed8cdf57-f751-4d37-80cb-7a936347448c\n",
      "/var/folders/_k/vxqnb8117qb_1tpg9p98mtyc0000gn/T/ipykernel_13321/1751210426.py:7: FutureWarning: suggest_loguniform has been deprecated in v3.0.0. This feature will be removed in v6.0.0. See https://github.com/optuna/optuna/releases/tag/v3.0.0. Use suggest_float(..., log=True) instead.\n",
      "  \"l2_leaf_reg\": trial.suggest_loguniform('l2_leaf_reg', 1e-2, 10),\n",
      "[I 2025-04-10 11:08:00,341] Trial 0 finished with value: 0.0 and parameters: {'n_estimators': 1179, 'learning_rate': 0.018340138016913997, 'objective': 'Logloss', 'depth': 7, 'l2_leaf_reg': 0.011011234704944937, 'colsample_bylevel': 0.9442085437928284, 'min_child_samples': 400.0, 'grow_policy': 'Depthwise', 'border_count': 128, 'auto_class_weight': 'SqrtBalanced'}. Best is trial 0 with value: 0.0.\n",
      "/var/folders/_k/vxqnb8117qb_1tpg9p98mtyc0000gn/T/ipykernel_13321/1751210426.py:7: FutureWarning: suggest_loguniform has been deprecated in v3.0.0. This feature will be removed in v6.0.0. See https://github.com/optuna/optuna/releases/tag/v3.0.0. Use suggest_float(..., log=True) instead.\n",
      "  \"l2_leaf_reg\": trial.suggest_loguniform('l2_leaf_reg', 1e-2, 10),\n",
      "[I 2025-04-10 11:08:00,630] Trial 1 finished with value: 0.0 and parameters: {'n_estimators': 949, 'learning_rate': 0.2582444672993355, 'objective': 'CrossEntropy', 'depth': 7, 'l2_leaf_reg': 0.08358284876587242, 'colsample_bylevel': 0.6742603897927031, 'min_child_samples': 600.0, 'grow_policy': 'Depthwise', 'border_count': 128, 'auto_class_weight': None}. Best is trial 0 with value: 0.0.\n",
      "/var/folders/_k/vxqnb8117qb_1tpg9p98mtyc0000gn/T/ipykernel_13321/1751210426.py:7: FutureWarning: suggest_loguniform has been deprecated in v3.0.0. This feature will be removed in v6.0.0. See https://github.com/optuna/optuna/releases/tag/v3.0.0. Use suggest_float(..., log=True) instead.\n",
      "  \"l2_leaf_reg\": trial.suggest_loguniform('l2_leaf_reg', 1e-2, 10),\n",
      "[I 2025-04-10 11:08:00,785] Trial 2 finished with value: 0.0 and parameters: {'n_estimators': 1493, 'learning_rate': 0.18603617536147593, 'objective': 'CrossEntropy', 'depth': 5, 'l2_leaf_reg': 0.022017615568343113, 'colsample_bylevel': 0.2575380705358918, 'min_child_samples': 600.0, 'grow_policy': 'Lossguide', 'border_count': 512, 'auto_class_weight': 'Balanced'}. Best is trial 0 with value: 0.0.\n",
      "/var/folders/_k/vxqnb8117qb_1tpg9p98mtyc0000gn/T/ipykernel_13321/1751210426.py:7: FutureWarning: suggest_loguniform has been deprecated in v3.0.0. This feature will be removed in v6.0.0. See https://github.com/optuna/optuna/releases/tag/v3.0.0. Use suggest_float(..., log=True) instead.\n",
      "  \"l2_leaf_reg\": trial.suggest_loguniform('l2_leaf_reg', 1e-2, 10),\n",
      "[I 2025-04-10 11:08:00,971] Trial 3 finished with value: 0.0 and parameters: {'n_estimators': 1421, 'learning_rate': 0.2580283656549277, 'objective': 'Logloss', 'depth': 8, 'l2_leaf_reg': 0.10368359589388751, 'colsample_bylevel': 0.9222090799257179, 'min_child_samples': 500.0, 'grow_policy': 'Lossguide', 'border_count': 512, 'auto_class_weight': 'Balanced'}. Best is trial 0 with value: 0.0.\n",
      "/var/folders/_k/vxqnb8117qb_1tpg9p98mtyc0000gn/T/ipykernel_13321/1751210426.py:7: FutureWarning: suggest_loguniform has been deprecated in v3.0.0. This feature will be removed in v6.0.0. See https://github.com/optuna/optuna/releases/tag/v3.0.0. Use suggest_float(..., log=True) instead.\n",
      "  \"l2_leaf_reg\": trial.suggest_loguniform('l2_leaf_reg', 1e-2, 10),\n",
      "[I 2025-04-10 11:08:01,115] Trial 4 finished with value: 0.0 and parameters: {'n_estimators': 1933, 'learning_rate': 0.2707990614064154, 'objective': 'CrossEntropy', 'depth': 3, 'l2_leaf_reg': 0.9253026072520859, 'colsample_bylevel': 0.241530089972768, 'min_child_samples': 100.0, 'grow_policy': 'Depthwise', 'border_count': 512, 'auto_class_weight': None}. Best is trial 0 with value: 0.0.\n",
      "/var/folders/_k/vxqnb8117qb_1tpg9p98mtyc0000gn/T/ipykernel_13321/1751210426.py:7: FutureWarning: suggest_loguniform has been deprecated in v3.0.0. This feature will be removed in v6.0.0. See https://github.com/optuna/optuna/releases/tag/v3.0.0. Use suggest_float(..., log=True) instead.\n",
      "  \"l2_leaf_reg\": trial.suggest_loguniform('l2_leaf_reg', 1e-2, 10),\n",
      "[I 2025-04-10 11:08:01,296] Trial 5 finished with value: 0.982922732362822 and parameters: {'n_estimators': 885, 'learning_rate': 0.08376722937172472, 'objective': 'CrossEntropy', 'depth': 6, 'l2_leaf_reg': 1.0556607159450129, 'colsample_bylevel': 0.5069100697294971, 'min_child_samples': 200.0, 'grow_policy': 'SymmetricTree', 'border_count': 512, 'auto_class_weight': 'Balanced'}. Best is trial 5 with value: 0.982922732362822.\n",
      "/var/folders/_k/vxqnb8117qb_1tpg9p98mtyc0000gn/T/ipykernel_13321/1751210426.py:7: FutureWarning: suggest_loguniform has been deprecated in v3.0.0. This feature will be removed in v6.0.0. See https://github.com/optuna/optuna/releases/tag/v3.0.0. Use suggest_float(..., log=True) instead.\n",
      "  \"l2_leaf_reg\": trial.suggest_loguniform('l2_leaf_reg', 1e-2, 10),\n",
      "[I 2025-04-10 11:08:01,678] Trial 6 finished with value: 0.9840425531914894 and parameters: {'n_estimators': 1183, 'learning_rate': 0.036513354646139, 'objective': 'CrossEntropy', 'depth': 10, 'l2_leaf_reg': 1.0476922127687502, 'colsample_bylevel': 0.1391394205881919, 'min_child_samples': 200.0, 'grow_policy': 'SymmetricTree', 'border_count': 128, 'auto_class_weight': None}. Best is trial 6 with value: 0.9840425531914894.\n",
      "/var/folders/_k/vxqnb8117qb_1tpg9p98mtyc0000gn/T/ipykernel_13321/1751210426.py:7: FutureWarning: suggest_loguniform has been deprecated in v3.0.0. This feature will be removed in v6.0.0. See https://github.com/optuna/optuna/releases/tag/v3.0.0. Use suggest_float(..., log=True) instead.\n",
      "  \"l2_leaf_reg\": trial.suggest_loguniform('l2_leaf_reg', 1e-2, 10),\n",
      "[I 2025-04-10 11:08:01,776] Trial 7 finished with value: 0.0 and parameters: {'n_estimators': 437, 'learning_rate': 0.14974756470331754, 'objective': 'Logloss', 'depth': 7, 'l2_leaf_reg': 0.052684553809775714, 'colsample_bylevel': 0.5176153525529027, 'min_child_samples': 100.0, 'grow_policy': 'Depthwise', 'border_count': 512, 'auto_class_weight': 'SqrtBalanced'}. Best is trial 6 with value: 0.9840425531914894.\n",
      "/var/folders/_k/vxqnb8117qb_1tpg9p98mtyc0000gn/T/ipykernel_13321/1751210426.py:7: FutureWarning: suggest_loguniform has been deprecated in v3.0.0. This feature will be removed in v6.0.0. See https://github.com/optuna/optuna/releases/tag/v3.0.0. Use suggest_float(..., log=True) instead.\n",
      "  \"l2_leaf_reg\": trial.suggest_loguniform('l2_leaf_reg', 1e-2, 10),\n",
      "[I 2025-04-10 11:08:02,008] Trial 8 finished with value: 0.0 and parameters: {'n_estimators': 697, 'learning_rate': 0.19054095450789008, 'objective': 'Logloss', 'depth': 6, 'l2_leaf_reg': 0.155511728081309, 'colsample_bylevel': 0.8654502040593737, 'min_child_samples': 600.0, 'grow_policy': 'Depthwise', 'border_count': 512, 'auto_class_weight': 'Balanced'}. Best is trial 6 with value: 0.9840425531914894.\n",
      "/var/folders/_k/vxqnb8117qb_1tpg9p98mtyc0000gn/T/ipykernel_13321/1751210426.py:7: FutureWarning: suggest_loguniform has been deprecated in v3.0.0. This feature will be removed in v6.0.0. See https://github.com/optuna/optuna/releases/tag/v3.0.0. Use suggest_float(..., log=True) instead.\n",
      "  \"l2_leaf_reg\": trial.suggest_loguniform('l2_leaf_reg', 1e-2, 10),\n",
      "[I 2025-04-10 11:08:02,255] Trial 9 finished with value: 0.0 and parameters: {'n_estimators': 1729, 'learning_rate': 0.12738214943081205, 'objective': 'Logloss', 'depth': 7, 'l2_leaf_reg': 0.03640059888567213, 'colsample_bylevel': 0.9126781280764006, 'min_child_samples': 800.0, 'grow_policy': 'Depthwise', 'border_count': 1024, 'auto_class_weight': 'Balanced'}. Best is trial 6 with value: 0.9840425531914894.\n",
      "/var/folders/_k/vxqnb8117qb_1tpg9p98mtyc0000gn/T/ipykernel_13321/1751210426.py:7: FutureWarning: suggest_loguniform has been deprecated in v3.0.0. This feature will be removed in v6.0.0. See https://github.com/optuna/optuna/releases/tag/v3.0.0. Use suggest_float(..., log=True) instead.\n",
      "  \"l2_leaf_reg\": trial.suggest_loguniform('l2_leaf_reg', 1e-2, 10),\n",
      "[I 2025-04-10 11:08:02,342] Trial 10 finished with value: 0.8511338185890258 and parameters: {'n_estimators': 317, 'learning_rate': 0.030898661089151347, 'objective': 'CrossEntropy', 'depth': 10, 'l2_leaf_reg': 9.820502881768354, 'colsample_bylevel': 0.017145690894128235, 'min_child_samples': 1000.0, 'grow_policy': 'SymmetricTree', 'border_count': 256, 'auto_class_weight': None}. Best is trial 6 with value: 0.9840425531914894.\n",
      "/var/folders/_k/vxqnb8117qb_1tpg9p98mtyc0000gn/T/ipykernel_13321/1751210426.py:7: FutureWarning: suggest_loguniform has been deprecated in v3.0.0. This feature will be removed in v6.0.0. See https://github.com/optuna/optuna/releases/tag/v3.0.0. Use suggest_float(..., log=True) instead.\n",
      "  \"l2_leaf_reg\": trial.suggest_loguniform('l2_leaf_reg', 1e-2, 10),\n",
      "[I 2025-04-10 11:08:02,719] Trial 11 finished with value: 0.9914053751399776 and parameters: {'n_estimators': 892, 'learning_rate': 0.08073887360129853, 'objective': 'CrossEntropy', 'depth': 10, 'l2_leaf_reg': 1.1334451635949332, 'colsample_bylevel': 0.34898714794717534, 'min_child_samples': 300.0, 'grow_policy': 'SymmetricTree', 'border_count': 128, 'auto_class_weight': None}. Best is trial 11 with value: 0.9914053751399776.\n",
      "/var/folders/_k/vxqnb8117qb_1tpg9p98mtyc0000gn/T/ipykernel_13321/1751210426.py:7: FutureWarning: suggest_loguniform has been deprecated in v3.0.0. This feature will be removed in v6.0.0. See https://github.com/optuna/optuna/releases/tag/v3.0.0. Use suggest_float(..., log=True) instead.\n",
      "  \"l2_leaf_reg\": trial.suggest_loguniform('l2_leaf_reg', 1e-2, 10),\n",
      "[I 2025-04-10 11:08:02,994] Trial 12 finished with value: 0.9897816349384098 and parameters: {'n_estimators': 1216, 'learning_rate': 0.07760477885286149, 'objective': 'CrossEntropy', 'depth': 10, 'l2_leaf_reg': 1.2604764878974533, 'colsample_bylevel': 0.22438722774586545, 'min_child_samples': 300.0, 'grow_policy': 'SymmetricTree', 'border_count': 128, 'auto_class_weight': None}. Best is trial 11 with value: 0.9914053751399776.\n",
      "/var/folders/_k/vxqnb8117qb_1tpg9p98mtyc0000gn/T/ipykernel_13321/1751210426.py:7: FutureWarning: suggest_loguniform has been deprecated in v3.0.0. This feature will be removed in v6.0.0. See https://github.com/optuna/optuna/releases/tag/v3.0.0. Use suggest_float(..., log=True) instead.\n",
      "  \"l2_leaf_reg\": trial.suggest_loguniform('l2_leaf_reg', 1e-2, 10),\n",
      "[I 2025-04-10 11:08:03,390] Trial 13 finished with value: 0.9901175811870101 and parameters: {'n_estimators': 737, 'learning_rate': 0.09612407961649214, 'objective': 'CrossEntropy', 'depth': 9, 'l2_leaf_reg': 4.885323020340191, 'colsample_bylevel': 0.34856736489961815, 'min_child_samples': 300.0, 'grow_policy': 'SymmetricTree', 'border_count': 128, 'auto_class_weight': None}. Best is trial 11 with value: 0.9914053751399776.\n",
      "/var/folders/_k/vxqnb8117qb_1tpg9p98mtyc0000gn/T/ipykernel_13321/1751210426.py:7: FutureWarning: suggest_loguniform has been deprecated in v3.0.0. This feature will be removed in v6.0.0. See https://github.com/optuna/optuna/releases/tag/v3.0.0. Use suggest_float(..., log=True) instead.\n",
      "  \"l2_leaf_reg\": trial.suggest_loguniform('l2_leaf_reg', 1e-2, 10),\n",
      "[I 2025-04-10 11:08:03,878] Trial 14 finished with value: 0.9896696528555431 and parameters: {'n_estimators': 631, 'learning_rate': 0.08785312633841007, 'objective': 'CrossEntropy', 'depth': 9, 'l2_leaf_reg': 7.109469759040825, 'colsample_bylevel': 0.3705049224721681, 'min_child_samples': 400.0, 'grow_policy': 'SymmetricTree', 'border_count': 128, 'auto_class_weight': None}. Best is trial 11 with value: 0.9914053751399776.\n",
      "/var/folders/_k/vxqnb8117qb_1tpg9p98mtyc0000gn/T/ipykernel_13321/1751210426.py:7: FutureWarning: suggest_loguniform has been deprecated in v3.0.0. This feature will be removed in v6.0.0. See https://github.com/optuna/optuna/releases/tag/v3.0.0. Use suggest_float(..., log=True) instead.\n",
      "  \"l2_leaf_reg\": trial.suggest_loguniform('l2_leaf_reg', 1e-2, 10),\n",
      "[I 2025-04-10 11:08:04,207] Trial 15 finished with value: 0.9903975363941768 and parameters: {'n_estimators': 858, 'learning_rate': 0.11639947740260359, 'objective': 'CrossEntropy', 'depth': 9, 'l2_leaf_reg': 2.9080474340757467, 'colsample_bylevel': 0.40171628723125896, 'min_child_samples': 300.0, 'grow_policy': 'SymmetricTree', 'border_count': 256, 'auto_class_weight': None}. Best is trial 11 with value: 0.9914053751399776.\n",
      "/var/folders/_k/vxqnb8117qb_1tpg9p98mtyc0000gn/T/ipykernel_13321/1751210426.py:7: FutureWarning: suggest_loguniform has been deprecated in v3.0.0. This feature will be removed in v6.0.0. See https://github.com/optuna/optuna/releases/tag/v3.0.0. Use suggest_float(..., log=True) instead.\n",
      "  \"l2_leaf_reg\": trial.suggest_loguniform('l2_leaf_reg', 1e-2, 10),\n",
      "[I 2025-04-10 11:08:04,512] Trial 16 finished with value: 0.9894456886898096 and parameters: {'n_estimators': 986, 'learning_rate': 0.1312402504617011, 'objective': 'CrossEntropy', 'depth': 9, 'l2_leaf_reg': 2.732037521878469, 'colsample_bylevel': 0.6487250987481097, 'min_child_samples': 400.0, 'grow_policy': 'SymmetricTree', 'border_count': 256, 'auto_class_weight': None}. Best is trial 11 with value: 0.9914053751399776.\n",
      "/var/folders/_k/vxqnb8117qb_1tpg9p98mtyc0000gn/T/ipykernel_13321/1751210426.py:7: FutureWarning: suggest_loguniform has been deprecated in v3.0.0. This feature will be removed in v6.0.0. See https://github.com/optuna/optuna/releases/tag/v3.0.0. Use suggest_float(..., log=True) instead.\n",
      "  \"l2_leaf_reg\": trial.suggest_loguniform('l2_leaf_reg', 1e-2, 10),\n",
      "[I 2025-04-10 11:08:04,608] Trial 17 finished with value: 0.985414333706607 and parameters: {'n_estimators': 550, 'learning_rate': 0.19166487571487517, 'objective': 'CrossEntropy', 'depth': 8, 'l2_leaf_reg': 0.24737101292087962, 'colsample_bylevel': 0.642849880842917, 'min_child_samples': 800.0, 'grow_policy': 'SymmetricTree', 'border_count': 256, 'auto_class_weight': 'SqrtBalanced'}. Best is trial 11 with value: 0.9914053751399776.\n",
      "/var/folders/_k/vxqnb8117qb_1tpg9p98mtyc0000gn/T/ipykernel_13321/1751210426.py:7: FutureWarning: suggest_loguniform has been deprecated in v3.0.0. This feature will be removed in v6.0.0. See https://github.com/optuna/optuna/releases/tag/v3.0.0. Use suggest_float(..., log=True) instead.\n",
      "  \"l2_leaf_reg\": trial.suggest_loguniform('l2_leaf_reg', 1e-2, 10),\n",
      "[I 2025-04-10 11:08:04,968] Trial 18 finished with value: 0.0 and parameters: {'n_estimators': 867, 'learning_rate': 0.05586944843881534, 'objective': 'CrossEntropy', 'depth': 4, 'l2_leaf_reg': 0.4357840803019629, 'colsample_bylevel': 0.44155220482478996, 'min_child_samples': 200.0, 'grow_policy': 'Lossguide', 'border_count': 1024, 'auto_class_weight': None}. Best is trial 11 with value: 0.9914053751399776.\n",
      "/var/folders/_k/vxqnb8117qb_1tpg9p98mtyc0000gn/T/ipykernel_13321/1751210426.py:7: FutureWarning: suggest_loguniform has been deprecated in v3.0.0. This feature will be removed in v6.0.0. See https://github.com/optuna/optuna/releases/tag/v3.0.0. Use suggest_float(..., log=True) instead.\n",
      "  \"l2_leaf_reg\": trial.suggest_loguniform('l2_leaf_reg', 1e-2, 10),\n",
      "[I 2025-04-10 11:08:05,333] Trial 19 finished with value: 0.9800111982082869 and parameters: {'n_estimators': 1429, 'learning_rate': 0.11490540957600111, 'objective': 'CrossEntropy', 'depth': 8, 'l2_leaf_reg': 2.391249100756833, 'colsample_bylevel': 0.11187106266032948, 'min_child_samples': 300.0, 'grow_policy': 'SymmetricTree', 'border_count': 256, 'auto_class_weight': None}. Best is trial 11 with value: 0.9914053751399776.\n",
      "/var/folders/_k/vxqnb8117qb_1tpg9p98mtyc0000gn/T/ipykernel_13321/1751210426.py:7: FutureWarning: suggest_loguniform has been deprecated in v3.0.0. This feature will be removed in v6.0.0. See https://github.com/optuna/optuna/releases/tag/v3.0.0. Use suggest_float(..., log=True) instead.\n",
      "  \"l2_leaf_reg\": trial.suggest_loguniform('l2_leaf_reg', 1e-2, 10),\n",
      "[I 2025-04-10 11:08:05,442] Trial 20 finished with value: 0.9893896976483761 and parameters: {'n_estimators': 1062, 'learning_rate': 0.21868889028116062, 'objective': 'CrossEntropy', 'depth': 9, 'l2_leaf_reg': 0.49001538653234034, 'colsample_bylevel': 0.36804264003689946, 'min_child_samples': 500.0, 'grow_policy': 'SymmetricTree', 'border_count': 256, 'auto_class_weight': 'SqrtBalanced'}. Best is trial 11 with value: 0.9914053751399776.\n",
      "/var/folders/_k/vxqnb8117qb_1tpg9p98mtyc0000gn/T/ipykernel_13321/1751210426.py:7: FutureWarning: suggest_loguniform has been deprecated in v3.0.0. This feature will be removed in v6.0.0. See https://github.com/optuna/optuna/releases/tag/v3.0.0. Use suggest_float(..., log=True) instead.\n",
      "  \"l2_leaf_reg\": trial.suggest_loguniform('l2_leaf_reg', 1e-2, 10),\n",
      "[I 2025-04-10 11:08:05,681] Trial 21 finished with value: 0.9899216125419934 and parameters: {'n_estimators': 792, 'learning_rate': 0.10428435771420519, 'objective': 'CrossEntropy', 'depth': 9, 'l2_leaf_reg': 3.21580930637903, 'colsample_bylevel': 0.3502566374780463, 'min_child_samples': 300.0, 'grow_policy': 'SymmetricTree', 'border_count': 128, 'auto_class_weight': None}. Best is trial 11 with value: 0.9914053751399776.\n",
      "/var/folders/_k/vxqnb8117qb_1tpg9p98mtyc0000gn/T/ipykernel_13321/1751210426.py:7: FutureWarning: suggest_loguniform has been deprecated in v3.0.0. This feature will be removed in v6.0.0. See https://github.com/optuna/optuna/releases/tag/v3.0.0. Use suggest_float(..., log=True) instead.\n",
      "  \"l2_leaf_reg\": trial.suggest_loguniform('l2_leaf_reg', 1e-2, 10),\n",
      "[I 2025-04-10 11:08:06,679] Trial 22 finished with value: 0.9907054871220605 and parameters: {'n_estimators': 760, 'learning_rate': 0.0612177589476867, 'objective': 'CrossEntropy', 'depth': 10, 'l2_leaf_reg': 4.870172542954661, 'colsample_bylevel': 0.4509452874444094, 'min_child_samples': 300.0, 'grow_policy': 'SymmetricTree', 'border_count': 128, 'auto_class_weight': None}. Best is trial 11 with value: 0.9914053751399776.\n",
      "/var/folders/_k/vxqnb8117qb_1tpg9p98mtyc0000gn/T/ipykernel_13321/1751210426.py:7: FutureWarning: suggest_loguniform has been deprecated in v3.0.0. This feature will be removed in v6.0.0. See https://github.com/optuna/optuna/releases/tag/v3.0.0. Use suggest_float(..., log=True) instead.\n",
      "  \"l2_leaf_reg\": trial.suggest_loguniform('l2_leaf_reg', 1e-2, 10),\n",
      "[I 2025-04-10 11:08:07,493] Trial 23 finished with value: 0.9922732362821948 and parameters: {'n_estimators': 605, 'learning_rate': 0.05733887276538938, 'objective': 'CrossEntropy', 'depth': 10, 'l2_leaf_reg': 1.9010600472291685, 'colsample_bylevel': 0.46819872116603145, 'min_child_samples': 100.0, 'grow_policy': 'SymmetricTree', 'border_count': 128, 'auto_class_weight': None}. Best is trial 23 with value: 0.9922732362821948.\n",
      "/var/folders/_k/vxqnb8117qb_1tpg9p98mtyc0000gn/T/ipykernel_13321/1751210426.py:7: FutureWarning: suggest_loguniform has been deprecated in v3.0.0. This feature will be removed in v6.0.0. See https://github.com/optuna/optuna/releases/tag/v3.0.0. Use suggest_float(..., log=True) instead.\n",
      "  \"l2_leaf_reg\": trial.suggest_loguniform('l2_leaf_reg', 1e-2, 10),\n",
      "[I 2025-04-10 11:08:08,172] Trial 24 finished with value: 0.9914333706606944 and parameters: {'n_estimators': 538, 'learning_rate': 0.05177713210018354, 'objective': 'CrossEntropy', 'depth': 10, 'l2_leaf_reg': 1.5550099529271846, 'colsample_bylevel': 0.5927672453232185, 'min_child_samples': 100.0, 'grow_policy': 'SymmetricTree', 'border_count': 128, 'auto_class_weight': None}. Best is trial 23 with value: 0.9922732362821948.\n",
      "/var/folders/_k/vxqnb8117qb_1tpg9p98mtyc0000gn/T/ipykernel_13321/1751210426.py:7: FutureWarning: suggest_loguniform has been deprecated in v3.0.0. This feature will be removed in v6.0.0. See https://github.com/optuna/optuna/releases/tag/v3.0.0. Use suggest_float(..., log=True) instead.\n",
      "  \"l2_leaf_reg\": trial.suggest_loguniform('l2_leaf_reg', 1e-2, 10),\n",
      "[I 2025-04-10 11:08:08,400] Trial 25 finished with value: 0.9801231802911534 and parameters: {'n_estimators': 470, 'learning_rate': 0.05159025303920877, 'objective': 'CrossEntropy', 'depth': 10, 'l2_leaf_reg': 0.6598699248301954, 'colsample_bylevel': 0.7428423238539185, 'min_child_samples': 100.0, 'grow_policy': 'Lossguide', 'border_count': 128, 'auto_class_weight': None}. Best is trial 23 with value: 0.9922732362821948.\n",
      "/var/folders/_k/vxqnb8117qb_1tpg9p98mtyc0000gn/T/ipykernel_13321/1751210426.py:7: FutureWarning: suggest_loguniform has been deprecated in v3.0.0. This feature will be removed in v6.0.0. See https://github.com/optuna/optuna/releases/tag/v3.0.0. Use suggest_float(..., log=True) instead.\n",
      "  \"l2_leaf_reg\": trial.suggest_loguniform('l2_leaf_reg', 1e-2, 10),\n",
      "[I 2025-04-10 11:08:08,610] Trial 26 finished with value: 0.9862821948488241 and parameters: {'n_estimators': 338, 'learning_rate': 0.021068274191660116, 'objective': 'Logloss', 'depth': 8, 'l2_leaf_reg': 1.516032715689074, 'colsample_bylevel': 0.5468959980203659, 'min_child_samples': 100.0, 'grow_policy': 'SymmetricTree', 'border_count': 128, 'auto_class_weight': None}. Best is trial 23 with value: 0.9922732362821948.\n",
      "/var/folders/_k/vxqnb8117qb_1tpg9p98mtyc0000gn/T/ipykernel_13321/1751210426.py:7: FutureWarning: suggest_loguniform has been deprecated in v3.0.0. This feature will be removed in v6.0.0. See https://github.com/optuna/optuna/releases/tag/v3.0.0. Use suggest_float(..., log=True) instead.\n",
      "  \"l2_leaf_reg\": trial.suggest_loguniform('l2_leaf_reg', 1e-2, 10),\n",
      "[I 2025-04-10 11:08:08,960] Trial 27 finished with value: 0.9901175811870101 and parameters: {'n_estimators': 582, 'learning_rate': 0.0668507331361228, 'objective': 'CrossEntropy', 'depth': 10, 'l2_leaf_reg': 0.260872320113754, 'colsample_bylevel': 0.5925550720603827, 'min_child_samples': 200.0, 'grow_policy': 'SymmetricTree', 'border_count': 1024, 'auto_class_weight': None}. Best is trial 23 with value: 0.9922732362821948.\n",
      "/var/folders/_k/vxqnb8117qb_1tpg9p98mtyc0000gn/T/ipykernel_13321/1751210426.py:7: FutureWarning: suggest_loguniform has been deprecated in v3.0.0. This feature will be removed in v6.0.0. See https://github.com/optuna/optuna/releases/tag/v3.0.0. Use suggest_float(..., log=True) instead.\n",
      "  \"l2_leaf_reg\": trial.suggest_loguniform('l2_leaf_reg', 1e-2, 10),\n",
      "[I 2025-04-10 11:08:09,592] Trial 28 finished with value: 0.9909574468085107 and parameters: {'n_estimators': 418, 'learning_rate': 0.011518587985908532, 'objective': 'CrossEntropy', 'depth': 10, 'l2_leaf_reg': 1.856559445651638, 'colsample_bylevel': 0.7125949425218975, 'min_child_samples': 100.0, 'grow_policy': 'SymmetricTree', 'border_count': 128, 'auto_class_weight': 'SqrtBalanced'}. Best is trial 23 with value: 0.9922732362821948.\n",
      "/var/folders/_k/vxqnb8117qb_1tpg9p98mtyc0000gn/T/ipykernel_13321/1751210426.py:7: FutureWarning: suggest_loguniform has been deprecated in v3.0.0. This feature will be removed in v6.0.0. See https://github.com/optuna/optuna/releases/tag/v3.0.0. Use suggest_float(..., log=True) instead.\n",
      "  \"l2_leaf_reg\": trial.suggest_loguniform('l2_leaf_reg', 1e-2, 10),\n",
      "[I 2025-04-10 11:08:09,997] Trial 29 finished with value: 0.9749720044792832 and parameters: {'n_estimators': 1062, 'learning_rate': 0.04363146791982603, 'objective': 'Logloss', 'depth': 8, 'l2_leaf_reg': 0.6442706264451522, 'colsample_bylevel': 0.8247169735703009, 'min_child_samples': 200.0, 'grow_policy': 'Lossguide', 'border_count': 128, 'auto_class_weight': None}. Best is trial 23 with value: 0.9922732362821948.\n",
      "/var/folders/_k/vxqnb8117qb_1tpg9p98mtyc0000gn/T/ipykernel_13321/1751210426.py:7: FutureWarning: suggest_loguniform has been deprecated in v3.0.0. This feature will be removed in v6.0.0. See https://github.com/optuna/optuna/releases/tag/v3.0.0. Use suggest_float(..., log=True) instead.\n",
      "  \"l2_leaf_reg\": trial.suggest_loguniform('l2_leaf_reg', 1e-2, 10),\n",
      "[I 2025-04-10 11:08:10,594] Trial 30 finished with value: 0.9894736842105263 and parameters: {'n_estimators': 622, 'learning_rate': 0.07111021972252204, 'objective': 'CrossEntropy', 'depth': 9, 'l2_leaf_reg': 4.946191401822272, 'colsample_bylevel': 0.584676831473298, 'min_child_samples': 400.0, 'grow_policy': 'SymmetricTree', 'border_count': 128, 'auto_class_weight': 'SqrtBalanced'}. Best is trial 23 with value: 0.9922732362821948.\n",
      "/var/folders/_k/vxqnb8117qb_1tpg9p98mtyc0000gn/T/ipykernel_13321/1751210426.py:7: FutureWarning: suggest_loguniform has been deprecated in v3.0.0. This feature will be removed in v6.0.0. See https://github.com/optuna/optuna/releases/tag/v3.0.0. Use suggest_float(..., log=True) instead.\n",
      "  \"l2_leaf_reg\": trial.suggest_loguniform('l2_leaf_reg', 1e-2, 10),\n",
      "[I 2025-04-10 11:08:11,298] Trial 31 finished with value: 0.9904815229563271 and parameters: {'n_estimators': 466, 'learning_rate': 0.01184501211040788, 'objective': 'CrossEntropy', 'depth': 10, 'l2_leaf_reg': 1.973068842884722, 'colsample_bylevel': 0.7864353089711369, 'min_child_samples': 100.0, 'grow_policy': 'SymmetricTree', 'border_count': 128, 'auto_class_weight': 'SqrtBalanced'}. Best is trial 23 with value: 0.9922732362821948.\n",
      "/var/folders/_k/vxqnb8117qb_1tpg9p98mtyc0000gn/T/ipykernel_13321/1751210426.py:7: FutureWarning: suggest_loguniform has been deprecated in v3.0.0. This feature will be removed in v6.0.0. See https://github.com/optuna/optuna/releases/tag/v3.0.0. Use suggest_float(..., log=True) instead.\n",
      "  \"l2_leaf_reg\": trial.suggest_loguniform('l2_leaf_reg', 1e-2, 10),\n",
      "[I 2025-04-10 11:08:11,962] Trial 32 finished with value: 0.9903695408734602 and parameters: {'n_estimators': 440, 'learning_rate': 0.010898466174350308, 'objective': 'CrossEntropy', 'depth': 10, 'l2_leaf_reg': 1.769810016534617, 'colsample_bylevel': 0.7130101090447483, 'min_child_samples': 100.0, 'grow_policy': 'SymmetricTree', 'border_count': 128, 'auto_class_weight': 'SqrtBalanced'}. Best is trial 23 with value: 0.9922732362821948.\n",
      "/var/folders/_k/vxqnb8117qb_1tpg9p98mtyc0000gn/T/ipykernel_13321/1751210426.py:7: FutureWarning: suggest_loguniform has been deprecated in v3.0.0. This feature will be removed in v6.0.0. See https://github.com/optuna/optuna/releases/tag/v3.0.0. Use suggest_float(..., log=True) instead.\n",
      "  \"l2_leaf_reg\": trial.suggest_loguniform('l2_leaf_reg', 1e-2, 10),\n",
      "[I 2025-04-10 11:08:12,708] Trial 33 finished with value: 0.9918812989921613 and parameters: {'n_estimators': 531, 'learning_rate': 0.03472375279105622, 'objective': 'CrossEntropy', 'depth': 10, 'l2_leaf_reg': 0.6669707071119731, 'colsample_bylevel': 0.5884137887714895, 'min_child_samples': 200.0, 'grow_policy': 'SymmetricTree', 'border_count': 128, 'auto_class_weight': 'SqrtBalanced'}. Best is trial 23 with value: 0.9922732362821948.\n",
      "/var/folders/_k/vxqnb8117qb_1tpg9p98mtyc0000gn/T/ipykernel_13321/1751210426.py:7: FutureWarning: suggest_loguniform has been deprecated in v3.0.0. This feature will be removed in v6.0.0. See https://github.com/optuna/optuna/releases/tag/v3.0.0. Use suggest_float(..., log=True) instead.\n",
      "  \"l2_leaf_reg\": trial.suggest_loguniform('l2_leaf_reg', 1e-2, 10),\n",
      "[I 2025-04-10 11:08:12,979] Trial 34 finished with value: 0.9910694288913775 and parameters: {'n_estimators': 670, 'learning_rate': 0.03602655329891831, 'objective': 'CrossEntropy', 'depth': 9, 'l2_leaf_reg': 0.33930591345369887, 'colsample_bylevel': 0.29731927996731067, 'min_child_samples': 200.0, 'grow_policy': 'SymmetricTree', 'border_count': 128, 'auto_class_weight': 'SqrtBalanced'}. Best is trial 23 with value: 0.9922732362821948.\n",
      "/var/folders/_k/vxqnb8117qb_1tpg9p98mtyc0000gn/T/ipykernel_13321/1751210426.py:7: FutureWarning: suggest_loguniform has been deprecated in v3.0.0. This feature will be removed in v6.0.0. See https://github.com/optuna/optuna/releases/tag/v3.0.0. Use suggest_float(..., log=True) instead.\n",
      "  \"l2_leaf_reg\": trial.suggest_loguniform('l2_leaf_reg', 1e-2, 10),\n",
      "[I 2025-04-10 11:08:13,156] Trial 35 finished with value: 0.0 and parameters: {'n_estimators': 557, 'learning_rate': 0.15382737852179185, 'objective': 'CrossEntropy', 'depth': 5, 'l2_leaf_reg': 0.6445698458755978, 'colsample_bylevel': 0.4419314084512602, 'min_child_samples': 200.0, 'grow_policy': 'Lossguide', 'border_count': 128, 'auto_class_weight': 'Balanced'}. Best is trial 23 with value: 0.9922732362821948.\n",
      "/var/folders/_k/vxqnb8117qb_1tpg9p98mtyc0000gn/T/ipykernel_13321/1751210426.py:7: FutureWarning: suggest_loguniform has been deprecated in v3.0.0. This feature will be removed in v6.0.0. See https://github.com/optuna/optuna/releases/tag/v3.0.0. Use suggest_float(..., log=True) instead.\n",
      "  \"l2_leaf_reg\": trial.suggest_loguniform('l2_leaf_reg', 1e-2, 10),\n",
      "[I 2025-04-10 11:08:13,532] Trial 36 finished with value: 0.0 and parameters: {'n_estimators': 1003, 'learning_rate': 0.05139206597902403, 'objective': 'CrossEntropy', 'depth': 10, 'l2_leaf_reg': 0.012092687242372186, 'colsample_bylevel': 0.9957143655449376, 'min_child_samples': 500.0, 'grow_policy': 'Depthwise', 'border_count': 128, 'auto_class_weight': None}. Best is trial 23 with value: 0.9922732362821948.\n",
      "/var/folders/_k/vxqnb8117qb_1tpg9p98mtyc0000gn/T/ipykernel_13321/1751210426.py:7: FutureWarning: suggest_loguniform has been deprecated in v3.0.0. This feature will be removed in v6.0.0. See https://github.com/optuna/optuna/releases/tag/v3.0.0. Use suggest_float(..., log=True) instead.\n",
      "  \"l2_leaf_reg\": trial.suggest_loguniform('l2_leaf_reg', 1e-2, 10),\n",
      "[I 2025-04-10 11:08:13,659] Trial 37 finished with value: 0.0 and parameters: {'n_estimators': 825, 'learning_rate': 0.29416591191242664, 'objective': 'CrossEntropy', 'depth': 3, 'l2_leaf_reg': 0.8968530989831991, 'colsample_bylevel': 0.5801820424342123, 'min_child_samples': 200.0, 'grow_policy': 'SymmetricTree', 'border_count': 128, 'auto_class_weight': 'SqrtBalanced'}. Best is trial 23 with value: 0.9922732362821948.\n",
      "/var/folders/_k/vxqnb8117qb_1tpg9p98mtyc0000gn/T/ipykernel_13321/1751210426.py:7: FutureWarning: suggest_loguniform has been deprecated in v3.0.0. This feature will be removed in v6.0.0. See https://github.com/optuna/optuna/releases/tag/v3.0.0. Use suggest_float(..., log=True) instead.\n",
      "  \"l2_leaf_reg\": trial.suggest_loguniform('l2_leaf_reg', 1e-2, 10),\n",
      "[I 2025-04-10 11:08:13,812] Trial 38 finished with value: 0.9908734602463607 and parameters: {'n_estimators': 1248, 'learning_rate': 0.08164446132273986, 'objective': 'Logloss', 'depth': 9, 'l2_leaf_reg': 0.18319293431207054, 'colsample_bylevel': 0.487140214803182, 'min_child_samples': 400.0, 'grow_policy': 'SymmetricTree', 'border_count': 1024, 'auto_class_weight': None}. Best is trial 23 with value: 0.9922732362821948.\n",
      "/var/folders/_k/vxqnb8117qb_1tpg9p98mtyc0000gn/T/ipykernel_13321/1751210426.py:7: FutureWarning: suggest_loguniform has been deprecated in v3.0.0. This feature will be removed in v6.0.0. See https://github.com/optuna/optuna/releases/tag/v3.0.0. Use suggest_float(..., log=True) instead.\n",
      "  \"l2_leaf_reg\": trial.suggest_loguniform('l2_leaf_reg', 1e-2, 10),\n",
      "[I 2025-04-10 11:08:14,125] Trial 39 finished with value: 0.0 and parameters: {'n_estimators': 920, 'learning_rate': 0.02890881721178483, 'objective': 'CrossEntropy', 'depth': 8, 'l2_leaf_reg': 0.90086030074694, 'colsample_bylevel': 0.3034004632777033, 'min_child_samples': 700.0, 'grow_policy': 'Depthwise', 'border_count': 128, 'auto_class_weight': 'Balanced'}. Best is trial 23 with value: 0.9922732362821948.\n",
      "/var/folders/_k/vxqnb8117qb_1tpg9p98mtyc0000gn/T/ipykernel_13321/1751210426.py:7: FutureWarning: suggest_loguniform has been deprecated in v3.0.0. This feature will be removed in v6.0.0. See https://github.com/optuna/optuna/releases/tag/v3.0.0. Use suggest_float(..., log=True) instead.\n",
      "  \"l2_leaf_reg\": trial.suggest_loguniform('l2_leaf_reg', 1e-2, 10),\n",
      "[I 2025-04-10 11:08:14,327] Trial 40 finished with value: 0.9834826427771556 and parameters: {'n_estimators': 531, 'learning_rate': 0.10086958227508441, 'objective': 'Logloss', 'depth': 7, 'l2_leaf_reg': 1.3168392744622495, 'colsample_bylevel': 0.20105238218629884, 'min_child_samples': 100.0, 'grow_policy': 'SymmetricTree', 'border_count': 512, 'auto_class_weight': None}. Best is trial 23 with value: 0.9922732362821948.\n",
      "/var/folders/_k/vxqnb8117qb_1tpg9p98mtyc0000gn/T/ipykernel_13321/1751210426.py:7: FutureWarning: suggest_loguniform has been deprecated in v3.0.0. This feature will be removed in v6.0.0. See https://github.com/optuna/optuna/releases/tag/v3.0.0. Use suggest_float(..., log=True) instead.\n",
      "  \"l2_leaf_reg\": trial.suggest_loguniform('l2_leaf_reg', 1e-2, 10),\n",
      "[I 2025-04-10 11:08:14,759] Trial 41 finished with value: 0.9928331466965286 and parameters: {'n_estimators': 663, 'learning_rate': 0.040441272221615955, 'objective': 'CrossEntropy', 'depth': 10, 'l2_leaf_reg': 0.37997897008458636, 'colsample_bylevel': 0.4830086274861135, 'min_child_samples': 200.0, 'grow_policy': 'SymmetricTree', 'border_count': 128, 'auto_class_weight': 'SqrtBalanced'}. Best is trial 41 with value: 0.9928331466965286.\n",
      "/var/folders/_k/vxqnb8117qb_1tpg9p98mtyc0000gn/T/ipykernel_13321/1751210426.py:7: FutureWarning: suggest_loguniform has been deprecated in v3.0.0. This feature will be removed in v6.0.0. See https://github.com/optuna/optuna/releases/tag/v3.0.0. Use suggest_float(..., log=True) instead.\n",
      "  \"l2_leaf_reg\": trial.suggest_loguniform('l2_leaf_reg', 1e-2, 10),\n",
      "[I 2025-04-10 11:08:15,255] Trial 42 finished with value: 0.9908174692049272 and parameters: {'n_estimators': 706, 'learning_rate': 0.041080254900529856, 'objective': 'CrossEntropy', 'depth': 10, 'l2_leaf_reg': 0.4250170407002487, 'colsample_bylevel': 0.515223159835863, 'min_child_samples': 200.0, 'grow_policy': 'SymmetricTree', 'border_count': 128, 'auto_class_weight': 'SqrtBalanced'}. Best is trial 41 with value: 0.9928331466965286.\n",
      "/var/folders/_k/vxqnb8117qb_1tpg9p98mtyc0000gn/T/ipykernel_13321/1751210426.py:7: FutureWarning: suggest_loguniform has been deprecated in v3.0.0. This feature will be removed in v6.0.0. See https://github.com/optuna/optuna/releases/tag/v3.0.0. Use suggest_float(..., log=True) instead.\n",
      "  \"l2_leaf_reg\": trial.suggest_loguniform('l2_leaf_reg', 1e-2, 10),\n",
      "[I 2025-04-10 11:08:15,679] Trial 43 finished with value: 0.992693169092945 and parameters: {'n_estimators': 360, 'learning_rate': 0.06555237364514116, 'objective': 'CrossEntropy', 'depth': 10, 'l2_leaf_reg': 0.14010198013369854, 'colsample_bylevel': 0.6324219968149682, 'min_child_samples': 100.0, 'grow_policy': 'SymmetricTree', 'border_count': 128, 'auto_class_weight': 'SqrtBalanced'}. Best is trial 41 with value: 0.9928331466965286.\n",
      "/var/folders/_k/vxqnb8117qb_1tpg9p98mtyc0000gn/T/ipykernel_13321/1751210426.py:7: FutureWarning: suggest_loguniform has been deprecated in v3.0.0. This feature will be removed in v6.0.0. See https://github.com/optuna/optuna/releases/tag/v3.0.0. Use suggest_float(..., log=True) instead.\n",
      "  \"l2_leaf_reg\": trial.suggest_loguniform('l2_leaf_reg', 1e-2, 10),\n",
      "[I 2025-04-10 11:08:16,149] Trial 44 finished with value: 0.9910694288913774 and parameters: {'n_estimators': 358, 'learning_rate': 0.026673743826505596, 'objective': 'CrossEntropy', 'depth': 10, 'l2_leaf_reg': 0.09219711897901149, 'colsample_bylevel': 0.615727246992654, 'min_child_samples': 100.0, 'grow_policy': 'SymmetricTree', 'border_count': 128, 'auto_class_weight': 'SqrtBalanced'}. Best is trial 41 with value: 0.9928331466965286.\n",
      "/var/folders/_k/vxqnb8117qb_1tpg9p98mtyc0000gn/T/ipykernel_13321/1751210426.py:7: FutureWarning: suggest_loguniform has been deprecated in v3.0.0. This feature will be removed in v6.0.0. See https://github.com/optuna/optuna/releases/tag/v3.0.0. Use suggest_float(..., log=True) instead.\n",
      "  \"l2_leaf_reg\": trial.suggest_loguniform('l2_leaf_reg', 1e-2, 10),\n",
      "[I 2025-04-10 11:08:16,375] Trial 45 finished with value: 0.9911254199328108 and parameters: {'n_estimators': 307, 'learning_rate': 0.06571927166701072, 'objective': 'CrossEntropy', 'depth': 9, 'l2_leaf_reg': 0.17207089667239847, 'colsample_bylevel': 0.5399979611412159, 'min_child_samples': 100.0, 'grow_policy': 'SymmetricTree', 'border_count': 512, 'auto_class_weight': 'SqrtBalanced'}. Best is trial 41 with value: 0.9928331466965286.\n",
      "/var/folders/_k/vxqnb8117qb_1tpg9p98mtyc0000gn/T/ipykernel_13321/1751210426.py:7: FutureWarning: suggest_loguniform has been deprecated in v3.0.0. This feature will be removed in v6.0.0. See https://github.com/optuna/optuna/releases/tag/v3.0.0. Use suggest_float(..., log=True) instead.\n",
      "  \"l2_leaf_reg\": trial.suggest_loguniform('l2_leaf_reg', 1e-2, 10),\n",
      "[I 2025-04-10 11:08:16,422] Trial 46 finished with value: 0.5 and parameters: {'n_estimators': 489, 'learning_rate': 0.04860104312601231, 'objective': 'CrossEntropy', 'depth': 10, 'l2_leaf_reg': 0.05396614859289365, 'colsample_bylevel': 0.6774739607261098, 'min_child_samples': 1000.0, 'grow_policy': 'Depthwise', 'border_count': 128, 'auto_class_weight': 'SqrtBalanced'}. Best is trial 41 with value: 0.9928331466965286.\n",
      "/var/folders/_k/vxqnb8117qb_1tpg9p98mtyc0000gn/T/ipykernel_13321/1751210426.py:7: FutureWarning: suggest_loguniform has been deprecated in v3.0.0. This feature will be removed in v6.0.0. See https://github.com/optuna/optuna/releases/tag/v3.0.0. Use suggest_float(..., log=True) instead.\n",
      "  \"l2_leaf_reg\": trial.suggest_loguniform('l2_leaf_reg', 1e-2, 10),\n",
      "[I 2025-04-10 11:08:16,503] Trial 47 finished with value: 0.9819988801791714 and parameters: {'n_estimators': 1643, 'learning_rate': 0.17104746018316808, 'objective': 'CrossEntropy', 'depth': 6, 'l2_leaf_reg': 0.10248818579542687, 'colsample_bylevel': 0.5563345377762128, 'min_child_samples': 200.0, 'grow_policy': 'SymmetricTree', 'border_count': 128, 'auto_class_weight': 'SqrtBalanced'}. Best is trial 41 with value: 0.9928331466965286.\n",
      "/var/folders/_k/vxqnb8117qb_1tpg9p98mtyc0000gn/T/ipykernel_13321/1751210426.py:7: FutureWarning: suggest_loguniform has been deprecated in v3.0.0. This feature will be removed in v6.0.0. See https://github.com/optuna/optuna/releases/tag/v3.0.0. Use suggest_float(..., log=True) instead.\n",
      "  \"l2_leaf_reg\": trial.suggest_loguniform('l2_leaf_reg', 1e-2, 10),\n",
      "[I 2025-04-10 11:08:16,651] Trial 48 finished with value: 0.9785554311310191 and parameters: {'n_estimators': 632, 'learning_rate': 0.09100848565672576, 'objective': 'CrossEntropy', 'depth': 9, 'l2_leaf_reg': 0.13158260222110846, 'colsample_bylevel': 0.4854472470930475, 'min_child_samples': 100.0, 'grow_policy': 'Lossguide', 'border_count': 128, 'auto_class_weight': 'SqrtBalanced'}. Best is trial 41 with value: 0.9928331466965286.\n",
      "/var/folders/_k/vxqnb8117qb_1tpg9p98mtyc0000gn/T/ipykernel_13321/1751210426.py:7: FutureWarning: suggest_loguniform has been deprecated in v3.0.0. This feature will be removed in v6.0.0. See https://github.com/optuna/optuna/releases/tag/v3.0.0. Use suggest_float(..., log=True) instead.\n",
      "  \"l2_leaf_reg\": trial.suggest_loguniform('l2_leaf_reg', 1e-2, 10),\n",
      "[I 2025-04-10 11:08:16,980] Trial 49 finished with value: 0.9919932810750279 and parameters: {'n_estimators': 389, 'learning_rate': 0.03510987903095096, 'objective': 'Logloss', 'depth': 10, 'l2_leaf_reg': 0.07310573672034515, 'colsample_bylevel': 0.6836594578719997, 'min_child_samples': 200.0, 'grow_policy': 'SymmetricTree', 'border_count': 128, 'auto_class_weight': 'Balanced'}. Best is trial 41 with value: 0.9928331466965286.\n",
      "/var/folders/_k/vxqnb8117qb_1tpg9p98mtyc0000gn/T/ipykernel_13321/1751210426.py:7: FutureWarning: suggest_loguniform has been deprecated in v3.0.0. This feature will be removed in v6.0.0. See https://github.com/optuna/optuna/releases/tag/v3.0.0. Use suggest_float(..., log=True) instead.\n",
      "  \"l2_leaf_reg\": trial.suggest_loguniform('l2_leaf_reg', 1e-2, 10),\n",
      "[I 2025-04-10 11:08:17,332] Trial 50 finished with value: 0.9911254199328108 and parameters: {'n_estimators': 403, 'learning_rate': 0.03407397083557522, 'objective': 'Logloss', 'depth': 10, 'l2_leaf_reg': 0.061237796147339894, 'colsample_bylevel': 0.7700497166373512, 'min_child_samples': 200.0, 'grow_policy': 'SymmetricTree', 'border_count': 1024, 'auto_class_weight': 'Balanced'}. Best is trial 41 with value: 0.9928331466965286.\n",
      "/var/folders/_k/vxqnb8117qb_1tpg9p98mtyc0000gn/T/ipykernel_13321/1751210426.py:7: FutureWarning: suggest_loguniform has been deprecated in v3.0.0. This feature will be removed in v6.0.0. See https://github.com/optuna/optuna/releases/tag/v3.0.0. Use suggest_float(..., log=True) instead.\n",
      "  \"l2_leaf_reg\": trial.suggest_loguniform('l2_leaf_reg', 1e-2, 10),\n",
      "[I 2025-04-10 11:08:17,547] Trial 51 finished with value: 0.990929451287794 and parameters: {'n_estimators': 381, 'learning_rate': 0.07297754730778697, 'objective': 'Logloss', 'depth': 10, 'l2_leaf_reg': 0.02979904212801929, 'colsample_bylevel': 0.6607876517679674, 'min_child_samples': 100.0, 'grow_policy': 'SymmetricTree', 'border_count': 128, 'auto_class_weight': 'Balanced'}. Best is trial 41 with value: 0.9928331466965286.\n",
      "/var/folders/_k/vxqnb8117qb_1tpg9p98mtyc0000gn/T/ipykernel_13321/1751210426.py:7: FutureWarning: suggest_loguniform has been deprecated in v3.0.0. This feature will be removed in v6.0.0. See https://github.com/optuna/optuna/releases/tag/v3.0.0. Use suggest_float(..., log=True) instead.\n",
      "  \"l2_leaf_reg\": trial.suggest_loguniform('l2_leaf_reg', 1e-2, 10),\n",
      "[I 2025-04-10 11:08:17,864] Trial 52 finished with value: 0.9899776035834267 and parameters: {'n_estimators': 509, 'learning_rate': 0.023679444600922587, 'objective': 'Logloss', 'depth': 9, 'l2_leaf_reg': 0.07525407089045476, 'colsample_bylevel': 0.6336061824408532, 'min_child_samples': 300.0, 'grow_policy': 'SymmetricTree', 'border_count': 128, 'auto_class_weight': 'Balanced'}. Best is trial 41 with value: 0.9928331466965286.\n",
      "/var/folders/_k/vxqnb8117qb_1tpg9p98mtyc0000gn/T/ipykernel_13321/1751210426.py:7: FutureWarning: suggest_loguniform has been deprecated in v3.0.0. This feature will be removed in v6.0.0. See https://github.com/optuna/optuna/releases/tag/v3.0.0. Use suggest_float(..., log=True) instead.\n",
      "  \"l2_leaf_reg\": trial.suggest_loguniform('l2_leaf_reg', 1e-2, 10),\n",
      "[I 2025-04-10 11:08:18,071] Trial 53 finished with value: 0.9916573348264277 and parameters: {'n_estimators': 305, 'learning_rate': 0.058604969453531386, 'objective': 'Logloss', 'depth': 10, 'l2_leaf_reg': 0.036190431726647154, 'colsample_bylevel': 0.6886841482703501, 'min_child_samples': 200.0, 'grow_policy': 'SymmetricTree', 'border_count': 128, 'auto_class_weight': 'Balanced'}. Best is trial 41 with value: 0.9928331466965286.\n",
      "/var/folders/_k/vxqnb8117qb_1tpg9p98mtyc0000gn/T/ipykernel_13321/1751210426.py:7: FutureWarning: suggest_loguniform has been deprecated in v3.0.0. This feature will be removed in v6.0.0. See https://github.com/optuna/optuna/releases/tag/v3.0.0. Use suggest_float(..., log=True) instead.\n",
      "  \"l2_leaf_reg\": trial.suggest_loguniform('l2_leaf_reg', 1e-2, 10),\n",
      "[I 2025-04-10 11:08:18,329] Trial 54 finished with value: 0.991293393057111 and parameters: {'n_estimators': 309, 'learning_rate': 0.03858996750283508, 'objective': 'Logloss', 'depth': 10, 'l2_leaf_reg': 0.035243895776126785, 'colsample_bylevel': 0.6946686489119691, 'min_child_samples': 200.0, 'grow_policy': 'SymmetricTree', 'border_count': 128, 'auto_class_weight': 'Balanced'}. Best is trial 41 with value: 0.9928331466965286.\n",
      "/var/folders/_k/vxqnb8117qb_1tpg9p98mtyc0000gn/T/ipykernel_13321/1751210426.py:7: FutureWarning: suggest_loguniform has been deprecated in v3.0.0. This feature will be removed in v6.0.0. See https://github.com/optuna/optuna/releases/tag/v3.0.0. Use suggest_float(..., log=True) instead.\n",
      "  \"l2_leaf_reg\": trial.suggest_loguniform('l2_leaf_reg', 1e-2, 10),\n",
      "[I 2025-04-10 11:08:18,490] Trial 55 finished with value: 0.9885498320268757 and parameters: {'n_estimators': 1967, 'learning_rate': 0.060978192247730975, 'objective': 'Logloss', 'depth': 9, 'l2_leaf_reg': 0.020239499137627272, 'colsample_bylevel': 0.8568029927903557, 'min_child_samples': 300.0, 'grow_policy': 'SymmetricTree', 'border_count': 512, 'auto_class_weight': 'Balanced'}. Best is trial 41 with value: 0.9928331466965286.\n",
      "/var/folders/_k/vxqnb8117qb_1tpg9p98mtyc0000gn/T/ipykernel_13321/1751210426.py:7: FutureWarning: suggest_loguniform has been deprecated in v3.0.0. This feature will be removed in v6.0.0. See https://github.com/optuna/optuna/releases/tag/v3.0.0. Use suggest_float(..., log=True) instead.\n",
      "  \"l2_leaf_reg\": trial.suggest_loguniform('l2_leaf_reg', 1e-2, 10),\n",
      "[I 2025-04-10 11:08:18,687] Trial 56 finished with value: 0.9910694288913774 and parameters: {'n_estimators': 402, 'learning_rate': 0.1326064644377558, 'objective': 'Logloss', 'depth': 10, 'l2_leaf_reg': 0.22409310844972521, 'colsample_bylevel': 0.41691713237349165, 'min_child_samples': 200.0, 'grow_policy': 'SymmetricTree', 'border_count': 128, 'auto_class_weight': 'Balanced'}. Best is trial 41 with value: 0.9928331466965286.\n",
      "/var/folders/_k/vxqnb8117qb_1tpg9p98mtyc0000gn/T/ipykernel_13321/1751210426.py:7: FutureWarning: suggest_loguniform has been deprecated in v3.0.0. This feature will be removed in v6.0.0. See https://github.com/optuna/optuna/releases/tag/v3.0.0. Use suggest_float(..., log=True) instead.\n",
      "  \"l2_leaf_reg\": trial.suggest_loguniform('l2_leaf_reg', 1e-2, 10),\n",
      "[I 2025-04-10 11:08:18,901] Trial 57 finished with value: 0.0 and parameters: {'n_estimators': 603, 'learning_rate': 0.11089060327198164, 'objective': 'Logloss', 'depth': 9, 'l2_leaf_reg': 0.12546332488280074, 'colsample_bylevel': 0.47923466163049355, 'min_child_samples': 300.0, 'grow_policy': 'Depthwise', 'border_count': 128, 'auto_class_weight': 'Balanced'}. Best is trial 41 with value: 0.9928331466965286.\n",
      "/var/folders/_k/vxqnb8117qb_1tpg9p98mtyc0000gn/T/ipykernel_13321/1751210426.py:7: FutureWarning: suggest_loguniform has been deprecated in v3.0.0. This feature will be removed in v6.0.0. See https://github.com/optuna/optuna/releases/tag/v3.0.0. Use suggest_float(..., log=True) instead.\n",
      "  \"l2_leaf_reg\": trial.suggest_loguniform('l2_leaf_reg', 1e-2, 10),\n",
      "[I 2025-04-10 11:08:19,029] Trial 58 finished with value: 0.991097424412094 and parameters: {'n_estimators': 1301, 'learning_rate': 0.23257588631462497, 'objective': 'Logloss', 'depth': 10, 'l2_leaf_reg': 0.07412127815023602, 'colsample_bylevel': 0.7635112546208616, 'min_child_samples': 200.0, 'grow_policy': 'SymmetricTree', 'border_count': 256, 'auto_class_weight': 'Balanced'}. Best is trial 41 with value: 0.9928331466965286.\n",
      "/var/folders/_k/vxqnb8117qb_1tpg9p98mtyc0000gn/T/ipykernel_13321/1751210426.py:7: FutureWarning: suggest_loguniform has been deprecated in v3.0.0. This feature will be removed in v6.0.0. See https://github.com/optuna/optuna/releases/tag/v3.0.0. Use suggest_float(..., log=True) instead.\n",
      "  \"l2_leaf_reg\": trial.suggest_loguniform('l2_leaf_reg', 1e-2, 10),\n",
      "[I 2025-04-10 11:08:19,188] Trial 59 finished with value: 0.9902295632698769 and parameters: {'n_estimators': 666, 'learning_rate': 0.0775845716512836, 'objective': 'Logloss', 'depth': 9, 'l2_leaf_reg': 0.0459430822158319, 'colsample_bylevel': 0.6275248674798234, 'min_child_samples': 300.0, 'grow_policy': 'SymmetricTree', 'border_count': 128, 'auto_class_weight': 'SqrtBalanced'}. Best is trial 41 with value: 0.9928331466965286.\n",
      "/var/folders/_k/vxqnb8117qb_1tpg9p98mtyc0000gn/T/ipykernel_13321/1751210426.py:7: FutureWarning: suggest_loguniform has been deprecated in v3.0.0. This feature will be removed in v6.0.0. See https://github.com/optuna/optuna/releases/tag/v3.0.0. Use suggest_float(..., log=True) instead.\n",
      "  \"l2_leaf_reg\": trial.suggest_loguniform('l2_leaf_reg', 1e-2, 10),\n",
      "[I 2025-04-10 11:08:19,650] Trial 60 finished with value: 0.9922172452407615 and parameters: {'n_estimators': 369, 'learning_rate': 0.058421782448236786, 'objective': 'Logloss', 'depth': 10, 'l2_leaf_reg': 0.3232906284565872, 'colsample_bylevel': 0.8012348002585657, 'min_child_samples': 600.0, 'grow_policy': 'SymmetricTree', 'border_count': 128, 'auto_class_weight': 'SqrtBalanced'}. Best is trial 41 with value: 0.9928331466965286.\n",
      "/var/folders/_k/vxqnb8117qb_1tpg9p98mtyc0000gn/T/ipykernel_13321/1751210426.py:7: FutureWarning: suggest_loguniform has been deprecated in v3.0.0. This feature will be removed in v6.0.0. See https://github.com/optuna/optuna/releases/tag/v3.0.0. Use suggest_float(..., log=True) instead.\n",
      "  \"l2_leaf_reg\": trial.suggest_loguniform('l2_leaf_reg', 1e-2, 10),\n",
      "[I 2025-04-10 11:08:20,025] Trial 61 finished with value: 0.991545352743561 and parameters: {'n_estimators': 379, 'learning_rate': 0.056374351894422206, 'objective': 'Logloss', 'depth': 10, 'l2_leaf_reg': 0.32913325154547424, 'colsample_bylevel': 0.7288171021683817, 'min_child_samples': 600.0, 'grow_policy': 'SymmetricTree', 'border_count': 128, 'auto_class_weight': 'SqrtBalanced'}. Best is trial 41 with value: 0.9928331466965286.\n",
      "/var/folders/_k/vxqnb8117qb_1tpg9p98mtyc0000gn/T/ipykernel_13321/1751210426.py:7: FutureWarning: suggest_loguniform has been deprecated in v3.0.0. This feature will be removed in v6.0.0. See https://github.com/optuna/optuna/releases/tag/v3.0.0. Use suggest_float(..., log=True) instead.\n",
      "  \"l2_leaf_reg\": trial.suggest_loguniform('l2_leaf_reg', 1e-2, 10),\n",
      "[I 2025-04-10 11:08:20,208] Trial 62 finished with value: 0.9890817469204928 and parameters: {'n_estimators': 478, 'learning_rate': 0.09253356221049704, 'objective': 'Logloss', 'depth': 10, 'l2_leaf_reg': 0.02330324664223911, 'colsample_bylevel': 0.9013613173146106, 'min_child_samples': 700.0, 'grow_policy': 'SymmetricTree', 'border_count': 128, 'auto_class_weight': 'SqrtBalanced'}. Best is trial 41 with value: 0.9928331466965286.\n",
      "/var/folders/_k/vxqnb8117qb_1tpg9p98mtyc0000gn/T/ipykernel_13321/1751210426.py:7: FutureWarning: suggest_loguniform has been deprecated in v3.0.0. This feature will be removed in v6.0.0. See https://github.com/optuna/optuna/releases/tag/v3.0.0. Use suggest_float(..., log=True) instead.\n",
      "  \"l2_leaf_reg\": trial.suggest_loguniform('l2_leaf_reg', 1e-2, 10),\n",
      "[I 2025-04-10 11:08:20,712] Trial 63 finished with value: 0.9911534154535274 and parameters: {'n_estimators': 308, 'learning_rate': 0.021967656412746617, 'objective': 'Logloss', 'depth': 10, 'l2_leaf_reg': 0.4781187840482126, 'colsample_bylevel': 0.8328390759664638, 'min_child_samples': 600.0, 'grow_policy': 'SymmetricTree', 'border_count': 128, 'auto_class_weight': 'SqrtBalanced'}. Best is trial 41 with value: 0.9928331466965286.\n",
      "/var/folders/_k/vxqnb8117qb_1tpg9p98mtyc0000gn/T/ipykernel_13321/1751210426.py:7: FutureWarning: suggest_loguniform has been deprecated in v3.0.0. This feature will be removed in v6.0.0. See https://github.com/optuna/optuna/releases/tag/v3.0.0. Use suggest_float(..., log=True) instead.\n",
      "  \"l2_leaf_reg\": trial.suggest_loguniform('l2_leaf_reg', 1e-2, 10),\n",
      "[I 2025-04-10 11:08:21,128] Trial 64 finished with value: 0.9916013437849945 and parameters: {'n_estimators': 419, 'learning_rate': 0.042700536716490725, 'objective': 'Logloss', 'depth': 10, 'l2_leaf_reg': 0.21099008130604174, 'colsample_bylevel': 0.811392165353289, 'min_child_samples': 500.0, 'grow_policy': 'SymmetricTree', 'border_count': 128, 'auto_class_weight': 'SqrtBalanced'}. Best is trial 41 with value: 0.9928331466965286.\n",
      "/var/folders/_k/vxqnb8117qb_1tpg9p98mtyc0000gn/T/ipykernel_13321/1751210426.py:7: FutureWarning: suggest_loguniform has been deprecated in v3.0.0. This feature will be removed in v6.0.0. See https://github.com/optuna/optuna/releases/tag/v3.0.0. Use suggest_float(..., log=True) instead.\n",
      "  \"l2_leaf_reg\": trial.suggest_loguniform('l2_leaf_reg', 1e-2, 10),\n",
      "[I 2025-04-10 11:08:21,354] Trial 65 finished with value: 0.9911534154535274 and parameters: {'n_estimators': 520, 'learning_rate': 0.06651644211366678, 'objective': 'Logloss', 'depth': 9, 'l2_leaf_reg': 0.13234320181083364, 'colsample_bylevel': 0.6897308051473585, 'min_child_samples': 700.0, 'grow_policy': 'SymmetricTree', 'border_count': 1024, 'auto_class_weight': 'SqrtBalanced'}. Best is trial 41 with value: 0.9928331466965286.\n",
      "/var/folders/_k/vxqnb8117qb_1tpg9p98mtyc0000gn/T/ipykernel_13321/1751210426.py:7: FutureWarning: suggest_loguniform has been deprecated in v3.0.0. This feature will be removed in v6.0.0. See https://github.com/optuna/optuna/releases/tag/v3.0.0. Use suggest_float(..., log=True) instead.\n",
      "  \"l2_leaf_reg\": trial.suggest_loguniform('l2_leaf_reg', 1e-2, 10),\n",
      "[I 2025-04-10 11:08:21,500] Trial 66 finished with value: 0.0 and parameters: {'n_estimators': 364, 'learning_rate': 0.05686030851144663, 'objective': 'Logloss', 'depth': 10, 'l2_leaf_reg': 0.276530861881794, 'colsample_bylevel': 0.5484680286659077, 'min_child_samples': 600.0, 'grow_policy': 'Lossguide', 'border_count': 128, 'auto_class_weight': 'Balanced'}. Best is trial 41 with value: 0.9928331466965286.\n",
      "/var/folders/_k/vxqnb8117qb_1tpg9p98mtyc0000gn/T/ipykernel_13321/1751210426.py:7: FutureWarning: suggest_loguniform has been deprecated in v3.0.0. This feature will be removed in v6.0.0. See https://github.com/optuna/optuna/releases/tag/v3.0.0. Use suggest_float(..., log=True) instead.\n",
      "  \"l2_leaf_reg\": trial.suggest_loguniform('l2_leaf_reg', 1e-2, 10),\n",
      "[I 2025-04-10 11:08:21,796] Trial 67 finished with value: 0.9837066069428893 and parameters: {'n_estimators': 741, 'learning_rate': 0.03210640263653602, 'objective': 'CrossEntropy', 'depth': 5, 'l2_leaf_reg': 0.39689356194048336, 'colsample_bylevel': 0.6127917963437268, 'min_child_samples': 800.0, 'grow_policy': 'SymmetricTree', 'border_count': 128, 'auto_class_weight': 'SqrtBalanced'}. Best is trial 41 with value: 0.9928331466965286.\n",
      "/var/folders/_k/vxqnb8117qb_1tpg9p98mtyc0000gn/T/ipykernel_13321/1751210426.py:7: FutureWarning: suggest_loguniform has been deprecated in v3.0.0. This feature will be removed in v6.0.0. See https://github.com/optuna/optuna/releases/tag/v3.0.0. Use suggest_float(..., log=True) instead.\n",
      "  \"l2_leaf_reg\": trial.suggest_loguniform('l2_leaf_reg', 1e-2, 10),\n",
      "[I 2025-04-10 11:08:22,147] Trial 68 finished with value: 0.9908734602463605 and parameters: {'n_estimators': 582, 'learning_rate': 0.046663441063627464, 'objective': 'CrossEntropy', 'depth': 9, 'l2_leaf_reg': 0.5649297393115489, 'colsample_bylevel': 0.7399574048160878, 'min_child_samples': 900.0, 'grow_policy': 'SymmetricTree', 'border_count': 256, 'auto_class_weight': 'Balanced'}. Best is trial 41 with value: 0.9928331466965286.\n",
      "/var/folders/_k/vxqnb8117qb_1tpg9p98mtyc0000gn/T/ipykernel_13321/1751210426.py:7: FutureWarning: suggest_loguniform has been deprecated in v3.0.0. This feature will be removed in v6.0.0. See https://github.com/optuna/optuna/releases/tag/v3.0.0. Use suggest_float(..., log=True) instead.\n",
      "  \"l2_leaf_reg\": trial.suggest_loguniform('l2_leaf_reg', 1e-2, 10),\n",
      "[I 2025-04-10 11:08:22,308] Trial 69 finished with value: 0.9903415453527435 and parameters: {'n_estimators': 458, 'learning_rate': 0.08194054438877892, 'objective': 'Logloss', 'depth': 10, 'l2_leaf_reg': 0.042883445811147974, 'colsample_bylevel': 0.40507399437502384, 'min_child_samples': 500.0, 'grow_policy': 'SymmetricTree', 'border_count': 128, 'auto_class_weight': 'SqrtBalanced'}. Best is trial 41 with value: 0.9928331466965286.\n",
      "/var/folders/_k/vxqnb8117qb_1tpg9p98mtyc0000gn/T/ipykernel_13321/1751210426.py:7: FutureWarning: suggest_loguniform has been deprecated in v3.0.0. This feature will be removed in v6.0.0. See https://github.com/optuna/optuna/releases/tag/v3.0.0. Use suggest_float(..., log=True) instead.\n",
      "  \"l2_leaf_reg\": trial.suggest_loguniform('l2_leaf_reg', 1e-2, 10),\n",
      "[I 2025-04-10 11:08:22,587] Trial 70 finished with value: 0.9894456886898096 and parameters: {'n_estimators': 433, 'learning_rate': 0.021965555484390338, 'objective': 'CrossEntropy', 'depth': 8, 'l2_leaf_reg': 0.834948845891939, 'colsample_bylevel': 0.6628273025093867, 'min_child_samples': 400.0, 'grow_policy': 'SymmetricTree', 'border_count': 512, 'auto_class_weight': 'SqrtBalanced'}. Best is trial 41 with value: 0.9928331466965286.\n",
      "/var/folders/_k/vxqnb8117qb_1tpg9p98mtyc0000gn/T/ipykernel_13321/1751210426.py:7: FutureWarning: suggest_loguniform has been deprecated in v3.0.0. This feature will be removed in v6.0.0. See https://github.com/optuna/optuna/releases/tag/v3.0.0. Use suggest_float(..., log=True) instead.\n",
      "  \"l2_leaf_reg\": trial.suggest_loguniform('l2_leaf_reg', 1e-2, 10),\n",
      "[I 2025-04-10 11:08:23,022] Trial 71 finished with value: 0.9914613661814109 and parameters: {'n_estimators': 427, 'learning_rate': 0.042784387872768684, 'objective': 'Logloss', 'depth': 10, 'l2_leaf_reg': 0.23014744039499027, 'colsample_bylevel': 0.7920500518311786, 'min_child_samples': 500.0, 'grow_policy': 'SymmetricTree', 'border_count': 128, 'auto_class_weight': 'SqrtBalanced'}. Best is trial 41 with value: 0.9928331466965286.\n",
      "/var/folders/_k/vxqnb8117qb_1tpg9p98mtyc0000gn/T/ipykernel_13321/1751210426.py:7: FutureWarning: suggest_loguniform has been deprecated in v3.0.0. This feature will be removed in v6.0.0. See https://github.com/optuna/optuna/releases/tag/v3.0.0. Use suggest_float(..., log=True) instead.\n",
      "  \"l2_leaf_reg\": trial.suggest_loguniform('l2_leaf_reg', 1e-2, 10),\n",
      "[I 2025-04-10 11:08:23,278] Trial 72 finished with value: 0.9919372900335945 and parameters: {'n_estimators': 358, 'learning_rate': 0.07289478104470751, 'objective': 'Logloss', 'depth': 10, 'l2_leaf_reg': 0.19425090214624519, 'colsample_bylevel': 0.9513196784652225, 'min_child_samples': 200.0, 'grow_policy': 'SymmetricTree', 'border_count': 128, 'auto_class_weight': 'SqrtBalanced'}. Best is trial 41 with value: 0.9928331466965286.\n",
      "/var/folders/_k/vxqnb8117qb_1tpg9p98mtyc0000gn/T/ipykernel_13321/1751210426.py:7: FutureWarning: suggest_loguniform has been deprecated in v3.0.0. This feature will be removed in v6.0.0. See https://github.com/optuna/optuna/releases/tag/v3.0.0. Use suggest_float(..., log=True) instead.\n",
      "  \"l2_leaf_reg\": trial.suggest_loguniform('l2_leaf_reg', 1e-2, 10),\n",
      "[I 2025-04-10 11:08:23,553] Trial 73 finished with value: 0.9913213885778275 and parameters: {'n_estimators': 345, 'learning_rate': 0.07001557446931281, 'objective': 'Logloss', 'depth': 10, 'l2_leaf_reg': 0.1473275250500684, 'colsample_bylevel': 0.9606091938123925, 'min_child_samples': 200.0, 'grow_policy': 'SymmetricTree', 'border_count': 128, 'auto_class_weight': 'SqrtBalanced'}. Best is trial 41 with value: 0.9928331466965286.\n",
      "/var/folders/_k/vxqnb8117qb_1tpg9p98mtyc0000gn/T/ipykernel_13321/1751210426.py:7: FutureWarning: suggest_loguniform has been deprecated in v3.0.0. This feature will be removed in v6.0.0. See https://github.com/optuna/optuna/releases/tag/v3.0.0. Use suggest_float(..., log=True) instead.\n",
      "  \"l2_leaf_reg\": trial.suggest_loguniform('l2_leaf_reg', 1e-2, 10),\n",
      "[I 2025-04-10 11:08:23,925] Trial 74 finished with value: 0.9925811870100785 and parameters: {'n_estimators': 501, 'learning_rate': 0.06215225752932369, 'objective': 'Logloss', 'depth': 10, 'l2_leaf_reg': 0.29378766290592373, 'colsample_bylevel': 0.5789107950686667, 'min_child_samples': 100.0, 'grow_policy': 'SymmetricTree', 'border_count': 128, 'auto_class_weight': 'SqrtBalanced'}. Best is trial 41 with value: 0.9928331466965286.\n",
      "/var/folders/_k/vxqnb8117qb_1tpg9p98mtyc0000gn/T/ipykernel_13321/1751210426.py:7: FutureWarning: suggest_loguniform has been deprecated in v3.0.0. This feature will be removed in v6.0.0. See https://github.com/optuna/optuna/releases/tag/v3.0.0. Use suggest_float(..., log=True) instead.\n",
      "  \"l2_leaf_reg\": trial.suggest_loguniform('l2_leaf_reg', 1e-2, 10),\n",
      "[I 2025-04-10 11:08:24,217] Trial 75 finished with value: 0.9926371780515117 and parameters: {'n_estimators': 549, 'learning_rate': 0.07504145987721131, 'objective': 'Logloss', 'depth': 10, 'l2_leaf_reg': 0.31351397155272687, 'colsample_bylevel': 0.87960739295425, 'min_child_samples': 100.0, 'grow_policy': 'SymmetricTree', 'border_count': 128, 'auto_class_weight': 'SqrtBalanced'}. Best is trial 41 with value: 0.9928331466965286.\n",
      "/var/folders/_k/vxqnb8117qb_1tpg9p98mtyc0000gn/T/ipykernel_13321/1751210426.py:7: FutureWarning: suggest_loguniform has been deprecated in v3.0.0. This feature will be removed in v6.0.0. See https://github.com/optuna/optuna/releases/tag/v3.0.0. Use suggest_float(..., log=True) instead.\n",
      "  \"l2_leaf_reg\": trial.suggest_loguniform('l2_leaf_reg', 1e-2, 10),\n",
      "[I 2025-04-10 11:08:24,453] Trial 76 finished with value: 0.9916293393057111 and parameters: {'n_estimators': 573, 'learning_rate': 0.08532264006102927, 'objective': 'Logloss', 'depth': 9, 'l2_leaf_reg': 0.3214465675995501, 'colsample_bylevel': 0.9054976739142258, 'min_child_samples': 100.0, 'grow_policy': 'SymmetricTree', 'border_count': 128, 'auto_class_weight': 'SqrtBalanced'}. Best is trial 41 with value: 0.9928331466965286.\n",
      "/var/folders/_k/vxqnb8117qb_1tpg9p98mtyc0000gn/T/ipykernel_13321/1751210426.py:7: FutureWarning: suggest_loguniform has been deprecated in v3.0.0. This feature will be removed in v6.0.0. See https://github.com/optuna/optuna/releases/tag/v3.0.0. Use suggest_float(..., log=True) instead.\n",
      "  \"l2_leaf_reg\": trial.suggest_loguniform('l2_leaf_reg', 1e-2, 10),\n",
      "[I 2025-04-10 11:08:24,580] Trial 77 finished with value: 0.9821388577827548 and parameters: {'n_estimators': 645, 'learning_rate': 0.12532792042873978, 'objective': 'Logloss', 'depth': 10, 'l2_leaf_reg': 0.1855908852510477, 'colsample_bylevel': 0.9638776408822696, 'min_child_samples': 100.0, 'grow_policy': 'Depthwise', 'border_count': 128, 'auto_class_weight': 'SqrtBalanced'}. Best is trial 41 with value: 0.9928331466965286.\n",
      "/var/folders/_k/vxqnb8117qb_1tpg9p98mtyc0000gn/T/ipykernel_13321/1751210426.py:7: FutureWarning: suggest_loguniform has been deprecated in v3.0.0. This feature will be removed in v6.0.0. See https://github.com/optuna/optuna/releases/tag/v3.0.0. Use suggest_float(..., log=True) instead.\n",
      "  \"l2_leaf_reg\": trial.suggest_loguniform('l2_leaf_reg', 1e-2, 10),\n",
      "[I 2025-04-10 11:08:24,751] Trial 78 finished with value: 0.977211646136618 and parameters: {'n_estimators': 701, 'learning_rate': 0.09718740486583435, 'objective': 'Logloss', 'depth': 9, 'l2_leaf_reg': 0.10886021371329034, 'colsample_bylevel': 0.8579057278051617, 'min_child_samples': 100.0, 'grow_policy': 'Lossguide', 'border_count': 128, 'auto_class_weight': 'SqrtBalanced'}. Best is trial 41 with value: 0.9928331466965286.\n",
      "/var/folders/_k/vxqnb8117qb_1tpg9p98mtyc0000gn/T/ipykernel_13321/1751210426.py:7: FutureWarning: suggest_loguniform has been deprecated in v3.0.0. This feature will be removed in v6.0.0. See https://github.com/optuna/optuna/releases/tag/v3.0.0. Use suggest_float(..., log=True) instead.\n",
      "  \"l2_leaf_reg\": trial.suggest_loguniform('l2_leaf_reg', 1e-2, 10),\n",
      "[I 2025-04-10 11:08:25,166] Trial 79 finished with value: 0.9919652855543113 and parameters: {'n_estimators': 1835, 'learning_rate': 0.07207482279284728, 'objective': 'Logloss', 'depth': 10, 'l2_leaf_reg': 0.2761170405444879, 'colsample_bylevel': 0.9351455391312959, 'min_child_samples': 100.0, 'grow_policy': 'SymmetricTree', 'border_count': 128, 'auto_class_weight': 'SqrtBalanced'}. Best is trial 41 with value: 0.9928331466965286.\n",
      "/var/folders/_k/vxqnb8117qb_1tpg9p98mtyc0000gn/T/ipykernel_13321/1751210426.py:7: FutureWarning: suggest_loguniform has been deprecated in v3.0.0. This feature will be removed in v6.0.0. See https://github.com/optuna/optuna/releases/tag/v3.0.0. Use suggest_float(..., log=True) instead.\n",
      "  \"l2_leaf_reg\": trial.suggest_loguniform('l2_leaf_reg', 1e-2, 10),\n",
      "[I 2025-04-10 11:08:25,432] Trial 80 finished with value: 0.989053751399776 and parameters: {'n_estimators': 1777, 'learning_rate': 0.10920442941603542, 'objective': 'Logloss', 'depth': 10, 'l2_leaf_reg': 0.27792290785688134, 'colsample_bylevel': 0.9875637461668868, 'min_child_samples': 100.0, 'grow_policy': 'SymmetricTree', 'border_count': 1024, 'auto_class_weight': 'SqrtBalanced'}. Best is trial 41 with value: 0.9928331466965286.\n",
      "/var/folders/_k/vxqnb8117qb_1tpg9p98mtyc0000gn/T/ipykernel_13321/1751210426.py:7: FutureWarning: suggest_loguniform has been deprecated in v3.0.0. This feature will be removed in v6.0.0. See https://github.com/optuna/optuna/releases/tag/v3.0.0. Use suggest_float(..., log=True) instead.\n",
      "  \"l2_leaf_reg\": trial.suggest_loguniform('l2_leaf_reg', 1e-2, 10),\n",
      "[I 2025-04-10 11:08:25,757] Trial 81 finished with value: 0.9912094064949608 and parameters: {'n_estimators': 1626, 'learning_rate': 0.07468605961159541, 'objective': 'Logloss', 'depth': 10, 'l2_leaf_reg': 0.38270888063635305, 'colsample_bylevel': 0.8907151087660712, 'min_child_samples': 100.0, 'grow_policy': 'SymmetricTree', 'border_count': 128, 'auto_class_weight': 'SqrtBalanced'}. Best is trial 41 with value: 0.9928331466965286.\n",
      "/var/folders/_k/vxqnb8117qb_1tpg9p98mtyc0000gn/T/ipykernel_13321/1751210426.py:7: FutureWarning: suggest_loguniform has been deprecated in v3.0.0. This feature will be removed in v6.0.0. See https://github.com/optuna/optuna/releases/tag/v3.0.0. Use suggest_float(..., log=True) instead.\n",
      "  \"l2_leaf_reg\": trial.suggest_loguniform('l2_leaf_reg', 1e-2, 10),\n",
      "[I 2025-04-10 11:08:26,057] Trial 82 finished with value: 0.9925811870100782 and parameters: {'n_estimators': 491, 'learning_rate': 0.06296369945156544, 'objective': 'Logloss', 'depth': 10, 'l2_leaf_reg': 0.1900202832583709, 'colsample_bylevel': 0.8702636034213811, 'min_child_samples': 100.0, 'grow_policy': 'SymmetricTree', 'border_count': 128, 'auto_class_weight': 'SqrtBalanced'}. Best is trial 41 with value: 0.9928331466965286.\n",
      "/var/folders/_k/vxqnb8117qb_1tpg9p98mtyc0000gn/T/ipykernel_13321/1751210426.py:7: FutureWarning: suggest_loguniform has been deprecated in v3.0.0. This feature will be removed in v6.0.0. See https://github.com/optuna/optuna/releases/tag/v3.0.0. Use suggest_float(..., log=True) instead.\n",
      "  \"l2_leaf_reg\": trial.suggest_loguniform('l2_leaf_reg', 1e-2, 10),\n",
      "[I 2025-04-10 11:08:26,350] Trial 83 finished with value: 0.9902015677491601 and parameters: {'n_estimators': 794, 'learning_rate': 0.05185143555731792, 'objective': 'Logloss', 'depth': 10, 'l2_leaf_reg': 0.16256975485884187, 'colsample_bylevel': 0.9330658444700275, 'min_child_samples': 100.0, 'grow_policy': 'SymmetricTree', 'border_count': 128, 'auto_class_weight': 'SqrtBalanced'}. Best is trial 41 with value: 0.9928331466965286.\n",
      "/var/folders/_k/vxqnb8117qb_1tpg9p98mtyc0000gn/T/ipykernel_13321/1751210426.py:7: FutureWarning: suggest_loguniform has been deprecated in v3.0.0. This feature will be removed in v6.0.0. See https://github.com/optuna/optuna/releases/tag/v3.0.0. Use suggest_float(..., log=True) instead.\n",
      "  \"l2_leaf_reg\": trial.suggest_loguniform('l2_leaf_reg', 1e-2, 10),\n",
      "[I 2025-04-10 11:08:26,719] Trial 84 finished with value: 0.9915733482642777 and parameters: {'n_estimators': 1899, 'learning_rate': 0.059465192062488945, 'objective': 'Logloss', 'depth': 10, 'l2_leaf_reg': 0.27798279741239873, 'colsample_bylevel': 0.8426667725299403, 'min_child_samples': 100.0, 'grow_policy': 'SymmetricTree', 'border_count': 128, 'auto_class_weight': 'SqrtBalanced'}. Best is trial 41 with value: 0.9928331466965286.\n",
      "/var/folders/_k/vxqnb8117qb_1tpg9p98mtyc0000gn/T/ipykernel_13321/1751210426.py:7: FutureWarning: suggest_loguniform has been deprecated in v3.0.0. This feature will be removed in v6.0.0. See https://github.com/optuna/optuna/releases/tag/v3.0.0. Use suggest_float(..., log=True) instead.\n",
      "  \"l2_leaf_reg\": trial.suggest_loguniform('l2_leaf_reg', 1e-2, 10),\n",
      "[I 2025-04-10 11:08:27,083] Trial 85 finished with value: 0.9916853303471445 and parameters: {'n_estimators': 565, 'learning_rate': 0.0638125149782824, 'objective': 'Logloss', 'depth': 10, 'l2_leaf_reg': 0.53065559950767, 'colsample_bylevel': 0.8772956601648704, 'min_child_samples': 100.0, 'grow_policy': 'SymmetricTree', 'border_count': 128, 'auto_class_weight': 'SqrtBalanced'}. Best is trial 41 with value: 0.9928331466965286.\n",
      "/var/folders/_k/vxqnb8117qb_1tpg9p98mtyc0000gn/T/ipykernel_13321/1751210426.py:7: FutureWarning: suggest_loguniform has been deprecated in v3.0.0. This feature will be removed in v6.0.0. See https://github.com/optuna/optuna/releases/tag/v3.0.0. Use suggest_float(..., log=True) instead.\n",
      "  \"l2_leaf_reg\": trial.suggest_loguniform('l2_leaf_reg', 1e-2, 10),\n",
      "[I 2025-04-10 11:08:28,504] Trial 86 finished with value: 0.9899776035834267 and parameters: {'n_estimators': 1349, 'learning_rate': 0.016255881737777617, 'objective': 'Logloss', 'depth': 9, 'l2_leaf_reg': 8.35906748547065, 'colsample_bylevel': 0.8064766765760336, 'min_child_samples': 100.0, 'grow_policy': 'SymmetricTree', 'border_count': 128, 'auto_class_weight': 'SqrtBalanced'}. Best is trial 41 with value: 0.9928331466965286.\n",
      "/var/folders/_k/vxqnb8117qb_1tpg9p98mtyc0000gn/T/ipykernel_13321/1751210426.py:7: FutureWarning: suggest_loguniform has been deprecated in v3.0.0. This feature will be removed in v6.0.0. See https://github.com/optuna/optuna/releases/tag/v3.0.0. Use suggest_float(..., log=True) instead.\n",
      "  \"l2_leaf_reg\": trial.suggest_loguniform('l2_leaf_reg', 1e-2, 10),\n",
      "[I 2025-04-10 11:08:28,686] Trial 87 finished with value: 0.9911254199328108 and parameters: {'n_estimators': 494, 'learning_rate': 0.08806586331629038, 'objective': 'Logloss', 'depth': 10, 'l2_leaf_reg': 0.11223091446686075, 'colsample_bylevel': 0.9265744867455409, 'min_child_samples': 100.0, 'grow_policy': 'SymmetricTree', 'border_count': 256, 'auto_class_weight': 'SqrtBalanced'}. Best is trial 41 with value: 0.9928331466965286.\n",
      "/var/folders/_k/vxqnb8117qb_1tpg9p98mtyc0000gn/T/ipykernel_13321/1751210426.py:7: FutureWarning: suggest_loguniform has been deprecated in v3.0.0. This feature will be removed in v6.0.0. See https://github.com/optuna/optuna/releases/tag/v3.0.0. Use suggest_float(..., log=True) instead.\n",
      "  \"l2_leaf_reg\": trial.suggest_loguniform('l2_leaf_reg', 1e-2, 10),\n",
      "[I 2025-04-10 11:08:29,078] Trial 88 finished with value: 0.9909014557670772 and parameters: {'n_estimators': 473, 'learning_rate': 0.049547233393554664, 'objective': 'Logloss', 'depth': 10, 'l2_leaf_reg': 0.35064653044256927, 'colsample_bylevel': 0.4587136288373686, 'min_child_samples': 100.0, 'grow_policy': 'SymmetricTree', 'border_count': 128, 'auto_class_weight': None}. Best is trial 41 with value: 0.9928331466965286.\n",
      "/var/folders/_k/vxqnb8117qb_1tpg9p98mtyc0000gn/T/ipykernel_13321/1751210426.py:7: FutureWarning: suggest_loguniform has been deprecated in v3.0.0. This feature will be removed in v6.0.0. See https://github.com/optuna/optuna/releases/tag/v3.0.0. Use suggest_float(..., log=True) instead.\n",
      "  \"l2_leaf_reg\": trial.suggest_loguniform('l2_leaf_reg', 1e-2, 10),\n",
      "[I 2025-04-10 11:08:29,282] Trial 89 finished with value: 0.9892217245240762 and parameters: {'n_estimators': 1136, 'learning_rate': 0.07933133304635234, 'objective': 'Logloss', 'depth': 9, 'l2_leaf_reg': 0.746704559234135, 'colsample_bylevel': 0.57003720145919, 'min_child_samples': 200.0, 'grow_policy': 'SymmetricTree', 'border_count': 128, 'auto_class_weight': 'SqrtBalanced'}. Best is trial 41 with value: 0.9928331466965286.\n",
      "/var/folders/_k/vxqnb8117qb_1tpg9p98mtyc0000gn/T/ipykernel_13321/1751210426.py:7: FutureWarning: suggest_loguniform has been deprecated in v3.0.0. This feature will be removed in v6.0.0. See https://github.com/optuna/optuna/releases/tag/v3.0.0. Use suggest_float(..., log=True) instead.\n",
      "  \"l2_leaf_reg\": trial.suggest_loguniform('l2_leaf_reg', 1e-2, 10),\n",
      "[I 2025-04-10 11:08:29,549] Trial 90 finished with value: 0.9812709966405375 and parameters: {'n_estimators': 612, 'learning_rate': 0.037044557307890566, 'objective': 'CrossEntropy', 'depth': 10, 'l2_leaf_reg': 0.08954783219545882, 'colsample_bylevel': 0.8781878622645731, 'min_child_samples': 100.0, 'grow_policy': 'Depthwise', 'border_count': 512, 'auto_class_weight': 'SqrtBalanced'}. Best is trial 41 with value: 0.9928331466965286.\n",
      "/var/folders/_k/vxqnb8117qb_1tpg9p98mtyc0000gn/T/ipykernel_13321/1751210426.py:7: FutureWarning: suggest_loguniform has been deprecated in v3.0.0. This feature will be removed in v6.0.0. See https://github.com/optuna/optuna/releases/tag/v3.0.0. Use suggest_float(..., log=True) instead.\n",
      "  \"l2_leaf_reg\": trial.suggest_loguniform('l2_leaf_reg', 1e-2, 10),\n",
      "[I 2025-04-10 11:08:29,764] Trial 91 finished with value: 0.9897256438969764 and parameters: {'n_estimators': 351, 'learning_rate': 0.07109627846466003, 'objective': 'Logloss', 'depth': 10, 'l2_leaf_reg': 0.20319057319319453, 'colsample_bylevel': 0.9436453919950518, 'min_child_samples': 200.0, 'grow_policy': 'SymmetricTree', 'border_count': 128, 'auto_class_weight': 'SqrtBalanced'}. Best is trial 41 with value: 0.9928331466965286.\n",
      "/var/folders/_k/vxqnb8117qb_1tpg9p98mtyc0000gn/T/ipykernel_13321/1751210426.py:7: FutureWarning: suggest_loguniform has been deprecated in v3.0.0. This feature will be removed in v6.0.0. See https://github.com/optuna/optuna/releases/tag/v3.0.0. Use suggest_float(..., log=True) instead.\n",
      "  \"l2_leaf_reg\": trial.suggest_loguniform('l2_leaf_reg', 1e-2, 10),\n",
      "[I 2025-04-10 11:08:29,972] Trial 92 finished with value: 0.9896416573348265 and parameters: {'n_estimators': 518, 'learning_rate': 0.06500566309465332, 'objective': 'Logloss', 'depth': 10, 'l2_leaf_reg': 0.14745724801465612, 'colsample_bylevel': 0.5223570694422562, 'min_child_samples': 200.0, 'grow_policy': 'SymmetricTree', 'border_count': 128, 'auto_class_weight': 'SqrtBalanced'}. Best is trial 41 with value: 0.9928331466965286.\n",
      "/var/folders/_k/vxqnb8117qb_1tpg9p98mtyc0000gn/T/ipykernel_13321/1751210426.py:7: FutureWarning: suggest_loguniform has been deprecated in v3.0.0. This feature will be removed in v6.0.0. See https://github.com/optuna/optuna/releases/tag/v3.0.0. Use suggest_float(..., log=True) instead.\n",
      "  \"l2_leaf_reg\": trial.suggest_loguniform('l2_leaf_reg', 1e-2, 10),\n",
      "[I 2025-04-10 11:08:30,233] Trial 93 finished with value: 0.98986562150056 and parameters: {'n_estimators': 400, 'learning_rate': 0.05303046388920512, 'objective': 'Logloss', 'depth': 10, 'l2_leaf_reg': 0.19704060432996318, 'colsample_bylevel': 0.9111243190855303, 'min_child_samples': 100.0, 'grow_policy': 'SymmetricTree', 'border_count': 128, 'auto_class_weight': 'SqrtBalanced'}. Best is trial 41 with value: 0.9928331466965286.\n",
      "/var/folders/_k/vxqnb8117qb_1tpg9p98mtyc0000gn/T/ipykernel_13321/1751210426.py:7: FutureWarning: suggest_loguniform has been deprecated in v3.0.0. This feature will be removed in v6.0.0. See https://github.com/optuna/optuna/releases/tag/v3.0.0. Use suggest_float(..., log=True) instead.\n",
      "  \"l2_leaf_reg\": trial.suggest_loguniform('l2_leaf_reg', 1e-2, 10),\n",
      "[I 2025-04-10 11:08:30,520] Trial 94 finished with value: 0.9913213885778276 and parameters: {'n_estimators': 460, 'learning_rate': 0.07466246171866564, 'objective': 'Logloss', 'depth': 10, 'l2_leaf_reg': 0.24828019432953086, 'colsample_bylevel': 0.9759152910466933, 'min_child_samples': 100.0, 'grow_policy': 'SymmetricTree', 'border_count': 128, 'auto_class_weight': 'SqrtBalanced'}. Best is trial 41 with value: 0.9928331466965286.\n",
      "/var/folders/_k/vxqnb8117qb_1tpg9p98mtyc0000gn/T/ipykernel_13321/1751210426.py:7: FutureWarning: suggest_loguniform has been deprecated in v3.0.0. This feature will be removed in v6.0.0. See https://github.com/optuna/optuna/releases/tag/v3.0.0. Use suggest_float(..., log=True) instead.\n",
      "  \"l2_leaf_reg\": trial.suggest_loguniform('l2_leaf_reg', 1e-2, 10),\n",
      "[I 2025-04-10 11:08:30,795] Trial 95 finished with value: 0.9900895856662933 and parameters: {'n_estimators': 548, 'learning_rate': 0.10067672347969485, 'objective': 'Logloss', 'depth': 10, 'l2_leaf_reg': 0.4440608992423173, 'colsample_bylevel': 0.4974896486188588, 'min_child_samples': 200.0, 'grow_policy': 'SymmetricTree', 'border_count': 128, 'auto_class_weight': 'SqrtBalanced'}. Best is trial 41 with value: 0.9928331466965286.\n",
      "/var/folders/_k/vxqnb8117qb_1tpg9p98mtyc0000gn/T/ipykernel_13321/1751210426.py:7: FutureWarning: suggest_loguniform has been deprecated in v3.0.0. This feature will be removed in v6.0.0. See https://github.com/optuna/optuna/releases/tag/v3.0.0. Use suggest_float(..., log=True) instead.\n",
      "  \"l2_leaf_reg\": trial.suggest_loguniform('l2_leaf_reg', 1e-2, 10),\n",
      "[I 2025-04-10 11:08:31,397] Trial 96 finished with value: 0.9911534154535275 and parameters: {'n_estimators': 1437, 'learning_rate': 0.04563368630977429, 'objective': 'CrossEntropy', 'depth': 9, 'l2_leaf_reg': 4.147171133285098, 'colsample_bylevel': 0.9532654766345977, 'min_child_samples': 200.0, 'grow_policy': 'SymmetricTree', 'border_count': 128, 'auto_class_weight': None}. Best is trial 41 with value: 0.9928331466965286.\n",
      "/var/folders/_k/vxqnb8117qb_1tpg9p98mtyc0000gn/T/ipykernel_13321/1751210426.py:7: FutureWarning: suggest_loguniform has been deprecated in v3.0.0. This feature will be removed in v6.0.0. See https://github.com/optuna/optuna/releases/tag/v3.0.0. Use suggest_float(..., log=True) instead.\n",
      "  \"l2_leaf_reg\": trial.suggest_loguniform('l2_leaf_reg', 1e-2, 10),\n",
      "[I 2025-04-10 11:08:31,614] Trial 97 finished with value: 0.9721164613661815 and parameters: {'n_estimators': 384, 'learning_rate': 0.026938688795962173, 'objective': 'Logloss', 'depth': 6, 'l2_leaf_reg': 0.06852822649930963, 'colsample_bylevel': 0.5236731730757463, 'min_child_samples': 100.0, 'grow_policy': 'Lossguide', 'border_count': 128, 'auto_class_weight': 'SqrtBalanced'}. Best is trial 41 with value: 0.9928331466965286.\n",
      "/var/folders/_k/vxqnb8117qb_1tpg9p98mtyc0000gn/T/ipykernel_13321/1751210426.py:7: FutureWarning: suggest_loguniform has been deprecated in v3.0.0. This feature will be removed in v6.0.0. See https://github.com/optuna/optuna/releases/tag/v3.0.0. Use suggest_float(..., log=True) instead.\n",
      "  \"l2_leaf_reg\": trial.suggest_loguniform('l2_leaf_reg', 1e-2, 10),\n",
      "[I 2025-04-10 11:08:31,854] Trial 98 finished with value: 0.0 and parameters: {'n_estimators': 670, 'learning_rate': 0.06105171227545582, 'objective': 'Logloss', 'depth': 3, 'l2_leaf_reg': 1.121188437833338, 'colsample_bylevel': 0.4658888532260589, 'min_child_samples': 200.0, 'grow_policy': 'SymmetricTree', 'border_count': 128, 'auto_class_weight': 'SqrtBalanced'}. Best is trial 41 with value: 0.9928331466965286.\n",
      "/var/folders/_k/vxqnb8117qb_1tpg9p98mtyc0000gn/T/ipykernel_13321/1751210426.py:7: FutureWarning: suggest_loguniform has been deprecated in v3.0.0. This feature will be removed in v6.0.0. See https://github.com/optuna/optuna/releases/tag/v3.0.0. Use suggest_float(..., log=True) instead.\n",
      "  \"l2_leaf_reg\": trial.suggest_loguniform('l2_leaf_reg', 1e-2, 10),\n",
      "[I 2025-04-10 11:08:32,102] Trial 99 finished with value: 0.9917133258678612 and parameters: {'n_estimators': 338, 'learning_rate': 0.08486583223140567, 'objective': 'CrossEntropy', 'depth': 10, 'l2_leaf_reg': 0.23836761172265766, 'colsample_bylevel': 0.7664900924979184, 'min_child_samples': 100.0, 'grow_policy': 'SymmetricTree', 'border_count': 128, 'auto_class_weight': 'SqrtBalanced'}. Best is trial 41 with value: 0.9928331466965286.\n",
      "/var/folders/_k/vxqnb8117qb_1tpg9p98mtyc0000gn/T/ipykernel_13321/1751210426.py:7: FutureWarning: suggest_loguniform has been deprecated in v3.0.0. This feature will be removed in v6.0.0. See https://github.com/optuna/optuna/releases/tag/v3.0.0. Use suggest_float(..., log=True) instead.\n",
      "  \"l2_leaf_reg\": trial.suggest_loguniform('l2_leaf_reg', 1e-2, 10),\n",
      "[I 2025-04-10 11:08:32,276] Trial 100 finished with value: 0.9773236282194848 and parameters: {'n_estimators': 437, 'learning_rate': 0.09426067930767175, 'objective': 'Logloss', 'depth': 4, 'l2_leaf_reg': 0.3669713476736359, 'colsample_bylevel': 0.42491211040470783, 'min_child_samples': 300.0, 'grow_policy': 'SymmetricTree', 'border_count': 1024, 'auto_class_weight': None}. Best is trial 41 with value: 0.9928331466965286.\n",
      "/var/folders/_k/vxqnb8117qb_1tpg9p98mtyc0000gn/T/ipykernel_13321/1751210426.py:7: FutureWarning: suggest_loguniform has been deprecated in v3.0.0. This feature will be removed in v6.0.0. See https://github.com/optuna/optuna/releases/tag/v3.0.0. Use suggest_float(..., log=True) instead.\n",
      "  \"l2_leaf_reg\": trial.suggest_loguniform('l2_leaf_reg', 1e-2, 10),\n",
      "[I 2025-04-10 11:08:32,722] Trial 101 finished with value: 0.9912653975363942 and parameters: {'n_estimators': 515, 'learning_rate': 0.04089512161266845, 'objective': 'CrossEntropy', 'depth': 10, 'l2_leaf_reg': 0.2801206559133688, 'colsample_bylevel': 0.5966344384363803, 'min_child_samples': 200.0, 'grow_policy': 'SymmetricTree', 'border_count': 128, 'auto_class_weight': 'SqrtBalanced'}. Best is trial 41 with value: 0.9928331466965286.\n",
      "/var/folders/_k/vxqnb8117qb_1tpg9p98mtyc0000gn/T/ipykernel_13321/1751210426.py:7: FutureWarning: suggest_loguniform has been deprecated in v3.0.0. This feature will be removed in v6.0.0. See https://github.com/optuna/optuna/releases/tag/v3.0.0. Use suggest_float(..., log=True) instead.\n",
      "  \"l2_leaf_reg\": trial.suggest_loguniform('l2_leaf_reg', 1e-2, 10),\n",
      "[I 2025-04-10 11:08:33,263] Trial 102 finished with value: 0.9913773796192609 and parameters: {'n_estimators': 1546, 'learning_rate': 0.03190052458769878, 'objective': 'CrossEntropy', 'depth': 10, 'l2_leaf_reg': 0.5540959921208847, 'colsample_bylevel': 0.5707836699336298, 'min_child_samples': 200.0, 'grow_policy': 'SymmetricTree', 'border_count': 128, 'auto_class_weight': 'SqrtBalanced'}. Best is trial 41 with value: 0.9928331466965286.\n",
      "/var/folders/_k/vxqnb8117qb_1tpg9p98mtyc0000gn/T/ipykernel_13321/1751210426.py:7: FutureWarning: suggest_loguniform has been deprecated in v3.0.0. This feature will be removed in v6.0.0. See https://github.com/optuna/optuna/releases/tag/v3.0.0. Use suggest_float(..., log=True) instead.\n",
      "  \"l2_leaf_reg\": trial.suggest_loguniform('l2_leaf_reg', 1e-2, 10),\n",
      "[I 2025-04-10 11:08:33,528] Trial 103 finished with value: 0.989249720044793 and parameters: {'n_estimators': 597, 'learning_rate': 0.20805858956808299, 'objective': 'CrossEntropy', 'depth': 10, 'l2_leaf_reg': 0.30907098737758726, 'colsample_bylevel': 0.6531761109338873, 'min_child_samples': 600.0, 'grow_policy': 'SymmetricTree', 'border_count': 128, 'auto_class_weight': 'SqrtBalanced'}. Best is trial 41 with value: 0.9928331466965286.\n",
      "/var/folders/_k/vxqnb8117qb_1tpg9p98mtyc0000gn/T/ipykernel_13321/1751210426.py:7: FutureWarning: suggest_loguniform has been deprecated in v3.0.0. This feature will be removed in v6.0.0. See https://github.com/optuna/optuna/releases/tag/v3.0.0. Use suggest_float(..., log=True) instead.\n",
      "  \"l2_leaf_reg\": trial.suggest_loguniform('l2_leaf_reg', 1e-2, 10),\n",
      "[I 2025-04-10 11:08:33,869] Trial 104 finished with value: 0.9928051511758118 and parameters: {'n_estimators': 547, 'learning_rate': 0.05456300097323916, 'objective': 'CrossEntropy', 'depth': 10, 'l2_leaf_reg': 0.18207468115212957, 'colsample_bylevel': 0.6092365849032025, 'min_child_samples': 300.0, 'grow_policy': 'SymmetricTree', 'border_count': 128, 'auto_class_weight': 'SqrtBalanced'}. Best is trial 41 with value: 0.9928331466965286.\n",
      "/var/folders/_k/vxqnb8117qb_1tpg9p98mtyc0000gn/T/ipykernel_13321/1751210426.py:7: FutureWarning: suggest_loguniform has been deprecated in v3.0.0. This feature will be removed in v6.0.0. See https://github.com/optuna/optuna/releases/tag/v3.0.0. Use suggest_float(..., log=True) instead.\n",
      "  \"l2_leaf_reg\": trial.suggest_loguniform('l2_leaf_reg', 1e-2, 10),\n",
      "[I 2025-04-10 11:08:34,292] Trial 105 finished with value: 0.992525195968645 and parameters: {'n_estimators': 448, 'learning_rate': 0.054412884412953444, 'objective': 'CrossEntropy', 'depth': 10, 'l2_leaf_reg': 0.1567175408202799, 'colsample_bylevel': 0.6121295936314944, 'min_child_samples': 300.0, 'grow_policy': 'SymmetricTree', 'border_count': 128, 'auto_class_weight': 'SqrtBalanced'}. Best is trial 41 with value: 0.9928331466965286.\n",
      "/var/folders/_k/vxqnb8117qb_1tpg9p98mtyc0000gn/T/ipykernel_13321/1751210426.py:7: FutureWarning: suggest_loguniform has been deprecated in v3.0.0. This feature will be removed in v6.0.0. See https://github.com/optuna/optuna/releases/tag/v3.0.0. Use suggest_float(..., log=True) instead.\n",
      "  \"l2_leaf_reg\": trial.suggest_loguniform('l2_leaf_reg', 1e-2, 10),\n",
      "[I 2025-04-10 11:08:34,464] Trial 106 finished with value: 0.986926091825308 and parameters: {'n_estimators': 492, 'learning_rate': 0.055170532467031935, 'objective': 'CrossEntropy', 'depth': 7, 'l2_leaf_reg': 0.15911448067572226, 'colsample_bylevel': 0.6145188697401757, 'min_child_samples': 300.0, 'grow_policy': 'SymmetricTree', 'border_count': 128, 'auto_class_weight': 'SqrtBalanced'}. Best is trial 41 with value: 0.9928331466965286.\n",
      "/var/folders/_k/vxqnb8117qb_1tpg9p98mtyc0000gn/T/ipykernel_13321/1751210426.py:7: FutureWarning: suggest_loguniform has been deprecated in v3.0.0. This feature will be removed in v6.0.0. See https://github.com/optuna/optuna/releases/tag/v3.0.0. Use suggest_float(..., log=True) instead.\n",
      "  \"l2_leaf_reg\": trial.suggest_loguniform('l2_leaf_reg', 1e-2, 10),\n",
      "[I 2025-04-10 11:08:34,604] Trial 107 finished with value: 0.8597284434490482 and parameters: {'n_estimators': 546, 'learning_rate': 0.06709527230201134, 'objective': 'CrossEntropy', 'depth': 10, 'l2_leaf_reg': 0.12073520481092008, 'colsample_bylevel': 0.016053560444912296, 'min_child_samples': 300.0, 'grow_policy': 'SymmetricTree', 'border_count': 128, 'auto_class_weight': 'SqrtBalanced'}. Best is trial 41 with value: 0.9928331466965286.\n",
      "/var/folders/_k/vxqnb8117qb_1tpg9p98mtyc0000gn/T/ipykernel_13321/1751210426.py:7: FutureWarning: suggest_loguniform has been deprecated in v3.0.0. This feature will be removed in v6.0.0. See https://github.com/optuna/optuna/releases/tag/v3.0.0. Use suggest_float(..., log=True) instead.\n",
      "  \"l2_leaf_reg\": trial.suggest_loguniform('l2_leaf_reg', 1e-2, 10),\n",
      "[I 2025-04-10 11:08:34,902] Trial 108 finished with value: 0.9891657334826427 and parameters: {'n_estimators': 641, 'learning_rate': 0.04784478664972105, 'objective': 'CrossEntropy', 'depth': 10, 'l2_leaf_reg': 0.0904409089473871, 'colsample_bylevel': 0.6404381902553774, 'min_child_samples': 100.0, 'grow_policy': 'SymmetricTree', 'border_count': 256, 'auto_class_weight': 'SqrtBalanced'}. Best is trial 41 with value: 0.9928331466965286.\n",
      "/var/folders/_k/vxqnb8117qb_1tpg9p98mtyc0000gn/T/ipykernel_13321/1751210426.py:7: FutureWarning: suggest_loguniform has been deprecated in v3.0.0. This feature will be removed in v6.0.0. See https://github.com/optuna/optuna/releases/tag/v3.0.0. Use suggest_float(..., log=True) instead.\n",
      "  \"l2_leaf_reg\": trial.suggest_loguniform('l2_leaf_reg', 1e-2, 10),\n",
      "[I 2025-04-10 11:08:35,286] Trial 109 finished with value: 0.9913493840985442 and parameters: {'n_estimators': 447, 'learning_rate': 0.037643986031093, 'objective': 'CrossEntropy', 'depth': 9, 'l2_leaf_reg': 0.22702994746623625, 'colsample_bylevel': 0.7113051341249794, 'min_child_samples': 100.0, 'grow_policy': 'SymmetricTree', 'border_count': 128, 'auto_class_weight': None}. Best is trial 41 with value: 0.9928331466965286.\n",
      "/var/folders/_k/vxqnb8117qb_1tpg9p98mtyc0000gn/T/ipykernel_13321/1751210426.py:7: FutureWarning: suggest_loguniform has been deprecated in v3.0.0. This feature will be removed in v6.0.0. See https://github.com/optuna/optuna/releases/tag/v3.0.0. Use suggest_float(..., log=True) instead.\n",
      "  \"l2_leaf_reg\": trial.suggest_loguniform('l2_leaf_reg', 1e-2, 10),\n",
      "[I 2025-04-10 11:08:35,603] Trial 110 finished with value: 0.0 and parameters: {'n_estimators': 769, 'learning_rate': 0.0561468158637844, 'objective': 'CrossEntropy', 'depth': 10, 'l2_leaf_reg': 0.13816259087719815, 'colsample_bylevel': 0.5329080439569779, 'min_child_samples': 400.0, 'grow_policy': 'Depthwise', 'border_count': 128, 'auto_class_weight': 'SqrtBalanced'}. Best is trial 41 with value: 0.9928331466965286.\n",
      "/var/folders/_k/vxqnb8117qb_1tpg9p98mtyc0000gn/T/ipykernel_13321/1751210426.py:7: FutureWarning: suggest_loguniform has been deprecated in v3.0.0. This feature will be removed in v6.0.0. See https://github.com/optuna/optuna/releases/tag/v3.0.0. Use suggest_float(..., log=True) instead.\n",
      "  \"l2_leaf_reg\": trial.suggest_loguniform('l2_leaf_reg', 1e-2, 10),\n",
      "[I 2025-04-10 11:08:35,862] Trial 111 finished with value: 0.9914053751399776 and parameters: {'n_estimators': 382, 'learning_rate': 0.07892309594124054, 'objective': 'CrossEntropy', 'depth': 10, 'l2_leaf_reg': 0.17275874710189257, 'colsample_bylevel': 0.6017763826221847, 'min_child_samples': 200.0, 'grow_policy': 'SymmetricTree', 'border_count': 128, 'auto_class_weight': 'SqrtBalanced'}. Best is trial 41 with value: 0.9928331466965286.\n",
      "/var/folders/_k/vxqnb8117qb_1tpg9p98mtyc0000gn/T/ipykernel_13321/1751210426.py:7: FutureWarning: suggest_loguniform has been deprecated in v3.0.0. This feature will be removed in v6.0.0. See https://github.com/optuna/optuna/releases/tag/v3.0.0. Use suggest_float(..., log=True) instead.\n",
      "  \"l2_leaf_reg\": trial.suggest_loguniform('l2_leaf_reg', 1e-2, 10),\n",
      "[I 2025-04-10 11:08:36,076] Trial 112 finished with value: 0.9906494960806271 and parameters: {'n_estimators': 339, 'learning_rate': 0.07007283654610334, 'objective': 'CrossEntropy', 'depth': 10, 'l2_leaf_reg': 0.19305132140185133, 'colsample_bylevel': 0.6723560920806572, 'min_child_samples': 400.0, 'grow_policy': 'SymmetricTree', 'border_count': 128, 'auto_class_weight': 'SqrtBalanced'}. Best is trial 41 with value: 0.9928331466965286.\n",
      "/var/folders/_k/vxqnb8117qb_1tpg9p98mtyc0000gn/T/ipykernel_13321/1751210426.py:7: FutureWarning: suggest_loguniform has been deprecated in v3.0.0. This feature will be removed in v6.0.0. See https://github.com/optuna/optuna/releases/tag/v3.0.0. Use suggest_float(..., log=True) instead.\n",
      "  \"l2_leaf_reg\": trial.suggest_loguniform('l2_leaf_reg', 1e-2, 10),\n",
      "[I 2025-04-10 11:08:36,495] Trial 113 finished with value: 0.9917133258678611 and parameters: {'n_estimators': 422, 'learning_rate': 0.04438012925693979, 'objective': 'Logloss', 'depth': 10, 'l2_leaf_reg': 0.3081928605766136, 'colsample_bylevel': 0.5629120873925719, 'min_child_samples': 300.0, 'grow_policy': 'SymmetricTree', 'border_count': 128, 'auto_class_weight': 'SqrtBalanced'}. Best is trial 41 with value: 0.9928331466965286.\n",
      "/var/folders/_k/vxqnb8117qb_1tpg9p98mtyc0000gn/T/ipykernel_13321/1751210426.py:7: FutureWarning: suggest_loguniform has been deprecated in v3.0.0. This feature will be removed in v6.0.0. See https://github.com/optuna/optuna/releases/tag/v3.0.0. Use suggest_float(..., log=True) instead.\n",
      "  \"l2_leaf_reg\": trial.suggest_loguniform('l2_leaf_reg', 1e-2, 10),\n",
      "[I 2025-04-10 11:08:36,724] Trial 114 finished with value: 0.9912653975363942 and parameters: {'n_estimators': 498, 'learning_rate': 0.0622392848589606, 'objective': 'CrossEntropy', 'depth': 10, 'l2_leaf_reg': 0.17336639138610474, 'colsample_bylevel': 0.5066706325305906, 'min_child_samples': 100.0, 'grow_policy': 'SymmetricTree', 'border_count': 128, 'auto_class_weight': 'SqrtBalanced'}. Best is trial 41 with value: 0.9928331466965286.\n",
      "/var/folders/_k/vxqnb8117qb_1tpg9p98mtyc0000gn/T/ipykernel_13321/1751210426.py:7: FutureWarning: suggest_loguniform has been deprecated in v3.0.0. This feature will be removed in v6.0.0. See https://github.com/optuna/optuna/releases/tag/v3.0.0. Use suggest_float(..., log=True) instead.\n",
      "  \"l2_leaf_reg\": trial.suggest_loguniform('l2_leaf_reg', 1e-2, 10),\n",
      "[I 2025-04-10 11:08:37,075] Trial 115 finished with value: 0.9901455767077268 and parameters: {'n_estimators': 300, 'learning_rate': 0.016801322250763792, 'objective': 'Logloss', 'depth': 10, 'l2_leaf_reg': 0.20457952846593655, 'colsample_bylevel': 0.38221833894721124, 'min_child_samples': 200.0, 'grow_policy': 'SymmetricTree', 'border_count': 512, 'auto_class_weight': 'SqrtBalanced'}. Best is trial 41 with value: 0.9928331466965286.\n",
      "/var/folders/_k/vxqnb8117qb_1tpg9p98mtyc0000gn/T/ipykernel_13321/1751210426.py:7: FutureWarning: suggest_loguniform has been deprecated in v3.0.0. This feature will be removed in v6.0.0. See https://github.com/optuna/optuna/releases/tag/v3.0.0. Use suggest_float(..., log=True) instead.\n",
      "  \"l2_leaf_reg\": trial.suggest_loguniform('l2_leaf_reg', 1e-2, 10),\n",
      "[I 2025-04-10 11:08:37,258] Trial 116 finished with value: 0.9933370660694288 and parameters: {'n_estimators': 405, 'learning_rate': 0.16929028221367337, 'objective': 'CrossEntropy', 'depth': 10, 'l2_leaf_reg': 0.4191384007151054, 'colsample_bylevel': 0.8448406698899746, 'min_child_samples': 100.0, 'grow_policy': 'SymmetricTree', 'border_count': 128, 'auto_class_weight': 'Balanced'}. Best is trial 116 with value: 0.9933370660694288.\n",
      "/var/folders/_k/vxqnb8117qb_1tpg9p98mtyc0000gn/T/ipykernel_13321/1751210426.py:7: FutureWarning: suggest_loguniform has been deprecated in v3.0.0. This feature will be removed in v6.0.0. See https://github.com/optuna/optuna/releases/tag/v3.0.0. Use suggest_float(..., log=True) instead.\n",
      "  \"l2_leaf_reg\": trial.suggest_loguniform('l2_leaf_reg', 1e-2, 10),\n",
      "[I 2025-04-10 11:08:37,366] Trial 117 finished with value: 0.9906215005599105 and parameters: {'n_estimators': 718, 'learning_rate': 0.26868877557682924, 'objective': 'CrossEntropy', 'depth': 9, 'l2_leaf_reg': 0.4166310859618036, 'colsample_bylevel': 0.8288991608239084, 'min_child_samples': 100.0, 'grow_policy': 'SymmetricTree', 'border_count': 128, 'auto_class_weight': 'Balanced'}. Best is trial 116 with value: 0.9933370660694288.\n",
      "/var/folders/_k/vxqnb8117qb_1tpg9p98mtyc0000gn/T/ipykernel_13321/1751210426.py:7: FutureWarning: suggest_loguniform has been deprecated in v3.0.0. This feature will be removed in v6.0.0. See https://github.com/optuna/optuna/releases/tag/v3.0.0. Use suggest_float(..., log=True) instead.\n",
      "  \"l2_leaf_reg\": trial.suggest_loguniform('l2_leaf_reg', 1e-2, 10),\n",
      "[I 2025-04-10 11:08:37,495] Trial 118 finished with value: 0.9797312430011198 and parameters: {'n_estimators': 565, 'learning_rate': 0.16521187350846456, 'objective': 'CrossEntropy', 'depth': 10, 'l2_leaf_reg': 0.25545568864323986, 'colsample_bylevel': 0.8490447894263261, 'min_child_samples': 100.0, 'grow_policy': 'Lossguide', 'border_count': 128, 'auto_class_weight': 'Balanced'}. Best is trial 116 with value: 0.9933370660694288.\n",
      "/var/folders/_k/vxqnb8117qb_1tpg9p98mtyc0000gn/T/ipykernel_13321/1751210426.py:7: FutureWarning: suggest_loguniform has been deprecated in v3.0.0. This feature will be removed in v6.0.0. See https://github.com/optuna/optuna/releases/tag/v3.0.0. Use suggest_float(..., log=True) instead.\n",
      "  \"l2_leaf_reg\": trial.suggest_loguniform('l2_leaf_reg', 1e-2, 10),\n",
      "[I 2025-04-10 11:08:37,657] Trial 119 finished with value: 0.9907054871220605 and parameters: {'n_estimators': 453, 'learning_rate': 0.1531157181210783, 'objective': 'CrossEntropy', 'depth': 10, 'l2_leaf_reg': 0.10470312929913142, 'colsample_bylevel': 0.8695666587015004, 'min_child_samples': 100.0, 'grow_policy': 'SymmetricTree', 'border_count': 128, 'auto_class_weight': 'Balanced'}. Best is trial 116 with value: 0.9933370660694288.\n",
      "/var/folders/_k/vxqnb8117qb_1tpg9p98mtyc0000gn/T/ipykernel_13321/1751210426.py:7: FutureWarning: suggest_loguniform has been deprecated in v3.0.0. This feature will be removed in v6.0.0. See https://github.com/optuna/optuna/releases/tag/v3.0.0. Use suggest_float(..., log=True) instead.\n",
      "  \"l2_leaf_reg\": trial.suggest_loguniform('l2_leaf_reg', 1e-2, 10),\n",
      "[I 2025-04-10 11:08:37,881] Trial 120 finished with value: 0.9877659574468085 and parameters: {'n_estimators': 470, 'learning_rate': 0.18049344125014316, 'objective': 'CrossEntropy', 'depth': 10, 'l2_leaf_reg': 0.465632274269606, 'colsample_bylevel': 0.7956050867884211, 'min_child_samples': 100.0, 'grow_policy': 'SymmetricTree', 'border_count': 128, 'auto_class_weight': 'Balanced'}. Best is trial 116 with value: 0.9933370660694288.\n",
      "/var/folders/_k/vxqnb8117qb_1tpg9p98mtyc0000gn/T/ipykernel_13321/1751210426.py:7: FutureWarning: suggest_loguniform has been deprecated in v3.0.0. This feature will be removed in v6.0.0. See https://github.com/optuna/optuna/releases/tag/v3.0.0. Use suggest_float(..., log=True) instead.\n",
      "  \"l2_leaf_reg\": trial.suggest_loguniform('l2_leaf_reg', 1e-2, 10),\n",
      "[I 2025-04-10 11:08:38,093] Trial 121 finished with value: 0.9904255319148937 and parameters: {'n_estimators': 390, 'learning_rate': 0.16023390819646283, 'objective': 'CrossEntropy', 'depth': 10, 'l2_leaf_reg': 0.35251337386786974, 'colsample_bylevel': 0.8865117554707526, 'min_child_samples': 700.0, 'grow_policy': 'SymmetricTree', 'border_count': 128, 'auto_class_weight': 'Balanced'}. Best is trial 116 with value: 0.9933370660694288.\n",
      "/var/folders/_k/vxqnb8117qb_1tpg9p98mtyc0000gn/T/ipykernel_13321/1751210426.py:7: FutureWarning: suggest_loguniform has been deprecated in v3.0.0. This feature will be removed in v6.0.0. See https://github.com/optuna/optuna/releases/tag/v3.0.0. Use suggest_float(..., log=True) instead.\n",
      "  \"l2_leaf_reg\": trial.suggest_loguniform('l2_leaf_reg', 1e-2, 10),\n",
      "[I 2025-04-10 11:08:38,442] Trial 122 finished with value: 0.9927211646136617 and parameters: {'n_estimators': 359, 'learning_rate': 0.1400004601556951, 'objective': 'Logloss', 'depth': 10, 'l2_leaf_reg': 0.30163719179700954, 'colsample_bylevel': 0.9159286962477732, 'min_child_samples': 200.0, 'grow_policy': 'SymmetricTree', 'border_count': 128, 'auto_class_weight': 'SqrtBalanced'}. Best is trial 116 with value: 0.9933370660694288.\n",
      "/var/folders/_k/vxqnb8117qb_1tpg9p98mtyc0000gn/T/ipykernel_13321/1751210426.py:7: FutureWarning: suggest_loguniform has been deprecated in v3.0.0. This feature will be removed in v6.0.0. See https://github.com/optuna/optuna/releases/tag/v3.0.0. Use suggest_float(..., log=True) instead.\n",
      "  \"l2_leaf_reg\": trial.suggest_loguniform('l2_leaf_reg', 1e-2, 10),\n",
      "[I 2025-04-10 11:08:38,864] Trial 123 finished with value: 0.9921052631578948 and parameters: {'n_estimators': 402, 'learning_rate': 0.17884236955699123, 'objective': 'Logloss', 'depth': 10, 'l2_leaf_reg': 2.2837148390783204, 'colsample_bylevel': 0.923562289609312, 'min_child_samples': 100.0, 'grow_policy': 'SymmetricTree', 'border_count': 128, 'auto_class_weight': 'SqrtBalanced'}. Best is trial 116 with value: 0.9933370660694288.\n",
      "/var/folders/_k/vxqnb8117qb_1tpg9p98mtyc0000gn/T/ipykernel_13321/1751210426.py:7: FutureWarning: suggest_loguniform has been deprecated in v3.0.0. This feature will be removed in v6.0.0. See https://github.com/optuna/optuna/releases/tag/v3.0.0. Use suggest_float(..., log=True) instead.\n",
      "  \"l2_leaf_reg\": trial.suggest_loguniform('l2_leaf_reg', 1e-2, 10),\n",
      "[I 2025-04-10 11:08:39,208] Trial 124 finished with value: 0.9895576707726763 and parameters: {'n_estimators': 414, 'learning_rate': 0.1466505717424137, 'objective': 'CrossEntropy', 'depth': 10, 'l2_leaf_reg': 2.1818978828813482, 'colsample_bylevel': 0.9087911240059321, 'min_child_samples': 600.0, 'grow_policy': 'SymmetricTree', 'border_count': 128, 'auto_class_weight': 'SqrtBalanced'}. Best is trial 116 with value: 0.9933370660694288.\n",
      "/var/folders/_k/vxqnb8117qb_1tpg9p98mtyc0000gn/T/ipykernel_13321/1751210426.py:7: FutureWarning: suggest_loguniform has been deprecated in v3.0.0. This feature will be removed in v6.0.0. See https://github.com/optuna/optuna/releases/tag/v3.0.0. Use suggest_float(..., log=True) instead.\n",
      "  \"l2_leaf_reg\": trial.suggest_loguniform('l2_leaf_reg', 1e-2, 10),\n",
      "[I 2025-04-10 11:08:39,574] Trial 125 finished with value: 0.991461366181411 and parameters: {'n_estimators': 341, 'learning_rate': 0.18103750973333999, 'objective': 'Logloss', 'depth': 10, 'l2_leaf_reg': 2.7836948512468997, 'colsample_bylevel': 0.8273877695956564, 'min_child_samples': 200.0, 'grow_policy': 'SymmetricTree', 'border_count': 128, 'auto_class_weight': 'Balanced'}. Best is trial 116 with value: 0.9933370660694288.\n",
      "/var/folders/_k/vxqnb8117qb_1tpg9p98mtyc0000gn/T/ipykernel_13321/1751210426.py:7: FutureWarning: suggest_loguniform has been deprecated in v3.0.0. This feature will be removed in v6.0.0. See https://github.com/optuna/optuna/releases/tag/v3.0.0. Use suggest_float(..., log=True) instead.\n",
      "  \"l2_leaf_reg\": trial.suggest_loguniform('l2_leaf_reg', 1e-2, 10),\n",
      "[I 2025-04-10 11:08:39,866] Trial 126 finished with value: 0.9911814109742441 and parameters: {'n_estimators': 524, 'learning_rate': 0.18612261351272735, 'objective': 'Logloss', 'depth': 10, 'l2_leaf_reg': 2.453929230480865, 'colsample_bylevel': 0.626791280385977, 'min_child_samples': 100.0, 'grow_policy': 'SymmetricTree', 'border_count': 128, 'auto_class_weight': 'SqrtBalanced'}. Best is trial 116 with value: 0.9933370660694288.\n",
      "/var/folders/_k/vxqnb8117qb_1tpg9p98mtyc0000gn/T/ipykernel_13321/1751210426.py:7: FutureWarning: suggest_loguniform has been deprecated in v3.0.0. This feature will be removed in v6.0.0. See https://github.com/optuna/optuna/releases/tag/v3.0.0. Use suggest_float(..., log=True) instead.\n",
      "  \"l2_leaf_reg\": trial.suggest_loguniform('l2_leaf_reg', 1e-2, 10),\n",
      "[I 2025-04-10 11:08:40,095] Trial 127 finished with value: 0.9881298992161255 and parameters: {'n_estimators': 603, 'learning_rate': 0.13745185593724307, 'objective': 'CrossEntropy', 'depth': 9, 'l2_leaf_reg': 3.3174163673040833, 'colsample_bylevel': 0.5425210975140382, 'min_child_samples': 100.0, 'grow_policy': 'SymmetricTree', 'border_count': 1024, 'auto_class_weight': 'SqrtBalanced'}. Best is trial 116 with value: 0.9933370660694288.\n",
      "/var/folders/_k/vxqnb8117qb_1tpg9p98mtyc0000gn/T/ipykernel_13321/1751210426.py:7: FutureWarning: suggest_loguniform has been deprecated in v3.0.0. This feature will be removed in v6.0.0. See https://github.com/optuna/optuna/releases/tag/v3.0.0. Use suggest_float(..., log=True) instead.\n",
      "  \"l2_leaf_reg\": trial.suggest_loguniform('l2_leaf_reg', 1e-2, 10),\n",
      "[I 2025-04-10 11:08:40,393] Trial 128 finished with value: 0.9924692049272117 and parameters: {'n_estimators': 389, 'learning_rate': 0.19452992844222916, 'objective': 'Logloss', 'depth': 10, 'l2_leaf_reg': 1.5485962279556034, 'colsample_bylevel': 0.74725921371702, 'min_child_samples': 200.0, 'grow_policy': 'SymmetricTree', 'border_count': 128, 'auto_class_weight': None}. Best is trial 116 with value: 0.9933370660694288.\n",
      "/var/folders/_k/vxqnb8117qb_1tpg9p98mtyc0000gn/T/ipykernel_13321/1751210426.py:7: FutureWarning: suggest_loguniform has been deprecated in v3.0.0. This feature will be removed in v6.0.0. See https://github.com/optuna/optuna/releases/tag/v3.0.0. Use suggest_float(..., log=True) instead.\n",
      "  \"l2_leaf_reg\": trial.suggest_loguniform('l2_leaf_reg', 1e-2, 10),\n",
      "[I 2025-04-10 11:08:40,701] Trial 129 finished with value: 0.9911254199328109 and parameters: {'n_estimators': 432, 'learning_rate': 0.19266804550202682, 'objective': 'CrossEntropy', 'depth': 10, 'l2_leaf_reg': 1.5470357078956267, 'colsample_bylevel': 0.772838788827518, 'min_child_samples': 300.0, 'grow_policy': 'SymmetricTree', 'border_count': 128, 'auto_class_weight': None}. Best is trial 116 with value: 0.9933370660694288.\n",
      "/var/folders/_k/vxqnb8117qb_1tpg9p98mtyc0000gn/T/ipykernel_13321/1751210426.py:7: FutureWarning: suggest_loguniform has been deprecated in v3.0.0. This feature will be removed in v6.0.0. See https://github.com/optuna/optuna/releases/tag/v3.0.0. Use suggest_float(..., log=True) instead.\n",
      "  \"l2_leaf_reg\": trial.suggest_loguniform('l2_leaf_reg', 1e-2, 10),\n",
      "[I 2025-04-10 11:08:40,939] Trial 130 finished with value: 0.9902575587905935 and parameters: {'n_estimators': 478, 'learning_rate': 0.19684427176630023, 'objective': 'Logloss', 'depth': 10, 'l2_leaf_reg': 1.2810773470172927, 'colsample_bylevel': 0.8621330227010242, 'min_child_samples': 100.0, 'grow_policy': 'SymmetricTree', 'border_count': 128, 'auto_class_weight': None}. Best is trial 116 with value: 0.9933370660694288.\n",
      "/var/folders/_k/vxqnb8117qb_1tpg9p98mtyc0000gn/T/ipykernel_13321/1751210426.py:7: FutureWarning: suggest_loguniform has been deprecated in v3.0.0. This feature will be removed in v6.0.0. See https://github.com/optuna/optuna/releases/tag/v3.0.0. Use suggest_float(..., log=True) instead.\n",
      "  \"l2_leaf_reg\": trial.suggest_loguniform('l2_leaf_reg', 1e-2, 10),\n",
      "[I 2025-04-10 11:08:41,185] Trial 131 finished with value: 0.9905655095184769 and parameters: {'n_estimators': 394, 'learning_rate': 0.17356188124199642, 'objective': 'Logloss', 'depth': 10, 'l2_leaf_reg': 1.726284669810358, 'colsample_bylevel': 0.7546807428618456, 'min_child_samples': 200.0, 'grow_policy': 'SymmetricTree', 'border_count': 128, 'auto_class_weight': None}. Best is trial 116 with value: 0.9933370660694288.\n",
      "/var/folders/_k/vxqnb8117qb_1tpg9p98mtyc0000gn/T/ipykernel_13321/1751210426.py:7: FutureWarning: suggest_loguniform has been deprecated in v3.0.0. This feature will be removed in v6.0.0. See https://github.com/optuna/optuna/releases/tag/v3.0.0. Use suggest_float(..., log=True) instead.\n",
      "  \"l2_leaf_reg\": trial.suggest_loguniform('l2_leaf_reg', 1e-2, 10),\n",
      "[I 2025-04-10 11:08:41,358] Trial 132 finished with value: 0.9937569988801791 and parameters: {'n_estimators': 369, 'learning_rate': 0.21401325569313503, 'objective': 'Logloss', 'depth': 10, 'l2_leaf_reg': 0.3040485290413335, 'colsample_bylevel': 0.7137746143457168, 'min_child_samples': 200.0, 'grow_policy': 'SymmetricTree', 'border_count': 128, 'auto_class_weight': None}. Best is trial 132 with value: 0.9937569988801791.\n",
      "/var/folders/_k/vxqnb8117qb_1tpg9p98mtyc0000gn/T/ipykernel_13321/1751210426.py:7: FutureWarning: suggest_loguniform has been deprecated in v3.0.0. This feature will be removed in v6.0.0. See https://github.com/optuna/optuna/releases/tag/v3.0.0. Use suggest_float(..., log=True) instead.\n",
      "  \"l2_leaf_reg\": trial.suggest_loguniform('l2_leaf_reg', 1e-2, 10),\n",
      "[I 2025-04-10 11:08:41,805] Trial 133 finished with value: 0.9915173572228444 and parameters: {'n_estimators': 363, 'learning_rate': 0.23390379751673965, 'objective': 'Logloss', 'depth': 10, 'l2_leaf_reg': 3.401477936871424, 'colsample_bylevel': 0.7193618060003492, 'min_child_samples': 200.0, 'grow_policy': 'SymmetricTree', 'border_count': 128, 'auto_class_weight': None}. Best is trial 132 with value: 0.9937569988801791.\n",
      "/var/folders/_k/vxqnb8117qb_1tpg9p98mtyc0000gn/T/ipykernel_13321/1751210426.py:7: FutureWarning: suggest_loguniform has been deprecated in v3.0.0. This feature will be removed in v6.0.0. See https://github.com/optuna/optuna/releases/tag/v3.0.0. Use suggest_float(..., log=True) instead.\n",
      "  \"l2_leaf_reg\": trial.suggest_loguniform('l2_leaf_reg', 1e-2, 10),\n",
      "[I 2025-04-10 11:08:42,150] Trial 134 finished with value: 0.9889417693169094 and parameters: {'n_estimators': 330, 'learning_rate': 0.20469637580209465, 'objective': 'Logloss', 'depth': 10, 'l2_leaf_reg': 2.102853205093155, 'colsample_bylevel': 0.8144837602349213, 'min_child_samples': 200.0, 'grow_policy': 'SymmetricTree', 'border_count': 128, 'auto_class_weight': None}. Best is trial 132 with value: 0.9937569988801791.\n",
      "/var/folders/_k/vxqnb8117qb_1tpg9p98mtyc0000gn/T/ipykernel_13321/1751210426.py:7: FutureWarning: suggest_loguniform has been deprecated in v3.0.0. This feature will be removed in v6.0.0. See https://github.com/optuna/optuna/releases/tag/v3.0.0. Use suggest_float(..., log=True) instead.\n",
      "  \"l2_leaf_reg\": trial.suggest_loguniform('l2_leaf_reg', 1e-2, 10),\n",
      "[I 2025-04-10 11:08:42,333] Trial 135 finished with value: 0.9901175811870101 and parameters: {'n_estimators': 416, 'learning_rate': 0.2045944909316174, 'objective': 'Logloss', 'depth': 10, 'l2_leaf_reg': 0.3066924896526483, 'colsample_bylevel': 0.7408777325433905, 'min_child_samples': 100.0, 'grow_policy': 'SymmetricTree', 'border_count': 128, 'auto_class_weight': None}. Best is trial 132 with value: 0.9937569988801791.\n",
      "/var/folders/_k/vxqnb8117qb_1tpg9p98mtyc0000gn/T/ipykernel_13321/1751210426.py:7: FutureWarning: suggest_loguniform has been deprecated in v3.0.0. This feature will be removed in v6.0.0. See https://github.com/optuna/optuna/releases/tag/v3.0.0. Use suggest_float(..., log=True) instead.\n",
      "  \"l2_leaf_reg\": trial.suggest_loguniform('l2_leaf_reg', 1e-2, 10),\n",
      "[I 2025-04-10 11:08:42,505] Trial 136 finished with value: 0.991097424412094 and parameters: {'n_estimators': 540, 'learning_rate': 0.2231864969837294, 'objective': 'Logloss', 'depth': 10, 'l2_leaf_reg': 0.3714039976283407, 'colsample_bylevel': 0.7958687347690052, 'min_child_samples': 400.0, 'grow_policy': 'SymmetricTree', 'border_count': 128, 'auto_class_weight': None}. Best is trial 132 with value: 0.9937569988801791.\n",
      "/var/folders/_k/vxqnb8117qb_1tpg9p98mtyc0000gn/T/ipykernel_13321/1751210426.py:7: FutureWarning: suggest_loguniform has been deprecated in v3.0.0. This feature will be removed in v6.0.0. See https://github.com/optuna/optuna/releases/tag/v3.0.0. Use suggest_float(..., log=True) instead.\n",
      "  \"l2_leaf_reg\": trial.suggest_loguniform('l2_leaf_reg', 1e-2, 10),\n",
      "[I 2025-04-10 11:08:42,709] Trial 137 finished with value: 0.0 and parameters: {'n_estimators': 455, 'learning_rate': 0.1990678108551876, 'objective': 'Logloss', 'depth': 4, 'l2_leaf_reg': 0.5004656802721636, 'colsample_bylevel': 0.7055881281713966, 'min_child_samples': 300.0, 'grow_policy': 'Depthwise', 'border_count': 256, 'auto_class_weight': None}. Best is trial 132 with value: 0.9937569988801791.\n",
      "/var/folders/_k/vxqnb8117qb_1tpg9p98mtyc0000gn/T/ipykernel_13321/1751210426.py:7: FutureWarning: suggest_loguniform has been deprecated in v3.0.0. This feature will be removed in v6.0.0. See https://github.com/optuna/optuna/releases/tag/v3.0.0. Use suggest_float(..., log=True) instead.\n",
      "  \"l2_leaf_reg\": trial.suggest_loguniform('l2_leaf_reg', 1e-2, 10),\n",
      "[I 2025-04-10 11:08:43,010] Trial 138 finished with value: 0.9902575587905935 and parameters: {'n_estimators': 367, 'learning_rate': 0.16909440343522167, 'objective': 'CrossEntropy', 'depth': 10, 'l2_leaf_reg': 1.007424298082394, 'colsample_bylevel': 0.9188767926059404, 'min_child_samples': 200.0, 'grow_policy': 'SymmetricTree', 'border_count': 128, 'auto_class_weight': None}. Best is trial 132 with value: 0.9937569988801791.\n",
      "/var/folders/_k/vxqnb8117qb_1tpg9p98mtyc0000gn/T/ipykernel_13321/1751210426.py:7: FutureWarning: suggest_loguniform has been deprecated in v3.0.0. This feature will be removed in v6.0.0. See https://github.com/optuna/optuna/releases/tag/v3.0.0. Use suggest_float(..., log=True) instead.\n",
      "  \"l2_leaf_reg\": trial.suggest_loguniform('l2_leaf_reg', 1e-2, 10),\n",
      "[I 2025-04-10 11:08:43,135] Trial 139 finished with value: 0.9918533034714446 and parameters: {'n_estimators': 499, 'learning_rate': 0.21776069989844218, 'objective': 'Logloss', 'depth': 9, 'l2_leaf_reg': 0.22252273562344707, 'colsample_bylevel': 0.8439920418246794, 'min_child_samples': 100.0, 'grow_policy': 'SymmetricTree', 'border_count': 512, 'auto_class_weight': 'SqrtBalanced'}. Best is trial 132 with value: 0.9937569988801791.\n",
      "/var/folders/_k/vxqnb8117qb_1tpg9p98mtyc0000gn/T/ipykernel_13321/1751210426.py:7: FutureWarning: suggest_loguniform has been deprecated in v3.0.0. This feature will be removed in v6.0.0. See https://github.com/optuna/optuna/releases/tag/v3.0.0. Use suggest_float(..., log=True) instead.\n",
      "  \"l2_leaf_reg\": trial.suggest_loguniform('l2_leaf_reg', 1e-2, 10),\n",
      "[I 2025-04-10 11:08:43,270] Trial 140 finished with value: 0.0 and parameters: {'n_estimators': 303, 'learning_rate': 0.18218740101811035, 'objective': 'Logloss', 'depth': 10, 'l2_leaf_reg': 6.005196458758519, 'colsample_bylevel': 0.48224312276537945, 'min_child_samples': 500.0, 'grow_policy': 'Lossguide', 'border_count': 128, 'auto_class_weight': 'SqrtBalanced'}. Best is trial 132 with value: 0.9937569988801791.\n",
      "/var/folders/_k/vxqnb8117qb_1tpg9p98mtyc0000gn/T/ipykernel_13321/1751210426.py:7: FutureWarning: suggest_loguniform has been deprecated in v3.0.0. This feature will be removed in v6.0.0. See https://github.com/optuna/optuna/releases/tag/v3.0.0. Use suggest_float(..., log=True) instead.\n",
      "  \"l2_leaf_reg\": trial.suggest_loguniform('l2_leaf_reg', 1e-2, 10),\n",
      "[I 2025-04-10 11:08:43,459] Trial 141 finished with value: 0.9917693169092945 and parameters: {'n_estimators': 397, 'learning_rate': 0.16257855701658552, 'objective': 'Logloss', 'depth': 10, 'l2_leaf_reg': 0.40644567332239634, 'colsample_bylevel': 0.6844033743472268, 'min_child_samples': 200.0, 'grow_policy': 'SymmetricTree', 'border_count': 128, 'auto_class_weight': None}. Best is trial 132 with value: 0.9937569988801791.\n",
      "/var/folders/_k/vxqnb8117qb_1tpg9p98mtyc0000gn/T/ipykernel_13321/1751210426.py:7: FutureWarning: suggest_loguniform has been deprecated in v3.0.0. This feature will be removed in v6.0.0. See https://github.com/optuna/optuna/releases/tag/v3.0.0. Use suggest_float(..., log=True) instead.\n",
      "  \"l2_leaf_reg\": trial.suggest_loguniform('l2_leaf_reg', 1e-2, 10),\n",
      "[I 2025-04-10 11:08:43,776] Trial 142 finished with value: 0.9894456886898095 and parameters: {'n_estimators': 372, 'learning_rate': 0.1765201587930769, 'objective': 'Logloss', 'depth': 10, 'l2_leaf_reg': 0.2586040397627638, 'colsample_bylevel': 0.6529093174238929, 'min_child_samples': 200.0, 'grow_policy': 'SymmetricTree', 'border_count': 128, 'auto_class_weight': 'Balanced'}. Best is trial 132 with value: 0.9937569988801791.\n",
      "/var/folders/_k/vxqnb8117qb_1tpg9p98mtyc0000gn/T/ipykernel_13321/1751210426.py:7: FutureWarning: suggest_loguniform has been deprecated in v3.0.0. This feature will be removed in v6.0.0. See https://github.com/optuna/optuna/releases/tag/v3.0.0. Use suggest_float(..., log=True) instead.\n",
      "  \"l2_leaf_reg\": trial.suggest_loguniform('l2_leaf_reg', 1e-2, 10),\n",
      "[I 2025-04-10 11:08:43,955] Trial 143 finished with value: 0.9893057110862262 and parameters: {'n_estimators': 438, 'learning_rate': 0.23731575121203508, 'objective': 'Logloss', 'depth': 10, 'l2_leaf_reg': 0.6650255025833404, 'colsample_bylevel': 0.7268348126072675, 'min_child_samples': 100.0, 'grow_policy': 'SymmetricTree', 'border_count': 128, 'auto_class_weight': 'SqrtBalanced'}. Best is trial 132 with value: 0.9937569988801791.\n",
      "/var/folders/_k/vxqnb8117qb_1tpg9p98mtyc0000gn/T/ipykernel_13321/1751210426.py:7: FutureWarning: suggest_loguniform has been deprecated in v3.0.0. This feature will be removed in v6.0.0. See https://github.com/optuna/optuna/releases/tag/v3.0.0. Use suggest_float(..., log=True) instead.\n",
      "  \"l2_leaf_reg\": trial.suggest_loguniform('l2_leaf_reg', 1e-2, 10),\n",
      "[I 2025-04-10 11:08:44,339] Trial 144 finished with value: 0.991909294512878 and parameters: {'n_estimators': 573, 'learning_rate': 0.05153762636292207, 'objective': 'Logloss', 'depth': 10, 'l2_leaf_reg': 0.3363287775083212, 'colsample_bylevel': 0.6707310174030057, 'min_child_samples': 100.0, 'grow_policy': 'SymmetricTree', 'border_count': 128, 'auto_class_weight': 'SqrtBalanced'}. Best is trial 132 with value: 0.9937569988801791.\n",
      "/var/folders/_k/vxqnb8117qb_1tpg9p98mtyc0000gn/T/ipykernel_13321/1751210426.py:7: FutureWarning: suggest_loguniform has been deprecated in v3.0.0. This feature will be removed in v6.0.0. See https://github.com/optuna/optuna/releases/tag/v3.0.0. Use suggest_float(..., log=True) instead.\n",
      "  \"l2_leaf_reg\": trial.suggest_loguniform('l2_leaf_reg', 1e-2, 10),\n",
      "[I 2025-04-10 11:08:44,493] Trial 145 finished with value: 0.9885778275475923 and parameters: {'n_estimators': 335, 'learning_rate': 0.18754474495691245, 'objective': 'Logloss', 'depth': 10, 'l2_leaf_reg': 0.15097871215634928, 'colsample_bylevel': 0.894161673954474, 'min_child_samples': 200.0, 'grow_policy': 'SymmetricTree', 'border_count': 128, 'auto_class_weight': 'SqrtBalanced'}. Best is trial 132 with value: 0.9937569988801791.\n",
      "/var/folders/_k/vxqnb8117qb_1tpg9p98mtyc0000gn/T/ipykernel_13321/1751210426.py:7: FutureWarning: suggest_loguniform has been deprecated in v3.0.0. This feature will be removed in v6.0.0. See https://github.com/optuna/optuna/releases/tag/v3.0.0. Use suggest_float(..., log=True) instead.\n",
      "  \"l2_leaf_reg\": trial.suggest_loguniform('l2_leaf_reg', 1e-2, 10),\n",
      "[I 2025-04-10 11:08:44,634] Trial 146 finished with value: 0.9928611422172453 and parameters: {'n_estimators': 499, 'learning_rate': 0.2462731296482737, 'objective': 'CrossEntropy', 'depth': 10, 'l2_leaf_reg': 0.24360142592240885, 'colsample_bylevel': 0.43174323025906963, 'min_child_samples': 200.0, 'grow_policy': 'SymmetricTree', 'border_count': 128, 'auto_class_weight': 'SqrtBalanced'}. Best is trial 132 with value: 0.9937569988801791.\n",
      "/var/folders/_k/vxqnb8117qb_1tpg9p98mtyc0000gn/T/ipykernel_13321/1751210426.py:7: FutureWarning: suggest_loguniform has been deprecated in v3.0.0. This feature will be removed in v6.0.0. See https://github.com/optuna/optuna/releases/tag/v3.0.0. Use suggest_float(..., log=True) instead.\n",
      "  \"l2_leaf_reg\": trial.suggest_loguniform('l2_leaf_reg', 1e-2, 10),\n",
      "[I 2025-04-10 11:08:44,753] Trial 147 finished with value: 0.9871500559910414 and parameters: {'n_estimators': 513, 'learning_rate': 0.2841289761852362, 'objective': 'CrossEntropy', 'depth': 10, 'l2_leaf_reg': 0.29928200887053796, 'colsample_bylevel': 0.4573813213183314, 'min_child_samples': 100.0, 'grow_policy': 'SymmetricTree', 'border_count': 128, 'auto_class_weight': 'SqrtBalanced'}. Best is trial 132 with value: 0.9937569988801791.\n",
      "/var/folders/_k/vxqnb8117qb_1tpg9p98mtyc0000gn/T/ipykernel_13321/1751210426.py:7: FutureWarning: suggest_loguniform has been deprecated in v3.0.0. This feature will be removed in v6.0.0. See https://github.com/optuna/optuna/releases/tag/v3.0.0. Use suggest_float(..., log=True) instead.\n",
      "  \"l2_leaf_reg\": trial.suggest_loguniform('l2_leaf_reg', 1e-2, 10),\n",
      "[I 2025-04-10 11:08:44,931] Trial 148 finished with value: 0.9914053751399777 and parameters: {'n_estimators': 484, 'learning_rate': 0.14618872198470922, 'objective': 'CrossEntropy', 'depth': 10, 'l2_leaf_reg': 0.25604937224750685, 'colsample_bylevel': 0.42618664871333534, 'min_child_samples': 200.0, 'grow_policy': 'SymmetricTree', 'border_count': 128, 'auto_class_weight': 'SqrtBalanced'}. Best is trial 132 with value: 0.9937569988801791.\n",
      "/var/folders/_k/vxqnb8117qb_1tpg9p98mtyc0000gn/T/ipykernel_13321/1751210426.py:7: FutureWarning: suggest_loguniform has been deprecated in v3.0.0. This feature will be removed in v6.0.0. See https://github.com/optuna/optuna/releases/tag/v3.0.0. Use suggest_float(..., log=True) instead.\n",
      "  \"l2_leaf_reg\": trial.suggest_loguniform('l2_leaf_reg', 1e-2, 10),\n",
      "[I 2025-04-10 11:08:45,070] Trial 149 finished with value: 0.9937010078387459 and parameters: {'n_estimators': 680, 'learning_rate': 0.22535198530370615, 'objective': 'CrossEntropy', 'depth': 10, 'l2_leaf_reg': 0.2214287450762381, 'colsample_bylevel': 0.5045294932487339, 'min_child_samples': 300.0, 'grow_policy': 'SymmetricTree', 'border_count': 128, 'auto_class_weight': 'SqrtBalanced'}. Best is trial 132 with value: 0.9937569988801791.\n",
      "/var/folders/_k/vxqnb8117qb_1tpg9p98mtyc0000gn/T/ipykernel_13321/1751210426.py:7: FutureWarning: suggest_loguniform has been deprecated in v3.0.0. This feature will be removed in v6.0.0. See https://github.com/optuna/optuna/releases/tag/v3.0.0. Use suggest_float(..., log=True) instead.\n",
      "  \"l2_leaf_reg\": trial.suggest_loguniform('l2_leaf_reg', 1e-2, 10),\n",
      "[I 2025-04-10 11:08:45,193] Trial 150 finished with value: 0.990565509518477 and parameters: {'n_estimators': 644, 'learning_rate': 0.22428499392834075, 'objective': 'CrossEntropy', 'depth': 10, 'l2_leaf_reg': 0.22387593398715958, 'colsample_bylevel': 0.43728786096635874, 'min_child_samples': 300.0, 'grow_policy': 'SymmetricTree', 'border_count': 128, 'auto_class_weight': 'SqrtBalanced'}. Best is trial 132 with value: 0.9937569988801791.\n",
      "/var/folders/_k/vxqnb8117qb_1tpg9p98mtyc0000gn/T/ipykernel_13321/1751210426.py:7: FutureWarning: suggest_loguniform has been deprecated in v3.0.0. This feature will be removed in v6.0.0. See https://github.com/optuna/optuna/releases/tag/v3.0.0. Use suggest_float(..., log=True) instead.\n",
      "  \"l2_leaf_reg\": trial.suggest_loguniform('l2_leaf_reg', 1e-2, 10),\n",
      "[I 2025-04-10 11:08:45,341] Trial 151 finished with value: 0.9902855543113102 and parameters: {'n_estimators': 589, 'learning_rate': 0.21457130516217732, 'objective': 'CrossEntropy', 'depth': 10, 'l2_leaf_reg': 0.16417815181845904, 'colsample_bylevel': 0.49880420880348975, 'min_child_samples': 300.0, 'grow_policy': 'SymmetricTree', 'border_count': 128, 'auto_class_weight': 'SqrtBalanced'}. Best is trial 132 with value: 0.9937569988801791.\n",
      "/var/folders/_k/vxqnb8117qb_1tpg9p98mtyc0000gn/T/ipykernel_13321/1751210426.py:7: FutureWarning: suggest_loguniform has been deprecated in v3.0.0. This feature will be removed in v6.0.0. See https://github.com/optuna/optuna/releases/tag/v3.0.0. Use suggest_float(..., log=True) instead.\n",
      "  \"l2_leaf_reg\": trial.suggest_loguniform('l2_leaf_reg', 1e-2, 10),\n",
      "[I 2025-04-10 11:08:45,460] Trial 152 finished with value: 0.987625979843225 and parameters: {'n_estimators': 541, 'learning_rate': 0.2474945172542103, 'objective': 'CrossEntropy', 'depth': 10, 'l2_leaf_reg': 0.12670453392967032, 'colsample_bylevel': 0.39966103558356947, 'min_child_samples': 300.0, 'grow_policy': 'SymmetricTree', 'border_count': 128, 'auto_class_weight': 'SqrtBalanced'}. Best is trial 132 with value: 0.9937569988801791.\n",
      "/var/folders/_k/vxqnb8117qb_1tpg9p98mtyc0000gn/T/ipykernel_13321/1751210426.py:7: FutureWarning: suggest_loguniform has been deprecated in v3.0.0. This feature will be removed in v6.0.0. See https://github.com/optuna/optuna/releases/tag/v3.0.0. Use suggest_float(..., log=True) instead.\n",
      "  \"l2_leaf_reg\": trial.suggest_loguniform('l2_leaf_reg', 1e-2, 10),\n",
      "[I 2025-04-10 11:08:45,606] Trial 153 finished with value: 0.9845464725643897 and parameters: {'n_estimators': 670, 'learning_rate': 0.2564266038603195, 'objective': 'CrossEntropy', 'depth': 10, 'l2_leaf_reg': 0.18102031961932086, 'colsample_bylevel': 0.468478679226135, 'min_child_samples': 400.0, 'grow_policy': 'SymmetricTree', 'border_count': 128, 'auto_class_weight': 'SqrtBalanced'}. Best is trial 132 with value: 0.9937569988801791.\n",
      "/var/folders/_k/vxqnb8117qb_1tpg9p98mtyc0000gn/T/ipykernel_13321/1751210426.py:7: FutureWarning: suggest_loguniform has been deprecated in v3.0.0. This feature will be removed in v6.0.0. See https://github.com/optuna/optuna/releases/tag/v3.0.0. Use suggest_float(..., log=True) instead.\n",
      "  \"l2_leaf_reg\": trial.suggest_loguniform('l2_leaf_reg', 1e-2, 10),\n",
      "[I 2025-04-10 11:08:45,874] Trial 154 finished with value: 0.9916573348264278 and parameters: {'n_estimators': 449, 'learning_rate': 0.24286568715421547, 'objective': 'CrossEntropy', 'depth': 10, 'l2_leaf_reg': 1.7758436548091536, 'colsample_bylevel': 0.5531802513193331, 'min_child_samples': 200.0, 'grow_policy': 'SymmetricTree', 'border_count': 128, 'auto_class_weight': 'SqrtBalanced'}. Best is trial 132 with value: 0.9937569988801791.\n",
      "/var/folders/_k/vxqnb8117qb_1tpg9p98mtyc0000gn/T/ipykernel_13321/1751210426.py:7: FutureWarning: suggest_loguniform has been deprecated in v3.0.0. This feature will be removed in v6.0.0. See https://github.com/optuna/optuna/releases/tag/v3.0.0. Use suggest_float(..., log=True) instead.\n",
      "  \"l2_leaf_reg\": trial.suggest_loguniform('l2_leaf_reg', 1e-2, 10),\n",
      "[I 2025-04-10 11:08:46,029] Trial 155 finished with value: 0.9877659574468085 and parameters: {'n_estimators': 415, 'learning_rate': 0.21007682915942733, 'objective': 'CrossEntropy', 'depth': 10, 'l2_leaf_reg': 0.21674650201603757, 'colsample_bylevel': 0.5786746438257744, 'min_child_samples': 600.0, 'grow_policy': 'SymmetricTree', 'border_count': 128, 'auto_class_weight': 'SqrtBalanced'}. Best is trial 132 with value: 0.9937569988801791.\n",
      "/var/folders/_k/vxqnb8117qb_1tpg9p98mtyc0000gn/T/ipykernel_13321/1751210426.py:7: FutureWarning: suggest_loguniform has been deprecated in v3.0.0. This feature will be removed in v6.0.0. See https://github.com/optuna/optuna/releases/tag/v3.0.0. Use suggest_float(..., log=True) instead.\n",
      "  \"l2_leaf_reg\": trial.suggest_loguniform('l2_leaf_reg', 1e-2, 10),\n",
      "[I 2025-04-10 11:08:46,441] Trial 156 finished with value: 0.9920492721164613 and parameters: {'n_estimators': 616, 'learning_rate': 0.05969698979787885, 'objective': 'CrossEntropy', 'depth': 10, 'l2_leaf_reg': 0.5773768947238855, 'colsample_bylevel': 0.5132675538241864, 'min_child_samples': 100.0, 'grow_policy': 'SymmetricTree', 'border_count': 128, 'auto_class_weight': 'SqrtBalanced'}. Best is trial 132 with value: 0.9937569988801791.\n",
      "/var/folders/_k/vxqnb8117qb_1tpg9p98mtyc0000gn/T/ipykernel_13321/1751210426.py:7: FutureWarning: suggest_loguniform has been deprecated in v3.0.0. This feature will be removed in v6.0.0. See https://github.com/optuna/optuna/releases/tag/v3.0.0. Use suggest_float(..., log=True) instead.\n",
      "  \"l2_leaf_reg\": trial.suggest_loguniform('l2_leaf_reg', 1e-2, 10),\n",
      "[I 2025-04-10 11:08:46,580] Trial 157 finished with value: 0.9928611422172453 and parameters: {'n_estimators': 481, 'learning_rate': 0.2271611093708723, 'objective': 'CrossEntropy', 'depth': 10, 'l2_leaf_reg': 0.3399199576581913, 'colsample_bylevel': 0.6006576538836322, 'min_child_samples': 300.0, 'grow_policy': 'SymmetricTree', 'border_count': 1024, 'auto_class_weight': 'SqrtBalanced'}. Best is trial 132 with value: 0.9937569988801791.\n",
      "/var/folders/_k/vxqnb8117qb_1tpg9p98mtyc0000gn/T/ipykernel_13321/1751210426.py:7: FutureWarning: suggest_loguniform has been deprecated in v3.0.0. This feature will be removed in v6.0.0. See https://github.com/optuna/optuna/releases/tag/v3.0.0. Use suggest_float(..., log=True) instead.\n",
      "  \"l2_leaf_reg\": trial.suggest_loguniform('l2_leaf_reg', 1e-2, 10),\n",
      "[I 2025-04-10 11:08:46,766] Trial 158 finished with value: 0.9909574468085107 and parameters: {'n_estimators': 681, 'learning_rate': 0.22682604905025955, 'objective': 'CrossEntropy', 'depth': 10, 'l2_leaf_reg': 0.4223147515672122, 'colsample_bylevel': 0.6096946493726171, 'min_child_samples': 300.0, 'grow_policy': 'SymmetricTree', 'border_count': 1024, 'auto_class_weight': None}. Best is trial 132 with value: 0.9937569988801791.\n",
      "/var/folders/_k/vxqnb8117qb_1tpg9p98mtyc0000gn/T/ipykernel_13321/1751210426.py:7: FutureWarning: suggest_loguniform has been deprecated in v3.0.0. This feature will be removed in v6.0.0. See https://github.com/optuna/optuna/releases/tag/v3.0.0. Use suggest_float(..., log=True) instead.\n",
      "  \"l2_leaf_reg\": trial.suggest_loguniform('l2_leaf_reg', 1e-2, 10),\n",
      "[I 2025-04-10 11:08:46,871] Trial 159 finished with value: 0.9894736842105263 and parameters: {'n_estimators': 561, 'learning_rate': 0.22961153416721305, 'objective': 'CrossEntropy', 'depth': 9, 'l2_leaf_reg': 0.3257232500039432, 'colsample_bylevel': 0.6405056073844206, 'min_child_samples': 300.0, 'grow_policy': 'SymmetricTree', 'border_count': 1024, 'auto_class_weight': 'SqrtBalanced'}. Best is trial 132 with value: 0.9937569988801791.\n",
      "/var/folders/_k/vxqnb8117qb_1tpg9p98mtyc0000gn/T/ipykernel_13321/1751210426.py:7: FutureWarning: suggest_loguniform has been deprecated in v3.0.0. This feature will be removed in v6.0.0. See https://github.com/optuna/optuna/releases/tag/v3.0.0. Use suggest_float(..., log=True) instead.\n",
      "  \"l2_leaf_reg\": trial.suggest_loguniform('l2_leaf_reg', 1e-2, 10),\n",
      "[I 2025-04-10 11:08:47,012] Trial 160 finished with value: 0.0 and parameters: {'n_estimators': 474, 'learning_rate': 0.21381113132364288, 'objective': 'CrossEntropy', 'depth': 10, 'l2_leaf_reg': 0.2588519895515336, 'colsample_bylevel': 0.06927513142018954, 'min_child_samples': 300.0, 'grow_policy': 'SymmetricTree', 'border_count': 1024, 'auto_class_weight': 'SqrtBalanced'}. Best is trial 132 with value: 0.9937569988801791.\n",
      "/var/folders/_k/vxqnb8117qb_1tpg9p98mtyc0000gn/T/ipykernel_13321/1751210426.py:7: FutureWarning: suggest_loguniform has been deprecated in v3.0.0. This feature will be removed in v6.0.0. See https://github.com/optuna/optuna/releases/tag/v3.0.0. Use suggest_float(..., log=True) instead.\n",
      "  \"l2_leaf_reg\": trial.suggest_loguniform('l2_leaf_reg', 1e-2, 10),\n",
      "[I 2025-04-10 11:08:47,175] Trial 161 finished with value: 0.9923292273236282 and parameters: {'n_estimators': 526, 'learning_rate': 0.24356903958692516, 'objective': 'CrossEntropy', 'depth': 10, 'l2_leaf_reg': 0.3606523096667413, 'colsample_bylevel': 0.8716789599465359, 'min_child_samples': 300.0, 'grow_policy': 'SymmetricTree', 'border_count': 1024, 'auto_class_weight': 'SqrtBalanced'}. Best is trial 132 with value: 0.9937569988801791.\n",
      "/var/folders/_k/vxqnb8117qb_1tpg9p98mtyc0000gn/T/ipykernel_13321/1751210426.py:7: FutureWarning: suggest_loguniform has been deprecated in v3.0.0. This feature will be removed in v6.0.0. See https://github.com/optuna/optuna/releases/tag/v3.0.0. Use suggest_float(..., log=True) instead.\n",
      "  \"l2_leaf_reg\": trial.suggest_loguniform('l2_leaf_reg', 1e-2, 10),\n",
      "[I 2025-04-10 11:08:47,390] Trial 162 finished with value: 0.9909854423292274 and parameters: {'n_estimators': 524, 'learning_rate': 0.25040477406925454, 'objective': 'CrossEntropy', 'depth': 10, 'l2_leaf_reg': 0.3732354660044203, 'colsample_bylevel': 0.8585712568573359, 'min_child_samples': 300.0, 'grow_policy': 'SymmetricTree', 'border_count': 1024, 'auto_class_weight': 'SqrtBalanced'}. Best is trial 132 with value: 0.9937569988801791.\n",
      "/var/folders/_k/vxqnb8117qb_1tpg9p98mtyc0000gn/T/ipykernel_13321/1751210426.py:7: FutureWarning: suggest_loguniform has been deprecated in v3.0.0. This feature will be removed in v6.0.0. See https://github.com/optuna/optuna/releases/tag/v3.0.0. Use suggest_float(..., log=True) instead.\n",
      "  \"l2_leaf_reg\": trial.suggest_loguniform('l2_leaf_reg', 1e-2, 10),\n",
      "[I 2025-04-10 11:08:47,518] Trial 163 finished with value: 0.9910694288913774 and parameters: {'n_estimators': 499, 'learning_rate': 0.2584222333363343, 'objective': 'CrossEntropy', 'depth': 10, 'l2_leaf_reg': 0.28775645938319616, 'colsample_bylevel': 0.5965355668758519, 'min_child_samples': 300.0, 'grow_policy': 'SymmetricTree', 'border_count': 1024, 'auto_class_weight': 'SqrtBalanced'}. Best is trial 132 with value: 0.9937569988801791.\n",
      "/var/folders/_k/vxqnb8117qb_1tpg9p98mtyc0000gn/T/ipykernel_13321/1751210426.py:7: FutureWarning: suggest_loguniform has been deprecated in v3.0.0. This feature will be removed in v6.0.0. See https://github.com/optuna/optuna/releases/tag/v3.0.0. Use suggest_float(..., log=True) instead.\n",
      "  \"l2_leaf_reg\": trial.suggest_loguniform('l2_leaf_reg', 1e-2, 10),\n",
      "[I 2025-04-10 11:08:47,671] Trial 164 finished with value: 0.9887458006718925 and parameters: {'n_estimators': 590, 'learning_rate': 0.24004414413282854, 'objective': 'CrossEntropy', 'depth': 10, 'l2_leaf_reg': 0.4748792286312055, 'colsample_bylevel': 0.7819571558708664, 'min_child_samples': 300.0, 'grow_policy': 'SymmetricTree', 'border_count': 1024, 'auto_class_weight': 'SqrtBalanced'}. Best is trial 132 with value: 0.9937569988801791.\n",
      "/var/folders/_k/vxqnb8117qb_1tpg9p98mtyc0000gn/T/ipykernel_13321/1751210426.py:7: FutureWarning: suggest_loguniform has been deprecated in v3.0.0. This feature will be removed in v6.0.0. See https://github.com/optuna/optuna/releases/tag/v3.0.0. Use suggest_float(..., log=True) instead.\n",
      "  \"l2_leaf_reg\": trial.suggest_loguniform('l2_leaf_reg', 1e-2, 10),\n",
      "[I 2025-04-10 11:08:47,834] Trial 165 finished with value: 0.9883538633818588 and parameters: {'n_estimators': 633, 'learning_rate': 0.2355730545348403, 'objective': 'CrossEntropy', 'depth': 10, 'l2_leaf_reg': 0.3309407299109251, 'colsample_bylevel': 0.8177394386171364, 'min_child_samples': 400.0, 'grow_policy': 'SymmetricTree', 'border_count': 1024, 'auto_class_weight': 'SqrtBalanced'}. Best is trial 132 with value: 0.9937569988801791.\n",
      "/var/folders/_k/vxqnb8117qb_1tpg9p98mtyc0000gn/T/ipykernel_13321/1751210426.py:7: FutureWarning: suggest_loguniform has been deprecated in v3.0.0. This feature will be removed in v6.0.0. See https://github.com/optuna/optuna/releases/tag/v3.0.0. Use suggest_float(..., log=True) instead.\n",
      "  \"l2_leaf_reg\": trial.suggest_loguniform('l2_leaf_reg', 1e-2, 10),\n",
      "[I 2025-04-10 11:08:47,934] Trial 166 finished with value: 0.0 and parameters: {'n_estimators': 841, 'learning_rate': 0.24627385837774557, 'objective': 'CrossEntropy', 'depth': 10, 'l2_leaf_reg': 0.20062850272943614, 'colsample_bylevel': 0.880926408810212, 'min_child_samples': 200.0, 'grow_policy': 'Depthwise', 'border_count': 1024, 'auto_class_weight': 'SqrtBalanced'}. Best is trial 132 with value: 0.9937569988801791.\n",
      "/var/folders/_k/vxqnb8117qb_1tpg9p98mtyc0000gn/T/ipykernel_13321/1751210426.py:7: FutureWarning: suggest_loguniform has been deprecated in v3.0.0. This feature will be removed in v6.0.0. See https://github.com/optuna/optuna/releases/tag/v3.0.0. Use suggest_float(..., log=True) instead.\n",
      "  \"l2_leaf_reg\": trial.suggest_loguniform('l2_leaf_reg', 1e-2, 10),\n",
      "[I 2025-04-10 11:08:48,078] Trial 167 finished with value: 0.992441209406495 and parameters: {'n_estimators': 541, 'learning_rate': 0.2209144453995641, 'objective': 'CrossEntropy', 'depth': 10, 'l2_leaf_reg': 0.24572436452510502, 'colsample_bylevel': 0.4917422160481838, 'min_child_samples': 300.0, 'grow_policy': 'SymmetricTree', 'border_count': 1024, 'auto_class_weight': 'SqrtBalanced'}. Best is trial 132 with value: 0.9937569988801791.\n",
      "/var/folders/_k/vxqnb8117qb_1tpg9p98mtyc0000gn/T/ipykernel_13321/1751210426.py:7: FutureWarning: suggest_loguniform has been deprecated in v3.0.0. This feature will be removed in v6.0.0. See https://github.com/optuna/optuna/releases/tag/v3.0.0. Use suggest_float(..., log=True) instead.\n",
      "  \"l2_leaf_reg\": trial.suggest_loguniform('l2_leaf_reg', 1e-2, 10),\n",
      "[I 2025-04-10 11:08:48,211] Trial 168 finished with value: 0.9862262038073908 and parameters: {'n_estimators': 553, 'learning_rate': 0.22149238975856325, 'objective': 'CrossEntropy', 'depth': 10, 'l2_leaf_reg': 0.23212727772052705, 'colsample_bylevel': 0.4893154222354943, 'min_child_samples': 300.0, 'grow_policy': 'SymmetricTree', 'border_count': 1024, 'auto_class_weight': 'SqrtBalanced'}. Best is trial 132 with value: 0.9937569988801791.\n",
      "/var/folders/_k/vxqnb8117qb_1tpg9p98mtyc0000gn/T/ipykernel_13321/1751210426.py:7: FutureWarning: suggest_loguniform has been deprecated in v3.0.0. This feature will be removed in v6.0.0. See https://github.com/optuna/optuna/releases/tag/v3.0.0. Use suggest_float(..., log=True) instead.\n",
      "  \"l2_leaf_reg\": trial.suggest_loguniform('l2_leaf_reg', 1e-2, 10),\n",
      "[I 2025-04-10 11:08:48,349] Trial 169 finished with value: 0.993421052631579 and parameters: {'n_estimators': 532, 'learning_rate': 0.22698696615827016, 'objective': 'CrossEntropy', 'depth': 10, 'l2_leaf_reg': 0.14044458189142367, 'colsample_bylevel': 0.542020508204833, 'min_child_samples': 300.0, 'grow_policy': 'SymmetricTree', 'border_count': 1024, 'auto_class_weight': None}. Best is trial 132 with value: 0.9937569988801791.\n",
      "/var/folders/_k/vxqnb8117qb_1tpg9p98mtyc0000gn/T/ipykernel_13321/1751210426.py:7: FutureWarning: suggest_loguniform has been deprecated in v3.0.0. This feature will be removed in v6.0.0. See https://github.com/optuna/optuna/releases/tag/v3.0.0. Use suggest_float(..., log=True) instead.\n",
      "  \"l2_leaf_reg\": trial.suggest_loguniform('l2_leaf_reg', 1e-2, 10),\n",
      "[I 2025-04-10 11:08:48,487] Trial 170 finished with value: 0.9885498320268756 and parameters: {'n_estimators': 465, 'learning_rate': 0.23168259984590725, 'objective': 'CrossEntropy', 'depth': 10, 'l2_leaf_reg': 0.14324348441145462, 'colsample_bylevel': 0.5770727770303465, 'min_child_samples': 300.0, 'grow_policy': 'SymmetricTree', 'border_count': 1024, 'auto_class_weight': None}. Best is trial 132 with value: 0.9937569988801791.\n",
      "/var/folders/_k/vxqnb8117qb_1tpg9p98mtyc0000gn/T/ipykernel_13321/1751210426.py:7: FutureWarning: suggest_loguniform has been deprecated in v3.0.0. This feature will be removed in v6.0.0. See https://github.com/optuna/optuna/releases/tag/v3.0.0. Use suggest_float(..., log=True) instead.\n",
      "  \"l2_leaf_reg\": trial.suggest_loguniform('l2_leaf_reg', 1e-2, 10),\n",
      "[I 2025-04-10 11:08:48,625] Trial 171 finished with value: 0.9908174692049272 and parameters: {'n_estimators': 524, 'learning_rate': 0.216940709790219, 'objective': 'CrossEntropy', 'depth': 10, 'l2_leaf_reg': 0.16777369738950706, 'colsample_bylevel': 0.5287885496239488, 'min_child_samples': 300.0, 'grow_policy': 'SymmetricTree', 'border_count': 1024, 'auto_class_weight': None}. Best is trial 132 with value: 0.9937569988801791.\n",
      "/var/folders/_k/vxqnb8117qb_1tpg9p98mtyc0000gn/T/ipykernel_13321/1751210426.py:7: FutureWarning: suggest_loguniform has been deprecated in v3.0.0. This feature will be removed in v6.0.0. See https://github.com/optuna/optuna/releases/tag/v3.0.0. Use suggest_float(..., log=True) instead.\n",
      "  \"l2_leaf_reg\": trial.suggest_loguniform('l2_leaf_reg', 1e-2, 10),\n",
      "[I 2025-04-10 11:08:48,748] Trial 172 finished with value: 0.9888577827547592 and parameters: {'n_estimators': 609, 'learning_rate': 0.22446511487147242, 'objective': 'CrossEntropy', 'depth': 10, 'l2_leaf_reg': 0.11920537210067038, 'colsample_bylevel': 0.547866048450663, 'min_child_samples': 300.0, 'grow_policy': 'SymmetricTree', 'border_count': 1024, 'auto_class_weight': None}. Best is trial 132 with value: 0.9937569988801791.\n",
      "/var/folders/_k/vxqnb8117qb_1tpg9p98mtyc0000gn/T/ipykernel_13321/1751210426.py:7: FutureWarning: suggest_loguniform has been deprecated in v3.0.0. This feature will be removed in v6.0.0. See https://github.com/optuna/optuna/releases/tag/v3.0.0. Use suggest_float(..., log=True) instead.\n",
      "  \"l2_leaf_reg\": trial.suggest_loguniform('l2_leaf_reg', 1e-2, 10),\n",
      "[I 2025-04-10 11:08:48,878] Trial 173 finished with value: 0.9894176931690929 and parameters: {'n_estimators': 962, 'learning_rate': 0.25483641465864115, 'objective': 'CrossEntropy', 'depth': 10, 'l2_leaf_reg': 0.19009384916559383, 'colsample_bylevel': 0.628081438406272, 'min_child_samples': 300.0, 'grow_policy': 'SymmetricTree', 'border_count': 1024, 'auto_class_weight': None}. Best is trial 132 with value: 0.9937569988801791.\n",
      "/var/folders/_k/vxqnb8117qb_1tpg9p98mtyc0000gn/T/ipykernel_13321/1751210426.py:7: FutureWarning: suggest_loguniform has been deprecated in v3.0.0. This feature will be removed in v6.0.0. See https://github.com/optuna/optuna/releases/tag/v3.0.0. Use suggest_float(..., log=True) instead.\n",
      "  \"l2_leaf_reg\": trial.suggest_loguniform('l2_leaf_reg', 1e-2, 10),\n",
      "[I 2025-04-10 11:08:49,005] Trial 174 finished with value: 0.9915173572228443 and parameters: {'n_estimators': 568, 'learning_rate': 0.23924982637228803, 'objective': 'CrossEntropy', 'depth': 10, 'l2_leaf_reg': 0.2818807480836765, 'colsample_bylevel': 0.5078600529770348, 'min_child_samples': 300.0, 'grow_policy': 'SymmetricTree', 'border_count': 1024, 'auto_class_weight': None}. Best is trial 132 with value: 0.9937569988801791.\n",
      "/var/folders/_k/vxqnb8117qb_1tpg9p98mtyc0000gn/T/ipykernel_13321/1751210426.py:7: FutureWarning: suggest_loguniform has been deprecated in v3.0.0. This feature will be removed in v6.0.0. See https://github.com/optuna/optuna/releases/tag/v3.0.0. Use suggest_float(..., log=True) instead.\n",
      "  \"l2_leaf_reg\": trial.suggest_loguniform('l2_leaf_reg', 1e-2, 10),\n",
      "[I 2025-04-10 11:08:49,137] Trial 175 finished with value: 0.9882138857782754 and parameters: {'n_estimators': 510, 'learning_rate': 0.22938423104298833, 'objective': 'CrossEntropy', 'depth': 10, 'l2_leaf_reg': 0.24578970558433716, 'colsample_bylevel': 0.4713094869482852, 'min_child_samples': 400.0, 'grow_policy': 'SymmetricTree', 'border_count': 1024, 'auto_class_weight': 'SqrtBalanced'}. Best is trial 132 with value: 0.9937569988801791.\n",
      "/var/folders/_k/vxqnb8117qb_1tpg9p98mtyc0000gn/T/ipykernel_13321/1751210426.py:7: FutureWarning: suggest_loguniform has been deprecated in v3.0.0. This feature will be removed in v6.0.0. See https://github.com/optuna/optuna/releases/tag/v3.0.0. Use suggest_float(..., log=True) instead.\n",
      "  \"l2_leaf_reg\": trial.suggest_loguniform('l2_leaf_reg', 1e-2, 10),\n",
      "[I 2025-04-10 11:08:49,283] Trial 176 finished with value: 0.0 and parameters: {'n_estimators': 732, 'learning_rate': 0.1997991843473702, 'objective': 'CrossEntropy', 'depth': 10, 'l2_leaf_reg': 0.37752763616037527, 'colsample_bylevel': 0.5899649014595649, 'min_child_samples': 300.0, 'grow_policy': 'Lossguide', 'border_count': 1024, 'auto_class_weight': 'SqrtBalanced'}. Best is trial 132 with value: 0.9937569988801791.\n",
      "/var/folders/_k/vxqnb8117qb_1tpg9p98mtyc0000gn/T/ipykernel_13321/1751210426.py:7: FutureWarning: suggest_loguniform has been deprecated in v3.0.0. This feature will be removed in v6.0.0. See https://github.com/optuna/optuna/releases/tag/v3.0.0. Use suggest_float(..., log=True) instead.\n",
      "  \"l2_leaf_reg\": trial.suggest_loguniform('l2_leaf_reg', 1e-2, 10),\n",
      "[I 2025-04-10 11:08:49,472] Trial 177 finished with value: 0.9856103023516237 and parameters: {'n_estimators': 450, 'learning_rate': 0.0650657626663026, 'objective': 'CrossEntropy', 'depth': 7, 'l2_leaf_reg': 0.13793619457824816, 'colsample_bylevel': 0.43705779943745304, 'min_child_samples': 200.0, 'grow_policy': 'SymmetricTree', 'border_count': 256, 'auto_class_weight': None}. Best is trial 132 with value: 0.9937569988801791.\n",
      "/var/folders/_k/vxqnb8117qb_1tpg9p98mtyc0000gn/T/ipykernel_13321/1751210426.py:7: FutureWarning: suggest_loguniform has been deprecated in v3.0.0. This feature will be removed in v6.0.0. See https://github.com/optuna/optuna/releases/tag/v3.0.0. Use suggest_float(..., log=True) instead.\n",
      "  \"l2_leaf_reg\": trial.suggest_loguniform('l2_leaf_reg', 1e-2, 10),\n",
      "[I 2025-04-10 11:08:49,664] Trial 178 finished with value: 0.9889697648376261 and parameters: {'n_estimators': 480, 'learning_rate': 0.21139268575479175, 'objective': 'CrossEntropy', 'depth': 10, 'l2_leaf_reg': 0.2104489987019149, 'colsample_bylevel': 0.565767999770538, 'min_child_samples': 200.0, 'grow_policy': 'SymmetricTree', 'border_count': 1024, 'auto_class_weight': 'SqrtBalanced'}. Best is trial 132 with value: 0.9937569988801791.\n",
      "/var/folders/_k/vxqnb8117qb_1tpg9p98mtyc0000gn/T/ipykernel_13321/1751210426.py:7: FutureWarning: suggest_loguniform has been deprecated in v3.0.0. This feature will be removed in v6.0.0. See https://github.com/optuna/optuna/releases/tag/v3.0.0. Use suggest_float(..., log=True) instead.\n",
      "  \"l2_leaf_reg\": trial.suggest_loguniform('l2_leaf_reg', 1e-2, 10),\n",
      "[I 2025-04-10 11:08:49,805] Trial 179 finished with value: 0.9921892497200447 and parameters: {'n_estimators': 546, 'learning_rate': 0.269261250842643, 'objective': 'CrossEntropy', 'depth': 10, 'l2_leaf_reg': 0.29084063114130926, 'colsample_bylevel': 0.5334858462273794, 'min_child_samples': 300.0, 'grow_policy': 'SymmetricTree', 'border_count': 512, 'auto_class_weight': 'SqrtBalanced'}. Best is trial 132 with value: 0.9937569988801791.\n",
      "/var/folders/_k/vxqnb8117qb_1tpg9p98mtyc0000gn/T/ipykernel_13321/1751210426.py:7: FutureWarning: suggest_loguniform has been deprecated in v3.0.0. This feature will be removed in v6.0.0. See https://github.com/optuna/optuna/releases/tag/v3.0.0. Use suggest_float(..., log=True) instead.\n",
      "  \"l2_leaf_reg\": trial.suggest_loguniform('l2_leaf_reg', 1e-2, 10),\n",
      "[I 2025-04-10 11:08:49,992] Trial 180 finished with value: 0.9831746920492722 and parameters: {'n_estimators': 590, 'learning_rate': 0.05352025210818524, 'objective': 'CrossEntropy', 'depth': 6, 'l2_leaf_reg': 0.17639841154093486, 'colsample_bylevel': 0.6235234821366316, 'min_child_samples': 200.0, 'grow_policy': 'SymmetricTree', 'border_count': 1024, 'auto_class_weight': None}. Best is trial 132 with value: 0.9937569988801791.\n",
      "/var/folders/_k/vxqnb8117qb_1tpg9p98mtyc0000gn/T/ipykernel_13321/1751210426.py:7: FutureWarning: suggest_loguniform has been deprecated in v3.0.0. This feature will be removed in v6.0.0. See https://github.com/optuna/optuna/releases/tag/v3.0.0. Use suggest_float(..., log=True) instead.\n",
      "  \"l2_leaf_reg\": trial.suggest_loguniform('l2_leaf_reg', 1e-2, 10),\n",
      "[I 2025-04-10 11:08:50,139] Trial 181 finished with value: 0.9915173572228443 and parameters: {'n_estimators': 366, 'learning_rate': 0.21921388095043381, 'objective': 'CrossEntropy', 'depth': 10, 'l2_leaf_reg': 0.34519216730574787, 'colsample_bylevel': 0.454329071512407, 'min_child_samples': 600.0, 'grow_policy': 'SymmetricTree', 'border_count': 128, 'auto_class_weight': 'SqrtBalanced'}. Best is trial 132 with value: 0.9937569988801791.\n",
      "/var/folders/_k/vxqnb8117qb_1tpg9p98mtyc0000gn/T/ipykernel_13321/1751210426.py:7: FutureWarning: suggest_loguniform has been deprecated in v3.0.0. This feature will be removed in v6.0.0. See https://github.com/optuna/optuna/releases/tag/v3.0.0. Use suggest_float(..., log=True) instead.\n",
      "  \"l2_leaf_reg\": trial.suggest_loguniform('l2_leaf_reg', 1e-2, 10),\n",
      "[I 2025-04-10 11:08:50,538] Trial 182 finished with value: 0.9921892497200447 and parameters: {'n_estimators': 413, 'learning_rate': 0.05993645053482783, 'objective': 'CrossEntropy', 'depth': 10, 'l2_leaf_reg': 0.4193353834722917, 'colsample_bylevel': 0.8470413785119971, 'min_child_samples': 400.0, 'grow_policy': 'SymmetricTree', 'border_count': 128, 'auto_class_weight': 'SqrtBalanced'}. Best is trial 132 with value: 0.9937569988801791.\n",
      "/var/folders/_k/vxqnb8117qb_1tpg9p98mtyc0000gn/T/ipykernel_13321/1751210426.py:7: FutureWarning: suggest_loguniform has been deprecated in v3.0.0. This feature will be removed in v6.0.0. See https://github.com/optuna/optuna/releases/tag/v3.0.0. Use suggest_float(..., log=True) instead.\n",
      "  \"l2_leaf_reg\": trial.suggest_loguniform('l2_leaf_reg', 1e-2, 10),\n",
      "[I 2025-04-10 11:08:50,945] Trial 183 finished with value: 0.9934770436730123 and parameters: {'n_estimators': 437, 'learning_rate': 0.04977001863415071, 'objective': 'CrossEntropy', 'depth': 10, 'l2_leaf_reg': 0.24620185698552216, 'colsample_bylevel': 0.48545730499853634, 'min_child_samples': 300.0, 'grow_policy': 'SymmetricTree', 'border_count': 128, 'auto_class_weight': 'SqrtBalanced'}. Best is trial 132 with value: 0.9937569988801791.\n",
      "/var/folders/_k/vxqnb8117qb_1tpg9p98mtyc0000gn/T/ipykernel_13321/1751210426.py:7: FutureWarning: suggest_loguniform has been deprecated in v3.0.0. This feature will be removed in v6.0.0. See https://github.com/optuna/optuna/releases/tag/v3.0.0. Use suggest_float(..., log=True) instead.\n",
      "  \"l2_leaf_reg\": trial.suggest_loguniform('l2_leaf_reg', 1e-2, 10),\n",
      "[I 2025-04-10 11:08:51,387] Trial 184 finished with value: 0.9914053751399776 and parameters: {'n_estimators': 492, 'learning_rate': 0.04775607835016166, 'objective': 'CrossEntropy', 'depth': 10, 'l2_leaf_reg': 0.233674420374759, 'colsample_bylevel': 0.4926657355256608, 'min_child_samples': 300.0, 'grow_policy': 'SymmetricTree', 'border_count': 128, 'auto_class_weight': 'SqrtBalanced'}. Best is trial 132 with value: 0.9937569988801791.\n",
      "/var/folders/_k/vxqnb8117qb_1tpg9p98mtyc0000gn/T/ipykernel_13321/1751210426.py:7: FutureWarning: suggest_loguniform has been deprecated in v3.0.0. This feature will be removed in v6.0.0. See https://github.com/optuna/optuna/releases/tag/v3.0.0. Use suggest_float(..., log=True) instead.\n",
      "  \"l2_leaf_reg\": trial.suggest_loguniform('l2_leaf_reg', 1e-2, 10),\n",
      "[I 2025-04-10 11:08:51,669] Trial 185 finished with value: 0.9920492721164614 and parameters: {'n_estimators': 429, 'learning_rate': 0.12114835613072551, 'objective': 'CrossEntropy', 'depth': 10, 'l2_leaf_reg': 0.27121504981315026, 'colsample_bylevel': 0.5170354476534279, 'min_child_samples': 300.0, 'grow_policy': 'SymmetricTree', 'border_count': 128, 'auto_class_weight': 'SqrtBalanced'}. Best is trial 132 with value: 0.9937569988801791.\n",
      "/var/folders/_k/vxqnb8117qb_1tpg9p98mtyc0000gn/T/ipykernel_13321/1751210426.py:7: FutureWarning: suggest_loguniform has been deprecated in v3.0.0. This feature will be removed in v6.0.0. See https://github.com/optuna/optuna/releases/tag/v3.0.0. Use suggest_float(..., log=True) instead.\n",
      "  \"l2_leaf_reg\": trial.suggest_loguniform('l2_leaf_reg', 1e-2, 10),\n",
      "[I 2025-04-10 11:08:52,096] Trial 186 finished with value: 0.9923572228443449 and parameters: {'n_estimators': 534, 'learning_rate': 0.040149050283566926, 'objective': 'CrossEntropy', 'depth': 10, 'l2_leaf_reg': 0.1512453592496288, 'colsample_bylevel': 0.4845014602127877, 'min_child_samples': 900.0, 'grow_policy': 'SymmetricTree', 'border_count': 128, 'auto_class_weight': 'SqrtBalanced'}. Best is trial 132 with value: 0.9937569988801791.\n",
      "/var/folders/_k/vxqnb8117qb_1tpg9p98mtyc0000gn/T/ipykernel_13321/1751210426.py:7: FutureWarning: suggest_loguniform has been deprecated in v3.0.0. This feature will be removed in v6.0.0. See https://github.com/optuna/optuna/releases/tag/v3.0.0. Use suggest_float(..., log=True) instead.\n",
      "  \"l2_leaf_reg\": trial.suggest_loguniform('l2_leaf_reg', 1e-2, 10),\n",
      "[I 2025-04-10 11:08:52,500] Trial 187 finished with value: 0.9913213885778276 and parameters: {'n_estimators': 455, 'learning_rate': 0.043901992836472475, 'objective': 'CrossEntropy', 'depth': 10, 'l2_leaf_reg': 0.15813383946547943, 'colsample_bylevel': 0.4808855496049528, 'min_child_samples': 900.0, 'grow_policy': 'SymmetricTree', 'border_count': 128, 'auto_class_weight': 'SqrtBalanced'}. Best is trial 132 with value: 0.9937569988801791.\n",
      "/var/folders/_k/vxqnb8117qb_1tpg9p98mtyc0000gn/T/ipykernel_13321/1751210426.py:7: FutureWarning: suggest_loguniform has been deprecated in v3.0.0. This feature will be removed in v6.0.0. See https://github.com/optuna/optuna/releases/tag/v3.0.0. Use suggest_float(..., log=True) instead.\n",
      "  \"l2_leaf_reg\": trial.suggest_loguniform('l2_leaf_reg', 1e-2, 10),\n",
      "[I 2025-04-10 11:08:52,832] Trial 188 finished with value: 0.9912094064949608 and parameters: {'n_estimators': 526, 'learning_rate': 0.03868641111813366, 'objective': 'CrossEntropy', 'depth': 10, 'l2_leaf_reg': 0.10698176193654538, 'colsample_bylevel': 0.40420880478853005, 'min_child_samples': 300.0, 'grow_policy': 'SymmetricTree', 'border_count': 128, 'auto_class_weight': 'SqrtBalanced'}. Best is trial 132 with value: 0.9937569988801791.\n",
      "/var/folders/_k/vxqnb8117qb_1tpg9p98mtyc0000gn/T/ipykernel_13321/1751210426.py:7: FutureWarning: suggest_loguniform has been deprecated in v3.0.0. This feature will be removed in v6.0.0. See https://github.com/optuna/optuna/releases/tag/v3.0.0. Use suggest_float(..., log=True) instead.\n",
      "  \"l2_leaf_reg\": trial.suggest_loguniform('l2_leaf_reg', 1e-2, 10),\n",
      "[I 2025-04-10 11:08:53,288] Trial 189 finished with value: 0.9924132138857783 and parameters: {'n_estimators': 495, 'learning_rate': 0.0276297402525446, 'objective': 'CrossEntropy', 'depth': 10, 'l2_leaf_reg': 0.19102424105083182, 'colsample_bylevel': 0.6077127749717813, 'min_child_samples': 900.0, 'grow_policy': 'SymmetricTree', 'border_count': 128, 'auto_class_weight': 'SqrtBalanced'}. Best is trial 132 with value: 0.9937569988801791.\n",
      "/var/folders/_k/vxqnb8117qb_1tpg9p98mtyc0000gn/T/ipykernel_13321/1751210426.py:7: FutureWarning: suggest_loguniform has been deprecated in v3.0.0. This feature will be removed in v6.0.0. See https://github.com/optuna/optuna/releases/tag/v3.0.0. Use suggest_float(..., log=True) instead.\n",
      "  \"l2_leaf_reg\": trial.suggest_loguniform('l2_leaf_reg', 1e-2, 10),\n",
      "[I 2025-04-10 11:08:53,918] Trial 190 finished with value: 0.9924692049272117 and parameters: {'n_estimators': 491, 'learning_rate': 0.03034809962156175, 'objective': 'CrossEntropy', 'depth': 10, 'l2_leaf_reg': 0.18818855527157377, 'colsample_bylevel': 0.5567623307167782, 'min_child_samples': 1000.0, 'grow_policy': 'SymmetricTree', 'border_count': 128, 'auto_class_weight': 'SqrtBalanced'}. Best is trial 132 with value: 0.9937569988801791.\n",
      "/var/folders/_k/vxqnb8117qb_1tpg9p98mtyc0000gn/T/ipykernel_13321/1751210426.py:7: FutureWarning: suggest_loguniform has been deprecated in v3.0.0. This feature will be removed in v6.0.0. See https://github.com/optuna/optuna/releases/tag/v3.0.0. Use suggest_float(..., log=True) instead.\n",
      "  \"l2_leaf_reg\": trial.suggest_loguniform('l2_leaf_reg', 1e-2, 10),\n",
      "[I 2025-04-10 11:08:54,295] Trial 191 finished with value: 0.9913213885778276 and parameters: {'n_estimators': 485, 'learning_rate': 0.03223888835707662, 'objective': 'CrossEntropy', 'depth': 10, 'l2_leaf_reg': 0.18957389096899793, 'colsample_bylevel': 0.5636394637167325, 'min_child_samples': 1000.0, 'grow_policy': 'SymmetricTree', 'border_count': 128, 'auto_class_weight': 'SqrtBalanced'}. Best is trial 132 with value: 0.9937569988801791.\n",
      "/var/folders/_k/vxqnb8117qb_1tpg9p98mtyc0000gn/T/ipykernel_13321/1751210426.py:7: FutureWarning: suggest_loguniform has been deprecated in v3.0.0. This feature will be removed in v6.0.0. See https://github.com/optuna/optuna/releases/tag/v3.0.0. Use suggest_float(..., log=True) instead.\n",
      "  \"l2_leaf_reg\": trial.suggest_loguniform('l2_leaf_reg', 1e-2, 10),\n",
      "[I 2025-04-10 11:08:54,786] Trial 192 finished with value: 0.9919652855543113 and parameters: {'n_estimators': 439, 'learning_rate': 0.024932698861176425, 'objective': 'CrossEntropy', 'depth': 10, 'l2_leaf_reg': 0.14781459902367322, 'colsample_bylevel': 0.5957580330397282, 'min_child_samples': 900.0, 'grow_policy': 'SymmetricTree', 'border_count': 128, 'auto_class_weight': 'SqrtBalanced'}. Best is trial 132 with value: 0.9937569988801791.\n",
      "/var/folders/_k/vxqnb8117qb_1tpg9p98mtyc0000gn/T/ipykernel_13321/1751210426.py:7: FutureWarning: suggest_loguniform has been deprecated in v3.0.0. This feature will be removed in v6.0.0. See https://github.com/optuna/optuna/releases/tag/v3.0.0. Use suggest_float(..., log=True) instead.\n",
      "  \"l2_leaf_reg\": trial.suggest_loguniform('l2_leaf_reg', 1e-2, 10),\n",
      "[I 2025-04-10 11:08:55,496] Trial 193 finished with value: 0.9913773796192609 and parameters: {'n_estimators': 908, 'learning_rate': 0.01820848096825164, 'objective': 'CrossEntropy', 'depth': 10, 'l2_leaf_reg': 0.12833159773732, 'colsample_bylevel': 0.5452149504719264, 'min_child_samples': 800.0, 'grow_policy': 'SymmetricTree', 'border_count': 128, 'auto_class_weight': 'SqrtBalanced'}. Best is trial 132 with value: 0.9937569988801791.\n",
      "/var/folders/_k/vxqnb8117qb_1tpg9p98mtyc0000gn/T/ipykernel_13321/1751210426.py:7: FutureWarning: suggest_loguniform has been deprecated in v3.0.0. This feature will be removed in v6.0.0. See https://github.com/optuna/optuna/releases/tag/v3.0.0. Use suggest_float(..., log=True) instead.\n",
      "  \"l2_leaf_reg\": trial.suggest_loguniform('l2_leaf_reg', 1e-2, 10),\n",
      "[I 2025-04-10 11:08:55,986] Trial 194 finished with value: 0.9922732362821949 and parameters: {'n_estimators': 406, 'learning_rate': 0.03630031918814339, 'objective': 'CrossEntropy', 'depth': 10, 'l2_leaf_reg': 0.1936782543286821, 'colsample_bylevel': 0.6041642407007437, 'min_child_samples': 900.0, 'grow_policy': 'SymmetricTree', 'border_count': 128, 'auto_class_weight': 'SqrtBalanced'}. Best is trial 132 with value: 0.9937569988801791.\n",
      "/var/folders/_k/vxqnb8117qb_1tpg9p98mtyc0000gn/T/ipykernel_13321/1751210426.py:7: FutureWarning: suggest_loguniform has been deprecated in v3.0.0. This feature will be removed in v6.0.0. See https://github.com/optuna/optuna/releases/tag/v3.0.0. Use suggest_float(..., log=True) instead.\n",
      "  \"l2_leaf_reg\": trial.suggest_loguniform('l2_leaf_reg', 1e-2, 10),\n",
      "[I 2025-04-10 11:08:56,335] Trial 195 finished with value: 0.9906774916013438 and parameters: {'n_estimators': 494, 'learning_rate': 0.049188095404323236, 'objective': 'CrossEntropy', 'depth': 10, 'l2_leaf_reg': 0.22729690867063507, 'colsample_bylevel': 0.5066746171352966, 'min_child_samples': 1000.0, 'grow_policy': 'SymmetricTree', 'border_count': 128, 'auto_class_weight': 'SqrtBalanced'}. Best is trial 132 with value: 0.9937569988801791.\n",
      "/var/folders/_k/vxqnb8117qb_1tpg9p98mtyc0000gn/T/ipykernel_13321/1751210426.py:7: FutureWarning: suggest_loguniform has been deprecated in v3.0.0. This feature will be removed in v6.0.0. See https://github.com/optuna/optuna/releases/tag/v3.0.0. Use suggest_float(..., log=True) instead.\n",
      "  \"l2_leaf_reg\": trial.suggest_loguniform('l2_leaf_reg', 1e-2, 10),\n",
      "[I 2025-04-10 11:08:56,755] Trial 196 finished with value: 0.9916853303471445 and parameters: {'n_estimators': 384, 'learning_rate': 0.02914404504596375, 'objective': 'CrossEntropy', 'depth': 10, 'l2_leaf_reg': 0.1553674915620291, 'colsample_bylevel': 0.5807231233287543, 'min_child_samples': 1000.0, 'grow_policy': 'SymmetricTree', 'border_count': 128, 'auto_class_weight': 'SqrtBalanced'}. Best is trial 132 with value: 0.9937569988801791.\n",
      "/var/folders/_k/vxqnb8117qb_1tpg9p98mtyc0000gn/T/ipykernel_13321/1751210426.py:7: FutureWarning: suggest_loguniform has been deprecated in v3.0.0. This feature will be removed in v6.0.0. See https://github.com/optuna/optuna/releases/tag/v3.0.0. Use suggest_float(..., log=True) instead.\n",
      "  \"l2_leaf_reg\": trial.suggest_loguniform('l2_leaf_reg', 1e-2, 10),\n",
      "[I 2025-04-10 11:08:57,131] Trial 197 finished with value: 0.9923012318029115 and parameters: {'n_estimators': 450, 'learning_rate': 0.04139161888863274, 'objective': 'CrossEntropy', 'depth': 10, 'l2_leaf_reg': 0.17011100675674873, 'colsample_bylevel': 0.5227738374972122, 'min_child_samples': 800.0, 'grow_policy': 'SymmetricTree', 'border_count': 128, 'auto_class_weight': 'SqrtBalanced'}. Best is trial 132 with value: 0.9937569988801791.\n",
      "/var/folders/_k/vxqnb8117qb_1tpg9p98mtyc0000gn/T/ipykernel_13321/1751210426.py:7: FutureWarning: suggest_loguniform has been deprecated in v3.0.0. This feature will be removed in v6.0.0. See https://github.com/optuna/optuna/releases/tag/v3.0.0. Use suggest_float(..., log=True) instead.\n",
      "  \"l2_leaf_reg\": trial.suggest_loguniform('l2_leaf_reg', 1e-2, 10),\n",
      "[I 2025-04-10 11:08:57,508] Trial 198 finished with value: 0.991993281075028 and parameters: {'n_estimators': 541, 'learning_rate': 0.05414561834129015, 'objective': 'CrossEntropy', 'depth': 10, 'l2_leaf_reg': 0.20722104339103362, 'colsample_bylevel': 0.6193228436629681, 'min_child_samples': 900.0, 'grow_policy': 'SymmetricTree', 'border_count': 128, 'auto_class_weight': 'SqrtBalanced'}. Best is trial 132 with value: 0.9937569988801791.\n",
      "/var/folders/_k/vxqnb8117qb_1tpg9p98mtyc0000gn/T/ipykernel_13321/1751210426.py:7: FutureWarning: suggest_loguniform has been deprecated in v3.0.0. This feature will be removed in v6.0.0. See https://github.com/optuna/optuna/releases/tag/v3.0.0. Use suggest_float(..., log=True) instead.\n",
      "  \"l2_leaf_reg\": trial.suggest_loguniform('l2_leaf_reg', 1e-2, 10),\n",
      "[I 2025-04-10 11:08:57,707] Trial 199 finished with value: 0.9897536394176932 and parameters: {'n_estimators': 342, 'learning_rate': 0.1384713813778024, 'objective': 'CrossEntropy', 'depth': 10, 'l2_leaf_reg': 0.25923458377445563, 'colsample_bylevel': 0.6553393480705707, 'min_child_samples': 1000.0, 'grow_policy': 'SymmetricTree', 'border_count': 128, 'auto_class_weight': 'SqrtBalanced'}. Best is trial 132 with value: 0.9937569988801791.\n"
     ]
    }
   ],
   "source": [
    "study = optuna.create_study(direction='maximize')\n",
    "study.optimize(objective, n_trials=200)"
   ]
  },
  {
   "cell_type": "code",
   "execution_count": 38,
   "id": "9b4584c3-974c-4175-8ba2-d2c1a2d22d07",
   "metadata": {},
   "outputs": [
    {
     "name": "stdout",
     "output_type": "stream",
     "text": [
      "{'n_estimators': 369, 'learning_rate': 0.21401325569313503, 'objective': 'Logloss', 'depth': 10, 'l2_leaf_reg': 0.3040485290413335, 'colsample_bylevel': 0.7137746143457168, 'min_child_samples': 200.0, 'grow_policy': 'SymmetricTree', 'border_count': 128, 'auto_class_weight': None}\n"
     ]
    }
   ],
   "source": [
    "print(study.best_params)"
   ]
  },
  {
   "cell_type": "code",
   "execution_count": 39,
   "id": "24d627bd-a78a-4d87-83a7-33decc65cfb2",
   "metadata": {},
   "outputs": [
    {
     "name": "stdout",
     "output_type": "stream",
     "text": [
      "0:\tlearn: 0.4055532\ttest: 0.4357995\tbest: 0.4357995 (0)\ttotal: 3.38ms\tremaining: 1.24s\n",
      "100:\tlearn: 0.0011517\ttest: 0.0722514\tbest: 0.0684035 (53)\ttotal: 148ms\tremaining: 392ms\n",
      "200:\tlearn: 0.0011192\ttest: 0.0720388\tbest: 0.0684035 (53)\ttotal: 275ms\tremaining: 230ms\n",
      "300:\tlearn: 0.0011172\ttest: 0.0720465\tbest: 0.0684035 (53)\ttotal: 398ms\tremaining: 89.8ms\n",
      "368:\tlearn: 0.0011151\ttest: 0.0720340\tbest: 0.0684035 (53)\ttotal: 479ms\tremaining: 0us\n",
      "\n",
      "bestTest = 0.06840349379\n",
      "bestIteration = 53\n",
      "\n",
      "Shrink model to first 54 iterations.\n"
     ]
    },
    {
     "data": {
      "text/plain": [
       "<catboost.core.CatBoostClassifier at 0x15014c850>"
      ]
     },
     "execution_count": 39,
     "metadata": {},
     "output_type": "execute_result"
    }
   ],
   "source": [
    "model = CatBoostClassifier(n_estimators = 369, learning_rate = 0.21401325569313503, objective = 'Logloss', depth = 10, l2_leaf_reg = 0.3040485290413335, colsample_bylevel = 0.7137746143457168, min_child_samples = 200.0, grow_policy = 'SymmetricTree', border_count = 128, auto_class_weights = None, random_seed=42)\n",
    "model.fit(train.drop(columns=target), train[target], eval_set = (val.drop(columns=target), val[target]), verbose=100)\n",
    "\n",
    "\n",
    "\n"
   ]
  },
  {
   "cell_type": "code",
   "execution_count": 40,
   "id": "a987e19e-0661-4e81-a96a-aba50d491ad5",
   "metadata": {},
   "outputs": [
    {
     "name": "stdout",
     "output_type": "stream",
     "text": [
      "TRAIN : 1.0\n",
      "VAL : 0.997466572836031\n",
      "TEST : 0.9937569988801791\n"
     ]
    }
   ],
   "source": [
    "print(f\"TRAIN : {roc_auc_score(train[target], model.predict_proba(train.drop(columns=target))[:, 1])}\")\n",
    "print(f\"VAL : {roc_auc_score(val[target], model.predict_proba(val.drop(columns=target))[:, 1])}\")\n",
    "print(f\"TEST : {roc_auc_score(test[target], model.predict_proba(test.drop(columns=target))[:, 1])}\")"
   ]
  },
  {
   "cell_type": "code",
   "execution_count": 41,
   "id": "1a9e9a14-a5c2-45a1-aa3d-3dbcb3f74fbe",
   "metadata": {},
   "outputs": [
    {
     "name": "stdout",
     "output_type": "stream",
     "text": [
      "TRAIN : 1.0\n",
      "VAL : 0.9753694581280788\n",
      "TEST : 0.9656992084432717\n"
     ]
    }
   ],
   "source": [
    "print(f\"TRAIN : {f1_score(train[target], model.predict(train.drop(columns=target)))}\")\n",
    "print(f\"VAL : {f1_score(val[target], model.predict(val.drop(columns=target)))}\")\n",
    "print(f\"TEST : {f1_score(test[target], model.predict(test.drop(columns=target)))}\")"
   ]
  },
  {
   "cell_type": "code",
   "execution_count": 42,
   "id": "61d93083-df3d-429c-a416-10ad5b01b408",
   "metadata": {},
   "outputs": [
    {
     "name": "stdout",
     "output_type": "stream",
     "text": [
      "              precision    recall  f1-score   support\n",
      "\n",
      "           0       0.96      0.97      0.97       188\n",
      "           1       0.97      0.96      0.97       190\n",
      "\n",
      "    accuracy                           0.97       378\n",
      "   macro avg       0.97      0.97      0.97       378\n",
      "weighted avg       0.97      0.97      0.97       378\n",
      "\n"
     ]
    }
   ],
   "source": [
    "print(classification_report(test[target], model.predict(test.drop(columns=target))))"
   ]
  },
  {
   "cell_type": "markdown",
   "id": "ecdca1a9-bbb0-4be3-ba82-9114d3bad9ce",
   "metadata": {},
   "source": [
    "# with StandardScaler"
   ]
  },
  {
   "cell_type": "code",
   "execution_count": 4,
   "id": "44a8de3b-d679-438f-8519-58500ae83fd5",
   "metadata": {},
   "outputs": [],
   "source": [
    "x_train = train.drop(columns=target)\n",
    "y_train = train[target]\n",
    "\n",
    "x_val = val.drop(columns=target)\n",
    "y_val = val[target]\n",
    "\n",
    "x_test = test.drop(columns=target)\n",
    "y_test = test[target]"
   ]
  },
  {
   "cell_type": "code",
   "execution_count": 5,
   "id": "2f8c9316-25c6-4739-93f4-3b1d86c0b558",
   "metadata": {},
   "outputs": [],
   "source": [
    "scaler = StandardScaler()"
   ]
  },
  {
   "cell_type": "code",
   "execution_count": 6,
   "id": "9a03a60e-9e8e-46fb-85d4-390bc0046fb2",
   "metadata": {},
   "outputs": [],
   "source": [
    "x_train_scaled = scaler.fit_transform(x_train)\n",
    "x_val_scaled = scaler.transform(x_val)\n",
    "x_test_scaled = scaler.transform(x_test)"
   ]
  },
  {
   "cell_type": "code",
   "execution_count": 7,
   "id": "916a58c7-9ce7-43bc-80c0-dcf57389004e",
   "metadata": {},
   "outputs": [
    {
     "name": "stdout",
     "output_type": "stream",
     "text": [
      "0:\tlearn: 0.6298857\ttest: 0.6441043\tbest: 0.6441043 (0)\ttotal: 59ms\tremaining: 59s\n",
      "100:\tlearn: 0.2230439\ttest: 0.3029602\tbest: 0.3029602 (100)\ttotal: 126ms\tremaining: 1.12s\n",
      "200:\tlearn: 0.1339343\ttest: 0.2259582\tbest: 0.2259582 (200)\ttotal: 163ms\tremaining: 647ms\n",
      "300:\tlearn: 0.0887578\ttest: 0.1869178\tbest: 0.1868728 (298)\ttotal: 196ms\tremaining: 456ms\n",
      "400:\tlearn: 0.0623094\ttest: 0.1639398\tbest: 0.1638656 (396)\ttotal: 232ms\tremaining: 347ms\n",
      "500:\tlearn: 0.0447381\ttest: 0.1474815\tbest: 0.1474815 (500)\ttotal: 267ms\tremaining: 266ms\n",
      "600:\tlearn: 0.0343807\ttest: 0.1414494\tbest: 0.1403657 (590)\ttotal: 304ms\tremaining: 202ms\n",
      "700:\tlearn: 0.0260732\ttest: 0.1371190\tbest: 0.1353437 (675)\ttotal: 340ms\tremaining: 145ms\n",
      "800:\tlearn: 0.0208779\ttest: 0.1379913\tbest: 0.1353437 (675)\ttotal: 371ms\tremaining: 92.2ms\n",
      "900:\tlearn: 0.0170486\ttest: 0.1405963\tbest: 0.1353437 (675)\ttotal: 402ms\tremaining: 44.2ms\n",
      "999:\tlearn: 0.0149493\ttest: 0.1420813\tbest: 0.1353437 (675)\ttotal: 434ms\tremaining: 0us\n",
      "\n",
      "bestTest = 0.1353437083\n",
      "bestIteration = 675\n",
      "\n",
      "Shrink model to first 676 iterations.\n"
     ]
    },
    {
     "data": {
      "text/plain": [
       "<catboost.core.CatBoostClassifier at 0x169db9af0>"
      ]
     },
     "execution_count": 7,
     "metadata": {},
     "output_type": "execute_result"
    }
   ],
   "source": [
    "model = CatBoostClassifier(iterations=1000, learning_rate=0.1, depth=3, random_seed=42)\n",
    "model.fit(x_train_scaled, y_train, eval_set = (x_val_scaled, y_val), verbose=100)"
   ]
  },
  {
   "cell_type": "code",
   "execution_count": 8,
   "id": "e41abd4d-c321-4dd7-9735-602b64d7fd1b",
   "metadata": {},
   "outputs": [
    {
     "name": "stdout",
     "output_type": "stream",
     "text": [
      "TRAIN : 1.0\n",
      "VAL : 0.9873610133708655\n",
      "TEST : 0.9746920492721164\n"
     ]
    }
   ],
   "source": [
    "print(f\"TRAIN : {roc_auc_score(y_train, model.predict_proba(x_train_scaled)[:, 1])}\")\n",
    "print(f\"VAL : {roc_auc_score(y_val, model.predict_proba(x_val_scaled)[:, 1])}\")\n",
    "print(f\"TEST : {roc_auc_score(y_test, model.predict_proba(x_test_scaled)[:, 1])}\")"
   ]
  },
  {
   "cell_type": "code",
   "execution_count": 9,
   "id": "23feb216-d9ec-449a-b50e-d787c943a9ea",
   "metadata": {},
   "outputs": [
    {
     "name": "stdout",
     "output_type": "stream",
     "text": [
      "TRAIN : 1.0\n",
      "VAL : 0.9682151589242054\n",
      "TEST : 0.9424083769633508\n"
     ]
    }
   ],
   "source": [
    "print(f\"TRAIN : {f1_score(y_train, model.predict(x_train_scaled))}\")\n",
    "print(f\"VAL : {f1_score(y_val, model.predict(x_val_scaled))}\")\n",
    "print(f\"TEST : {f1_score(y_test, model.predict(x_test_scaled))}\")"
   ]
  },
  {
   "cell_type": "code",
   "execution_count": null,
   "id": "0ddde7c4-d2bd-41df-ad31-a36b1163bd57",
   "metadata": {},
   "outputs": [],
   "source": []
  }
 ],
 "metadata": {
  "kernelspec": {
   "display_name": "Python 3 (ipykernel)",
   "language": "python",
   "name": "python3"
  },
  "language_info": {
   "codemirror_mode": {
    "name": "ipython",
    "version": 3
   },
   "file_extension": ".py",
   "mimetype": "text/x-python",
   "name": "python",
   "nbconvert_exporter": "python",
   "pygments_lexer": "ipython3",
   "version": "3.9.12"
  }
 },
 "nbformat": 4,
 "nbformat_minor": 5
}
